{
 "cells": [
  {
   "cell_type": "markdown",
   "metadata": {},
   "source": [
    "# Collapse trees to shared clades for comparison"
   ]
  },
  {
   "cell_type": "markdown",
   "metadata": {},
   "source": [
    "The script prunes and collapses two or more trees to a shared set of clades. Note that the goals are \"**clades**\" rather than \"**taxa**\". A shared clade is defined as a clade present in all trees, with the same set of descendants. The resulting trees can then be used for back-to-back comparison (e.g., using [Dendroscope](http://dendroscope.org/)'s tanglegram function).\n",
    "\n",
    "Finding a shared set of clades is not trivial. In computer science it is a special form of the [covering problem](https://en.wikipedia.org/wiki/Covering_problems). While exploring the optimal solution is beyond the scope of this study, I designed and implemented a working heuristic to achieve the goal."
   ]
  },
  {
   "cell_type": "code",
   "execution_count": 112,
   "metadata": {},
   "outputs": [],
   "source": [
    "import scipy as sp\n",
    "import matplotlib.pyplot as plt\n",
    "from skbio import TreeNode"
   ]
  },
  {
   "cell_type": "markdown",
   "metadata": {},
   "source": [
    "Number of clades to retain."
   ]
  },
  {
   "cell_type": "code",
   "execution_count": 113,
   "metadata": {},
   "outputs": [],
   "source": [
    "clades_to_retain = 50"
   ]
  },
  {
   "cell_type": "markdown",
   "metadata": {},
   "source": [
    "Minimum number of descendants for a retained clade."
   ]
  },
  {
   "cell_type": "code",
   "execution_count": 114,
   "metadata": {},
   "outputs": [],
   "source": [
    "clade_min_size = 50"
   ]
  },
  {
   "cell_type": "code",
   "execution_count": 115,
   "metadata": {},
   "outputs": [],
   "source": [
    "trees = [\n",
    "    TreeNode.read('astral.cons.nid.e5p68057.nwk'),\n",
    "    TreeNode.read('concat.cons.nid.b50.nwk')\n",
    "]"
   ]
  },
  {
   "cell_type": "code",
   "execution_count": 116,
   "metadata": {},
   "outputs": [],
   "source": [
    "node2taxa = []\n",
    "for tree in trees:\n",
    "    n2t = {}\n",
    "    for node in tree.postorder():\n",
    "        if node.is_tip():\n",
    "            n2t[node.name] = [node.name]\n",
    "        else:\n",
    "            n2t[node.name] = []\n",
    "            for child in node.children:\n",
    "                n2t[node.name].extend(n2t[child.name])\n",
    "    node2taxa.append(n2t)"
   ]
  },
  {
   "cell_type": "code",
   "execution_count": 117,
   "metadata": {},
   "outputs": [],
   "source": [
    "for i in range(len(node2taxa)):\n",
    "    node2taxa[i] = {k: v for k, v in node2taxa[i].items() if len(v) >= clade_min_size}"
   ]
  },
  {
   "cell_type": "code",
   "execution_count": 118,
   "metadata": {},
   "outputs": [],
   "source": [
    "for i in range(len(node2taxa)):\n",
    "    for node in node2taxa[i]:\n",
    "        node2taxa[i][node] = set(node2taxa[i][node])"
   ]
  },
  {
   "cell_type": "code",
   "execution_count": 119,
   "metadata": {},
   "outputs": [
    {
     "name": "stdout",
     "output_type": "stream",
     "text": [
      "Matching pairs: 273.\n"
     ]
    }
   ],
   "source": [
    "matches = {}\n",
    "for node1, taxa1 in node2taxa[0].items():\n",
    "    for node2, taxa2 in node2taxa[1].items():\n",
    "        if taxa1 == taxa2:\n",
    "            matches[','.join((node1, node2))] = taxa1\n",
    "print('Matching pairs: %d.' % len(matches))"
   ]
  },
  {
   "cell_type": "code",
   "execution_count": 120,
   "metadata": {},
   "outputs": [
    {
     "data": {
      "text/plain": [
       "1.764080433286628e+55"
      ]
     },
     "execution_count": 120,
     "metadata": {},
     "output_type": "execute_result"
    }
   ],
   "source": [
    "sp.special.comb(len(matches), clades_to_retain)"
   ]
  },
  {
   "cell_type": "markdown",
   "metadata": {},
   "source": [
    "Here is my heuristic for the covering problem. It starts at a given size of clade: *k*, and progressively recruits clades from left and right, until the desired number of clades: *n*, is reached."
   ]
  },
  {
   "cell_type": "code",
   "execution_count": 121,
   "metadata": {},
   "outputs": [
    {
     "name": "stdout",
     "output_type": "stream",
     "text": [
      "Taxa under matching pairs: 10575.\n"
     ]
    }
   ],
   "source": [
    "universe = set().union(*[v for k, v in matches.items()])\n",
    "total_size = len(universe)\n",
    "print('Taxa under matching pairs: %d.' % total_size)"
   ]
  },
  {
   "cell_type": "code",
   "execution_count": 122,
   "metadata": {},
   "outputs": [
    {
     "data": {
      "text/plain": [
       "212"
      ]
     },
     "execution_count": 122,
     "metadata": {},
     "output_type": "execute_result"
    }
   ],
   "source": [
    "mean_clade_size = round(len(universe) / clades_to_retain)\n",
    "mean_clade_size"
   ]
  },
  {
   "cell_type": "code",
   "execution_count": 123,
   "metadata": {
    "scrolled": true
   },
   "outputs": [],
   "source": [
    "def select_clades(start_size):\n",
    "    res = []\n",
    "    for match, taxa in sorted(matches.items(), key=lambda x: abs(start_size - len(x[1]))):\n",
    "        is_unique = True\n",
    "        for m in res:\n",
    "            if not taxa.isdisjoint(matches[m]):\n",
    "                is_unique = False\n",
    "                break\n",
    "        if is_unique is True:\n",
    "            res.append(match)\n",
    "        if len(res) == clades_to_retain:\n",
    "            break\n",
    "    return res"
   ]
  },
  {
   "cell_type": "markdown",
   "metadata": {},
   "source": [
    "Test multiple starting sizes."
   ]
  },
  {
   "cell_type": "code",
   "execution_count": 124,
   "metadata": {
    "scrolled": true
   },
   "outputs": [
    {
     "name": "stdout",
     "output_type": "stream",
     "text": [
      "Starting at 212, covering 6754 taxa, CV = 0.481\n",
      "Starting at 213, covering 6754 taxa, CV = 0.481\n",
      "Starting at 214, covering 6754 taxa, CV = 0.481\n",
      "Starting at 215, covering 6754 taxa, CV = 0.481\n",
      "Starting at 216, covering 6754 taxa, CV = 0.481\n",
      "Starting at 217, covering 6754 taxa, CV = 0.481\n",
      "Starting at 218, covering 6754 taxa, CV = 0.481\n",
      "Starting at 219, covering 6754 taxa, CV = 0.481\n",
      "Starting at 220, covering 6754 taxa, CV = 0.481\n",
      "Starting at 221, covering 6754 taxa, CV = 0.481\n",
      "Starting at 222, covering 6754 taxa, CV = 0.481\n",
      "Starting at 223, covering 6808 taxa, CV = 0.487\n",
      "Starting at 224, covering 6808 taxa, CV = 0.487\n",
      "Starting at 225, covering 6808 taxa, CV = 0.487\n",
      "Starting at 226, covering 6808 taxa, CV = 0.487\n",
      "Starting at 227, covering 6808 taxa, CV = 0.487\n",
      "Starting at 228, covering 6904 taxa, CV = 0.516\n",
      "Starting at 229, covering 6904 taxa, CV = 0.516\n",
      "Starting at 230, covering 6904 taxa, CV = 0.516\n",
      "Starting at 231, covering 6904 taxa, CV = 0.516\n",
      "Starting at 232, covering 6904 taxa, CV = 0.516\n",
      "Starting at 233, covering 6904 taxa, CV = 0.516\n",
      "Starting at 234, covering 6904 taxa, CV = 0.516\n",
      "Starting at 235, covering 6904 taxa, CV = 0.516\n",
      "Starting at 236, covering 6904 taxa, CV = 0.516\n",
      "Starting at 237, covering 6904 taxa, CV = 0.516\n",
      "Starting at 238, covering 7003 taxa, CV = 0.539\n",
      "Starting at 239, covering 7003 taxa, CV = 0.539\n",
      "Starting at 240, covering 7003 taxa, CV = 0.539\n",
      "Starting at 241, covering 7003 taxa, CV = 0.539\n",
      "Starting at 242, covering 7003 taxa, CV = 0.539\n",
      "Starting at 243, covering 7095 taxa, CV = 0.550\n",
      "Starting at 244, covering 7168 taxa, CV = 0.557\n",
      "Starting at 245, covering 7168 taxa, CV = 0.557\n",
      "Starting at 246, covering 7168 taxa, CV = 0.557\n",
      "Starting at 247, covering 7168 taxa, CV = 0.557\n",
      "Starting at 248, covering 7168 taxa, CV = 0.557\n",
      "Starting at 249, covering 7168 taxa, CV = 0.557\n",
      "Starting at 250, covering 7168 taxa, CV = 0.557\n",
      "Starting at 251, covering 7168 taxa, CV = 0.557\n",
      "Starting at 252, covering 7168 taxa, CV = 0.557\n",
      "Starting at 253, covering 7178 taxa, CV = 0.558\n",
      "Starting at 254, covering 7178 taxa, CV = 0.558\n",
      "Starting at 255, covering 7178 taxa, CV = 0.558\n",
      "Starting at 256, covering 7178 taxa, CV = 0.558\n",
      "Starting at 257, covering 7178 taxa, CV = 0.558\n",
      "Starting at 258, covering 7178 taxa, CV = 0.558\n",
      "Starting at 259, covering 7178 taxa, CV = 0.558\n",
      "Starting at 260, covering 7178 taxa, CV = 0.558\n",
      "Starting at 261, covering 7178 taxa, CV = 0.558\n",
      "Starting at 262, covering 7178 taxa, CV = 0.558\n",
      "Starting at 263, covering 7178 taxa, CV = 0.558\n",
      "Starting at 264, covering 7178 taxa, CV = 0.558\n",
      "Starting at 265, covering 7178 taxa, CV = 0.558\n",
      "Starting at 266, covering 7178 taxa, CV = 0.558\n",
      "Starting at 267, covering 7178 taxa, CV = 0.558\n",
      "Starting at 268, covering 7178 taxa, CV = 0.558\n",
      "Starting at 269, covering 7178 taxa, CV = 0.558\n",
      "Starting at 270, covering 7178 taxa, CV = 0.558\n",
      "Starting at 271, covering 7178 taxa, CV = 0.558\n",
      "Starting at 272, covering 7178 taxa, CV = 0.558\n",
      "Starting at 273, covering 7178 taxa, CV = 0.558\n",
      "Starting at 274, covering 7178 taxa, CV = 0.558\n",
      "Starting at 275, covering 7183 taxa, CV = 0.559\n",
      "Starting at 276, covering 7183 taxa, CV = 0.559\n",
      "Starting at 277, covering 7183 taxa, CV = 0.559\n",
      "Starting at 278, covering 7292 taxa, CV = 0.575\n",
      "Starting at 279, covering 7292 taxa, CV = 0.575\n",
      "Starting at 280, covering 7292 taxa, CV = 0.575\n",
      "Starting at 281, covering 7292 taxa, CV = 0.575\n",
      "Starting at 282, covering 7292 taxa, CV = 0.575\n",
      "Starting at 283, covering 7348 taxa, CV = 0.586\n",
      "Starting at 284, covering 7403 taxa, CV = 0.614\n",
      "Starting at 285, covering 7417 taxa, CV = 0.616\n",
      "Starting at 286, covering 7417 taxa, CV = 0.616\n",
      "Starting at 287, covering 7417 taxa, CV = 0.616\n",
      "Starting at 288, covering 7417 taxa, CV = 0.616\n",
      "Starting at 289, covering 7417 taxa, CV = 0.616\n",
      "Starting at 290, covering 7472 taxa, CV = 0.645\n",
      "Starting at 291, covering 7472 taxa, CV = 0.645\n",
      "Starting at 292, covering 7541 taxa, CV = 0.652\n",
      "Starting at 293, covering 7541 taxa, CV = 0.652\n",
      "Starting at 294, covering 7541 taxa, CV = 0.652\n",
      "Starting at 295, covering 7555 taxa, CV = 0.654\n",
      "Starting at 296, covering 7555 taxa, CV = 0.654\n",
      "Starting at 297, covering 7555 taxa, CV = 0.654\n",
      "Starting at 298, covering 7555 taxa, CV = 0.654\n",
      "Starting at 299, covering 7555 taxa, CV = 0.654\n",
      "Starting at 300, covering 7611 taxa, CV = 0.660\n",
      "Starting at 301, covering 7611 taxa, CV = 0.660\n",
      "Starting at 302, covering 7611 taxa, CV = 0.660\n",
      "Starting at 303, covering 7611 taxa, CV = 0.660\n",
      "Starting at 304, covering 7611 taxa, CV = 0.660\n",
      "Starting at 305, covering 7611 taxa, CV = 0.660\n",
      "Starting at 306, covering 7611 taxa, CV = 0.660\n",
      "Starting at 307, covering 7611 taxa, CV = 0.660\n",
      "Starting at 308, covering 7611 taxa, CV = 0.660\n",
      "Starting at 309, covering 7611 taxa, CV = 0.660\n",
      "Starting at 310, covering 7639 taxa, CV = 0.664\n",
      "Starting at 311, covering 7649 taxa, CV = 0.665\n",
      "Starting at 312, covering 7649 taxa, CV = 0.665\n",
      "Starting at 313, covering 7649 taxa, CV = 0.665\n",
      "Starting at 314, covering 7649 taxa, CV = 0.665\n",
      "Starting at 315, covering 7649 taxa, CV = 0.665\n",
      "Starting at 316, covering 7649 taxa, CV = 0.665\n",
      "Starting at 317, covering 7649 taxa, CV = 0.665\n",
      "Starting at 318, covering 7649 taxa, CV = 0.665\n",
      "Starting at 319, covering 7649 taxa, CV = 0.665\n",
      "Starting at 320, covering 7649 taxa, CV = 0.665\n",
      "Starting at 321, covering 7649 taxa, CV = 0.665\n",
      "Starting at 322, covering 7649 taxa, CV = 0.665\n",
      "Starting at 323, covering 7649 taxa, CV = 0.665\n",
      "Starting at 324, covering 7649 taxa, CV = 0.665\n",
      "Starting at 325, covering 7649 taxa, CV = 0.665\n",
      "Starting at 326, covering 7649 taxa, CV = 0.665\n",
      "Starting at 327, covering 7649 taxa, CV = 0.665\n",
      "Starting at 328, covering 7649 taxa, CV = 0.665\n",
      "Starting at 329, covering 7649 taxa, CV = 0.665\n",
      "Starting at 330, covering 7697 taxa, CV = 0.671\n",
      "Starting at 331, covering 7697 taxa, CV = 0.671\n",
      "Starting at 332, covering 7697 taxa, CV = 0.671\n",
      "Starting at 333, covering 7697 taxa, CV = 0.671\n",
      "Starting at 334, covering 7699 taxa, CV = 0.672\n",
      "Starting at 335, covering 7699 taxa, CV = 0.672\n",
      "Starting at 336, covering 7701 taxa, CV = 0.672\n",
      "Starting at 337, covering 7701 taxa, CV = 0.672\n",
      "Starting at 338, covering 7701 taxa, CV = 0.672\n",
      "Starting at 339, covering 7725 taxa, CV = 0.675\n",
      "Starting at 340, covering 7725 taxa, CV = 0.675\n",
      "Starting at 341, covering 7725 taxa, CV = 0.675\n",
      "Starting at 342, covering 7725 taxa, CV = 0.675\n",
      "Starting at 343, covering 7725 taxa, CV = 0.675\n",
      "Starting at 344, covering 7725 taxa, CV = 0.675\n",
      "Starting at 345, covering 7725 taxa, CV = 0.675\n",
      "Starting at 346, covering 7725 taxa, CV = 0.675\n",
      "Starting at 347, covering 7725 taxa, CV = 0.675\n",
      "Starting at 348, covering 7764 taxa, CV = 0.681\n",
      "Starting at 349, covering 7764 taxa, CV = 0.681\n",
      "Starting at 350, covering 7764 taxa, CV = 0.681\n",
      "Starting at 351, covering 7764 taxa, CV = 0.681\n",
      "Starting at 352, covering 7764 taxa, CV = 0.681\n",
      "Starting at 353, covering 7764 taxa, CV = 0.681\n",
      "Starting at 354, covering 7764 taxa, CV = 0.681\n",
      "Starting at 355, covering 7764 taxa, CV = 0.681\n",
      "Starting at 356, covering 7764 taxa, CV = 0.681\n",
      "Starting at 357, covering 7764 taxa, CV = 0.681\n",
      "Starting at 358, covering 7764 taxa, CV = 0.681\n",
      "Starting at 359, covering 7764 taxa, CV = 0.681\n",
      "Starting at 360, covering 7764 taxa, CV = 0.681\n",
      "Starting at 361, covering 7764 taxa, CV = 0.681\n",
      "Starting at 362, covering 7764 taxa, CV = 0.681\n",
      "Starting at 363, covering 7764 taxa, CV = 0.681\n",
      "Starting at 364, covering 7764 taxa, CV = 0.681\n",
      "Starting at 365, covering 7764 taxa, CV = 0.681\n",
      "Starting at 366, covering 7764 taxa, CV = 0.681\n",
      "Starting at 367, covering 7764 taxa, CV = 0.681\n",
      "Starting at 368, covering 7764 taxa, CV = 0.681\n",
      "Starting at 369, covering 7764 taxa, CV = 0.681\n",
      "Starting at 370, covering 7764 taxa, CV = 0.681\n",
      "Starting at 371, covering 7764 taxa, CV = 0.681\n",
      "Starting at 372, covering 7764 taxa, CV = 0.681\n",
      "Starting at 373, covering 7764 taxa, CV = 0.681\n",
      "Starting at 374, covering 7764 taxa, CV = 0.681\n",
      "Starting at 375, covering 7764 taxa, CV = 0.681\n",
      "Starting at 376, covering 7764 taxa, CV = 0.681\n",
      "Starting at 377, covering 7764 taxa, CV = 0.681\n",
      "Starting at 378, covering 7764 taxa, CV = 0.681\n",
      "Starting at 379, covering 7764 taxa, CV = 0.681\n",
      "Starting at 380, covering 7764 taxa, CV = 0.681\n",
      "Starting at 381, covering 7764 taxa, CV = 0.681\n",
      "Starting at 382, covering 7764 taxa, CV = 0.681\n",
      "Starting at 383, covering 7764 taxa, CV = 0.681\n",
      "Starting at 384, covering 7764 taxa, CV = 0.681\n",
      "Starting at 385, covering 7764 taxa, CV = 0.681\n",
      "Starting at 386, covering 7817 taxa, CV = 0.692\n",
      "Starting at 387, covering 7817 taxa, CV = 0.692\n",
      "Starting at 388, covering 7817 taxa, CV = 0.692\n"
     ]
    },
    {
     "name": "stdout",
     "output_type": "stream",
     "text": [
      "Starting at 389, covering 7817 taxa, CV = 0.692\n",
      "Starting at 390, covering 7817 taxa, CV = 0.692\n",
      "Starting at 391, covering 7817 taxa, CV = 0.692\n",
      "Starting at 392, covering 7817 taxa, CV = 0.692\n",
      "Starting at 393, covering 7817 taxa, CV = 0.692\n",
      "Starting at 394, covering 7817 taxa, CV = 0.692\n",
      "Starting at 395, covering 7869 taxa, CV = 0.718\n",
      "Starting at 396, covering 7869 taxa, CV = 0.718\n",
      "Starting at 397, covering 7869 taxa, CV = 0.718\n",
      "Starting at 398, covering 7869 taxa, CV = 0.718\n",
      "Starting at 399, covering 7869 taxa, CV = 0.718\n",
      "Starting at 400, covering 7869 taxa, CV = 0.718\n",
      "Starting at 401, covering 7983 taxa, CV = 0.757\n",
      "Starting at 402, covering 7983 taxa, CV = 0.757\n",
      "Starting at 403, covering 7983 taxa, CV = 0.757\n",
      "Starting at 404, covering 7983 taxa, CV = 0.757\n",
      "Starting at 405, covering 7983 taxa, CV = 0.757\n",
      "Starting at 406, covering 7983 taxa, CV = 0.757\n",
      "Starting at 407, covering 7983 taxa, CV = 0.757\n",
      "Starting at 408, covering 7983 taxa, CV = 0.757\n",
      "Starting at 409, covering 7983 taxa, CV = 0.757\n",
      "Starting at 410, covering 7983 taxa, CV = 0.757\n",
      "Starting at 411, covering 7983 taxa, CV = 0.757\n",
      "Starting at 412, covering 7983 taxa, CV = 0.757\n"
     ]
    }
   ],
   "source": [
    "x, y, z = [], [], []\n",
    "selections = []\n",
    "start_size = mean_clade_size\n",
    "while True:\n",
    "    selected_matches = select_clades(start_size)\n",
    "    if len(selected_matches) < clades_to_retain:\n",
    "        break\n",
    "    selections.append(selected_matches)\n",
    "    covered = set().union(*[matches[x] for x in selected_matches])\n",
    "    cv = sp.stats.variation([len(matches[x]) for x in selected_matches])\n",
    "    x.append(start_size)\n",
    "    y.append(len(covered) / total_size)\n",
    "    z.append(cv)\n",
    "    print('Starting at %d, covering %d taxa, CV = %.3f' % (start_size, len(covered), cv))\n",
    "    start_size += 1"
   ]
  },
  {
   "cell_type": "markdown",
   "metadata": {},
   "source": [
    "Plot them out."
   ]
  },
  {
   "cell_type": "code",
   "execution_count": 134,
   "metadata": {},
   "outputs": [
    {
     "data": {
      "image/png": "[encoded data removed]",
      "text/plain": [
       "<Figure size 432x288 with 1 Axes>"
      ]
     },
     "metadata": {},
     "output_type": "display_data"
    }
   ],
   "source": [
    "plt.plot(x, y, 'r')\n",
    "plt.plot(x, z, 'b')\n",
    "plt.xlabel('start size')\n",
    "plt.text(400, 0.55, '% taxa covered', color='r', ha='right')\n",
    "plt.text(400, 0.52, 'coefficient of variation', color='b', ha='right');"
   ]
  },
  {
   "cell_type": "markdown",
   "metadata": {},
   "source": [
    "The final starting size *k* is manually determined based on the plot."
   ]
  },
  {
   "cell_type": "code",
   "execution_count": 135,
   "metadata": {},
   "outputs": [],
   "source": [
    "start_size = 348"
   ]
  },
  {
   "cell_type": "code",
   "execution_count": 136,
   "metadata": {
    "scrolled": true
   },
   "outputs": [
    {
     "name": "stdout",
     "output_type": "stream",
     "text": [
      "N1081,N646: 350 taxa.\n",
      "N3758,N8774: 346 taxa.\n",
      "N2668,N2313: 353 taxa.\n",
      "N191,N458: 358 taxa.\n",
      "N1640,N2157: 336 taxa.\n",
      "N2666,N1610: 367 taxa.\n",
      "N146,N162: 323 taxa.\n",
      "N5329,N3630: 315 taxa.\n",
      "N6294,N6394: 315 taxa.\n",
      "N4527,N1716: 300 taxa.\n",
      "N4526,N2077: 291 taxa.\n",
      "N1838,N2733: 252 taxa.\n",
      "N4162,N2076: 244 taxa.\n",
      "N4999,N4055: 199 taxa.\n",
      "N207,N90: 197 taxa.\n",
      "N3529,N4053: 197 taxa.\n",
      "N4218,N3629: 184 taxa.\n",
      "N250,N428: 156 taxa.\n",
      "N604,N531: 149 taxa.\n",
      "N4008,N1609: 131 taxa.\n",
      "N3029,N1363: 129 taxa.\n",
      "N3855,N2903: 116 taxa.\n",
      "N4256,N4934: 109 taxa.\n",
      "N2699,N3445: 108 taxa.\n",
      "N4628,N4938: 108 taxa.\n",
      "N233,N1442: 107 taxa.\n",
      "N1604,N1435: 106 taxa.\n",
      "N1636,N2153: 106 taxa.\n",
      "N117,N21: 105 taxa.\n",
      "N3757,N8773: 97 taxa.\n",
      "N2422,N3819: 86 taxa.\n",
      "N375,N117: 85 taxa.\n",
      "N1832,N2000: 80 taxa.\n",
      "N752,N681: 73 taxa.\n",
      "N4244,N4051: 70 taxa.\n",
      "N1306,N63: 69 taxa.\n",
      "N930,N680: 68 taxa.\n",
      "N1287,N825: 66 taxa.\n",
      "N1603,N1159: 65 taxa.\n",
      "N54,N315: 64 taxa.\n",
      "N923,N354: 64 taxa.\n",
      "N1602,N522: 63 taxa.\n",
      "N33,N23: 61 taxa.\n",
      "N2809,N2483: 60 taxa.\n",
      "N891,N642: 59 taxa.\n",
      "N3656,N2312: 57 taxa.\n",
      "N2116,N2727: 56 taxa.\n",
      "N190,N457: 55 taxa.\n",
      "N4616,N4464: 55 taxa.\n",
      "N1304,N152: 54 taxa.\n"
     ]
    }
   ],
   "source": [
    "selected_matches = select_clades(start_size)\n",
    "for m in selected_matches:\n",
    "    print('%s: %d taxa.' % (m, len(matches[m])))"
   ]
  },
  {
   "cell_type": "markdown",
   "metadata": {},
   "source": [
    "Write selected clades."
   ]
  },
  {
   "cell_type": "code",
   "execution_count": 137,
   "metadata": {},
   "outputs": [],
   "source": [
    "with open('selected_matches.txt', 'w') as f:\n",
    "    for m in selected_matches:\n",
    "        f.write('%s\\n' % m.replace(',', '\\t'))"
   ]
  },
  {
   "cell_type": "markdown",
   "metadata": {},
   "source": [
    "Export collapsed trees. Each selected clade becomes a tip, with its height equaling the median of its descendants."
   ]
  },
  {
   "cell_type": "code",
   "execution_count": 138,
   "metadata": {},
   "outputs": [],
   "source": [
    "def get_clade_height(node):\n",
    "    return np.median([x.accumulate_to_ancestor(node) for x in node.tips()])"
   ]
  },
  {
   "cell_type": "code",
   "execution_count": 139,
   "metadata": {},
   "outputs": [],
   "source": [
    "def collapse_clades(tree, clades):\n",
    "    tcopy = tree.copy()\n",
    "    clades = set(clades)\n",
    "    nodes_to_remove = []\n",
    "    for node in tcopy.non_tips():\n",
    "        if node.name in clades:\n",
    "            node.length += get_clade_height(node)\n",
    "            nodes_to_remove.extend(node.children)\n",
    "    tcopy.remove_deleted(lambda x: x in nodes_to_remove)\n",
    "    tcopy = tcopy.shear(clades)\n",
    "    tcopy.prune()\n",
    "    return tcopy"
   ]
  },
  {
   "cell_type": "code",
   "execution_count": 140,
   "metadata": {},
   "outputs": [],
   "source": [
    "for i, tree in enumerate(trees):\n",
    "    clades = [x.split(',')[i] for x in selected_matches]\n",
    "    tcopy = collapse_clades(tree, clades)\n",
    "    tcopy.write('tree%d.nwk' % (i + 1))\n",
    "    for tip in tcopy.tips():\n",
    "        tip.name = 'X%d' % (clades.index(tip.name) + 1)\n",
    "    tcopy.write('tree%d.trans.nwk' % (i + 1))"
   ]
  },
  {
   "cell_type": "code",
   "execution_count": null,
   "metadata": {},
   "outputs": [],
   "source": []
  }
 ],
 "metadata": {
  "hide_input": false,
  "kernelspec": {
   "display_name": "Python 3",
   "language": "python",
   "name": "python3"
  },
  "language_info": {
   "codemirror_mode": {
    "name": "ipython",
    "version": 3
   },
   "file_extension": ".py",
   "mimetype": "text/x-python",
   "name": "python",
   "nbconvert_exporter": "python",
   "pygments_lexer": "ipython3",
   "version": "3.6.4"
  }
 },
 "nbformat": 4,
 "nbformat_minor": 2
}
