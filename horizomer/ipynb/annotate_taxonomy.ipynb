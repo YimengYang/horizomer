{
 "cells": [
  {
   "cell_type": "markdown",
   "metadata": {},
   "source": [
    "# Annotate taxonomy at tree nodes"
   ]
  },
  {
   "cell_type": "markdown",
   "metadata": {},
   "source": [
    "This script attempts to annotate internal nodes of a tree using NCBI taxonomy. It is not limited to the seven common ranks. Any taxon can be a candidate."
   ]
  },
  {
   "cell_type": "markdown",
   "metadata": {},
   "source": [
    "## Preparation"
   ]
  },
  {
   "cell_type": "markdown",
   "metadata": {},
   "source": [
    "### Dependencies"
   ]
  },
  {
   "cell_type": "code",
   "execution_count": 1,
   "metadata": {},
   "outputs": [],
   "source": [
    "import pandas as pd\n",
    "from skbio import TreeNode"
   ]
  },
  {
   "cell_type": "markdown",
   "metadata": {},
   "source": [
    "### Input files"
   ]
  },
  {
   "cell_type": "markdown",
   "metadata": {},
   "source": [
    "Tree of genomes"
   ]
  },
  {
   "cell_type": "code",
   "execution_count": 2,
   "metadata": {},
   "outputs": [],
   "source": [
    "tree_fp = '../trees/astral.e5p50.nwk'"
   ]
  },
  {
   "cell_type": "markdown",
   "metadata": {},
   "source": [
    "Genome ID to taxonomy ID map"
   ]
  },
  {
   "cell_type": "code",
   "execution_count": 3,
   "metadata": {},
   "outputs": [],
   "source": [
    "g2tid_fp = '../../genomes/in_tree/g2tid.txt'"
   ]
  },
  {
   "cell_type": "markdown",
   "metadata": {},
   "source": [
    "NCBI taxdump directory"
   ]
  },
  {
   "cell_type": "code",
   "execution_count": 4,
   "metadata": {},
   "outputs": [],
   "source": [
    "taxdump_dir = '../taxdump'"
   ]
  },
  {
   "cell_type": "markdown",
   "metadata": {},
   "source": [
    "### Parameters"
   ]
  },
  {
   "cell_type": "markdown",
   "metadata": {},
   "source": [
    "Ranks and order to care:"
   ]
  },
  {
   "cell_type": "code",
   "execution_count": 5,
   "metadata": {},
   "outputs": [],
   "source": [
    "ranks = ['phylum', 'class', 'order', 'family', 'genus', 'species']"
   ]
  },
  {
   "cell_type": "markdown",
   "metadata": {},
   "source": [
    "Drop taxon with fraction below this threshold:"
   ]
  },
  {
   "cell_type": "code",
   "execution_count": 6,
   "metadata": {},
   "outputs": [],
   "source": [
    "min_frac_th = 0.01"
   ]
  },
  {
   "cell_type": "markdown",
   "metadata": {},
   "source": [
    "Consider a taxon with fraction above this threshold as dominant:"
   ]
  },
  {
   "cell_type": "code",
   "execution_count": 7,
   "metadata": {},
   "outputs": [],
   "source": [
    "dom_frac_th = 0.95"
   ]
  },
  {
   "cell_type": "markdown",
   "metadata": {},
   "source": [
    "Exclude these TaxIDs:"
   ]
  },
  {
   "cell_type": "code",
   "execution_count": 8,
   "metadata": {},
   "outputs": [],
   "source": [
    "tids_to_exclude = set(['1', '131567'])  # \"root\" and \"cellular organism\""
   ]
  },
  {
   "cell_type": "markdown",
   "metadata": {},
   "source": [
    "## Pre-processing"
   ]
  },
  {
   "cell_type": "markdown",
   "metadata": {},
   "source": [
    "### Read input files"
   ]
  },
  {
   "cell_type": "code",
   "execution_count": 9,
   "metadata": {},
   "outputs": [
    {
     "name": "stdout",
     "output_type": "stream",
     "text": [
      "Tree has 10575 tips and 10028 internal nodes.\n"
     ]
    }
   ],
   "source": [
    "tree = TreeNode.read(tree_fp)\n",
    "n, m = tree.count(), tree.count(tips=True)\n",
    "print('Tree has %d tips and %d internal nodes.' % (m, n - m))"
   ]
  },
  {
   "cell_type": "code",
   "execution_count": 10,
   "metadata": {},
   "outputs": [
    {
     "name": "stdout",
     "output_type": "stream",
     "text": [
      "Map has 10575 genome IDs corresponding to 9887 taxIDs.\n"
     ]
    }
   ],
   "source": [
    "with open(g2tid_fp, 'r') as f:\n",
    "    g2tid = dict(x.split('\\t') for x in f.read().splitlines())\n",
    "print('Map has %d genome IDs corresponding to %d taxIDs.' % (len(g2tid), len(set(g2tid.values()))))"
   ]
  },
  {
   "cell_type": "code",
   "execution_count": 11,
   "metadata": {},
   "outputs": [
    {
     "name": "stdout",
     "output_type": "stream",
     "text": [
      "NCBI taxdump has 1573975 TaxIDs.\n"
     ]
    }
   ],
   "source": [
    "taxdump = {}\n",
    "with open('%s/nodes.dmp' % taxdump_dir, 'r') as f:\n",
    "    for line in f:\n",
    "        x = line.rstrip('\\r\\n').replace('\\t|', '').split('\\t')\n",
    "        taxdump[x[0]] = {'parent': x[1], 'rank': x[2], 'name': ''}\n",
    "with open('%s/names.dmp' % taxdump_dir, 'r') as f:\n",
    "    for line in f:\n",
    "        x = line.rstrip('\\r\\n').replace('\\t|', '').split('\\t')\n",
    "        if x[3] == 'scientific name':\n",
    "            taxdump[x[0]]['name'] = x[1]\n",
    "print('NCBI taxdump has %d TaxIDs.' % len(taxdump))"
   ]
  },
  {
   "cell_type": "markdown",
   "metadata": {},
   "source": [
    "### Generate maps"
   ]
  },
  {
   "cell_type": "markdown",
   "metadata": {},
   "source": [
    "Associate genomes to all ancestral taxonomy IDs.\n",
    "\n",
    "For example, `G000046705` is mapped to TaxID: 38323 (*Bartonella henselae*), then it will be associated with TaxIDs: 38323, 773 (*Bartonella*), 772 (Bartonellaceae), 356 (Rhizobiales), 28211 (Alphaproteobacteria), 1224 (Proteobacteria) and 2 (Bacteria)."
   ]
  },
  {
   "cell_type": "code",
   "execution_count": 12,
   "metadata": {},
   "outputs": [
    {
     "name": "stdout",
     "output_type": "stream",
     "text": [
      "TaxIDs associated with one or more genomes: 16388.\n"
     ]
    }
   ],
   "source": [
    "tid2gs, g2tids = {}, {}\n",
    "for g in tree.subset():\n",
    "    cid = g2tid[g]\n",
    "    g2tids[g] = []\n",
    "    while True:\n",
    "        if cid not in taxdump:\n",
    "            raise ValueError('Invalid TaxID: %s.' % cid)\n",
    "\n",
    "        if len(tids_to_exclude) == 0 or not cid in tids_to_exclude:\n",
    "            g2tids[g].append(cid)\n",
    "\n",
    "        tid2gs.setdefault(cid, set()).add(g)\n",
    "        pid = taxdump[cid]['parent']\n",
    "        if cid == pid:\n",
    "            break\n",
    "        cid = pid\n",
    "print('TaxIDs associated with one or more genomes: %d.' % len(tid2gs))"
   ]
  },
  {
   "cell_type": "markdown",
   "metadata": {},
   "source": [
    "### Export maps"
   ]
  },
  {
   "cell_type": "code",
   "execution_count": 13,
   "metadata": {},
   "outputs": [],
   "source": [
    "with open('tid2gs.txt', 'w') as f:\n",
    "    for tid, gs in sorted(tid2gs.items(), key=lambda x: int(x[0])):\n",
    "        f.write('%s\\t%s\\n' % (tid, ','.join(sorted(gs))))"
   ]
  },
  {
   "cell_type": "code",
   "execution_count": 14,
   "metadata": {},
   "outputs": [],
   "source": [
    "with open('g2tids.txt', 'w') as f:\n",
    "    for g, tids in sorted(g2tids.items(), key=lambda x: x[0]):\n",
    "        f.write('%s\\t%s\\n' % (g, ','.join(sorted(tids, key=int))))"
   ]
  },
  {
   "cell_type": "code",
   "execution_count": 15,
   "metadata": {},
   "outputs": [],
   "source": [
    "with open('tid_info.tsv', 'w') as f:\n",
    "    f.write('taxID\\trank\\ttaxon\\n')\n",
    "    for tid in sorted(tid2gs, key=int):\n",
    "        f.write('%s\\t%s\\t%s\\n'\n",
    "                % (tid, taxdump[tid]['rank'], taxdump[tid]['name']))"
   ]
  },
  {
   "cell_type": "markdown",
   "metadata": {},
   "source": [
    "## Solution I: Strict monophyly"
   ]
  },
  {
   "cell_type": "markdown",
   "metadata": {},
   "source": [
    "### Background"
   ]
  },
  {
   "cell_type": "markdown",
   "metadata": {},
   "source": [
    "A node is annotated by a TaxID only when:\n",
    " 1. All descendant genomes belong to this TaxID.\n",
    " 2. No other genomes in the tree belong to this TaxID.\n",
    " 3. If multiple TaxIDs meet criteria 1 and 2, the lowest (most derived) one is kept."
   ]
  },
  {
   "cell_type": "markdown",
   "metadata": {},
   "source": [
    "### Workflow"
   ]
  },
  {
   "cell_type": "markdown",
   "metadata": {},
   "source": [
    "Identify the lowest common ancestor of genomes represented by each TaxID."
   ]
  },
  {
   "cell_type": "code",
   "execution_count": 16,
   "metadata": {},
   "outputs": [
    {
     "name": "stdout",
     "output_type": "stream",
     "text": [
      "Nodes representing LCAs per TaxID: 16388.\n"
     ]
    }
   ],
   "source": [
    "tid2nid = {}\n",
    "for tid, gs in tid2gs.items():\n",
    "    tid2nid[tid] = tree.lca(list(gs)).name\n",
    "print('Nodes representing LCAs per TaxID: %d.' % len(tid2nid))"
   ]
  },
  {
   "cell_type": "markdown",
   "metadata": {},
   "source": [
    "Extract TaxIDs that represent monophyletic groups in the tree."
   ]
  },
  {
   "cell_type": "code",
   "execution_count": 17,
   "metadata": {},
   "outputs": [
    {
     "name": "stdout",
     "output_type": "stream",
     "text": [
      "TaxIDs that are monophyletic: 1216.\n"
     ]
    }
   ],
   "source": [
    "tid2nid_mono = {}\n",
    "for tid, nid in tid2nid.items():\n",
    "    if tree.find(nid).count(tips=True) == len(tid2gs[tid]):\n",
    "        tid2nid_mono[tid] = nid\n",
    "print('TaxIDs that are monophyletic: %d.' % len(tid2nid_mono))"
   ]
  },
  {
   "cell_type": "markdown",
   "metadata": {},
   "source": [
    "Identify TaxID(s) assigned to each node.\n",
    "\n",
    "Note that one node may receive multiple TaxIDs that are sequential in the taxonomic hierarchy. For example, 38323 (*Bartonella henselae*), 773 (*Bartonella*), 772 (Bartonellaceae) can all be assigned to one node if there are only two Bartonellaceae members: two strains of *B. henselae* represented in the tree."
   ]
  },
  {
   "cell_type": "code",
   "execution_count": 18,
   "metadata": {},
   "outputs": [
    {
     "name": "stdout",
     "output_type": "stream",
     "text": [
      "Nodes with monophyletic TaxIDs assigned: 970.\n"
     ]
    }
   ],
   "source": [
    "nid2tids = {}\n",
    "for tid, nid in tid2nid_mono.items():\n",
    "    nid2tids.setdefault(nid, set()).add(tid)\n",
    "print('Nodes with monophyletic TaxIDs assigned: %d.' % len(nid2tids))"
   ]
  },
  {
   "cell_type": "markdown",
   "metadata": {},
   "source": [
    "Assign a unique TaxID to each node.\n",
    "\n",
    "In case there are multiple TaxIDs assigned to one node, the lowest-level (most derived) one will be used. In the aforementioned example, 38323 (*Bartonella henselae*) will be selected."
   ]
  },
  {
   "cell_type": "code",
   "execution_count": 19,
   "metadata": {},
   "outputs": [],
   "source": [
    "def lowest_tid(tids):\n",
    "    if len(tids) == 1:\n",
    "        return max(tids)\n",
    "    else:\n",
    "        # for each TaxID, extract the full lineage string\n",
    "        tid2pids = {}\n",
    "        for tid in tids:\n",
    "            tid2pids[tid] = []\n",
    "            cid = tid\n",
    "            while True:\n",
    "                pid = taxdump[cid]['parent']\n",
    "                if cid == pid:\n",
    "                    break\n",
    "                tid2pids[tid].append(pid)\n",
    "                cid = pid\n",
    "        # TaxID with the longest lineage string is the most derived\n",
    "        return sorted(tid2pids, key=lambda k: len(tid2pids[k]),\n",
    "                      reverse=True)[0]"
   ]
  },
  {
   "cell_type": "code",
   "execution_count": 20,
   "metadata": {},
   "outputs": [],
   "source": [
    "nid2tid_uniq = {k: lowest_tid(v) for k, v in nid2tids.items()}"
   ]
  },
  {
   "cell_type": "markdown",
   "metadata": {},
   "source": [
    "Generate result table."
   ]
  },
  {
   "cell_type": "code",
   "execution_count": 21,
   "metadata": {},
   "outputs": [],
   "source": [
    "def nid2tid_to_df(nid2tid):\n",
    "    df = pd.DataFrame.from_dict(nid2tid, orient='index')\n",
    "    df.columns=['taxID']\n",
    "    df.index.name = 'node'\n",
    "    df['rank'] = df['taxID'].apply(lambda x: taxdump[x]['rank'])\n",
    "    df['taxon'] = df['taxID'].apply(lambda x: taxdump[x]['name'])\n",
    "    indices = sorted(nid2tid, key=lambda x: int(x.split(':')[-1][1:]))\n",
    "    return df.reindex(indices)"
   ]
  },
  {
   "cell_type": "code",
   "execution_count": 22,
   "metadata": {},
   "outputs": [
    {
     "data": {
      "text/html": [
       "<div>\n",
       "<style scoped>\n",
       "    .dataframe tbody tr th:only-of-type {\n",
       "        vertical-align: middle;\n",
       "    }\n",
       "\n",
       "    .dataframe tbody tr th {\n",
       "        vertical-align: top;\n",
       "    }\n",
       "\n",
       "    .dataframe thead th {\n",
       "        text-align: right;\n",
       "    }\n",
       "</style>\n",
       "<table border=\"1\" class=\"dataframe\">\n",
       "  <thead>\n",
       "    <tr style=\"text-align: right;\">\n",
       "      <th></th>\n",
       "      <th>taxID</th>\n",
       "      <th>rank</th>\n",
       "      <th>taxon</th>\n",
       "    </tr>\n",
       "    <tr>\n",
       "      <th>node</th>\n",
       "      <th></th>\n",
       "      <th></th>\n",
       "      <th></th>\n",
       "    </tr>\n",
       "  </thead>\n",
       "  <tbody>\n",
       "    <tr>\n",
       "      <th>N1</th>\n",
       "      <td>131567</td>\n",
       "      <td>no rank</td>\n",
       "      <td>cellular organisms</td>\n",
       "    </tr>\n",
       "    <tr>\n",
       "      <th>N2</th>\n",
       "      <td>2157</td>\n",
       "      <td>superkingdom</td>\n",
       "      <td>Archaea</td>\n",
       "    </tr>\n",
       "    <tr>\n",
       "      <th>N3</th>\n",
       "      <td>2</td>\n",
       "      <td>superkingdom</td>\n",
       "      <td>Bacteria</td>\n",
       "    </tr>\n",
       "    <tr>\n",
       "      <th>N17</th>\n",
       "      <td>1801634</td>\n",
       "      <td>no rank</td>\n",
       "      <td>unclassified Candidatus Micrarchaeota</td>\n",
       "    </tr>\n",
       "    <tr>\n",
       "      <th>N25</th>\n",
       "      <td>1936272</td>\n",
       "      <td>no rank</td>\n",
       "      <td>Candidatus Heimdallarchaeota</td>\n",
       "    </tr>\n",
       "  </tbody>\n",
       "</table>\n",
       "</div>"
      ],
      "text/plain": [
       "        taxID          rank                                  taxon\n",
       "node                                                              \n",
       "N1     131567       no rank                     cellular organisms\n",
       "N2       2157  superkingdom                                Archaea\n",
       "N3          2  superkingdom                               Bacteria\n",
       "N17   1801634       no rank  unclassified Candidatus Micrarchaeota\n",
       "N25   1936272       no rank           Candidatus Heimdallarchaeota"
      ]
     },
     "execution_count": 22,
     "metadata": {},
     "output_type": "execute_result"
    }
   ],
   "source": [
    "df = nid2tid_to_df(nid2tid_uniq)\n",
    "df.head()"
   ]
  },
  {
   "cell_type": "code",
   "execution_count": 23,
   "metadata": {},
   "outputs": [],
   "source": [
    "df.to_csv('strict_assignments.tsv', sep='\\t')"
   ]
  },
  {
   "cell_type": "markdown",
   "metadata": {},
   "source": [
    "(non-Pandas version)"
   ]
  },
  {
   "cell_type": "code",
   "execution_count": 24,
   "metadata": {},
   "outputs": [],
   "source": [
    "%%script false\n",
    "with open('strict_assignments.tsv', 'w') as f:\n",
    "    f.write('%s\\n' % '\\t'.join(('#nodeID', 'taxID', 'rank', 'taxon')))\n",
    "    for nid in sorted(nid2tid_uniq, key=lambda x: int(x.split(':')[-1][1:])):\n",
    "        tid = nid2tid_uniq[nid]\n",
    "        f.write('%s\\t%s\\t%s\\t%s\\n' % (nid.split(':')[-1], tid,\n",
    "                taxdump[tid]['rank'], taxdump[tid]['name']))"
   ]
  },
  {
   "cell_type": "markdown",
   "metadata": {},
   "source": [
    "## Solution II: Fractions"
   ]
  },
  {
   "cell_type": "markdown",
   "metadata": {},
   "source": [
    "### Background"
   ]
  },
  {
   "cell_type": "markdown",
   "metadata": {},
   "source": [
    "Uses the fractions of available taxonomic groups to annotate a node. Theis \"fraction\" is calculated based on the phylogenetic diversity of the clade, rather than a simple weighted sum. For example, in the following tree:"
   ]
  },
  {
   "cell_type": "code",
   "execution_count": 25,
   "metadata": {},
   "outputs": [
    {
     "name": "stdout",
     "output_type": "stream",
     "text": [
      "                    /-A\n",
      "                   |\n",
      "                   |--A\n",
      "          /--------|\n",
      "         |         |--A\n",
      "-C-------|         |\n",
      "         |          \\-A\n",
      "         |\n",
      "          \\-B\n"
     ]
    }
   ],
   "source": [
    "print(TreeNode.read(['((A,A,A,A),B)C;']).ascii_art())"
   ]
  },
  {
   "cell_type": "markdown",
   "metadata": {},
   "source": [
    "The taxonomic composition at node \"C\" is 50% A and 50% B."
   ]
  },
  {
   "cell_type": "markdown",
   "metadata": {},
   "source": [
    "All available TaxIDs (including the immediate and ancestral ones) will be calculate at each nodes. For example in the following tree:"
   ]
  },
  {
   "cell_type": "code",
   "execution_count": 26,
   "metadata": {},
   "outputs": [
    {
     "name": "stdout",
     "output_type": "stream",
     "text": [
      "          /-R. leguminosarum\n",
      "-C-------|\n",
      "         |          /-B. bacilliformis\n",
      "          \\B-------|\n",
      "                   |          /-B. henselae\n",
      "                    \\A-------|\n",
      "                              \\-B. quintana\n"
     ]
    }
   ],
   "source": [
    "print(TreeNode.read([\"('R. leguminosarum',('B. bacilliformis',('B. henselae','B. quintana')A)B)C;\"]).ascii_art())"
   ]
  },
  {
   "cell_type": "markdown",
   "metadata": {},
   "source": [
    " - Node A will be 50% species *B. henselae*, 50% species *B. quintana*, 100% genus *Bartonella*, 100% family Bartonellaceae,...\n",
    " - Node B will be 50% *B. bacilliformis*, 25% *B. henselae*, 25% *B. quintana*, 100% *Bartonella*, 100% Bartonellaceae,...\n",
    " - Node C will be:\n",
    "  - species: 50% *R. leguminosarum*, 25% *B. bacilliformis*, 12.5% *B. henselae*, 12.5% *B. quintana*;\n",
    "  - genus: 50% *Bartonella*, 50% *Rhizobium*;\n",
    "  - family: 50% Bartonellaceae, 50% Rhizobiaceae;\n",
    "  - order / class / phylum: 100% Rhizobiales / Alphaproteobacteria / Proteobacteria.\n",
    "\n",
    "Note that taxonomy is NOT limited to the seven most common ranks. In the aforementioned example, node C will also be assigned as 50% \"Rhizobium/Agrobacterium group\" (TaxID: 227290)."
   ]
  },
  {
   "cell_type": "markdown",
   "metadata": {},
   "source": [
    "### Workflow"
   ]
  },
  {
   "cell_type": "markdown",
   "metadata": {},
   "source": [
    "Identify TaxIDs and calculate their fractions at each node."
   ]
  },
  {
   "cell_type": "markdown",
   "metadata": {},
   "source": [
    "In a post-order traversal, the compositions of child nodes are summarized, normalized and added to the current node."
   ]
  },
  {
   "cell_type": "code",
   "execution_count": 27,
   "metadata": {
    "scrolled": true
   },
   "outputs": [],
   "source": [
    "fractions = {}\n",
    "for node in tree.postorder(include_self=True):\n",
    "    if node.is_tip():\n",
    "        fractions[node.name] = {x: 1.0 for x in g2tids[node.name]}\n",
    "    else:\n",
    "        fractions[node.name] = {}\n",
    "        for child in node.children:\n",
    "            for tid, frac in fractions[child.name].items():\n",
    "                if tid in fractions[node.name]:\n",
    "                    fractions[node.name][tid] += frac\n",
    "                else:\n",
    "                    fractions[node.name][tid] = frac\n",
    "\n",
    "        n = len(node.children)\n",
    "        for tid in fractions[node.name]:\n",
    "            fractions[node.name][tid] /= n"
   ]
  },
  {
   "cell_type": "markdown",
   "metadata": {},
   "source": [
    "For each node, drop TaxIDs with fraction below cutoff."
   ]
  },
  {
   "cell_type": "code",
   "execution_count": 28,
   "metadata": {},
   "outputs": [],
   "source": [
    "if (min_frac_th or 0) > 0:\n",
    "    for node in tree.non_tips(include_self=True):\n",
    "        for tid in [k for k, v in fractions[node.name].items() if v < min_frac_th]:\n",
    "            fractions[node.name].pop(tid)"
   ]
  },
  {
   "cell_type": "markdown",
   "metadata": {},
   "source": [
    "In output files, record the taxonomic composition of a node as:\n",
    "\n",
    "- `genome <tab\\> taxID1,taxID2,taxID3,taxID4,...`\n",
    "- `node <tab\\> taxID1,taxID2:0.45,taxID3:0.005,...`\n",
    "\n",
    "Note: taxID without franction means 1.0"
   ]
  },
  {
   "cell_type": "code",
   "execution_count": 29,
   "metadata": {},
   "outputs": [],
   "source": [
    "def frac_str(f):\n",
    "    \"\"\"Convert a dict of fractions into a string.\"\"\"\n",
    "    return ','.join(['%s:%.4g' % (k, v) if v < 1.0 else k for k, v in\n",
    "                     sorted(f.items(), key=lambda x: x[1], reverse=True)])"
   ]
  },
  {
   "cell_type": "code",
   "execution_count": 30,
   "metadata": {},
   "outputs": [],
   "source": [
    "def node_id_list(d):\n",
    "    return sorted([x for x in d if x.startswith('N')],\n",
    "                  key=lambda x: (x[0], int(x[1:])))"
   ]
  },
  {
   "cell_type": "code",
   "execution_count": 31,
   "metadata": {},
   "outputs": [],
   "source": [
    "with open('fractions.txt', 'w') as f:\n",
    "    for nid in node_id_list(fractions):\n",
    "        f.write('%s\\t%s\\n' % (nid, frac_str(fractions[nid])))"
   ]
  },
  {
   "cell_type": "markdown",
   "metadata": {},
   "source": [
    "Calculate fractions at each rank per node."
   ]
  },
  {
   "cell_type": "markdown",
   "metadata": {},
   "source": [
    "Note: the sum of fractions will be brought up to one. For example, a node has two descendants, one is \"*Bartonella henselae*\" and the other is \"environmental sample A1\", then at the genus level this node will be assigned as 100% *Bartonella* instead of 50%.\n",
    "\n",
    "This is a defense against unclassified organisms."
   ]
  },
  {
   "cell_type": "code",
   "execution_count": 32,
   "metadata": {},
   "outputs": [],
   "source": [
    "frac_at_ranks = {}\n",
    "for rank in ranks:\n",
    "    fracs = {}\n",
    "    for nid in fractions:\n",
    "        fracs[nid] = {}\n",
    "        for tid, frac in fractions[nid].items():\n",
    "            if taxdump[tid]['rank'] == rank:\n",
    "                fracs[nid][tid] = frac\n",
    "\n",
    "        if len(fracs[nid]) > 0:\n",
    "            s = sum(fracs[nid].values())\n",
    "            for tid in fracs[nid]:\n",
    "                fracs[nid][tid] /= s\n",
    "\n",
    "    frac_at_ranks[rank] = fracs"
   ]
  },
  {
   "cell_type": "code",
   "execution_count": 33,
   "metadata": {},
   "outputs": [],
   "source": [
    "with open('frac_at_ranks.tsv', 'w') as f:\n",
    "    f.write('node\\t%s\\n' % '\\t'.join(ranks))\n",
    "    for nid in node_id_list(fractions):\n",
    "        row = [nid]\n",
    "        for rank in ranks:\n",
    "            row.append(frac_str(frac_at_ranks[rank][nid]))\n",
    "        f.write('%s\\n' % '\\t'.join(row))"
   ]
  },
  {
   "cell_type": "markdown",
   "metadata": {},
   "source": [
    "Identify \"dominant\" TaxIDs, whose fractions are above threshold at each node."
   ]
  },
  {
   "cell_type": "code",
   "execution_count": 34,
   "metadata": {},
   "outputs": [
    {
     "name": "stdout",
     "output_type": "stream",
     "text": [
      "Nodes with at least one dominant taxon assigned: 10027.\n"
     ]
    }
   ],
   "source": [
    "dominants = {}\n",
    "for node in tree.non_tips(include_self=True):\n",
    "    for tid, frac in fractions[node.name].items():\n",
    "        if frac >= dom_frac_th:\n",
    "            dominants.setdefault(node.name, set()).add(tid)\n",
    "print('Nodes with at least one dominant taxon assigned: %d.' % len(dominants))"
   ]
  },
  {
   "cell_type": "markdown",
   "metadata": {},
   "source": [
    "Find the lowest-level (most derived) taxon for each node."
   ]
  },
  {
   "cell_type": "code",
   "execution_count": 35,
   "metadata": {},
   "outputs": [
    {
     "name": "stdout",
     "output_type": "stream",
     "text": [
      "Unique TaxIDs being the lowest: 1641.\n"
     ]
    }
   ],
   "source": [
    "lowests = {k: lowest_tid(v) for k, v in dominants.items()}\n",
    "print('Unique TaxIDs being the lowest: %d.' % len(set(lowests.values())))"
   ]
  },
  {
   "cell_type": "code",
   "execution_count": 36,
   "metadata": {},
   "outputs": [
    {
     "data": {
      "text/html": [
       "<div>\n",
       "<style scoped>\n",
       "    .dataframe tbody tr th:only-of-type {\n",
       "        vertical-align: middle;\n",
       "    }\n",
       "\n",
       "    .dataframe tbody tr th {\n",
       "        vertical-align: top;\n",
       "    }\n",
       "\n",
       "    .dataframe thead th {\n",
       "        text-align: right;\n",
       "    }\n",
       "</style>\n",
       "<table border=\"1\" class=\"dataframe\">\n",
       "  <thead>\n",
       "    <tr style=\"text-align: right;\">\n",
       "      <th></th>\n",
       "      <th>taxID</th>\n",
       "      <th>rank</th>\n",
       "      <th>taxon</th>\n",
       "    </tr>\n",
       "    <tr>\n",
       "      <th>node</th>\n",
       "      <th></th>\n",
       "      <th></th>\n",
       "      <th></th>\n",
       "    </tr>\n",
       "  </thead>\n",
       "  <tbody>\n",
       "    <tr>\n",
       "      <th>N2</th>\n",
       "      <td>2157</td>\n",
       "      <td>superkingdom</td>\n",
       "      <td>Archaea</td>\n",
       "    </tr>\n",
       "    <tr>\n",
       "      <th>N3</th>\n",
       "      <td>2</td>\n",
       "      <td>superkingdom</td>\n",
       "      <td>Bacteria</td>\n",
       "    </tr>\n",
       "    <tr>\n",
       "      <th>N4</th>\n",
       "      <td>2157</td>\n",
       "      <td>superkingdom</td>\n",
       "      <td>Archaea</td>\n",
       "    </tr>\n",
       "    <tr>\n",
       "      <th>N5</th>\n",
       "      <td>2157</td>\n",
       "      <td>superkingdom</td>\n",
       "      <td>Archaea</td>\n",
       "    </tr>\n",
       "    <tr>\n",
       "      <th>N6</th>\n",
       "      <td>1783234</td>\n",
       "      <td>no rank</td>\n",
       "      <td>Bacteria candidate phyla</td>\n",
       "    </tr>\n",
       "  </tbody>\n",
       "</table>\n",
       "</div>"
      ],
      "text/plain": [
       "        taxID          rank                     taxon\n",
       "node                                                 \n",
       "N2       2157  superkingdom                   Archaea\n",
       "N3          2  superkingdom                  Bacteria\n",
       "N4       2157  superkingdom                   Archaea\n",
       "N5       2157  superkingdom                   Archaea\n",
       "N6    1783234       no rank  Bacteria candidate phyla"
      ]
     },
     "execution_count": 36,
     "metadata": {},
     "output_type": "execute_result"
    }
   ],
   "source": [
    "df = nid2tid_to_df(lowests)\n",
    "df.head()"
   ]
  },
  {
   "cell_type": "code",
   "execution_count": 37,
   "metadata": {},
   "outputs": [],
   "source": [
    "df.to_csv('p%s_assignments.tsv' % int(dom_frac_th * 100), sep='\\t')"
   ]
  }
 ],
 "metadata": {
  "hide_input": false,
  "kernelspec": {
   "display_name": "Python 3",
   "language": "python",
   "name": "python3"
  },
  "language_info": {
   "codemirror_mode": {
    "name": "ipython",
    "version": 3
   },
   "file_extension": ".py",
   "mimetype": "text/x-python",
   "name": "python",
   "nbconvert_exporter": "python",
   "pygments_lexer": "ipython3",
   "version": "3.6.4"
  }
 },
 "nbformat": 4,
 "nbformat_minor": 2
}
