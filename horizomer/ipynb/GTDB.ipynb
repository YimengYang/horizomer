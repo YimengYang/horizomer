{
 "cells": [
  {
   "cell_type": "markdown",
   "metadata": {},
   "source": [
    "# GTDB"
   ]
  },
  {
   "cell_type": "markdown",
   "metadata": {},
   "source": [
    "## Background"
   ]
  },
  {
   "cell_type": "markdown",
   "metadata": {},
   "source": [
    "[GTDB](http://gtdb.ecogenomic.org/) (Genome Taxonomy Database) is a large-scale effort of curating microbial taxonomy based on phylogeny. The dataset includes NCBI RefSeq (GCF) and GenBank (GCA) genomes, as well as genomes they assembled from publicly available metagenomes (UBA). The current release - r80 - contains 94,759 bacterial genomes and 1,741 archaeal genomes. The data for the bacterial genomes are available at the [website](http://gtdb.ecogenomic.org/downloads)."
   ]
  },
  {
   "cell_type": "markdown",
   "metadata": {},
   "source": [
    "## Preparation"
   ]
  },
  {
   "cell_type": "markdown",
   "metadata": {},
   "source": [
    "### Dependencies"
   ]
  },
  {
   "cell_type": "code",
   "execution_count": 45,
   "metadata": {},
   "outputs": [],
   "source": [
    "import numpy as np\n",
    "import pandas as pd\n",
    "import matplotlib as mpl\n",
    "import matplotlib.pyplot as plt\n",
    "import seaborn as sns\n",
    "from skbio import TreeNode, DistanceMatrix"
   ]
  },
  {
   "cell_type": "markdown",
   "metadata": {},
   "source": [
    "### Raw data"
   ]
  },
  {
   "cell_type": "markdown",
   "metadata": {},
   "source": [
    "Three files are relevant to this study:"
   ]
  },
  {
   "cell_type": "markdown",
   "metadata": {},
   "source": [
    "Metadata: `bac_metadata_r80.tsv`"
   ]
  },
  {
   "cell_type": "code",
   "execution_count": 2,
   "metadata": {},
   "outputs": [
    {
     "name": "stdout",
     "output_type": "stream",
     "text": [
      "accession\tscaffold_count\tgc_count\tlongest_scaffold\tgc_percentage\r\n",
      "GB_GCA_000006155.2\t3\t1869446\t5093554\t35.1014036461\r\n",
      "GB_GCA_000006945.2\t2\t2586547\t4857450\t52.2388795211\r\n",
      "GB_GCA_000007765.2\t2\t865989\t1995488\t42.6006502339\r\n",
      "GB_GCA_000010565.1\t1\t1602272\t3025375\t52.9611039954\r\n"
     ]
    }
   ],
   "source": [
    "!bzcat raw/bac_metadata_r80.tsv.bz2 | cut -f1-5 | head -n5"
   ]
  },
  {
   "cell_type": "markdown",
   "metadata": {},
   "source": [
    "Taxonomy: `bac_taxonomy_r80.tsv`"
   ]
  },
  {
   "cell_type": "code",
   "execution_count": 7,
   "metadata": {},
   "outputs": [
    {
     "name": "stdout",
     "output_type": "stream",
     "text": [
      "UBA11131\td__Bacteria;p__Proteobacteria;c__Alphaproteobacteria;o__Caulobacterales;f__Caulobacteraceae\r\n",
      "GB_GCA_001941065.1\td__Bacteria;p__Bacteroidetes;c__Bacteroidia;o__Bacteroidales;f__Rikenellaceae;g__\r\n",
      "RS_GCF_001404535.1\td__Bacteria;p__Firmicutes;c__Clostridia;o__Lachnospirales;f__Lachnospiraceae;g__B\r\n",
      "RS_GCF_900055025.1\td__Bacteria;p__Firmicutes;c__Bacilli;o__Lactobacillales;f__Streptococcaceae;g__St\r\n",
      "RS_GCF_001476715.1\td__Bacteria;p__Proteobacteria;c__Gammaproteobacteria;o__Enterobacterales;f__Enter\r\n"
     ]
    }
   ],
   "source": [
    "!bzcat raw/bac_taxonomy_r80.tsv.bz2 | cut -c1-100 | head -n5"
   ]
  },
  {
   "cell_type": "markdown",
   "metadata": {},
   "source": [
    "Tree: `bac120_r80.tree`, which contains"
   ]
  },
  {
   "cell_type": "code",
   "execution_count": 9,
   "metadata": {},
   "outputs": [
    {
     "name": "stdout",
     "output_type": "stream",
     "text": [
      "((GB_GCA_001778455.1:0.39861,((GB_GCA_002375995.1:0.18979,(((UBA7962:0.01111,UBA7968:0.00451)'100.0:s__UBA2187 sp2':0.09573,((GB_GCA_002403185.1:0.00055,GB_GCA_002328705.1:0.0008)'100.0:s__UBA2187 sp1':0.07637,(GB_GCA_002402715.1:0.01307,GB_GCA_002479455.1:0.01374)'100.0:s__UBA2187 sp3':0.07693)99.0:0.03278)'100.0:g__UBA2187':0.17404,((UBA12530:0.0,GB_GCA_001508155.1:0.0)'100.0:s__64-32 sp1':0.10308,GB_GCA_002375935.1:0.10361)'100.0:g__64-32':0.06338)100.0:0.05701)'100.0:o__OPB14; f__64-32':0.16\r\n"
     ]
    }
   ],
   "source": [
    "!cat raw/bac120_r80.tree | cut -c1-500"
   ]
  },
  {
   "cell_type": "markdown",
   "metadata": {},
   "source": [
    "## Analyses"
   ]
  },
  {
   "cell_type": "markdown",
   "metadata": {},
   "source": [
    "#### Identify shared genomes"
   ]
  },
  {
   "cell_type": "markdown",
   "metadata": {},
   "source": [
    "Read WoL genome IDs"
   ]
  },
  {
   "cell_type": "code",
   "execution_count": 3,
   "metadata": {},
   "outputs": [
    {
     "data": {
      "text/plain": [
       "86200"
      ]
     },
     "execution_count": 3,
     "metadata": {},
     "output_type": "execute_result"
    }
   ],
   "source": [
    "wol_gs = !cat ../../genomes/gids.txt\n",
    "len(wol_gs)"
   ]
  },
  {
   "cell_type": "markdown",
   "metadata": {},
   "source": [
    "Read GTDB genome IDs."
   ]
  },
  {
   "cell_type": "code",
   "execution_count": 4,
   "metadata": {},
   "outputs": [
    {
     "data": {
      "text/plain": [
       "94759"
      ]
     },
     "execution_count": 4,
     "metadata": {},
     "output_type": "execute_result"
    }
   ],
   "source": [
    "gtdb_gs = !bzcat raw/bac_metadata_r80.tsv.bz2 | cut -f1 | tail -n+2\n",
    "len(gtdb_gs)"
   ]
  },
  {
   "cell_type": "markdown",
   "metadata": {},
   "source": [
    "Generate a GTDB to WoL genome ID map. e.g., `GB_GCA_000006155.2` => `GC000006155`."
   ]
  },
  {
   "cell_type": "code",
   "execution_count": 153,
   "metadata": {},
   "outputs": [
    {
     "data": {
      "text/plain": [
       "91672"
      ]
     },
     "execution_count": 153,
     "metadata": {},
     "output_type": "execute_result"
    }
   ],
   "source": [
    "gtdb2wol_map = {x: 'G%s' % x.split('_')[-1].split('.')[0] for x in gtdb_gs if x.startswith('GB_GCA_') or x.startswith('RS_GCF_')}\n",
    "len(gtdb2wol_map)"
   ]
  },
  {
   "cell_type": "markdown",
   "metadata": {},
   "source": [
    "Check for duplicate genomes in GTDB (same assembly ID represented by both RefSeq and GenBank versions)."
   ]
  },
  {
   "cell_type": "code",
   "execution_count": 191,
   "metadata": {},
   "outputs": [
    {
     "data": {
      "text/plain": [
       "25"
      ]
     },
     "execution_count": 191,
     "metadata": {},
     "output_type": "execute_result"
    }
   ],
   "source": [
    "gtdb_dups = set()\n",
    "used = set()\n",
    "for gtdb, wol in gtdb2wol_map.items():\n",
    "    if wol in used:\n",
    "        gtdb_dups.add(wol)\n",
    "    else:\n",
    "        used.add(wol)\n",
    "len(gtdb_dups)"
   ]
  },
  {
   "cell_type": "markdown",
   "metadata": {},
   "source": [
    "Identify shared genome IDs."
   ]
  },
  {
   "cell_type": "code",
   "execution_count": 6,
   "metadata": {},
   "outputs": [
    {
     "data": {
      "text/plain": [
       "79364"
      ]
     },
     "execution_count": 6,
     "metadata": {},
     "output_type": "execute_result"
    }
   ],
   "source": [
    "common_gs = set(wol_gs).intersection(set(gtdb2wol_map.values()))\n",
    "len(common_gs)"
   ]
  },
  {
   "cell_type": "markdown",
   "metadata": {},
   "source": [
    "#### Shrink trees to shared taxa"
   ]
  },
  {
   "cell_type": "code",
   "execution_count": 7,
   "metadata": {},
   "outputs": [
    {
     "data": {
      "text/plain": [
       "10575"
      ]
     },
     "execution_count": 7,
     "metadata": {},
     "output_type": "execute_result"
    }
   ],
   "source": [
    "wol_tree = TreeNode.read('../../ToLs/astral.MR.rooted.nid.tre')\n",
    "wol_tree.count(tips=True)"
   ]
  },
  {
   "cell_type": "code",
   "execution_count": 8,
   "metadata": {},
   "outputs": [
    {
     "data": {
      "text/plain": [
       "21943"
      ]
     },
     "execution_count": 8,
     "metadata": {},
     "output_type": "execute_result"
    }
   ],
   "source": [
    "gtdb_tree = TreeNode.read('raw/bac120_r80.tree', convert_underscores=False)\n",
    "gtdb_tree.count(tips=True)"
   ]
  },
  {
   "cell_type": "markdown",
   "metadata": {},
   "source": [
    "Identify taxa shared between the two trees."
   ]
  },
  {
   "cell_type": "code",
   "execution_count": 9,
   "metadata": {},
   "outputs": [
    {
     "data": {
      "text/plain": [
       "7556"
      ]
     },
     "execution_count": 9,
     "metadata": {},
     "output_type": "execute_result"
    }
   ],
   "source": [
    "wol_taxa = set([tip.name for tip in wol_tree.tips()])\n",
    "gtdb_taxa = set([tip.name for tip in gtdb_tree.tips()])\n",
    "common_taxa = [(x, gtdb2wol_map[x]) for x in gtdb_taxa if x in gtdb2wol_map\n",
    "               and gtdb2wol_map[x] in wol_taxa]\n",
    "len(common_taxa)"
   ]
  },
  {
   "cell_type": "markdown",
   "metadata": {},
   "source": [
    "Shrink the two trees to contain common taxa only."
   ]
  },
  {
   "cell_type": "code",
   "execution_count": 10,
   "metadata": {},
   "outputs": [
    {
     "data": {
      "text/plain": [
       "'wol.lap.nwk'"
      ]
     },
     "execution_count": 10,
     "metadata": {},
     "output_type": "execute_result"
    }
   ],
   "source": [
    "wol_tree_lap = wol_tree.shear([x[1] for x in common_taxa])\n",
    "wol_tree_lap.write('wol.lap.nwk')"
   ]
  },
  {
   "cell_type": "code",
   "execution_count": 11,
   "metadata": {
    "scrolled": false
   },
   "outputs": [],
   "source": [
    "gtdb_tree_lap = gtdb_tree.shear([x[0] for x in common_taxa])"
   ]
  },
  {
   "cell_type": "markdown",
   "metadata": {},
   "source": [
    "The GTDB tree have additional node labels that do not comply with the Newick standard. To avoid problems, remove node labels."
   ]
  },
  {
   "cell_type": "code",
   "execution_count": 12,
   "metadata": {},
   "outputs": [
    {
     "data": {
      "text/plain": [
       "'gtdb.lap.nwk'"
      ]
     },
     "execution_count": 12,
     "metadata": {},
     "output_type": "execute_result"
    }
   ],
   "source": [
    "_tree = gtdb_tree_lap.copy()\n",
    "for node in _tree.non_tips():\n",
    "    node.name = None\n",
    "_tree.write('gtdb.lap.nwk')"
   ]
  },
  {
   "cell_type": "markdown",
   "metadata": {},
   "source": [
    "Translate GTDB genomes IDs into WoL ones in the shrinked GTDB tree."
   ]
  },
  {
   "cell_type": "code",
   "execution_count": 13,
   "metadata": {},
   "outputs": [],
   "source": [
    "gtdb_tree_lap_tr = gtdb_tree_lap.copy()\n",
    "for tip in gtdb_tree_lap_tr.tips():\n",
    "    tip.name = gtdb2wol_map[tip.name]"
   ]
  },
  {
   "cell_type": "code",
   "execution_count": 14,
   "metadata": {},
   "outputs": [
    {
     "data": {
      "text/plain": [
       "'gtdb.lap.tr.nwk'"
      ]
     },
     "execution_count": 14,
     "metadata": {},
     "output_type": "execute_result"
    }
   ],
   "source": [
    "_tree = gtdb_tree_lap_tr.copy()\n",
    "for node in _tree.non_tips():\n",
    "    node.name = None\n",
    "_tree.write('gtdb.lap.tr.nwk')"
   ]
  },
  {
   "cell_type": "markdown",
   "metadata": {},
   "source": [
    "### Compare GTDB and WoL trees"
   ]
  },
  {
   "cell_type": "markdown",
   "metadata": {},
   "source": [
    "#### Preparation"
   ]
  },
  {
   "cell_type": "markdown",
   "metadata": {},
   "source": [
    "WoL tree with node supports:"
   ]
  },
  {
   "cell_type": "code",
   "execution_count": 56,
   "metadata": {},
   "outputs": [],
   "source": [
    "tree1 = TreeNode.read('../../ToLs/astral.MR.rooted.tre')\n",
    "tree1 = tree1.shear([x[1] for x in common_taxa])"
   ]
  },
  {
   "cell_type": "markdown",
   "metadata": {},
   "source": [
    "Because duplicated sequences were assigned as polytomies without branch length, set them as zeros."
   ]
  },
  {
   "cell_type": "code",
   "execution_count": 57,
   "metadata": {},
   "outputs": [],
   "source": [
    "for node in tree1.traverse():\n",
    "    if node.length is None:\n",
    "        node.length = 0.0"
   ]
  },
  {
   "cell_type": "markdown",
   "metadata": {},
   "source": [
    "GTDB tree with node supports:"
   ]
  },
  {
   "cell_type": "code",
   "execution_count": 58,
   "metadata": {},
   "outputs": [],
   "source": [
    "tree2 = gtdb_tree_lap_tr.copy()"
   ]
  },
  {
   "cell_type": "markdown",
   "metadata": {},
   "source": [
    "Delete extra node labels, leaving only node support values."
   ]
  },
  {
   "cell_type": "code",
   "execution_count": 59,
   "metadata": {},
   "outputs": [],
   "source": [
    "for node in tree2.non_tips():\n",
    "    if node.name is not None:\n",
    "        node.name = node.name.split(':')[0]"
   ]
  },
  {
   "cell_type": "markdown",
   "metadata": {},
   "source": [
    "#### Basic statistics"
   ]
  },
  {
   "cell_type": "markdown",
   "metadata": {},
   "source": [
    "Robinson-Foulds distance between the two trees:"
   ]
  },
  {
   "cell_type": "code",
   "execution_count": 38,
   "metadata": {},
   "outputs": [
    {
     "data": {
      "text/plain": [
       "0.17919841006955944"
      ]
     },
     "execution_count": 38,
     "metadata": {},
     "output_type": "execute_result"
    }
   ],
   "source": [
    "tree1.compare_rfd(tree2, proportion=True)"
   ]
  },
  {
   "cell_type": "markdown",
   "metadata": {},
   "source": [
    "Maximum distance between tips:"
   ]
  },
  {
   "cell_type": "code",
   "execution_count": 39,
   "metadata": {},
   "outputs": [
    {
     "data": {
      "text/plain": [
       "53.626845927682865"
      ]
     },
     "execution_count": 39,
     "metadata": {},
     "output_type": "execute_result"
    }
   ],
   "source": [
    "tree1.get_max_distance()[0]"
   ]
  },
  {
   "cell_type": "code",
   "execution_count": 40,
   "metadata": {},
   "outputs": [
    {
     "data": {
      "text/plain": [
       "3.86313"
      ]
     },
     "execution_count": 40,
     "metadata": {},
     "output_type": "execute_result"
    }
   ],
   "source": [
    "tree2.get_max_distance()[0]"
   ]
  },
  {
   "cell_type": "markdown",
   "metadata": {},
   "source": [
    "Average node support values:"
   ]
  },
  {
   "cell_type": "code",
   "execution_count": 41,
   "metadata": {},
   "outputs": [],
   "source": [
    "def average_support(tree):\n",
    "    supports = []\n",
    "    for node in tree.non_tips():\n",
    "        if node.name is not None:\n",
    "            supports.append(float(node.name))\n",
    "    return sum(supports) / float(len(supports))"
   ]
  },
  {
   "cell_type": "code",
   "execution_count": 42,
   "metadata": {},
   "outputs": [
    {
     "data": {
      "text/plain": [
       "0.9483053091486772"
      ]
     },
     "execution_count": 42,
     "metadata": {},
     "output_type": "execute_result"
    }
   ],
   "source": [
    "average_support(tree1)"
   ]
  },
  {
   "cell_type": "code",
   "execution_count": 43,
   "metadata": {},
   "outputs": [
    {
     "data": {
      "text/plain": [
       "89.48438953102166"
      ]
     },
     "execution_count": 43,
     "metadata": {},
     "output_type": "execute_result"
    }
   ],
   "source": [
    "average_support(tree2)"
   ]
  },
  {
   "cell_type": "markdown",
   "metadata": {},
   "source": [
    "#### Functions to collapse trees"
   ]
  },
  {
   "cell_type": "code",
   "execution_count": 25,
   "metadata": {},
   "outputs": [],
   "source": [
    "def collapse(node):\n",
    "    \"\"\"Collapse an internal node of a tree.\"\"\"\n",
    "    length = node.length\n",
    "    parent = node.parent\n",
    "    for child in node.children:\n",
    "        if child.length is None:\n",
    "            print(child.name)\n",
    "        child.length += length\n",
    "    parent.remove(node)\n",
    "    parent.extend(node.children)"
   ]
  },
  {
   "cell_type": "code",
   "execution_count": 26,
   "metadata": {},
   "outputs": [],
   "source": [
    "def collapse_short_branches(tree, cutoff):\n",
    "    \"\"\"Collapse branches with length below cutoff.\"\"\"\n",
    "    res = tree.copy()\n",
    "    while True:\n",
    "        nodes_to_collapse = []\n",
    "        for node in res.non_tips():\n",
    "            if node.length < cutoff:\n",
    "                nodes_to_collapse.append(node)\n",
    "        if len(nodes_to_collapse) == 0:\n",
    "            break\n",
    "        for node in nodes_to_collapse:\n",
    "            collapse(node)\n",
    "    return res"
   ]
  },
  {
   "cell_type": "code",
   "execution_count": 50,
   "metadata": {},
   "outputs": [],
   "source": [
    "def collapse_low_support_nodes(tree, cutoff):\n",
    "    \"\"\"Collapse internal nodes with support value below cutoff.\"\"\"\n",
    "    res = tree.copy()\n",
    "    nodes_to_collapse = []\n",
    "    for node in res.non_tips():\n",
    "        if node.name is not None:\n",
    "            support = float(node.name.split(':')[0])\n",
    "            if support < cutoff:\n",
    "                nodes_to_collapse.append(node)\n",
    "    for node in nodes_to_collapse:\n",
    "        collapse(node)\n",
    "    return res"
   ]
  },
  {
   "cell_type": "markdown",
   "metadata": {},
   "source": [
    "Function to shrink two trees to contain only shared taxa."
   ]
  },
  {
   "cell_type": "code",
   "execution_count": 54,
   "metadata": {},
   "outputs": [],
   "source": [
    "def intersect_trees(tree1, tree2, mapping=None):\n",
    "\n",
    "    taxa1 = set([tip.name for tip in tree1.tips()])\n",
    "    taxa2 = set([tip.name for tip in tree2.tips()])\n",
    "\n",
    "    if mapping is not None:\n",
    "        if len(set(mapping.values())) < len(mapping.keys()):\n",
    "            raise ValueError('Mapping is not strict one-to-one match.')\n",
    "\n",
    "        common_taxa_map = [(x, mapping[x]) for x in taxa1 if x in mapping and mapping[x] in taxa2]\n",
    "\n",
    "        if len(common_taxa_map) == 0:\n",
    "            raise ValueError('Trees have no overlapping taxa.')\n",
    "\n",
    "        tree1_lap = tree1.shear([x[0] for x in common_taxa])\n",
    "        tree2_lap = tree2.shear([x[1] for x in common_taxa])\n",
    "\n",
    "    else:\n",
    "        common_taxa = taxa1.intersection(taxa2)\n",
    "        if len(common_taxa_map) == 0:\n",
    "            raise ValueError('Trees have no overlapping taxa.')\n",
    "\n",
    "        tree1_lap = tree1.shear(common_taxa)\n",
    "        tree2_lap = tree2.shear(common_taxa)\n",
    "\n",
    "    return (tree1_lap, tree2_lap)"
   ]
  },
  {
   "cell_type": "markdown",
   "metadata": {},
   "source": [
    "#### Plotting"
   ]
  },
  {
   "cell_type": "markdown",
   "metadata": {},
   "source": [
    "Compute RF distances between trees with low-support nodes collapsed."
   ]
  },
  {
   "cell_type": "code",
   "execution_count": 72,
   "metadata": {},
   "outputs": [],
   "source": [
    "data = []\n",
    "for i in (0.99, 0.95, 0.9, 0.8, 0.7, 0.5, 0.1):\n",
    "    _tree1 = collapse_low_support_nodes(tree1, i)\n",
    "    for j in (99, 95, 90, 80, 70, 50, 10):\n",
    "        _tree2 = collapse_low_support_nodes(tree2, j)\n",
    "        data.append([i, j, _tree1.compare_rfd(_tree2, proportion=True)])"
   ]
  },
  {
   "cell_type": "code",
   "execution_count": 81,
   "metadata": {},
   "outputs": [
    {
     "data": {
      "text/html": [
       "<div>\n",
       "<style scoped>\n",
       "    .dataframe tbody tr th:only-of-type {\n",
       "        vertical-align: middle;\n",
       "    }\n",
       "\n",
       "    .dataframe tbody tr th {\n",
       "        vertical-align: top;\n",
       "    }\n",
       "\n",
       "    .dataframe thead th {\n",
       "        text-align: right;\n",
       "    }\n",
       "</style>\n",
       "<table border=\"1\" class=\"dataframe\">\n",
       "  <thead>\n",
       "    <tr style=\"text-align: right;\">\n",
       "      <th></th>\n",
       "      <th>wol</th>\n",
       "      <th>gtdb</th>\n",
       "      <th>rf</th>\n",
       "    </tr>\n",
       "  </thead>\n",
       "  <tbody>\n",
       "    <tr>\n",
       "      <th>0</th>\n",
       "      <td>0.99</td>\n",
       "      <td>99</td>\n",
       "      <td>0.167338</td>\n",
       "    </tr>\n",
       "    <tr>\n",
       "      <th>1</th>\n",
       "      <td>0.99</td>\n",
       "      <td>95</td>\n",
       "      <td>0.157984</td>\n",
       "    </tr>\n",
       "    <tr>\n",
       "      <th>2</th>\n",
       "      <td>0.99</td>\n",
       "      <td>90</td>\n",
       "      <td>0.154625</td>\n",
       "    </tr>\n",
       "    <tr>\n",
       "      <th>3</th>\n",
       "      <td>0.99</td>\n",
       "      <td>80</td>\n",
       "      <td>0.151270</td>\n",
       "    </tr>\n",
       "    <tr>\n",
       "      <th>4</th>\n",
       "      <td>0.99</td>\n",
       "      <td>70</td>\n",
       "      <td>0.151266</td>\n",
       "    </tr>\n",
       "  </tbody>\n",
       "</table>\n",
       "</div>"
      ],
      "text/plain": [
       "    wol  gtdb        rf\n",
       "0  0.99    99  0.167338\n",
       "1  0.99    95  0.157984\n",
       "2  0.99    90  0.154625\n",
       "3  0.99    80  0.151270\n",
       "4  0.99    70  0.151266"
      ]
     },
     "execution_count": 81,
     "metadata": {},
     "output_type": "execute_result"
    }
   ],
   "source": [
    "columns=['wol', 'gtdb', 'rf']\n",
    "df = pd.DataFrame(data, columns=columns)\n",
    "df.head()"
   ]
  },
  {
   "cell_type": "code",
   "execution_count": 89,
   "metadata": {},
   "outputs": [
    {
     "data": {
      "image/png": "[encoded data removed]",
      "text/plain": [
       "<matplotlib.figure.Figure at 0x1a192f0908>"
      ]
     },
     "metadata": {},
     "output_type": "display_data"
    }
   ],
   "source": [
    "ax = sns.heatmap(df.pivot('wol', 'gtdb', 'rf'))\n",
    "ax.set_title('RF distance (%)')\n",
    "ax.set_xlabel('GTDB bootstrap cutoff')\n",
    "ax.set_ylabel('ASTRAL probability cutoff');"
   ]
  },
  {
   "cell_type": "markdown",
   "metadata": {},
   "source": [
    "Putative minimum RF:"
   ]
  },
  {
   "cell_type": "code",
   "execution_count": 88,
   "metadata": {},
   "outputs": [
    {
     "data": {
      "text/plain": [
       "0.15224806201550387"
      ]
     },
     "execution_count": 88,
     "metadata": {},
     "output_type": "execute_result"
    }
   ],
   "source": [
    "collapse_low_support_nodes(tree1, 0.95).compare_rfd(collapse_low_support_nodes(tree2, 70), proportion=True)"
   ]
  },
  {
   "cell_type": "markdown",
   "metadata": {},
   "source": [
    "### Taxonomy"
   ]
  },
  {
   "cell_type": "markdown",
   "metadata": {},
   "source": [
    "Load GTDB taxonomy"
   ]
  },
  {
   "cell_type": "code",
   "execution_count": 227,
   "metadata": {},
   "outputs": [],
   "source": [
    "ranks = ['domain', 'phylum', 'class', 'order', 'family', 'genus', 'species']"
   ]
  },
  {
   "cell_type": "code",
   "execution_count": 228,
   "metadata": {},
   "outputs": [],
   "source": [
    "df = pd.read_table('gtdb_taxonomy.tsv.bz2', index_col=0, names=['genome'] + ranks)\n",
    "df = df.loc[sorted(gtdb2wol_map)]\n",
    "df['gid'] = df.index.to_series().map(gtdb2wol_map)"
   ]
  },
  {
   "cell_type": "markdown",
   "metadata": {},
   "source": [
    "Make sure duplicated genome IDs have identical taxonomy annotations."
   ]
  },
  {
   "cell_type": "code",
   "execution_count": 229,
   "metadata": {},
   "outputs": [],
   "source": [
    "vc = df['gid'].value_counts()\n",
    "dups = vc[vc > 1].index.tolist()"
   ]
  },
  {
   "cell_type": "code",
   "execution_count": 230,
   "metadata": {},
   "outputs": [],
   "source": [
    "for dup in dups:\n",
    "    rows = df[df.gid == dup]\n",
    "    for rank in ranks:\n",
    "        if len(set(rows[rank].tolist())) > 1:\n",
    "            raise ValueError('%s has conflicting taxonomy annotations.' % dup)"
   ]
  },
  {
   "cell_type": "markdown",
   "metadata": {},
   "source": [
    "Subset and translate the genome IDs."
   ]
  },
  {
   "cell_type": "code",
   "execution_count": 231,
   "metadata": {},
   "outputs": [
    {
     "data": {
      "text/plain": [
       "8934"
      ]
     },
     "execution_count": 231,
     "metadata": {},
     "output_type": "execute_result"
    }
   ],
   "source": [
    "df.set_index('gid', inplace=True)\n",
    "defined_taxa = set(df.index.tolist()).intersection(wol_taxa)\n",
    "len(defined_taxa)"
   ]
  },
  {
   "cell_type": "code",
   "execution_count": 232,
   "metadata": {
    "scrolled": true
   },
   "outputs": [
    {
     "data": {
      "text/html": [
       "<div>\n",
       "<style scoped>\n",
       "    .dataframe tbody tr th:only-of-type {\n",
       "        vertical-align: middle;\n",
       "    }\n",
       "\n",
       "    .dataframe tbody tr th {\n",
       "        vertical-align: top;\n",
       "    }\n",
       "\n",
       "    .dataframe thead th {\n",
       "        text-align: right;\n",
       "    }\n",
       "</style>\n",
       "<table border=\"1\" class=\"dataframe\">\n",
       "  <thead>\n",
       "    <tr style=\"text-align: right;\">\n",
       "      <th></th>\n",
       "      <th>domain</th>\n",
       "      <th>phylum</th>\n",
       "      <th>class</th>\n",
       "      <th>order</th>\n",
       "      <th>family</th>\n",
       "      <th>genus</th>\n",
       "      <th>species</th>\n",
       "    </tr>\n",
       "    <tr>\n",
       "      <th>gid</th>\n",
       "      <th></th>\n",
       "      <th></th>\n",
       "      <th></th>\n",
       "      <th></th>\n",
       "      <th></th>\n",
       "      <th></th>\n",
       "      <th></th>\n",
       "    </tr>\n",
       "  </thead>\n",
       "  <tbody>\n",
       "    <tr>\n",
       "      <th>G000005825</th>\n",
       "      <td>Bacteria</td>\n",
       "      <td>Firmicutes</td>\n",
       "      <td>Bacilli</td>\n",
       "      <td>Bacillales</td>\n",
       "      <td>Bacillaceae_D</td>\n",
       "      <td>Bacillus_S</td>\n",
       "      <td>Bacillus_S pseudofirmus</td>\n",
       "    </tr>\n",
       "    <tr>\n",
       "      <th>G000006605</th>\n",
       "      <td>Bacteria</td>\n",
       "      <td>Actinobacteria</td>\n",
       "      <td>Actinobacteria</td>\n",
       "      <td>Corynebacteriales</td>\n",
       "      <td>Corynebacteriaceae</td>\n",
       "      <td>Corynebacterium</td>\n",
       "      <td>Corynebacterium jeikeium</td>\n",
       "    </tr>\n",
       "    <tr>\n",
       "      <th>G000006725</th>\n",
       "      <td>Bacteria</td>\n",
       "      <td>Proteobacteria</td>\n",
       "      <td>Gammaproteobacteria</td>\n",
       "      <td>Xanthomonadales</td>\n",
       "      <td>Xanthomonadaceae</td>\n",
       "      <td>Xylella</td>\n",
       "      <td>Xylella fastidiosa</td>\n",
       "    </tr>\n",
       "    <tr>\n",
       "      <th>G000006745</th>\n",
       "      <td>Bacteria</td>\n",
       "      <td>Proteobacteria</td>\n",
       "      <td>Gammaproteobacteria</td>\n",
       "      <td>Enterobacterales</td>\n",
       "      <td>Vibrionaceae</td>\n",
       "      <td>Vibrio</td>\n",
       "      <td>Vibrio cholerae</td>\n",
       "    </tr>\n",
       "    <tr>\n",
       "      <th>G000006785</th>\n",
       "      <td>Bacteria</td>\n",
       "      <td>Firmicutes</td>\n",
       "      <td>Bacilli</td>\n",
       "      <td>Lactobacillales</td>\n",
       "      <td>Streptococcaceae</td>\n",
       "      <td>Streptococcus</td>\n",
       "      <td>Streptococcus pyogenes</td>\n",
       "    </tr>\n",
       "  </tbody>\n",
       "</table>\n",
       "</div>"
      ],
      "text/plain": [
       "              domain          phylum                class              order  \\\n",
       "gid                                                                            \n",
       "G000005825  Bacteria      Firmicutes              Bacilli         Bacillales   \n",
       "G000006605  Bacteria  Actinobacteria       Actinobacteria  Corynebacteriales   \n",
       "G000006725  Bacteria  Proteobacteria  Gammaproteobacteria    Xanthomonadales   \n",
       "G000006745  Bacteria  Proteobacteria  Gammaproteobacteria   Enterobacterales   \n",
       "G000006785  Bacteria      Firmicutes              Bacilli    Lactobacillales   \n",
       "\n",
       "                        family            genus                   species  \n",
       "gid                                                                        \n",
       "G000005825       Bacillaceae_D       Bacillus_S   Bacillus_S pseudofirmus  \n",
       "G000006605  Corynebacteriaceae  Corynebacterium  Corynebacterium jeikeium  \n",
       "G000006725    Xanthomonadaceae          Xylella        Xylella fastidiosa  \n",
       "G000006745        Vibrionaceae           Vibrio           Vibrio cholerae  \n",
       "G000006785    Streptococcaceae    Streptococcus    Streptococcus pyogenes  "
      ]
     },
     "execution_count": 232,
     "metadata": {},
     "output_type": "execute_result"
    }
   ],
   "source": [
    "df = df.loc[sorted(defined_taxa)]\n",
    "df = df[~df.index.duplicated(keep='first')]\n",
    "df.head()"
   ]
  },
  {
   "cell_type": "markdown",
   "metadata": {},
   "source": [
    "Function to compute cladistics"
   ]
  },
  {
   "cell_type": "code",
   "execution_count": 167,
   "metadata": {},
   "outputs": [],
   "source": [
    "def compute_cladistics(tree, df):\n",
    "    data = []\n",
    "    ranks = list(df)\n",
    "    for rank in ranks:\n",
    "        used_taxa = set()\n",
    "        for taxon in df[rank].unique():\n",
    "            if taxon in used_taxa:\n",
    "                raise ValueError('duplicated taxon name %s.' % taxon)\n",
    "            used_taxa.add(taxon)\n",
    "            # skip undefined taxa\n",
    "            if pd.isnull(taxon):\n",
    "                continue\n",
    "            row = [taxon, rank]\n",
    "            # find all tips that match this rank\n",
    "            func = lambda x: x.is_tip() and df[rank][x.name] == taxon\n",
    "            tips = [x for x in tree.find_by_func(func)]\n",
    "            # single taxon\n",
    "            if len(tips) == 1:\n",
    "                row.extend([1, 1, tips[0].name, 'uni'])\n",
    "            # multiple taxa\n",
    "            else:\n",
    "                # locate lowest common ancestor (LCA) of the tips\n",
    "                lca = tree.lca(tips)\n",
    "                members = len(tips)\n",
    "                # count total number of descendants of the LCA\n",
    "                descendants = len(lca.subset())\n",
    "                # test whether this clade is a monophyletic group\n",
    "                phyly = 'mono' if members == descendants else 'poly'\n",
    "                row.extend([members, descendants, lca.name, phyly])\n",
    "            data.append(row)\n",
    "    columns = ['taxon', 'rank', 'members', 'descendants', 'lca', 'phyly']\n",
    "    res = pd.DataFrame(data, columns=columns)\n",
    "    res['rank'] = pd.Categorical(res['rank'], ranks)\n",
    "    return res.sort_values(['rank', 'taxon'])"
   ]
  },
  {
   "cell_type": "markdown",
   "metadata": {},
   "source": [
    "Compute cladistics for the WoL tree based on the GTDB taxonomy."
   ]
  },
  {
   "cell_type": "code",
   "execution_count": 168,
   "metadata": {},
   "outputs": [],
   "source": [
    "wol_tree_defined = wol_tree.shear(defined_taxa)"
   ]
  },
  {
   "cell_type": "code",
   "execution_count": 170,
   "metadata": {},
   "outputs": [],
   "source": [
    "cladistics = compute_cladistics(wol_tree_defined, df)"
   ]
  },
  {
   "cell_type": "code",
   "execution_count": 173,
   "metadata": {},
   "outputs": [],
   "source": [
    "cladistics.to_csv('cladistics.tsv', sep='\\t')"
   ]
  },
  {
   "cell_type": "code",
   "execution_count": 186,
   "metadata": {},
   "outputs": [],
   "source": [
    "phylies = {}\n",
    "for rank in ranks:\n",
    "    phylies[rank] = cladistics.query('rank == \"%s\"' % rank)['phyly'].value_counts().to_dict()"
   ]
  },
  {
   "cell_type": "code",
   "execution_count": 187,
   "metadata": {},
   "outputs": [
    {
     "data": {
      "text/html": [
       "<div>\n",
       "<style scoped>\n",
       "    .dataframe tbody tr th:only-of-type {\n",
       "        vertical-align: middle;\n",
       "    }\n",
       "\n",
       "    .dataframe tbody tr th {\n",
       "        vertical-align: top;\n",
       "    }\n",
       "\n",
       "    .dataframe thead th {\n",
       "        text-align: right;\n",
       "    }\n",
       "</style>\n",
       "<table border=\"1\" class=\"dataframe\">\n",
       "  <thead>\n",
       "    <tr style=\"text-align: right;\">\n",
       "      <th></th>\n",
       "      <th>mono</th>\n",
       "      <th>uni</th>\n",
       "      <th>poly</th>\n",
       "    </tr>\n",
       "  </thead>\n",
       "  <tbody>\n",
       "    <tr>\n",
       "      <th>domain</th>\n",
       "      <td>1</td>\n",
       "      <td>0</td>\n",
       "      <td>0</td>\n",
       "    </tr>\n",
       "    <tr>\n",
       "      <th>phylum</th>\n",
       "      <td>51</td>\n",
       "      <td>25</td>\n",
       "      <td>3</td>\n",
       "    </tr>\n",
       "    <tr>\n",
       "      <th>class</th>\n",
       "      <td>125</td>\n",
       "      <td>53</td>\n",
       "      <td>7</td>\n",
       "    </tr>\n",
       "    <tr>\n",
       "      <th>order</th>\n",
       "      <td>302</td>\n",
       "      <td>147</td>\n",
       "      <td>11</td>\n",
       "    </tr>\n",
       "    <tr>\n",
       "      <th>family</th>\n",
       "      <td>623</td>\n",
       "      <td>371</td>\n",
       "      <td>11</td>\n",
       "    </tr>\n",
       "    <tr>\n",
       "      <th>genus</th>\n",
       "      <td>1333</td>\n",
       "      <td>1992</td>\n",
       "      <td>13</td>\n",
       "    </tr>\n",
       "    <tr>\n",
       "      <th>species</th>\n",
       "      <td>715</td>\n",
       "      <td>4320</td>\n",
       "      <td>3</td>\n",
       "    </tr>\n",
       "  </tbody>\n",
       "</table>\n",
       "</div>"
      ],
      "text/plain": [
       "         mono   uni  poly\n",
       "domain      1     0     0\n",
       "phylum     51    25     3\n",
       "class     125    53     7\n",
       "order     302   147    11\n",
       "family    623   371    11\n",
       "genus    1333  1992    13\n",
       "species   715  4320     3"
      ]
     },
     "execution_count": 187,
     "metadata": {},
     "output_type": "execute_result"
    }
   ],
   "source": [
    "phylies = pd.DataFrame.from_dict(phylies, orient='index').fillna(0).astype(int)\n",
    "phylies = phylies.loc[ranks]\n",
    "phylies"
   ]
  },
  {
   "cell_type": "code",
   "execution_count": 237,
   "metadata": {},
   "outputs": [
    {
     "data": {
      "image/png": "[encoded data removed]",
      "text/plain": [
       "<matplotlib.figure.Figure at 0x1a29723cf8>"
      ]
     },
     "metadata": {},
     "output_type": "display_data"
    }
   ],
   "source": [
    "phylies['rate'] = phylies['mono'] / (phylies['mono'] + phylies['poly'])\n",
    "phylies['rate'].plot.bar(ylim=(0.9, 1.0), title='Proportion of monophyletic groups');"
   ]
  },
  {
   "cell_type": "code",
   "execution_count": null,
   "metadata": {},
   "outputs": [],
   "source": []
  }
 ],
 "metadata": {
  "hide_input": false,
  "kernelspec": {
   "display_name": "Python 3",
   "language": "python",
   "name": "python3"
  },
  "language_info": {
   "codemirror_mode": {
    "name": "ipython",
    "version": 3
   },
   "file_extension": ".py",
   "mimetype": "text/x-python",
   "name": "python",
   "nbconvert_exporter": "python",
   "pygments_lexer": "ipython3",
   "version": "3.6.4"
  }
 },
 "nbformat": 4,
 "nbformat_minor": 2
}
