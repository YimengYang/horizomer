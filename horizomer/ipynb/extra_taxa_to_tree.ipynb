{
 "cells": [
  {
   "cell_type": "markdown",
   "metadata": {},
   "source": [
    "## Match extra genomes to closest leaves in the tree"
   ]
  },
  {
   "cell_type": "markdown",
   "metadata": {},
   "source": [
    "The Tree of Life contains 10575 taxa. This script attempts to map the remaining 75625 genomes to the tree by assigning them to their closest taxa by MinHash distance."
   ]
  },
  {
   "cell_type": "markdown",
   "metadata": {},
   "source": [
    "Dependencies"
   ]
  },
  {
   "cell_type": "code",
   "execution_count": 145,
   "metadata": {
    "collapsed": true
   },
   "outputs": [],
   "source": [
    "import numpy as np\n",
    "import pandas as pd\n",
    "import seaborn as sns\n",
    "import matplotlib as mpl\n",
    "import matplotlib.pyplot as plt\n",
    "from skbio.tree import TreeNode\n",
    "from skbio.stats.distance import DistanceMatrix"
   ]
  },
  {
   "cell_type": "code",
   "execution_count": 150,
   "metadata": {
    "collapsed": true
   },
   "outputs": [],
   "source": [
    "%matplotlib inline"
   ]
  },
  {
   "cell_type": "markdown",
   "metadata": {},
   "source": [
    "Load distance matrix"
   ]
  },
  {
   "cell_type": "code",
   "execution_count": 2,
   "metadata": {},
   "outputs": [
    {
     "data": {
      "text/plain": [
       "86200"
      ]
     },
     "execution_count": 2,
     "metadata": {},
     "output_type": "execute_result"
    }
   ],
   "source": [
    "dm = DistanceMatrix.read('prokaryotes.dm.bz2')\n",
    "dm.shape[0]"
   ]
  },
  {
   "cell_type": "code",
   "execution_count": 22,
   "metadata": {
    "collapsed": true
   },
   "outputs": [],
   "source": [
    "allg = dm.ids"
   ]
  },
  {
   "cell_type": "code",
   "execution_count": 5,
   "metadata": {},
   "outputs": [
    {
     "data": {
      "text/plain": [
       "10575"
      ]
     },
     "execution_count": 5,
     "metadata": {},
     "output_type": "execute_result"
    }
   ],
   "source": [
    "with open('taxa.txt', 'r') as f:\n",
    "    leaves = f.read().splitlines()\n",
    "len(leaves)"
   ]
  },
  {
   "cell_type": "code",
   "execution_count": 6,
   "metadata": {},
   "outputs": [
    {
     "data": {
      "text/plain": [
       "75625"
      ]
     },
     "execution_count": 6,
     "metadata": {},
     "output_type": "execute_result"
    }
   ],
   "source": [
    "extras = set(dm.ids) - set(leaves)\n",
    "len(extras)"
   ]
  },
  {
   "cell_type": "markdown",
   "metadata": {},
   "source": [
    "Get ID of the closest leaf and MinHash distances of top 10 closest leaves for each extra genome."
   ]
  },
  {
   "cell_type": "code",
   "execution_count": 16,
   "metadata": {},
   "outputs": [],
   "source": [
    "neighbors = {}\n",
    "top10mashes = {}\n",
    "for extra in sorted(extras):\n",
    "    leaf2mash = pd.Series(dm[extra], index=allg).loc[leaves]\n",
    "    for leaf, mash in leaf2mash.sort_values()[1:].iteritems():\n",
    "        if extra not in neighbors:\n",
    "            neighbors[extra] = leaf\n",
    "            top10mashes[extra] = []\n",
    "        top10mashes[extra].append(mash)\n",
    "        if len(top10mashes[extra]) == 10:\n",
    "            break"
   ]
  },
  {
   "cell_type": "code",
   "execution_count": 19,
   "metadata": {
    "collapsed": true
   },
   "outputs": [],
   "source": [
    "with open('summary.txt', 'w') as f:\n",
    "    for g in sorted(extras):\n",
    "        f.write('%s\\n' % '\\t'.join([g, neighbors[g]] + [str(x) for x in top10mashes[g]]))"
   ]
  },
  {
   "cell_type": "markdown",
   "metadata": {},
   "source": [
    "Distribution of MinHash distance from closest leaf per extra genome"
   ]
  },
  {
   "cell_type": "code",
   "execution_count": 157,
   "metadata": {
    "collapsed": true
   },
   "outputs": [],
   "source": [
    "data = [v[0] for k, v in top10mashes.items()]"
   ]
  },
  {
   "cell_type": "code",
   "execution_count": 158,
   "metadata": {},
   "outputs": [
    {
     "data": {
      "image/png": "[encoded data removed]",
      "text/plain": [
       "<matplotlib.figure.Figure at 0x7f905318b470>"
      ]
     },
     "metadata": {},
     "output_type": "display_data"
    }
   ],
   "source": [
    "plt.hist(data, bins=50)\n",
    "plt.yscale('log', nonposy='clip')"
   ]
  },
  {
   "cell_type": "code",
   "execution_count": 96,
   "metadata": {},
   "outputs": [
    {
     "data": {
      "text/plain": [
       "75601"
      ]
     },
     "execution_count": 96,
     "metadata": {},
     "output_type": "execute_result"
    }
   ],
   "source": [
    "n = len([x for x in data if x < 0.3])\n",
    "n"
   ]
  },
  {
   "cell_type": "code",
   "execution_count": 98,
   "metadata": {},
   "outputs": [
    {
     "name": "stdout",
     "output_type": "stream",
     "text": [
      "75601 (0.99968%) extra genomes have closest MinHash distance < 0.3.\n"
     ]
    }
   ],
   "source": [
    "print('%d (%.5f%%) extra genomes have closest MinHash distance < 0.3.' % (n, n / len(data)))"
   ]
  },
  {
   "cell_type": "markdown",
   "metadata": {},
   "source": [
    "Deal with genomes without neighbor (MinHash = 1.0)."
   ]
  },
  {
   "cell_type": "code",
   "execution_count": 102,
   "metadata": {},
   "outputs": [
    {
     "data": {
      "text/plain": [
       "24"
      ]
     },
     "execution_count": 102,
     "metadata": {},
     "output_type": "execute_result"
    }
   ],
   "source": [
    "len([x for x in data if x == 1.0])"
   ]
  },
  {
   "cell_type": "code",
   "execution_count": 106,
   "metadata": {},
   "outputs": [
    {
     "name": "stdout",
     "output_type": "stream",
     "text": [
      "['G000190395', 'G000219195', 'G000220965', 'G000398105', 'G000485435', 'G000708735', 'G001129085', 'G001144025', 'G001144865', 'G001156845', 'G001199935', 'G001318645', 'G001319485', 'G001341675', 'G001345435', 'G001469435', 'G001508715', 'G001549365', 'G001549395', 'G001549515', 'G001563995', 'G001724075', 'G900010165', 'G900014395']\n"
     ]
    }
   ],
   "source": [
    "nomatch = set([k for k, v in top10mashes.items() if v[0] == 1.0])\n",
    "print(sorted(nomatch))"
   ]
  },
  {
   "cell_type": "code",
   "execution_count": 107,
   "metadata": {},
   "outputs": [
    {
     "data": {
      "text/plain": [
       "75601"
      ]
     },
     "execution_count": 107,
     "metadata": {},
     "output_type": "execute_result"
    }
   ],
   "source": [
    "wmatch = extras - nomatch\n",
    "len(wmatch)"
   ]
  },
  {
   "cell_type": "markdown",
   "metadata": {},
   "source": [
    "Distribution of number of closest extra genomes per leaf"
   ]
  },
  {
   "cell_type": "code",
   "execution_count": 20,
   "metadata": {},
   "outputs": [
    {
     "data": {
      "text/plain": [
       "4724"
      ]
     },
     "execution_count": 20,
     "metadata": {},
     "output_type": "execute_result"
    }
   ],
   "source": [
    "leaf2extra = {}\n",
    "for extra, leaf in neighbors.items():\n",
    "    if leaf in leaf2extra:\n",
    "        leaf2extra[leaf].add(extra)\n",
    "    else:\n",
    "        leaf2extra[leaf] = set([extra])\n",
    "len(leaf2extra)"
   ]
  },
  {
   "cell_type": "code",
   "execution_count": 75,
   "metadata": {},
   "outputs": [
    {
     "name": "stdout",
     "output_type": "stream",
     "text": [
      "Top 10 most neighbored leaves:\n",
      "7406\tG000344275\tStreptococcus oralis subsp. tigurinus AZ_3a\n",
      "5153\tG000340435\tMycobacterium haemophilum DSM 44634\n",
      "3755\tG000006925\tShigella flexneri 2a str. 301\n",
      "2695\tG000009865\tStaphylococcus haemolyticus JCSC1435\n",
      "1870\tG001068545\tStaphylococcus epidermidis\n",
      "1798\tG000191145\tAcinetobacter pittii PHEA-2\n",
      "1725\tG000026345\tEscherichia coli IAI39\n",
      "1657\tG000648515\tCitrobacter freundii CFNIH1\n",
      "1590\tG000455385\tPseudomonas alcaligenes OT 69\n",
      "994\tG000247895\tRaoultella ornithinolytica 10-5246\n"
     ]
    }
   ],
   "source": [
    "print('Top 10 most neighbored leaves:')\n",
    "i = 1\n",
    "for leaf in sorted(leaf2extra, key=lambda x: len(leaf2extra[x]), reverse=True):\n",
    "    print('\\t'.join((str(len(leaf2extra[leaf])), leaf, names[leaf])))\n",
    "    if i == 10:\n",
    "        break\n",
    "    i += 1"
   ]
  },
  {
   "cell_type": "code",
   "execution_count": 153,
   "metadata": {},
   "outputs": [],
   "source": [
    "data = [len(v) for k, v in leaf2extra.items()]"
   ]
  },
  {
   "cell_type": "code",
   "execution_count": 155,
   "metadata": {},
   "outputs": [
    {
     "data": {
      "image/png": "[encoded data removed]",
      "text/plain": [
       "<matplotlib.figure.Figure at 0x7f906521e9e8>"
      ]
     },
     "metadata": {},
     "output_type": "display_data"
    }
   ],
   "source": [
    "plt.hist(data, bins=np.logspace(np.log10(1),np.log10(10000), 9))\n",
    "plt.gca().set_xscale('log')\n",
    "plt.yscale('log', nonposy='clip')"
   ]
  },
  {
   "cell_type": "markdown",
   "metadata": {},
   "source": [
    "Taxonomic analysis"
   ]
  },
  {
   "cell_type": "code",
   "execution_count": 53,
   "metadata": {},
   "outputs": [
    {
     "data": {
      "text/plain": [
       "86200"
      ]
     },
     "execution_count": 53,
     "metadata": {},
     "output_type": "execute_result"
    }
   ],
   "source": [
    "with open('orgn_names.tsv', 'r') as f:\n",
    "    names = dict(x.split('\\t') for x in f.read().splitlines())\n",
    "len(names)"
   ]
  },
  {
   "cell_type": "code",
   "execution_count": 54,
   "metadata": {},
   "outputs": [
    {
     "data": {
      "text/plain": [
       "86200"
      ]
     },
     "execution_count": 54,
     "metadata": {},
     "output_type": "execute_result"
    }
   ],
   "source": [
    "ranks = pd.read_table('rank_names.tsv', index_col=0, header=0)\n",
    "ranks.shape[0]"
   ]
  },
  {
   "cell_type": "code",
   "execution_count": 115,
   "metadata": {},
   "outputs": [],
   "source": [
    "sames = {x: 0 for x in ranks.columns}\n",
    "for g in sorted(wmatch):\n",
    "    for rank in sames:\n",
    "        if ranks[rank][g] == ranks[rank][neighbors[g]]:\n",
    "            sames[rank] += 1"
   ]
  },
  {
   "cell_type": "code",
   "execution_count": 161,
   "metadata": {
    "scrolled": true
   },
   "outputs": [
    {
     "data": {
      "text/html": [
       "<div>\n",
       "<style>\n",
       "    .dataframe thead tr:only-child th {\n",
       "        text-align: right;\n",
       "    }\n",
       "\n",
       "    .dataframe thead th {\n",
       "        text-align: left;\n",
       "    }\n",
       "\n",
       "    .dataframe tbody tr th {\n",
       "        vertical-align: top;\n",
       "    }\n",
       "</style>\n",
       "<table border=\"1\" class=\"dataframe\">\n",
       "  <thead>\n",
       "    <tr style=\"text-align: right;\">\n",
       "      <th></th>\n",
       "      <th>rank</th>\n",
       "      <th>number</th>\n",
       "      <th>percentage</th>\n",
       "    </tr>\n",
       "  </thead>\n",
       "  <tbody>\n",
       "    <tr>\n",
       "      <th>0</th>\n",
       "      <td>kingdom</td>\n",
       "      <td>75418</td>\n",
       "      <td>99.757940</td>\n",
       "    </tr>\n",
       "    <tr>\n",
       "      <th>1</th>\n",
       "      <td>phylum</td>\n",
       "      <td>73769</td>\n",
       "      <td>97.576752</td>\n",
       "    </tr>\n",
       "    <tr>\n",
       "      <th>2</th>\n",
       "      <td>class</td>\n",
       "      <td>72583</td>\n",
       "      <td>96.007989</td>\n",
       "    </tr>\n",
       "    <tr>\n",
       "      <th>3</th>\n",
       "      <td>order</td>\n",
       "      <td>71383</td>\n",
       "      <td>94.420709</td>\n",
       "    </tr>\n",
       "    <tr>\n",
       "      <th>4</th>\n",
       "      <td>family</td>\n",
       "      <td>70796</td>\n",
       "      <td>93.644264</td>\n",
       "    </tr>\n",
       "    <tr>\n",
       "      <th>5</th>\n",
       "      <td>genus</td>\n",
       "      <td>60973</td>\n",
       "      <td>80.651050</td>\n",
       "    </tr>\n",
       "    <tr>\n",
       "      <th>6</th>\n",
       "      <td>species</td>\n",
       "      <td>13348</td>\n",
       "      <td>17.655851</td>\n",
       "    </tr>\n",
       "  </tbody>\n",
       "</table>\n",
       "</div>"
      ],
      "text/plain": [
       "      rank  number  percentage\n",
       "0  kingdom   75418   99.757940\n",
       "1   phylum   73769   97.576752\n",
       "2    class   72583   96.007989\n",
       "3    order   71383   94.420709\n",
       "4   family   70796   93.644264\n",
       "5    genus   60973   80.651050\n",
       "6  species   13348   17.655851"
      ]
     },
     "execution_count": 161,
     "metadata": {},
     "output_type": "execute_result"
    }
   ],
   "source": [
    "df = pd.DataFrame.from_dict(sames, orient='index')\n",
    "df.reset_index(inplace=True)\n",
    "df.columns = ['rank', 'number']\n",
    "df['percentage'] = df['number'] / len(wmatch) * 100\n",
    "df"
   ]
  },
  {
   "cell_type": "code",
   "execution_count": 152,
   "metadata": {},
   "outputs": [
    {
     "data": {
      "image/png": "[encoded data removed]",
      "text/plain": [
       "<matplotlib.figure.Figure at 0x7f90540b6898>"
      ]
     },
     "metadata": {},
     "output_type": "display_data"
    }
   ],
   "source": [
    "ax = sns.barplot(x='rank', y='percentage', data=df);"
   ]
  },
  {
   "cell_type": "code",
   "execution_count": 173,
   "metadata": {},
   "outputs": [
    {
     "name": "stdout",
     "output_type": "stream",
     "text": [
      "62253 genomes' closest neighbors were assigned to different species.\n"
     ]
    }
   ],
   "source": [
    "diff_spp = {}\n",
    "for g in sorted(wmatch):\n",
    "    if ranks['species'][g] != ranks['species'][neighbors[g]]:\n",
    "        diff_spp[g] = ranks['species'][g]\n",
    "print('%d genomes\\' closest neighbors were assigned to different species.' % len(diff_spp))"
   ]
  },
  {
   "cell_type": "code",
   "execution_count": 174,
   "metadata": {},
   "outputs": [],
   "source": [
    "sp_counts = ranks['species'].value_counts().to_dict()"
   ]
  },
  {
   "cell_type": "code",
   "execution_count": 175,
   "metadata": {},
   "outputs": [
    {
     "name": "stdout",
     "output_type": "stream",
     "text": [
      "10847 of them were so because the current species is the only representative in the dataset.\n"
     ]
    }
   ],
   "source": [
    "n = 0 \n",
    "for g, sp in diff_spp.items():\n",
    "    if sp_counts[sp] == 1:\n",
    "        n += 1\n",
    "print('%d of them were so because the current species is the only representative in the '\n",
    "      'dataset.' % n)"
   ]
  },
  {
   "cell_type": "markdown",
   "metadata": {},
   "source": [
    "Add extra genomes into tree as multifurcating leaves from their closest leaf."
   ]
  },
  {
   "cell_type": "code",
   "execution_count": 188,
   "metadata": {},
   "outputs": [
    {
     "data": {
      "text/plain": [
       "10575"
      ]
     },
     "execution_count": 188,
     "metadata": {},
     "output_type": "execute_result"
    }
   ],
   "source": [
    "tree = TreeNode.read('astral.MR.rooted.nid.nwk')\n",
    "tree.count(tips=True)"
   ]
  },
  {
   "cell_type": "code",
   "execution_count": 189,
   "metadata": {},
   "outputs": [
    {
     "data": {
      "text/plain": [
       "86176"
      ]
     },
     "execution_count": 189,
     "metadata": {},
     "output_type": "execute_result"
    }
   ],
   "source": [
    "for leaf, extras in leaf2extra.items():\n",
    "    tree.find(leaf).parent.extend([TreeNode(x) for x in extras if x not in nomatch])\n",
    "tree.count(tips=True)"
   ]
  },
  {
   "cell_type": "code",
   "execution_count": 190,
   "metadata": {},
   "outputs": [
    {
     "name": "stdout",
     "output_type": "stream",
     "text": [
      "1:N2 0.75:N3\n"
     ]
    }
   ],
   "source": [
    "# hard-coded: N2 is Archaea, tree.childrenia\n",
    "print(tree.children[0].name, tree.children[1].name)"
   ]
  },
  {
   "cell_type": "code",
   "execution_count": 191,
   "metadata": {},
   "outputs": [
    {
     "data": {
      "text/plain": [
       "86200"
      ]
     },
     "execution_count": 191,
     "metadata": {},
     "output_type": "execute_result"
    }
   ],
   "source": [
    "for g in nomatch:\n",
    "    if ranks['kingdom'][g] == 'Archaea':\n",
    "        tree.children[0].extend([TreeNode(g)])\n",
    "    elif ranks['kingdom'][g] == 'Bacteria':\n",
    "        tree.children[1].extend([TreeNode(g)])\n",
    "tree.count(tips=True)"
   ]
  },
  {
   "cell_type": "code",
   "execution_count": 192,
   "metadata": {},
   "outputs": [
    {
     "data": {
      "text/plain": [
       "'full.nwk'"
      ]
     },
     "execution_count": 192,
     "metadata": {},
     "output_type": "execute_result"
    }
   ],
   "source": [
    "tree.write('full.nwk')"
   ]
  },
  {
   "cell_type": "code",
   "execution_count": null,
   "metadata": {
    "collapsed": true
   },
   "outputs": [],
   "source": []
  }
 ],
 "metadata": {
  "anaconda-cloud": {},
  "kernelspec": {
   "display_name": "Python 3",
   "language": "python",
   "name": "python3"
  },
  "language_info": {
   "codemirror_mode": {
    "name": "ipython",
    "version": 3
   },
   "file_extension": ".py",
   "mimetype": "text/x-python",
   "name": "python",
   "nbconvert_exporter": "python",
   "pygments_lexer": "ipython3",
   "version": "3.6.3"
  }
 },
 "nbformat": 4,
 "nbformat_minor": 2
}
