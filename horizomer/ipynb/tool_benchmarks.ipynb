{
 "cells": [
  {
   "cell_type": "markdown",
   "metadata": {},
   "source": [
    "# Plotting Benchmark Results"
   ]
  },
  {
   "cell_type": "markdown",
   "metadata": {},
   "source": [
    "### Preparation"
   ]
  },
  {
   "cell_type": "markdown",
   "metadata": {},
   "source": [
    "#### Dependencies"
   ]
  },
  {
   "cell_type": "code",
   "execution_count": 1,
   "metadata": {},
   "outputs": [],
   "source": [
    "import numpy as np\n",
    "import scipy as sp\n",
    "import pandas as pd\n",
    "import seaborn as sns\n",
    "import matplotlib as mpl\n",
    "import matplotlib.pyplot as plt"
   ]
  },
  {
   "cell_type": "code",
   "execution_count": 2,
   "metadata": {},
   "outputs": [],
   "source": [
    "from sklearn.linear_model import LinearRegression"
   ]
  },
  {
   "cell_type": "code",
   "execution_count": 3,
   "metadata": {},
   "outputs": [],
   "source": [
    "from matplotlib.lines import Line2D\n",
    "from mpl_toolkits.mplot3d import Axes3D"
   ]
  },
  {
   "cell_type": "markdown",
   "metadata": {},
   "source": [
    "#### R dependencies (obsolete)"
   ]
  },
  {
   "cell_type": "code",
   "execution_count": 217,
   "metadata": {},
   "outputs": [],
   "source": [
    "%load_ext rpy2.ipython"
   ]
  },
  {
   "cell_type": "code",
   "execution_count": 218,
   "metadata": {},
   "outputs": [],
   "source": [
    "import warnings\n",
    "from rpy2.rinterface import RRuntimeWarning\n",
    "warnings.filterwarnings('ignore', category=RRuntimeWarning)"
   ]
  },
  {
   "cell_type": "code",
   "execution_count": 219,
   "metadata": {},
   "outputs": [
    {
     "data": {
      "text/plain": [
       "array([1], dtype=int32)"
      ]
     },
     "execution_count": 219,
     "metadata": {},
     "output_type": "execute_result"
    }
   ],
   "source": [
    "%R require(MASS)\n",
    "%R require(ggplot2)\n",
    "%R require(ggpmisc)\n",
    "%R require(reshape2)\n",
    "%R require(rgl)"
   ]
  },
  {
   "cell_type": "markdown",
   "metadata": {},
   "source": [
    "#### Graph style"
   ]
  },
  {
   "cell_type": "code",
   "execution_count": 4,
   "metadata": {},
   "outputs": [],
   "source": [
    "%matplotlib inline"
   ]
  },
  {
   "cell_type": "code",
   "execution_count": 5,
   "metadata": {},
   "outputs": [],
   "source": [
    "mpl.rc('figure', figsize=(4,4))"
   ]
  },
  {
   "cell_type": "code",
   "execution_count": 6,
   "metadata": {},
   "outputs": [],
   "source": [
    "mpl.rc('lines', markersize=4)"
   ]
  },
  {
   "cell_type": "markdown",
   "metadata": {},
   "source": [
    "#### Helper functions"
   ]
  },
  {
   "cell_type": "markdown",
   "metadata": {},
   "source": [
    "Convert \"HH:MM:SS\" string to seconds"
   ]
  },
  {
   "cell_type": "code",
   "execution_count": 7,
   "metadata": {},
   "outputs": [],
   "source": [
    "def hms2s(hms):\n",
    "    return sum(float(x) * 60 ** i for i, x in enumerate(reversed(hms.split(':'))))"
   ]
  },
  {
   "cell_type": "markdown",
   "metadata": {},
   "source": [
    "Save figure to PDF"
   ]
  },
  {
   "cell_type": "code",
   "execution_count": 8,
   "metadata": {},
   "outputs": [],
   "source": [
    "def savepdf(fig, fp):\n",
    "    fig.tight_layout()\n",
    "    fig.savefig(fp, bbox_to_inches='tight')"
   ]
  },
  {
   "cell_type": "markdown",
   "metadata": {
    "heading_collapsed": true
   },
   "source": [
    "### Input data size"
   ]
  },
  {
   "cell_type": "markdown",
   "metadata": {
    "heading_collapsed": true,
    "hidden": true
   },
   "source": [
    "#### Genomes"
   ]
  },
  {
   "cell_type": "markdown",
   "metadata": {
    "hidden": true
   },
   "source": [
    "Date retrieved from: [https://www.ncbi.nlm.nih.gov/refseq/statistics/](https://www.ncbi.nlm.nih.gov/refseq/statistics/)."
   ]
  },
  {
   "cell_type": "code",
   "execution_count": 47,
   "metadata": {
    "hidden": true
   },
   "outputs": [
    {
     "data": {
      "text/html": [
       "<div>\n",
       "<style scoped>\n",
       "    .dataframe tbody tr th:only-of-type {\n",
       "        vertical-align: middle;\n",
       "    }\n",
       "\n",
       "    .dataframe tbody tr th {\n",
       "        vertical-align: top;\n",
       "    }\n",
       "\n",
       "    .dataframe thead th {\n",
       "        text-align: right;\n",
       "    }\n",
       "</style>\n",
       "<table border=\"1\" class=\"dataframe\">\n",
       "  <thead>\n",
       "    <tr style=\"text-align: right;\">\n",
       "      <th></th>\n",
       "      <th>month</th>\n",
       "      <th>day</th>\n",
       "      <th>year</th>\n",
       "      <th>species</th>\n",
       "      <th>total</th>\n",
       "      <th>nucleotides</th>\n",
       "      <th>transcripts</th>\n",
       "      <th>proteins</th>\n",
       "    </tr>\n",
       "    <tr>\n",
       "      <th>index</th>\n",
       "      <th></th>\n",
       "      <th></th>\n",
       "      <th></th>\n",
       "      <th></th>\n",
       "      <th></th>\n",
       "      <th></th>\n",
       "      <th></th>\n",
       "      <th></th>\n",
       "    </tr>\n",
       "  </thead>\n",
       "  <tbody>\n",
       "    <tr>\n",
       "      <th>1</th>\n",
       "      <td>Jun</td>\n",
       "      <td>30</td>\n",
       "      <td>2003</td>\n",
       "      <td>2005</td>\n",
       "      <td>1061675</td>\n",
       "      <td>64729</td>\n",
       "      <td>211803</td>\n",
       "      <td>785143</td>\n",
       "    </tr>\n",
       "    <tr>\n",
       "      <th>2</th>\n",
       "      <td>Oct</td>\n",
       "      <td>21</td>\n",
       "      <td>2003</td>\n",
       "      <td>2124</td>\n",
       "      <td>1097404</td>\n",
       "      <td>64805</td>\n",
       "      <td>201312</td>\n",
       "      <td>831287</td>\n",
       "    </tr>\n",
       "    <tr>\n",
       "      <th>3</th>\n",
       "      <td>Jan</td>\n",
       "      <td>14</td>\n",
       "      <td>2004</td>\n",
       "      <td>2218</td>\n",
       "      <td>1101244</td>\n",
       "      <td>58793</td>\n",
       "      <td>198043</td>\n",
       "      <td>844408</td>\n",
       "    </tr>\n",
       "    <tr>\n",
       "      <th>4</th>\n",
       "      <td>Mar</td>\n",
       "      <td>24</td>\n",
       "      <td>2004</td>\n",
       "      <td>2358</td>\n",
       "      <td>1193457</td>\n",
       "      <td>59395</td>\n",
       "      <td>204589</td>\n",
       "      <td>929473</td>\n",
       "    </tr>\n",
       "    <tr>\n",
       "      <th>5</th>\n",
       "      <td>May</td>\n",
       "      <td>2</td>\n",
       "      <td>2004</td>\n",
       "      <td>2395</td>\n",
       "      <td>1255613</td>\n",
       "      <td>60991</td>\n",
       "      <td>217164</td>\n",
       "      <td>977458</td>\n",
       "    </tr>\n",
       "  </tbody>\n",
       "</table>\n",
       "</div>"
      ],
      "text/plain": [
       "      month  day  year  species    total  nucleotides  transcripts  proteins\n",
       "index                                                                       \n",
       "1       Jun   30  2003     2005  1061675        64729       211803    785143\n",
       "2       Oct   21  2003     2124  1097404        64805       201312    831287\n",
       "3       Jan   14  2004     2218  1101244        58793       198043    844408\n",
       "4       Mar   24  2004     2358  1193457        59395       204589    929473\n",
       "5       May    2  2004     2395  1255613        60991       217164    977458"
      ]
     },
     "execution_count": 47,
     "metadata": {},
     "output_type": "execute_result"
    }
   ],
   "source": [
    "df = pd.read_table('data/ncbi.complete.tsv', index_col=0)\n",
    "df.head()"
   ]
  },
  {
   "cell_type": "code",
   "execution_count": 48,
   "metadata": {
    "hidden": true
   },
   "outputs": [],
   "source": [
    "df['date'] = pd.to_datetime(df['month'] + ' ' + df['day'].map(str) + ' ' + df['year'].map(str))"
   ]
  },
  {
   "cell_type": "code",
   "execution_count": 49,
   "metadata": {
    "hidden": true
   },
   "outputs": [],
   "source": [
    "df = df.query('date >= \"2015-09-01\"')"
   ]
  },
  {
   "cell_type": "code",
   "execution_count": 74,
   "metadata": {
    "hidden": true
   },
   "outputs": [
    {
     "data": {
      "text/plain": [
       "LinregressResult(slope=26.27793687320176, intercept=-19282893.544846494, rvalue=0.9970309043311375, pvalue=3.0082782521017387e-19, stderr=0.50737275441892304)"
      ]
     },
     "execution_count": 74,
     "metadata": {},
     "output_type": "execute_result"
    }
   ],
   "source": [
    "reg = sp.stats.linregress(df['date'].apply(mpl.dates.date2num).values,\n",
    "                          df['species'].values)\n",
    "reg"
   ]
  },
  {
   "cell_type": "code",
   "execution_count": 80,
   "metadata": {
    "hidden": true
   },
   "outputs": [
    {
     "data": {
      "image/png": "[encoded data removed]",
      "text/plain": [
       "<Figure size 288x288 with 1 Axes>"
      ]
     },
     "metadata": {},
     "output_type": "display_data"
    }
   ],
   "source": [
    "fig = plt.figure()\n",
    "ax = plt.gca()\n",
    "plt.plot(df['date'], df['species'], 'o')\n",
    "x = np.array(range(*[int(x) for x in plt.xlim()]))\n",
    "y = reg.intercept + reg.slope * x\n",
    "plt.xticks(rotation=45)\n",
    "plt.plot(x, y, '--')\n",
    "plt.text(0.1, 0.80, '$\\it{y} = %.3g %+.3g \\it{x}$\\n$\\it{R}^2 = %.3g$'\n",
    "         % (reg.intercept, reg.slope, reg.rvalue ** 2),\n",
    "         transform=ax.transAxes)\n",
    "plt.xlabel('Date')\n",
    "plt.ylabel('Number of species')\n",
    "fig.tight_layout()\n",
    "fig.savefig('ncbi.species.pdf', bbox_to_inches='tight')"
   ]
  },
  {
   "cell_type": "code",
   "execution_count": 85,
   "metadata": {
    "hidden": true
   },
   "outputs": [
    {
     "data": {
      "text/plain": [
       "68047.778894916177"
      ]
     },
     "execution_count": 85,
     "metadata": {},
     "output_type": "execute_result"
    }
   ],
   "source": [
    "# On March 07, 2017\n",
    "reg.intercept + reg.slope * mpl.dates.date2num(pd.to_datetime('2017-03-07'))"
   ]
  },
  {
   "cell_type": "code",
   "execution_count": 86,
   "metadata": {
    "hidden": true
   },
   "outputs": [
    {
     "data": {
      "text/plain": [
       "85522.606915596873"
      ]
     },
     "execution_count": 86,
     "metadata": {},
     "output_type": "execute_result"
    }
   ],
   "source": [
    "# On Jan. 01, 2019\n",
    "reg.intercept + reg.slope * mpl.dates.date2num(pd.to_datetime('2019-01-01'))"
   ]
  },
  {
   "cell_type": "code",
   "execution_count": null,
   "metadata": {
    "hidden": true
   },
   "outputs": [],
   "source": []
  },
  {
   "cell_type": "code",
   "execution_count": null,
   "metadata": {
    "hidden": true
   },
   "outputs": [],
   "source": [
    "fig = plt.figure()\n",
    "ax = plt.gca()\n",
    "plt.plot(df['Taxa'], df['Wall'], 'o')\n",
    "plt.xticks(df['Taxa'].unique())\n",
    "x = np.array(range(*[int(x) for x in plt.xlim()]))\n",
    "y = reg.intercept + reg.slope * x ** 1.4\n",
    "plt.plot(x, y, '--')\n",
    "plt.text(0.1, 0.65, '$\\it{y} = %.3g %+.3g \\it{x}^{1.4}$\\n$\\it{R}^2 = %.3g$'\n",
    "         % (reg.intercept, reg.slope, reg.rvalue ** 2),\n",
    "         transform=ax.transAxes)\n",
    "plt.xlabel('Number of sequences')\n",
    "plt.ylabel('Wall clock time (sec)')\n",
    "plt.text(0.1, 0.85, 'A', size=20, transform=ax.transAxes)\n",
    "plt.text(0.2, 0.85, '(RAxML)', size=12, transform=ax.transAxes)\n",
    "fig.tight_layout()\n",
    "fig.savefig('raxml.taxa.pdf', bbox_to_inches='tight')"
   ]
  },
  {
   "cell_type": "code",
   "execution_count": null,
   "metadata": {
    "hidden": true
   },
   "outputs": [],
   "source": []
  },
  {
   "cell_type": "code",
   "execution_count": null,
   "metadata": {
    "hidden": true
   },
   "outputs": [],
   "source": []
  },
  {
   "cell_type": "code",
   "execution_count": null,
   "metadata": {
    "hidden": true
   },
   "outputs": [],
   "source": []
  },
  {
   "cell_type": "code",
   "execution_count": null,
   "metadata": {
    "hidden": true
   },
   "outputs": [],
   "source": []
  },
  {
   "cell_type": "markdown",
   "metadata": {
    "hidden": true
   },
   "source": [
    "#### Genes"
   ]
  },
  {
   "cell_type": "markdown",
   "metadata": {
    "hidden": true
   },
   "source": [
    "Protein clusters present in 100 or more selected genomes"
   ]
  },
  {
   "cell_type": "code",
   "execution_count": 131,
   "metadata": {
    "hidden": true
   },
   "outputs": [
    {
     "data": {
      "text/html": [
       "<div>\n",
       "<style scoped>\n",
       "    .dataframe tbody tr th:only-of-type {\n",
       "        vertical-align: middle;\n",
       "    }\n",
       "\n",
       "    .dataframe tbody tr th {\n",
       "        vertical-align: top;\n",
       "    }\n",
       "\n",
       "    .dataframe thead th {\n",
       "        text-align: right;\n",
       "    }\n",
       "</style>\n",
       "<table border=\"1\" class=\"dataframe\">\n",
       "  <thead>\n",
       "    <tr style=\"text-align: right;\">\n",
       "      <th></th>\n",
       "      <th>90_mems</th>\n",
       "      <th>100_mems</th>\n",
       "      <th>raw_mems</th>\n",
       "      <th>genomes</th>\n",
       "      <th>genomes_in</th>\n",
       "      <th>uniq_in</th>\n",
       "      <th>all_in</th>\n",
       "      <th>uniq_in_aas</th>\n",
       "    </tr>\n",
       "    <tr>\n",
       "      <th>#cluster</th>\n",
       "      <th></th>\n",
       "      <th></th>\n",
       "      <th></th>\n",
       "      <th></th>\n",
       "      <th></th>\n",
       "      <th></th>\n",
       "      <th></th>\n",
       "      <th></th>\n",
       "    </tr>\n",
       "  </thead>\n",
       "  <tbody>\n",
       "    <tr>\n",
       "      <th>AAAC01000001.1_4976</th>\n",
       "      <td>145</td>\n",
       "      <td>1518</td>\n",
       "      <td>2938</td>\n",
       "      <td>2753</td>\n",
       "      <td>117</td>\n",
       "      <td>103</td>\n",
       "      <td>155</td>\n",
       "      <td>33190</td>\n",
       "    </tr>\n",
       "    <tr>\n",
       "      <th>AAFV01000278.1_2</th>\n",
       "      <td>613</td>\n",
       "      <td>1162</td>\n",
       "      <td>2265</td>\n",
       "      <td>2242</td>\n",
       "      <td>515</td>\n",
       "      <td>441</td>\n",
       "      <td>597</td>\n",
       "      <td>42417</td>\n",
       "    </tr>\n",
       "    <tr>\n",
       "      <th>AAKL01000024.1_28</th>\n",
       "      <td>336</td>\n",
       "      <td>1063</td>\n",
       "      <td>1385</td>\n",
       "      <td>1250</td>\n",
       "      <td>180</td>\n",
       "      <td>182</td>\n",
       "      <td>252</td>\n",
       "      <td>74468</td>\n",
       "    </tr>\n",
       "    <tr>\n",
       "      <th>AARM02000317.1_1</th>\n",
       "      <td>598</td>\n",
       "      <td>752</td>\n",
       "      <td>3350</td>\n",
       "      <td>3338</td>\n",
       "      <td>172</td>\n",
       "      <td>127</td>\n",
       "      <td>1485</td>\n",
       "      <td>40501</td>\n",
       "    </tr>\n",
       "    <tr>\n",
       "      <th>AARY02000029.1_9</th>\n",
       "      <td>119</td>\n",
       "      <td>670</td>\n",
       "      <td>3222</td>\n",
       "      <td>3162</td>\n",
       "      <td>782</td>\n",
       "      <td>319</td>\n",
       "      <td>1085</td>\n",
       "      <td>19473</td>\n",
       "    </tr>\n",
       "  </tbody>\n",
       "</table>\n",
       "</div>"
      ],
      "text/plain": [
       "                     90_mems  100_mems  raw_mems  genomes  genomes_in  \\\n",
       "#cluster                                                                \n",
       "AAAC01000001.1_4976      145      1518      2938     2753         117   \n",
       "AAFV01000278.1_2         613      1162      2265     2242         515   \n",
       "AAKL01000024.1_28        336      1063      1385     1250         180   \n",
       "AARM02000317.1_1         598       752      3350     3338         172   \n",
       "AARY02000029.1_9         119       670      3222     3162         782   \n",
       "\n",
       "                     uniq_in  all_in  uniq_in_aas  \n",
       "#cluster                                           \n",
       "AAAC01000001.1_4976      103     155        33190  \n",
       "AAFV01000278.1_2         441     597        42417  \n",
       "AAKL01000024.1_28        182     252        74468  \n",
       "AARM02000317.1_1         127    1485        40501  \n",
       "AARY02000029.1_9         319    1085        19473  "
      ]
     },
     "execution_count": 131,
     "metadata": {},
     "output_type": "execute_result"
    }
   ],
   "source": [
    "df = pd.read_table('data/g100.summary.tsv.bz2', index_col=0)\n",
    "df.head()"
   ]
  },
  {
   "cell_type": "code",
   "execution_count": 119,
   "metadata": {
    "hidden": true
   },
   "outputs": [
    {
     "data": {
      "text/plain": [
       "45692"
      ]
     },
     "execution_count": 119,
     "metadata": {},
     "output_type": "execute_result"
    }
   ],
   "source": [
    "df.shape[0]"
   ]
  },
  {
   "cell_type": "markdown",
   "metadata": {
    "hidden": true
   },
   "source": [
    "Average sequence length"
   ]
  },
  {
   "cell_type": "code",
   "execution_count": 120,
   "metadata": {
    "hidden": true
   },
   "outputs": [],
   "source": [
    "df['seq_len'] = df['uniq_in_aas'] / df['uniq_in']"
   ]
  },
  {
   "cell_type": "markdown",
   "metadata": {
    "hidden": true
   },
   "source": [
    "Number of genomes represented by each cluster"
   ]
  },
  {
   "cell_type": "code",
   "execution_count": 291,
   "metadata": {
    "hidden": true
   },
   "outputs": [
    {
     "data": {
      "image/png": "[encoded data removed]",
      "text/plain": [
       "<Figure size 288x288 with 1 Axes>"
      ]
     },
     "metadata": {},
     "output_type": "display_data"
    }
   ],
   "source": [
    "ax = df['genomes_in'].hist(bins=20, log=True, grid=False)\n",
    "ax.set_xlabel(\"# genomes represented\")\n",
    "ax.set_ylabel(\"Frequency\")\n",
    "ax.text(0.85, 0.85, 'A', size=20, transform=ax.transAxes)\n",
    "savepdf(ax.get_figure(), 'size.genomes.pdf')"
   ]
  },
  {
   "cell_type": "markdown",
   "metadata": {
    "hidden": true
   },
   "source": [
    "Number of unique sequences per cluster"
   ]
  },
  {
   "cell_type": "code",
   "execution_count": 292,
   "metadata": {
    "hidden": true
   },
   "outputs": [
    {
     "data": {
      "image/png": "[encoded data removed]",
      "text/plain": [
       "<Figure size 288x288 with 1 Axes>"
      ]
     },
     "metadata": {},
     "output_type": "display_data"
    }
   ],
   "source": [
    "ax = df['uniq_in'].hist(bins=20, log=True, grid=False)\n",
    "ax.set_xlabel(\"# unique sequences\")\n",
    "ax.set_ylabel(\"Frequency\")\n",
    "ax.text(0.85, 0.85, 'B', size=20, transform=ax.transAxes)\n",
    "savepdf(ax.get_figure(), 'size.unique.pdf')"
   ]
  },
  {
   "cell_type": "markdown",
   "metadata": {
    "hidden": true
   },
   "source": [
    "Average lengths of unique sequences per cluster"
   ]
  },
  {
   "cell_type": "code",
   "execution_count": 293,
   "metadata": {
    "hidden": true
   },
   "outputs": [
    {
     "data": {
      "image/png": "[encoded data removed]",
      "text/plain": [
       "<Figure size 288x288 with 1 Axes>"
      ]
     },
     "metadata": {},
     "output_type": "display_data"
    }
   ],
   "source": [
    "ax = df['seq_len'].hist(bins=20, log=True, grid=False)\n",
    "ax.set_xlabel(\"Mean length (aa)\")\n",
    "ax.set_ylabel(\"Frequency\")\n",
    "ax.text(0.85, 0.85, 'C', size=20, transform=ax.transAxes)\n",
    "savepdf(ax.get_figure(), 'size.length.pdf')"
   ]
  },
  {
   "cell_type": "markdown",
   "metadata": {
    "hidden": true
   },
   "source": [
    "Number of all sequences per cluster"
   ]
  },
  {
   "cell_type": "code",
   "execution_count": 294,
   "metadata": {
    "hidden": true
   },
   "outputs": [
    {
     "data": {
      "image/png": "[encoded data removed]",
      "text/plain": [
       "<Figure size 288x288 with 1 Axes>"
      ]
     },
     "metadata": {},
     "output_type": "display_data"
    }
   ],
   "source": [
    "ax = df['all_in'].hist(bins=20, log=True, grid=False)\n",
    "ax.set_xlabel(\"# all sequences\")\n",
    "ax.set_ylabel(\"Frequency\")\n",
    "ax.text(0.85, 0.85, 'D', size=20, transform=ax.transAxes)\n",
    "savepdf(ax.get_figure(), 'size.all.pdf')"
   ]
  },
  {
   "cell_type": "code",
   "execution_count": 114,
   "metadata": {
    "hidden": true
   },
   "outputs": [
    {
     "data": {
      "text/html": [
       "<div>\n",
       "<style scoped>\n",
       "    .dataframe tbody tr th:only-of-type {\n",
       "        vertical-align: middle;\n",
       "    }\n",
       "\n",
       "    .dataframe tbody tr th {\n",
       "        vertical-align: top;\n",
       "    }\n",
       "\n",
       "    .dataframe thead th {\n",
       "        text-align: right;\n",
       "    }\n",
       "</style>\n",
       "<table border=\"1\" class=\"dataframe\">\n",
       "  <thead>\n",
       "    <tr style=\"text-align: right;\">\n",
       "      <th></th>\n",
       "      <th>90_mems</th>\n",
       "      <th>100_mems</th>\n",
       "      <th>raw_mems</th>\n",
       "      <th>genomes</th>\n",
       "      <th>genomes_in</th>\n",
       "      <th>uniq_in</th>\n",
       "      <th>all_in</th>\n",
       "      <th>uniq_in_aas</th>\n",
       "    </tr>\n",
       "    <tr>\n",
       "      <th>#cluster</th>\n",
       "      <th></th>\n",
       "      <th></th>\n",
       "      <th></th>\n",
       "      <th></th>\n",
       "      <th></th>\n",
       "      <th></th>\n",
       "      <th></th>\n",
       "      <th></th>\n",
       "    </tr>\n",
       "  </thead>\n",
       "  <tbody>\n",
       "    <tr>\n",
       "      <th>AAAC01000001.1_4976</th>\n",
       "      <td>145</td>\n",
       "      <td>1518</td>\n",
       "      <td>2938</td>\n",
       "      <td>2753</td>\n",
       "      <td>117</td>\n",
       "      <td>103</td>\n",
       "      <td>155</td>\n",
       "      <td>33190</td>\n",
       "    </tr>\n",
       "    <tr>\n",
       "      <th>AAFV01000278.1_2</th>\n",
       "      <td>613</td>\n",
       "      <td>1162</td>\n",
       "      <td>2265</td>\n",
       "      <td>2242</td>\n",
       "      <td>515</td>\n",
       "      <td>441</td>\n",
       "      <td>597</td>\n",
       "      <td>42417</td>\n",
       "    </tr>\n",
       "    <tr>\n",
       "      <th>AAKL01000024.1_28</th>\n",
       "      <td>336</td>\n",
       "      <td>1063</td>\n",
       "      <td>1385</td>\n",
       "      <td>1250</td>\n",
       "      <td>180</td>\n",
       "      <td>182</td>\n",
       "      <td>252</td>\n",
       "      <td>74468</td>\n",
       "    </tr>\n",
       "    <tr>\n",
       "      <th>AARM02000317.1_1</th>\n",
       "      <td>598</td>\n",
       "      <td>752</td>\n",
       "      <td>3350</td>\n",
       "      <td>3338</td>\n",
       "      <td>172</td>\n",
       "      <td>127</td>\n",
       "      <td>1485</td>\n",
       "      <td>40501</td>\n",
       "    </tr>\n",
       "    <tr>\n",
       "      <th>AARY02000029.1_9</th>\n",
       "      <td>119</td>\n",
       "      <td>670</td>\n",
       "      <td>3222</td>\n",
       "      <td>3162</td>\n",
       "      <td>782</td>\n",
       "      <td>319</td>\n",
       "      <td>1085</td>\n",
       "      <td>19473</td>\n",
       "    </tr>\n",
       "  </tbody>\n",
       "</table>\n",
       "</div>"
      ],
      "text/plain": [
       "                     90_mems  100_mems  raw_mems  genomes  genomes_in  \\\n",
       "#cluster                                                                \n",
       "AAAC01000001.1_4976      145      1518      2938     2753         117   \n",
       "AAFV01000278.1_2         613      1162      2265     2242         515   \n",
       "AAKL01000024.1_28        336      1063      1385     1250         180   \n",
       "AARM02000317.1_1         598       752      3350     3338         172   \n",
       "AARY02000029.1_9         119       670      3222     3162         782   \n",
       "\n",
       "                     uniq_in  all_in  uniq_in_aas  \n",
       "#cluster                                           \n",
       "AAAC01000001.1_4976      103     155        33190  \n",
       "AAFV01000278.1_2         441     597        42417  \n",
       "AAKL01000024.1_28        182     252        74468  \n",
       "AARM02000317.1_1         127    1485        40501  \n",
       "AARY02000029.1_9         319    1085        19473  "
      ]
     },
     "execution_count": 114,
     "metadata": {},
     "output_type": "execute_result"
    }
   ],
   "source": [
    "df.head()"
   ]
  },
  {
   "cell_type": "markdown",
   "metadata": {
    "hidden": true
   },
   "source": [
    "Total number of sequences"
   ]
  },
  {
   "cell_type": "code",
   "execution_count": 117,
   "metadata": {
    "hidden": true
   },
   "outputs": [
    {
     "data": {
      "text/plain": [
       "17955384"
      ]
     },
     "execution_count": 117,
     "metadata": {},
     "output_type": "execute_result"
    }
   ],
   "source": [
    "df['all_in'].sum()"
   ]
  },
  {
   "cell_type": "markdown",
   "metadata": {
    "hidden": true
   },
   "source": [
    "Total number of unique sequences"
   ]
  },
  {
   "cell_type": "code",
   "execution_count": 115,
   "metadata": {
    "hidden": true
   },
   "outputs": [
    {
     "data": {
      "text/plain": [
       "10228602"
      ]
     },
     "execution_count": 115,
     "metadata": {},
     "output_type": "execute_result"
    }
   ],
   "source": [
    "df['uniq_in'].sum()"
   ]
  },
  {
   "cell_type": "markdown",
   "metadata": {
    "hidden": true
   },
   "source": [
    "Total number of amino acids in those sequences."
   ]
  },
  {
   "cell_type": "code",
   "execution_count": 116,
   "metadata": {
    "hidden": true
   },
   "outputs": [
    {
     "data": {
      "text/plain": [
       "3460927606"
      ]
     },
     "execution_count": 116,
     "metadata": {},
     "output_type": "execute_result"
    }
   ],
   "source": [
    "df['uniq_in_aas'].sum()"
   ]
  },
  {
   "cell_type": "markdown",
   "metadata": {},
   "source": [
    "### Sequence alignment"
   ]
  },
  {
   "cell_type": "markdown",
   "metadata": {
    "heading_collapsed": true
   },
   "source": [
    "#### MAFFT (obsolete)"
   ]
  },
  {
   "cell_type": "code",
   "execution_count": 103,
   "metadata": {
    "hidden": true
   },
   "outputs": [
    {
     "data": {
      "text/html": [
       "<div>\n",
       "<style scoped>\n",
       "    .dataframe tbody tr th:only-of-type {\n",
       "        vertical-align: middle;\n",
       "    }\n",
       "\n",
       "    .dataframe tbody tr th {\n",
       "        vertical-align: top;\n",
       "    }\n",
       "\n",
       "    .dataframe thead th {\n",
       "        text-align: right;\n",
       "    }\n",
       "</style>\n",
       "<table border=\"1\" class=\"dataframe\">\n",
       "  <thead>\n",
       "    <tr style=\"text-align: right;\">\n",
       "      <th></th>\n",
       "      <th>Gene</th>\n",
       "      <th>Taxa</th>\n",
       "      <th>Wall</th>\n",
       "      <th>CPU</th>\n",
       "      <th>RAM</th>\n",
       "    </tr>\n",
       "  </thead>\n",
       "  <tbody>\n",
       "    <tr>\n",
       "      <th>0</th>\n",
       "      <td>p0031</td>\n",
       "      <td>10</td>\n",
       "      <td>0.92</td>\n",
       "      <td>0.45</td>\n",
       "      <td>14744</td>\n",
       "    </tr>\n",
       "    <tr>\n",
       "      <th>1</th>\n",
       "      <td>p0031</td>\n",
       "      <td>20</td>\n",
       "      <td>1.47</td>\n",
       "      <td>1.31</td>\n",
       "      <td>17440</td>\n",
       "    </tr>\n",
       "    <tr>\n",
       "      <th>2</th>\n",
       "      <td>p0031</td>\n",
       "      <td>50</td>\n",
       "      <td>6.29</td>\n",
       "      <td>6.14</td>\n",
       "      <td>20500</td>\n",
       "    </tr>\n",
       "    <tr>\n",
       "      <th>3</th>\n",
       "      <td>p0031</td>\n",
       "      <td>100</td>\n",
       "      <td>23.61</td>\n",
       "      <td>23.51</td>\n",
       "      <td>33068</td>\n",
       "    </tr>\n",
       "    <tr>\n",
       "      <th>4</th>\n",
       "      <td>p0031</td>\n",
       "      <td>200</td>\n",
       "      <td>105.97</td>\n",
       "      <td>105.89</td>\n",
       "      <td>58796</td>\n",
       "    </tr>\n",
       "  </tbody>\n",
       "</table>\n",
       "</div>"
      ],
      "text/plain": [
       "    Gene  Taxa    Wall     CPU    RAM\n",
       "0  p0031    10    0.92    0.45  14744\n",
       "1  p0031    20    1.47    1.31  17440\n",
       "2  p0031    50    6.29    6.14  20500\n",
       "3  p0031   100   23.61   23.51  33068\n",
       "4  p0031   200  105.97  105.89  58796"
      ]
     },
     "execution_count": 103,
     "metadata": {},
     "output_type": "execute_result"
    }
   ],
   "source": [
    "df = pd.read_table('data/mafft_taxa.tsv')\n",
    "df.head()"
   ]
  },
  {
   "cell_type": "code",
   "execution_count": 104,
   "metadata": {
    "hidden": true
   },
   "outputs": [],
   "source": [
    "df = df.query('Gene != \"p0060\" and Taxa <= 200')"
   ]
  },
  {
   "cell_type": "code",
   "execution_count": 105,
   "metadata": {
    "hidden": true,
    "scrolled": false
   },
   "outputs": [
    {
     "data": {
      "text/plain": [
       "LinregressResult(slope=0.0035611452927609148, intercept=0.090109896734304584, rvalue=0.9759384857125234, pvalue=9.6396153474707916e-27, stderr=0.00012906950310421432)"
      ]
     },
     "execution_count": 105,
     "metadata": {},
     "output_type": "execute_result"
    }
   ],
   "source": [
    "reg = sp.stats.linregress(df['Taxa'].values ** 2, df['Wall'].values)\n",
    "reg"
   ]
  },
  {
   "cell_type": "code",
   "execution_count": 106,
   "metadata": {
    "hidden": true
   },
   "outputs": [
    {
     "data": {
      "image/png": "[encoded data removed]",
      "text/plain": [
       "<Figure size 288x288 with 1 Axes>"
      ]
     },
     "metadata": {},
     "output_type": "display_data"
    }
   ],
   "source": [
    "fig = plt.figure()\n",
    "ax = plt.gca()\n",
    "plt.plot(df['Taxa'], df['Wall'], 'o', markersize=4)\n",
    "x = np.array(range(*[int(x) for x in plt.xlim()]))\n",
    "y = reg.intercept + reg.slope * x ** 2\n",
    "plt.plot(x, y, '--')\n",
    "plt.text(0.1, 0.65, '$\\it{y} = %.3g %+.3g \\it{x}^2$\\n$\\it{R}^2 = %.3g$'\n",
    "         % (reg.intercept, reg.slope, reg.rvalue ** 2),\n",
    "         transform=ax.transAxes)\n",
    "plt.xlabel('Number of sequences')\n",
    "plt.ylabel('Wall clock time (sec)')\n",
    "plt.text(0.1, 0.85, 'X', size=20, transform=ax.transAxes)\n",
    "fig.tight_layout()\n",
    "fig.savefig('mafft.taxa.pdf', bbox_to_inches='tight')"
   ]
  },
  {
   "cell_type": "markdown",
   "metadata": {
    "heading_collapsed": true
   },
   "source": [
    "#### PASTA/UPP"
   ]
  },
  {
   "cell_type": "code",
   "execution_count": 108,
   "metadata": {
    "hidden": true
   },
   "outputs": [
    {
     "data": {
      "text/html": [
       "<div>\n",
       "<style scoped>\n",
       "    .dataframe tbody tr th:only-of-type {\n",
       "        vertical-align: middle;\n",
       "    }\n",
       "\n",
       "    .dataframe tbody tr th {\n",
       "        vertical-align: top;\n",
       "    }\n",
       "\n",
       "    .dataframe thead th {\n",
       "        text-align: right;\n",
       "    }\n",
       "</style>\n",
       "<table border=\"1\" class=\"dataframe\">\n",
       "  <thead>\n",
       "    <tr style=\"text-align: right;\">\n",
       "      <th></th>\n",
       "      <th>Gene</th>\n",
       "      <th>Taxa</th>\n",
       "      <th>Wall</th>\n",
       "      <th>CPU</th>\n",
       "      <th>RAM</th>\n",
       "    </tr>\n",
       "  </thead>\n",
       "  <tbody>\n",
       "    <tr>\n",
       "      <th>0</th>\n",
       "      <td>p0031</td>\n",
       "      <td>10</td>\n",
       "      <td>73.42</td>\n",
       "      <td>6.09</td>\n",
       "      <td>50440</td>\n",
       "    </tr>\n",
       "    <tr>\n",
       "      <th>1</th>\n",
       "      <td>p0031</td>\n",
       "      <td>20</td>\n",
       "      <td>12.59</td>\n",
       "      <td>10.82</td>\n",
       "      <td>56048</td>\n",
       "    </tr>\n",
       "    <tr>\n",
       "      <th>2</th>\n",
       "      <td>p0031</td>\n",
       "      <td>50</td>\n",
       "      <td>30.95</td>\n",
       "      <td>30.20</td>\n",
       "      <td>61472</td>\n",
       "    </tr>\n",
       "    <tr>\n",
       "      <th>3</th>\n",
       "      <td>p0031</td>\n",
       "      <td>100</td>\n",
       "      <td>79.07</td>\n",
       "      <td>78.95</td>\n",
       "      <td>67592</td>\n",
       "    </tr>\n",
       "    <tr>\n",
       "      <th>4</th>\n",
       "      <td>p0031</td>\n",
       "      <td>200</td>\n",
       "      <td>179.64</td>\n",
       "      <td>179.99</td>\n",
       "      <td>76004</td>\n",
       "    </tr>\n",
       "  </tbody>\n",
       "</table>\n",
       "</div>"
      ],
      "text/plain": [
       "    Gene  Taxa    Wall     CPU    RAM\n",
       "0  p0031    10   73.42    6.09  50440\n",
       "1  p0031    20   12.59   10.82  56048\n",
       "2  p0031    50   30.95   30.20  61472\n",
       "3  p0031   100   79.07   78.95  67592\n",
       "4  p0031   200  179.64  179.99  76004"
      ]
     },
     "execution_count": 108,
     "metadata": {},
     "output_type": "execute_result"
    }
   ],
   "source": [
    "df = pd.read_table('data/pasta_taxa.tsv')\n",
    "df.head()"
   ]
  },
  {
   "cell_type": "code",
   "execution_count": 109,
   "metadata": {
    "hidden": true
   },
   "outputs": [],
   "source": [
    "df = df.query('Gene != \"p0060\" and Taxa <= 200')"
   ]
  },
  {
   "cell_type": "code",
   "execution_count": 110,
   "metadata": {
    "hidden": true
   },
   "outputs": [
    {
     "data": {
      "text/plain": [
       "LinregressResult(slope=0.99704850746268647, intercept=-3.8064365671641696, rvalue=0.97106914036799996, pvalue=3.0654040152618676e-25, stderr=0.039774610449312159)"
      ]
     },
     "execution_count": 110,
     "metadata": {},
     "output_type": "execute_result"
    }
   ],
   "source": [
    "reg = sp.stats.linregress(df['Taxa'].values, df['Wall'].values)\n",
    "reg"
   ]
  },
  {
   "cell_type": "code",
   "execution_count": 111,
   "metadata": {
    "hidden": true
   },
   "outputs": [
    {
     "data": {
      "image/png": "[encoded data removed]",
      "text/plain": [
       "<Figure size 288x288 with 1 Axes>"
      ]
     },
     "metadata": {},
     "output_type": "display_data"
    }
   ],
   "source": [
    "fig = plt.figure(figsize=(4, 4))\n",
    "ax = plt.gca()\n",
    "plt.plot(df['Taxa'], df['Wall'], 'o', markersize=4)\n",
    "x0, x1 = plt.xlim()\n",
    "y0 = x0 * reg.slope + reg.intercept\n",
    "y1 = x1 * reg.slope + reg.intercept\n",
    "plt.plot([x0, x1], [y0, y1], '--')\n",
    "plt.text(0.1, 0.65, '$\\it{y} = %.3g %+.3g \\it{x}$\\n$\\it{R}^2 = %.3g$'\n",
    "         % (reg.intercept, reg.slope, reg.rvalue ** 2),\n",
    "         transform=ax.transAxes)\n",
    "plt.xlabel('Number of sequences')\n",
    "plt.ylabel('Wall clock time (sec)')\n",
    "plt.text(0.1, 0.85, 'A', size=20, transform=ax.transAxes)\n",
    "plt.text(0.2, 0.85, '(UPP)', size=12, transform=ax.transAxes)\n",
    "fig.tight_layout()\n",
    "fig.savefig('pasta.taxa.pdf', bbox_to_inches='tight')"
   ]
  },
  {
   "cell_type": "markdown",
   "metadata": {
    "heading_collapsed": true
   },
   "source": [
    "#### Calculation"
   ]
  },
  {
   "cell_type": "code",
   "execution_count": null,
   "metadata": {
    "hidden": true
   },
   "outputs": [],
   "source": [
    "def mafft_n(x):\n",
    "    return 0.0901 + 0.00356 * x ** 2"
   ]
  },
  {
   "cell_type": "code",
   "execution_count": 122,
   "metadata": {
    "hidden": true
   },
   "outputs": [],
   "source": [
    "def pasta_n(x):\n",
    "    return -3.81 + 0.997 * x"
   ]
  },
  {
   "cell_type": "code",
   "execution_count": null,
   "metadata": {
    "hidden": true
   },
   "outputs": [],
   "source": [
    "df.query('uniq_in < 500')['uniq_in'].apply(mafft_n).sum() / 3600"
   ]
  },
  {
   "cell_type": "code",
   "execution_count": null,
   "metadata": {
    "hidden": true
   },
   "outputs": [],
   "source": [
    "df.query('uniq_in >= 500')['uniq_in'].apply(pasta_n).sum() / 3600"
   ]
  },
  {
   "cell_type": "code",
   "execution_count": 124,
   "metadata": {
    "hidden": true
   },
   "outputs": [
    {
     "data": {
      "text/plain": [
       "2784.3971316666675"
      ]
     },
     "execution_count": 124,
     "metadata": {},
     "output_type": "execute_result"
    }
   ],
   "source": [
    "df['uniq_in'].apply(pasta_n).sum() / 3600"
   ]
  },
  {
   "cell_type": "markdown",
   "metadata": {},
   "source": [
    "### Tree building"
   ]
  },
  {
   "cell_type": "markdown",
   "metadata": {
    "heading_collapsed": true
   },
   "source": [
    "#### FastTree"
   ]
  },
  {
   "cell_type": "code",
   "execution_count": 94,
   "metadata": {
    "hidden": true
   },
   "outputs": [
    {
     "data": {
      "text/html": [
       "<div>\n",
       "<style scoped>\n",
       "    .dataframe tbody tr th:only-of-type {\n",
       "        vertical-align: middle;\n",
       "    }\n",
       "\n",
       "    .dataframe tbody tr th {\n",
       "        vertical-align: top;\n",
       "    }\n",
       "\n",
       "    .dataframe thead th {\n",
       "        text-align: right;\n",
       "    }\n",
       "</style>\n",
       "<table border=\"1\" class=\"dataframe\">\n",
       "  <thead>\n",
       "    <tr style=\"text-align: right;\">\n",
       "      <th></th>\n",
       "      <th>Gene</th>\n",
       "      <th>Taxa</th>\n",
       "      <th>Wall</th>\n",
       "      <th>CPU</th>\n",
       "      <th>RAM</th>\n",
       "    </tr>\n",
       "  </thead>\n",
       "  <tbody>\n",
       "    <tr>\n",
       "      <th>0</th>\n",
       "      <td>p0031</td>\n",
       "      <td>10</td>\n",
       "      <td>0.39</td>\n",
       "      <td>0.35</td>\n",
       "      <td>4.192</td>\n",
       "    </tr>\n",
       "    <tr>\n",
       "      <th>1</th>\n",
       "      <td>p0031</td>\n",
       "      <td>20</td>\n",
       "      <td>0.88</td>\n",
       "      <td>0.86</td>\n",
       "      <td>5.044</td>\n",
       "    </tr>\n",
       "    <tr>\n",
       "      <th>2</th>\n",
       "      <td>p0031</td>\n",
       "      <td>50</td>\n",
       "      <td>2.67</td>\n",
       "      <td>2.64</td>\n",
       "      <td>7.152</td>\n",
       "    </tr>\n",
       "    <tr>\n",
       "      <th>3</th>\n",
       "      <td>p0031</td>\n",
       "      <td>100</td>\n",
       "      <td>6.87</td>\n",
       "      <td>6.86</td>\n",
       "      <td>10.408</td>\n",
       "    </tr>\n",
       "    <tr>\n",
       "      <th>4</th>\n",
       "      <td>p0031</td>\n",
       "      <td>200</td>\n",
       "      <td>14.55</td>\n",
       "      <td>14.48</td>\n",
       "      <td>17.736</td>\n",
       "    </tr>\n",
       "  </tbody>\n",
       "</table>\n",
       "</div>"
      ],
      "text/plain": [
       "    Gene  Taxa   Wall    CPU     RAM\n",
       "0  p0031    10   0.39   0.35   4.192\n",
       "1  p0031    20   0.88   0.86   5.044\n",
       "2  p0031    50   2.67   2.64   7.152\n",
       "3  p0031   100   6.87   6.86  10.408\n",
       "4  p0031   200  14.55  14.48  17.736"
      ]
     },
     "execution_count": 94,
     "metadata": {},
     "output_type": "execute_result"
    }
   ],
   "source": [
    "df = pd.read_table('data/fasttree_taxa.tsv')\n",
    "df = df.query('Gene != \"p0060\" and Taxa <= 200')\n",
    "df['RAM'] = df['RAM'] / 1000\n",
    "df.head()"
   ]
  },
  {
   "cell_type": "code",
   "execution_count": 95,
   "metadata": {
    "hidden": true
   },
   "outputs": [
    {
     "data": {
      "text/plain": [
       "LinregressResult(slope=0.014718991072852012, intercept=0.12367497993745591, rvalue=0.99323154250902934, pvalue=3.8273150043267422e-37, stderr=0.00027922832351581322)"
      ]
     },
     "execution_count": 95,
     "metadata": {},
     "output_type": "execute_result"
    }
   ],
   "source": [
    "# O(n log n)\n",
    "reg = sp.stats.linregress(df['Taxa'].values * np.log(df['Taxa'].values), df['Wall'].values)\n",
    "reg"
   ]
  },
  {
   "cell_type": "code",
   "execution_count": 96,
   "metadata": {
    "hidden": true,
    "scrolled": false
   },
   "outputs": [
    {
     "name": "stderr",
     "output_type": "stream",
     "text": [
      "/Users/qiz173/anaconda/envs/py3/lib/python3.6/site-packages/ipykernel_launcher.py:6: RuntimeWarning: divide by zero encountered in log\n",
      "  \n",
      "/Users/qiz173/anaconda/envs/py3/lib/python3.6/site-packages/ipykernel_launcher.py:6: RuntimeWarning: invalid value encountered in multiply\n",
      "  \n"
     ]
    },
    {
     "data": {
      "image/png": "[encoded data removed]",
      "text/plain": [
       "<Figure size 288x288 with 1 Axes>"
      ]
     },
     "metadata": {},
     "output_type": "display_data"
    }
   ],
   "source": [
    "fig = plt.figure()\n",
    "ax = plt.gca()\n",
    "plt.plot(df['Taxa'], df['Wall'], 'o')\n",
    "plt.xticks(df['Taxa'].unique())\n",
    "x = np.array(range(*[int(x) for x in plt.xlim()]))\n",
    "y = reg.intercept + reg.slope * x * np.log(x)\n",
    "plt.plot(x, y, '--')\n",
    "plt.text(0.1, 0.65, '$\\it{y} = %.3g %+.3g \\it{x}ln(\\it{x})$\\n$\\it{R}^2 = %.3g$'\n",
    "         % (reg.intercept, reg.slope, reg.rvalue ** 2),\n",
    "         transform=ax.transAxes)\n",
    "plt.xlabel('Number of sequences')\n",
    "plt.ylabel('Wall clock time (sec)')\n",
    "plt.text(0.1, 0.85, 'B', size=20, transform=ax.transAxes)\n",
    "plt.text(0.2, 0.85, '(FastTree)', size=12, transform=ax.transAxes)\n",
    "fig.tight_layout()\n",
    "fig.savefig('fasttree.taxa.pdf', bbox_to_inches='tight')"
   ]
  },
  {
   "cell_type": "markdown",
   "metadata": {},
   "source": [
    "#### RAxML"
   ]
  },
  {
   "cell_type": "code",
   "execution_count": 125,
   "metadata": {},
   "outputs": [
    {
     "data": {
      "text/html": [
       "<div>\n",
       "<style scoped>\n",
       "    .dataframe tbody tr th:only-of-type {\n",
       "        vertical-align: middle;\n",
       "    }\n",
       "\n",
       "    .dataframe tbody tr th {\n",
       "        vertical-align: top;\n",
       "    }\n",
       "\n",
       "    .dataframe thead th {\n",
       "        text-align: right;\n",
       "    }\n",
       "</style>\n",
       "<table border=\"1\" class=\"dataframe\">\n",
       "  <thead>\n",
       "    <tr style=\"text-align: right;\">\n",
       "      <th></th>\n",
       "      <th>Gene</th>\n",
       "      <th>Taxa</th>\n",
       "      <th>Wall</th>\n",
       "      <th>CPU</th>\n",
       "      <th>RAM</th>\n",
       "    </tr>\n",
       "  </thead>\n",
       "  <tbody>\n",
       "    <tr>\n",
       "      <th>0</th>\n",
       "      <td>p0031</td>\n",
       "      <td>10</td>\n",
       "      <td>10.68</td>\n",
       "      <td>10.60</td>\n",
       "      <td>5.028</td>\n",
       "    </tr>\n",
       "    <tr>\n",
       "      <th>1</th>\n",
       "      <td>p0031</td>\n",
       "      <td>20</td>\n",
       "      <td>38.57</td>\n",
       "      <td>38.24</td>\n",
       "      <td>9.584</td>\n",
       "    </tr>\n",
       "    <tr>\n",
       "      <th>2</th>\n",
       "      <td>p0031</td>\n",
       "      <td>50</td>\n",
       "      <td>364.40</td>\n",
       "      <td>364.32</td>\n",
       "      <td>25.056</td>\n",
       "    </tr>\n",
       "    <tr>\n",
       "      <th>3</th>\n",
       "      <td>p0031</td>\n",
       "      <td>100</td>\n",
       "      <td>1154.43</td>\n",
       "      <td>1154.31</td>\n",
       "      <td>53.844</td>\n",
       "    </tr>\n",
       "    <tr>\n",
       "      <th>4</th>\n",
       "      <td>p0031</td>\n",
       "      <td>200</td>\n",
       "      <td>4479.00</td>\n",
       "      <td>4304.09</td>\n",
       "      <td>118.824</td>\n",
       "    </tr>\n",
       "  </tbody>\n",
       "</table>\n",
       "</div>"
      ],
      "text/plain": [
       "    Gene  Taxa     Wall      CPU      RAM\n",
       "0  p0031    10    10.68    10.60    5.028\n",
       "1  p0031    20    38.57    38.24    9.584\n",
       "2  p0031    50   364.40   364.32   25.056\n",
       "3  p0031   100  1154.43  1154.31   53.844\n",
       "4  p0031   200  4479.00  4304.09  118.824"
      ]
     },
     "execution_count": 125,
     "metadata": {},
     "output_type": "execute_result"
    }
   ],
   "source": [
    "df = pd.read_table('data/raxml_taxa.tsv')\n",
    "df = df.query('Gene != \"p0060\" and Taxa <= 200')\n",
    "df['RAM'] = df['RAM'] / 1000\n",
    "df.head()"
   ]
  },
  {
   "cell_type": "code",
   "execution_count": 126,
   "metadata": {},
   "outputs": [
    {
     "data": {
      "text/plain": [
       "LinregressResult(slope=2.2024515402647218, intercept=-115.44239814871753, rvalue=0.96963667459322722, pvalue=7.5834699985507895e-25, stderr=0.090110055648235377)"
      ]
     },
     "execution_count": 126,
     "metadata": {},
     "output_type": "execute_result"
    }
   ],
   "source": [
    "# the power of 1.4 was recommended by Wayne\n",
    "reg = sp.stats.linregress(df['Taxa'].values ** 1.4, df['Wall'].values)\n",
    "reg"
   ]
  },
  {
   "cell_type": "code",
   "execution_count": 127,
   "metadata": {},
   "outputs": [
    {
     "data": {
      "image/png": "[encoded data removed]",
      "text/plain": [
       "<Figure size 288x288 with 1 Axes>"
      ]
     },
     "metadata": {},
     "output_type": "display_data"
    }
   ],
   "source": [
    "fig = plt.figure()\n",
    "ax = plt.gca()\n",
    "plt.plot(df['Taxa'], df['Wall'], 'o')\n",
    "plt.xticks(df['Taxa'].unique())\n",
    "x = np.array(range(*[int(x) for x in plt.xlim()]))\n",
    "y = reg.intercept + reg.slope * x ** 1.4\n",
    "plt.plot(x, y, '--')\n",
    "plt.text(0.1, 0.65, '$\\it{y} = %.3g %+.3g \\it{x}^{1.4}$\\n$\\it{R}^2 = %.3g$'\n",
    "         % (reg.intercept, reg.slope, reg.rvalue ** 2),\n",
    "         transform=ax.transAxes)\n",
    "plt.xlabel('Number of sequences')\n",
    "plt.ylabel('Wall clock time (sec)')\n",
    "plt.text(0.1, 0.85, 'C', size=20, transform=ax.transAxes)\n",
    "plt.text(0.2, 0.85, '(RAxML)', size=12, transform=ax.transAxes)\n",
    "fig.tight_layout()\n",
    "fig.savefig('raxml.taxa.pdf', bbox_to_inches='tight')"
   ]
  },
  {
   "cell_type": "code",
   "execution_count": 128,
   "metadata": {},
   "outputs": [
    {
     "data": {
      "text/plain": [
       "LinregressResult(slope=0.693039759535655, intercept=-5.3643217247097823, rvalue=0.98324490672914866, pvalue=1.0594927893791698e-29, stderr=0.020843288781866219)"
      ]
     },
     "execution_count": 128,
     "metadata": {},
     "output_type": "execute_result"
    }
   ],
   "source": [
    "reg = sp.stats.linregress(df['Taxa'].values, df['RAM'].values)\n",
    "reg"
   ]
  },
  {
   "cell_type": "code",
   "execution_count": 101,
   "metadata": {},
   "outputs": [
    {
     "data": {
      "image/png": "[encoded data removed]",
      "text/plain": [
       "<Figure size 288x288 with 1 Axes>"
      ]
     },
     "metadata": {},
     "output_type": "display_data"
    }
   ],
   "source": [
    "fig = plt.figure()\n",
    "plt.plot(df['Taxa'], df['RAM'], 'o')\n",
    "plt.xticks(df['Taxa'].unique())\n",
    "x0, x1 = plt.xlim()\n",
    "y0 = x0 * reg.slope + reg.intercept\n",
    "y1 = x1 * reg.slope + reg.intercept\n",
    "plt.plot([x0, x1], [y0, y1], '--')\n",
    "plt.xlabel('Number of sequences')\n",
    "plt.ylabel('Maximum memory (MB)')\n",
    "ax = plt.gca()\n",
    "plt.text(0.1, 0.85, 'X', size=20, transform=ax.transAxes)\n",
    "plt.text(0.2, 0.85, '(RAxML)', size=12, transform=ax.transAxes)\n",
    "fig.tight_layout()\n",
    "fig.savefig('raxml.taxa.ram.pdf', bbox_to_inches='tight')"
   ]
  },
  {
   "cell_type": "code",
   "execution_count": 102,
   "metadata": {},
   "outputs": [
    {
     "data": {
      "image/png": "[encoded data removed]",
      "text/plain": [
       "<Figure size 288x288 with 1 Axes>"
      ]
     },
     "metadata": {},
     "output_type": "display_data"
    }
   ],
   "source": [
    "df = pd.read_table('data/raxml_cores.tsv').query('Model == \"CAT\"')\n",
    "fig = plt.figure()\n",
    "plt.plot(df['Cores'], df['SpeedUp'], '-o')\n",
    "plt.xticks(df['Cores'].unique())\n",
    "plt.plot([0, 64], [0, 64], '--k', c='C7')\n",
    "plt.xlim([0, 64])\n",
    "plt.ylim([0, 64])\n",
    "plt.xlabel('Number of cores')\n",
    "plt.ylabel('Speed-up')\n",
    "ax = plt.gca()\n",
    "plt.text(0.1, 0.85, 'D', size=20, transform=ax.transAxes)\n",
    "plt.text(0.2, 0.85, '(RAxML)', size=12, transform=ax.transAxes)\n",
    "fig.tight_layout()\n",
    "fig.savefig('raxml.cores.pdf', bbox_to_inches='tight')"
   ]
  },
  {
   "cell_type": "markdown",
   "metadata": {
    "heading_collapsed": true
   },
   "source": [
    "#### Calculation"
   ]
  },
  {
   "cell_type": "code",
   "execution_count": 129,
   "metadata": {
    "hidden": true
   },
   "outputs": [],
   "source": [
    "def raxml(x):\n",
    "    return 2.162 * x ** 1.4"
   ]
  },
  {
   "cell_type": "code",
   "execution_count": null,
   "metadata": {
    "hidden": true
   },
   "outputs": [],
   "source": [
    "def fasttree(x):\n",
    "    return 0.0785 * x"
   ]
  },
  {
   "cell_type": "code",
   "execution_count": 132,
   "metadata": {
    "hidden": true
   },
   "outputs": [
    {
     "data": {
      "text/plain": [
       "66540.817149656548"
      ]
     },
     "execution_count": 132,
     "metadata": {},
     "output_type": "execute_result"
    }
   ],
   "source": [
    "df['uniq_in'].apply(raxml).sum() / 3600"
   ]
  },
  {
   "cell_type": "code",
   "execution_count": null,
   "metadata": {
    "hidden": true
   },
   "outputs": [],
   "source": [
    "df['uniq_in'].max()"
   ]
  },
  {
   "cell_type": "code",
   "execution_count": null,
   "metadata": {
    "hidden": true
   },
   "outputs": [],
   "source": [
    "raxml(df['uniq_in'].max()) / 3600"
   ]
  },
  {
   "cell_type": "markdown",
   "metadata": {},
   "source": [
    "### Genome insertion"
   ]
  },
  {
   "cell_type": "markdown",
   "metadata": {},
   "source": [
    "#### INSTRAL"
   ]
  },
  {
   "cell_type": "code",
   "execution_count": 88,
   "metadata": {},
   "outputs": [
    {
     "data": {
      "text/html": [
       "<div>\n",
       "<style scoped>\n",
       "    .dataframe tbody tr th:only-of-type {\n",
       "        vertical-align: middle;\n",
       "    }\n",
       "\n",
       "    .dataframe tbody tr th {\n",
       "        vertical-align: top;\n",
       "    }\n",
       "\n",
       "    .dataframe thead th {\n",
       "        text-align: right;\n",
       "    }\n",
       "</style>\n",
       "<table border=\"1\" class=\"dataframe\">\n",
       "  <thead>\n",
       "    <tr style=\"text-align: right;\">\n",
       "      <th></th>\n",
       "      <th>Rep</th>\n",
       "      <th>Backbone_size</th>\n",
       "      <th>Pruned_leaf</th>\n",
       "      <th>RT</th>\n",
       "    </tr>\n",
       "  </thead>\n",
       "  <tbody>\n",
       "    <tr>\n",
       "      <th>0</th>\n",
       "      <td>1</td>\n",
       "      <td>10000</td>\n",
       "      <td>4321</td>\n",
       "      <td>1166.757</td>\n",
       "    </tr>\n",
       "    <tr>\n",
       "      <th>1</th>\n",
       "      <td>1</td>\n",
       "      <td>10000</td>\n",
       "      <td>4461</td>\n",
       "      <td>1209.121</td>\n",
       "    </tr>\n",
       "    <tr>\n",
       "      <th>2</th>\n",
       "      <td>1</td>\n",
       "      <td>10000</td>\n",
       "      <td>4610</td>\n",
       "      <td>1162.529</td>\n",
       "    </tr>\n",
       "    <tr>\n",
       "      <th>3</th>\n",
       "      <td>1</td>\n",
       "      <td>5000</td>\n",
       "      <td>1229</td>\n",
       "      <td>485.948</td>\n",
       "    </tr>\n",
       "    <tr>\n",
       "      <th>4</th>\n",
       "      <td>1</td>\n",
       "      <td>5000</td>\n",
       "      <td>1426</td>\n",
       "      <td>423.076</td>\n",
       "    </tr>\n",
       "  </tbody>\n",
       "</table>\n",
       "</div>"
      ],
      "text/plain": [
       "   Rep  Backbone_size  Pruned_leaf        RT\n",
       "0    1          10000         4321  1166.757\n",
       "1    1          10000         4461  1209.121\n",
       "2    1          10000         4610  1162.529\n",
       "3    1           5000         1229   485.948\n",
       "4    1           5000         1426   423.076"
      ]
     },
     "execution_count": 88,
     "metadata": {},
     "output_type": "execute_result"
    }
   ],
   "source": [
    "df = pd.read_table('data/instral.tsv', sep=' ')\n",
    "df.head()"
   ]
  },
  {
   "cell_type": "markdown",
   "metadata": {},
   "source": [
    "Linear in log space"
   ]
  },
  {
   "cell_type": "code",
   "execution_count": 20,
   "metadata": {},
   "outputs": [
    {
     "data": {
      "text/plain": [
       "LinregressResult(slope=1.0980947983318228, intercept=-3.7901504787956264, rvalue=0.97714434746601753, pvalue=0.0, stderr=0.0036596650992151186)"
      ]
     },
     "execution_count": 20,
     "metadata": {},
     "output_type": "execute_result"
    }
   ],
   "source": [
    "reg = sp.stats.linregress(np.log(df['Backbone_size'].values), np.log(df['RT'].values))\n",
    "reg"
   ]
  },
  {
   "cell_type": "code",
   "execution_count": 34,
   "metadata": {},
   "outputs": [
    {
     "data": {
      "image/png": "[encoded data removed]",
      "text/plain": [
       "<Figure size 288x288 with 1 Axes>"
      ]
     },
     "metadata": {},
     "output_type": "display_data"
    }
   ],
   "source": [
    "fig = plt.figure()\n",
    "plt.plot(df['Backbone_size'], df['RT'], 'o')\n",
    "plt.xscale('log')\n",
    "plt.yscale('log')\n",
    "plt.xticks(df['Backbone_size'].unique())\n",
    "x0, x1 = plt.xlim()\n",
    "y0 = np.exp(np.log(x0) * reg.slope + reg.intercept)\n",
    "y1 = np.exp(np.log(x1) * reg.slope + reg.intercept)\n",
    "plt.plot([x0, x1], [y0, y1], '--')\n",
    "plt.xlabel('Backbone tree size')\n",
    "plt.ylabel('Wall clock time (sec)')\n",
    "ax = plt.gca()\n",
    "plt.text(0.1, 0.8, '$ln\\it{y} = %.3g %+.3g ln\\it{x}$\\n$\\it{R}^2 = %.3g$'\n",
    "         % (reg.intercept, reg.slope, reg.rvalue ** 2),\n",
    "         transform=ax.transAxes)\n",
    "fig.tight_layout()\n",
    "fig.savefig('instral.size.pdf', bbox_to_inches='tight')"
   ]
  },
  {
   "cell_type": "code",
   "execution_count": 41,
   "metadata": {},
   "outputs": [
    {
     "data": {
      "text/plain": [
       "603.57650678323591"
      ]
     },
     "execution_count": 41,
     "metadata": {},
     "output_type": "execute_result"
    }
   ],
   "source": [
    "np.exp(-3.79 + 1.1 * np.log(10575))"
   ]
  },
  {
   "cell_type": "markdown",
   "metadata": {},
   "source": [
    "Quadratic in log space"
   ]
  },
  {
   "cell_type": "code",
   "execution_count": 92,
   "metadata": {},
   "outputs": [
    {
     "data": {
      "text/plain": [
       "LinregressResult(slope=0.086279635564757512, intercept=-0.42279802231762975, rvalue=0.98824757949408792, pvalue=0.0, stderr=0.00020444931884171829)"
      ]
     },
     "execution_count": 92,
     "metadata": {},
     "output_type": "execute_result"
    }
   ],
   "source": [
    "reg = sp.stats.linregress(np.log(df['Backbone_size'].values) ** 2, np.log(df['RT'].values))\n",
    "reg"
   ]
  },
  {
   "cell_type": "code",
   "execution_count": 97,
   "metadata": {},
   "outputs": [
    {
     "data": {
      "image/png": "[encoded data removed]",
      "text/plain": [
       "<Figure size 288x288 with 1 Axes>"
      ]
     },
     "metadata": {},
     "output_type": "display_data"
    }
   ],
   "source": [
    "fig = plt.figure()\n",
    "plt.plot(df['Backbone_size'], df['RT'], 'o')\n",
    "plt.xscale('log')\n",
    "plt.yscale('log')\n",
    "plt.xticks(df['Backbone_size'].unique())\n",
    "x = np.array(range(*[int(x) for x in plt.xlim()]))\n",
    "y = np.exp(reg.intercept + reg.slope * np.log(x) ** 2)\n",
    "plt.plot(x, y, '--')\n",
    "plt.xlabel('Backbone tree size')\n",
    "plt.ylabel('Wall clock time (sec)')\n",
    "ax = plt.gca()\n",
    "plt.text(0.1, 0.8, '$ln\\it{y} = %.3g %+.3g (ln\\it{x})^2$\\n$\\it{R}^2 = %.3g$'\n",
    "         % (reg.intercept, reg.slope, reg.rvalue ** 2),\n",
    "         transform=ax.transAxes)\n",
    "fig.tight_layout()\n",
    "fig.savefig('instral.size.pdf', bbox_to_inches='tight')"
   ]
  },
  {
   "cell_type": "code",
   "execution_count": 96,
   "metadata": {},
   "outputs": [
    {
     "data": {
      "text/plain": [
       "1082.4770769722099"
      ]
     },
     "execution_count": 96,
     "metadata": {},
     "output_type": "execute_result"
    }
   ],
   "source": [
    "np.exp(-0.423 + 0.0863 * np.log(10575) ** 2)"
   ]
  },
  {
   "cell_type": "markdown",
   "metadata": {
    "heading_collapsed": true
   },
   "source": [
    "### HGT prediction"
   ]
  },
  {
   "cell_type": "markdown",
   "metadata": {
    "hidden": true
   },
   "source": [
    "#### Ranger-DTL"
   ]
  },
  {
   "cell_type": "code",
   "execution_count": 606,
   "metadata": {
    "hidden": true
   },
   "outputs": [
    {
     "data": {
      "text/html": [
       "<div>\n",
       "<style scoped>\n",
       "    .dataframe tbody tr th:only-of-type {\n",
       "        vertical-align: middle;\n",
       "    }\n",
       "\n",
       "    .dataframe tbody tr th {\n",
       "        vertical-align: top;\n",
       "    }\n",
       "\n",
       "    .dataframe thead th {\n",
       "        text-align: right;\n",
       "    }\n",
       "</style>\n",
       "<table border=\"1\" class=\"dataframe\">\n",
       "  <thead>\n",
       "    <tr style=\"text-align: right;\">\n",
       "      <th></th>\n",
       "      <th>Gene</th>\n",
       "      <th>Genomes</th>\n",
       "      <th>Taxa</th>\n",
       "      <th>Time</th>\n",
       "      <th>Memory</th>\n",
       "    </tr>\n",
       "  </thead>\n",
       "  <tbody>\n",
       "    <tr>\n",
       "      <th>1</th>\n",
       "      <td>PF00006.24</td>\n",
       "      <td>107</td>\n",
       "      <td>340</td>\n",
       "      <td>314.016</td>\n",
       "      <td>0.968</td>\n",
       "    </tr>\n",
       "    <tr>\n",
       "      <th>3</th>\n",
       "      <td>PF00012.19</td>\n",
       "      <td>78</td>\n",
       "      <td>118</td>\n",
       "      <td>67.368</td>\n",
       "      <td>0.364</td>\n",
       "    </tr>\n",
       "    <tr>\n",
       "      <th>4</th>\n",
       "      <td>PF00015.20</td>\n",
       "      <td>34</td>\n",
       "      <td>148</td>\n",
       "      <td>14.248</td>\n",
       "      <td>0.348</td>\n",
       "    </tr>\n",
       "    <tr>\n",
       "      <th>5</th>\n",
       "      <td>PF00016.19</td>\n",
       "      <td>12</td>\n",
       "      <td>17</td>\n",
       "      <td>0.052</td>\n",
       "      <td>0.196</td>\n",
       "    </tr>\n",
       "    <tr>\n",
       "      <th>6</th>\n",
       "      <td>PF00033.18</td>\n",
       "      <td>31</td>\n",
       "      <td>31</td>\n",
       "      <td>2.460</td>\n",
       "      <td>0.272</td>\n",
       "    </tr>\n",
       "  </tbody>\n",
       "</table>\n",
       "</div>"
      ],
      "text/plain": [
       "         Gene  Genomes  Taxa     Time  Memory\n",
       "1  PF00006.24      107   340  314.016   0.968\n",
       "3  PF00012.19       78   118   67.368   0.364\n",
       "4  PF00015.20       34   148   14.248   0.348\n",
       "5  PF00016.19       12    17    0.052   0.196\n",
       "6  PF00033.18       31    31    2.460   0.272"
      ]
     },
     "execution_count": 606,
     "metadata": {},
     "output_type": "execute_result"
    }
   ],
   "source": [
    "df = pd.read_table('data/ranger-dtl.tsv').query('0 < Time <= 450')\n",
    "df.head()"
   ]
  },
  {
   "cell_type": "code",
   "execution_count": 607,
   "metadata": {
    "hidden": true
   },
   "outputs": [
    {
     "data": {
      "image/png": "[encoded data removed]",
      "text/plain": [
       "<Figure size 288x288 with 1 Axes>"
      ]
     },
     "metadata": {},
     "output_type": "display_data"
    }
   ],
   "source": [
    "fig = plt.figure()\n",
    "plt.plot(df['Taxa'], df['Time'], 'o', alpha=0.2)\n",
    "plt.yscale('log')\n",
    "plt.xscale('log')\n",
    "plt.xlabel('Number of genes')\n",
    "plt.ylabel('Wall clock time (sec)')\n",
    "ax = plt.gca()\n",
    "plt.text(0.1, 0.85, 'A', size=20, transform=ax.transAxes)\n",
    "fig.tight_layout()\n",
    "fig.savefig('ranger.genes.pdf', bbox_to_inches='tight')"
   ]
  },
  {
   "cell_type": "code",
   "execution_count": 608,
   "metadata": {
    "hidden": true
   },
   "outputs": [
    {
     "data": {
      "image/png": "[encoded data removed]",
      "text/plain": [
       "<Figure size 288x288 with 1 Axes>"
      ]
     },
     "metadata": {},
     "output_type": "display_data"
    }
   ],
   "source": [
    "fig = plt.figure()\n",
    "plt.plot(df['Genomes'], df['Time'], 'o', alpha=0.2)\n",
    "plt.yscale('log')\n",
    "plt.xscale('log')\n",
    "plt.xlabel('Number of species')\n",
    "plt.ylabel('Wall clock time (sec)')\n",
    "ax = plt.gca()\n",
    "plt.text(0.1, 0.85, 'B', size=20, transform=ax.transAxes)\n",
    "fig.tight_layout()\n",
    "fig.savefig('ranger.species.pdf', bbox_to_inches='tight')"
   ]
  },
  {
   "cell_type": "markdown",
   "metadata": {
    "hidden": true
   },
   "source": [
    "Multiple linear regression"
   ]
  },
  {
   "cell_type": "code",
   "execution_count": 609,
   "metadata": {
    "hidden": true
   },
   "outputs": [],
   "source": [
    "reg = LinearRegression().fit(np.log(df[['Taxa', 'Genomes']]), np.log(df['Time']))"
   ]
  },
  {
   "cell_type": "code",
   "execution_count": 610,
   "metadata": {
    "hidden": true
   },
   "outputs": [
    {
     "data": {
      "text/plain": [
       "array([ 1.19072398,  2.41867145])"
      ]
     },
     "execution_count": 610,
     "metadata": {},
     "output_type": "execute_result"
    }
   ],
   "source": [
    "reg.coef_"
   ]
  },
  {
   "cell_type": "code",
   "execution_count": 611,
   "metadata": {
    "hidden": true
   },
   "outputs": [
    {
     "data": {
      "text/plain": [
       "-11.784108039928469"
      ]
     },
     "execution_count": 611,
     "metadata": {},
     "output_type": "execute_result"
    }
   ],
   "source": [
    "reg.intercept_"
   ]
  },
  {
   "cell_type": "code",
   "execution_count": 612,
   "metadata": {
    "hidden": true
   },
   "outputs": [],
   "source": [
    "x = np.arange(df['Taxa'].min(), df['Taxa'].max(), 10)\n",
    "y = np.arange(df['Genomes'].min(), df['Genomes'].max(), 10)\n",
    "X, Y = np.meshgrid(x, y)"
   ]
  },
  {
   "cell_type": "code",
   "execution_count": 613,
   "metadata": {
    "hidden": true
   },
   "outputs": [],
   "source": [
    "def func(x, y):\n",
    "    return np.exp(reg.intercept_ + reg.coef_[0] * np.log(x) + reg.coef_[1] * np.log(y))"
   ]
  },
  {
   "cell_type": "code",
   "execution_count": 614,
   "metadata": {
    "hidden": true
   },
   "outputs": [],
   "source": [
    "zs = np.array([func(x, y) for x, y in zip(np.ravel(X), np.ravel(Y))])\n",
    "Z = zs.reshape(X.shape)"
   ]
  },
  {
   "cell_type": "code",
   "execution_count": 619,
   "metadata": {
    "hidden": true
   },
   "outputs": [],
   "source": [
    "%matplotlib notebook"
   ]
  },
  {
   "cell_type": "code",
   "execution_count": 622,
   "metadata": {
    "hidden": true
   },
   "outputs": [
    {
     "data": {
      "image/png": "[encoded data removed]",
      "text/plain": [
       "<Figure size 432x288 with 1 Axes>"
      ]
     },
     "metadata": {},
     "output_type": "display_data"
    }
   ],
   "source": [
    "fig = plt.figure()\n",
    "ax = fig.add_subplot(111, projection='3d')\n",
    "ax.scatter(df['Taxa'], df['Genomes'], df['Time'], alpha=0.2)\n",
    "ax.plot_wireframe(X, Y, Z, color='C1', linewidths=0.5)\n",
    "ax.set_xlabel('Number of genes')\n",
    "ax.set_ylabel('Number of species')\n",
    "ax.set_zlabel('Wall clock time (sec)')\n",
    "ax.text(200, 0, 1600, '$ln(z) = %.3g %+.3g ln(x) %+.3g ln(y)$'\n",
    "             % (reg.intercept_, reg.coef_[0], reg.coef_[1]))\n",
    "ax.text(0, 0, 1350, 'C', size=20);"
   ]
  },
  {
   "cell_type": "code",
   "execution_count": 595,
   "metadata": {
    "hidden": true
   },
   "outputs": [],
   "source": [
    "fig.tight_layout()\n",
    "fig.savefig('ranger.3d.pdf', bbox_to_inches='tight')"
   ]
  },
  {
   "cell_type": "code",
   "execution_count": 621,
   "metadata": {
    "hidden": true
   },
   "outputs": [],
   "source": [
    "%matplotlib inline"
   ]
  },
  {
   "cell_type": "markdown",
   "metadata": {
    "heading_collapsed": true,
    "hidden": true
   },
   "source": [
    "#### DIAMOND"
   ]
  },
  {
   "cell_type": "code",
   "execution_count": 193,
   "metadata": {
    "hidden": true
   },
   "outputs": [
    {
     "data": {
      "text/html": [
       "<div>\n",
       "<style scoped>\n",
       "    .dataframe tbody tr th:only-of-type {\n",
       "        vertical-align: middle;\n",
       "    }\n",
       "\n",
       "    .dataframe tbody tr th {\n",
       "        vertical-align: top;\n",
       "    }\n",
       "\n",
       "    .dataframe thead th {\n",
       "        text-align: right;\n",
       "    }\n",
       "</style>\n",
       "<table border=\"1\" class=\"dataframe\">\n",
       "  <thead>\n",
       "    <tr style=\"text-align: right;\">\n",
       "      <th></th>\n",
       "      <th>size</th>\n",
       "      <th>ellapsed</th>\n",
       "      <th>system</th>\n",
       "      <th>user</th>\n",
       "      <th>average</th>\n",
       "      <th>maximum</th>\n",
       "      <th>runtime</th>\n",
       "      <th>memory</th>\n",
       "    </tr>\n",
       "  </thead>\n",
       "  <tbody>\n",
       "    <tr>\n",
       "      <th>0</th>\n",
       "      <td>100000</td>\n",
       "      <td>5:07:51</td>\n",
       "      <td>267347.20</td>\n",
       "      <td>1768.19</td>\n",
       "      <td>0</td>\n",
       "      <td>14578792</td>\n",
       "      <td>18471.00</td>\n",
       "      <td>14.578792</td>\n",
       "    </tr>\n",
       "    <tr>\n",
       "      <th>1</th>\n",
       "      <td>50000</td>\n",
       "      <td>3:02:04</td>\n",
       "      <td>156559.79</td>\n",
       "      <td>1178.54</td>\n",
       "      <td>0</td>\n",
       "      <td>12072236</td>\n",
       "      <td>10924.00</td>\n",
       "      <td>12.072236</td>\n",
       "    </tr>\n",
       "    <tr>\n",
       "      <th>2</th>\n",
       "      <td>20000</td>\n",
       "      <td>1:50:23</td>\n",
       "      <td>89367.80</td>\n",
       "      <td>966.05</td>\n",
       "      <td>0</td>\n",
       "      <td>10477660</td>\n",
       "      <td>6623.00</td>\n",
       "      <td>10.477660</td>\n",
       "    </tr>\n",
       "    <tr>\n",
       "      <th>3</th>\n",
       "      <td>10000</td>\n",
       "      <td>1:01:43</td>\n",
       "      <td>45423.22</td>\n",
       "      <td>691.85</td>\n",
       "      <td>0</td>\n",
       "      <td>14644928</td>\n",
       "      <td>3703.00</td>\n",
       "      <td>14.644928</td>\n",
       "    </tr>\n",
       "    <tr>\n",
       "      <th>4</th>\n",
       "      <td>5000</td>\n",
       "      <td>40:59.19</td>\n",
       "      <td>25961.28</td>\n",
       "      <td>547.47</td>\n",
       "      <td>0</td>\n",
       "      <td>12114628</td>\n",
       "      <td>2459.19</td>\n",
       "      <td>12.114628</td>\n",
       "    </tr>\n",
       "  </tbody>\n",
       "</table>\n",
       "</div>"
      ],
      "text/plain": [
       "     size  ellapsed     system     user  average   maximum   runtime  \\\n",
       "0  100000   5:07:51  267347.20  1768.19        0  14578792  18471.00   \n",
       "1   50000   3:02:04  156559.79  1178.54        0  12072236  10924.00   \n",
       "2   20000   1:50:23   89367.80   966.05        0  10477660   6623.00   \n",
       "3   10000   1:01:43   45423.22   691.85        0  14644928   3703.00   \n",
       "4    5000  40:59.19   25961.28   547.47        0  12114628   2459.19   \n",
       "\n",
       "      memory  \n",
       "0  14.578792  \n",
       "1  12.072236  \n",
       "2  10.477660  \n",
       "3  14.644928  \n",
       "4  12.114628  "
      ]
     },
     "execution_count": 193,
     "metadata": {},
     "output_type": "execute_result"
    }
   ],
   "source": [
    "columns = ['size', 'ellapsed', 'system', 'user', 'average', 'maximum']\n",
    "df = pd.read_table('data/diamond.size.tsv', names=columns)\n",
    "df['runtime'] = df['ellapsed'].apply(hms2s)\n",
    "df['memory'] = df['maximum'] / 1000000\n",
    "df.head()"
   ]
  },
  {
   "cell_type": "code",
   "execution_count": 194,
   "metadata": {
    "hidden": true
   },
   "outputs": [
    {
     "data": {
      "text/plain": [
       "LinregressResult(slope=0.17742435613172369, intercept=1421.046156233057, rvalue=0.99170841271011112, pvalue=2.0473919750632468e-08, stderr=0.008128603959272309)"
      ]
     },
     "execution_count": 194,
     "metadata": {},
     "output_type": "execute_result"
    }
   ],
   "source": [
    "reg = sp.stats.linregress(df[['size', 'runtime']].values)\n",
    "reg"
   ]
  },
  {
   "cell_type": "code",
   "execution_count": 196,
   "metadata": {
    "hidden": true
   },
   "outputs": [
    {
     "data": {
      "image/png": "[encoded data removed]",
      "text/plain": [
       "<Figure size 288x288 with 1 Axes>"
      ]
     },
     "metadata": {},
     "output_type": "display_data"
    }
   ],
   "source": [
    "fig = plt.figure()\n",
    "plt.plot(df['size'], df['runtime'], 'o')\n",
    "plt.xticks(df['size'])\n",
    "x0, x1 = plt.xlim()\n",
    "y0 = x0 * reg.slope + reg.intercept\n",
    "y1 = x1 * reg.slope + reg.intercept\n",
    "plt.plot([x0, x1], [y0, y1], '--')\n",
    "plt.xlabel('Sample size (kilo sequences)')\n",
    "plt.ylabel('Wall clock time (sec)')\n",
    "ax = plt.gca()\n",
    "plt.text(0.1, 0.85, 'A', size=20, transform=ax.transAxes)\n",
    "fig.tight_layout()\n",
    "fig.savefig('diamond.size.pdf', bbox_to_inches='tight')"
   ]
  },
  {
   "cell_type": "code",
   "execution_count": 200,
   "metadata": {
    "hidden": true
   },
   "outputs": [
    {
     "data": {
      "text/html": [
       "<div>\n",
       "<style scoped>\n",
       "    .dataframe tbody tr th:only-of-type {\n",
       "        vertical-align: middle;\n",
       "    }\n",
       "\n",
       "    .dataframe tbody tr th {\n",
       "        vertical-align: top;\n",
       "    }\n",
       "\n",
       "    .dataframe thead th {\n",
       "        text-align: right;\n",
       "    }\n",
       "</style>\n",
       "<table border=\"1\" class=\"dataframe\">\n",
       "  <thead>\n",
       "    <tr style=\"text-align: right;\">\n",
       "      <th></th>\n",
       "      <th>cores</th>\n",
       "      <th>ellapsed</th>\n",
       "      <th>system</th>\n",
       "      <th>user</th>\n",
       "      <th>average</th>\n",
       "      <th>maximum</th>\n",
       "      <th>runtime</th>\n",
       "      <th>memory</th>\n",
       "    </tr>\n",
       "  </thead>\n",
       "  <tbody>\n",
       "    <tr>\n",
       "      <th>0</th>\n",
       "      <td>16</td>\n",
       "      <td>15:02.72</td>\n",
       "      <td>7149.21</td>\n",
       "      <td>199.78</td>\n",
       "      <td>0</td>\n",
       "      <td>7453912</td>\n",
       "      <td>902.72</td>\n",
       "      <td>7.453912</td>\n",
       "    </tr>\n",
       "    <tr>\n",
       "      <th>1</th>\n",
       "      <td>12</td>\n",
       "      <td>20:38.29</td>\n",
       "      <td>6073.41</td>\n",
       "      <td>250.73</td>\n",
       "      <td>0</td>\n",
       "      <td>7382224</td>\n",
       "      <td>1238.29</td>\n",
       "      <td>7.382224</td>\n",
       "    </tr>\n",
       "    <tr>\n",
       "      <th>2</th>\n",
       "      <td>8</td>\n",
       "      <td>21:45.17</td>\n",
       "      <td>4750.25</td>\n",
       "      <td>231.75</td>\n",
       "      <td>0</td>\n",
       "      <td>7074620</td>\n",
       "      <td>1305.17</td>\n",
       "      <td>7.074620</td>\n",
       "    </tr>\n",
       "    <tr>\n",
       "      <th>3</th>\n",
       "      <td>4</td>\n",
       "      <td>28:44.48</td>\n",
       "      <td>4364.06</td>\n",
       "      <td>238.77</td>\n",
       "      <td>0</td>\n",
       "      <td>6891652</td>\n",
       "      <td>1724.48</td>\n",
       "      <td>6.891652</td>\n",
       "    </tr>\n",
       "    <tr>\n",
       "      <th>4</th>\n",
       "      <td>2</td>\n",
       "      <td>42:45.62</td>\n",
       "      <td>4003.94</td>\n",
       "      <td>238.84</td>\n",
       "      <td>0</td>\n",
       "      <td>6760600</td>\n",
       "      <td>2565.62</td>\n",
       "      <td>6.760600</td>\n",
       "    </tr>\n",
       "  </tbody>\n",
       "</table>\n",
       "</div>"
      ],
      "text/plain": [
       "   cores  ellapsed   system    user  average  maximum  runtime    memory\n",
       "0     16  15:02.72  7149.21  199.78        0  7453912   902.72  7.453912\n",
       "1     12  20:38.29  6073.41  250.73        0  7382224  1238.29  7.382224\n",
       "2      8  21:45.17  4750.25  231.75        0  7074620  1305.17  7.074620\n",
       "3      4  28:44.48  4364.06  238.77        0  6891652  1724.48  6.891652\n",
       "4      2  42:45.62  4003.94  238.84        0  6760600  2565.62  6.760600"
      ]
     },
     "execution_count": 200,
     "metadata": {},
     "output_type": "execute_result"
    }
   ],
   "source": [
    "columns = ['cores', 'ellapsed', 'system', 'user', 'average', 'maximum']\n",
    "df = pd.read_table('data/diamond.cores.tsv', names=columns)\n",
    "df['runtime'] = df['ellapsed'].apply(hms2s)\n",
    "df['memory'] = df['maximum'] / 1000000\n",
    "df.head()"
   ]
  },
  {
   "cell_type": "code",
   "execution_count": 201,
   "metadata": {
    "hidden": true
   },
   "outputs": [],
   "source": [
    "base = float(df.query('cores == 1')['runtime'])\n",
    "df['speedup'] = base / df['runtime']"
   ]
  },
  {
   "cell_type": "code",
   "execution_count": 202,
   "metadata": {
    "hidden": true
   },
   "outputs": [
    {
     "data": {
      "text/plain": [
       "0    4.757843\n",
       "1    3.468493\n",
       "2    3.290759\n",
       "3    2.490606\n",
       "4    1.674059\n",
       "5    1.000000\n",
       "Name: speedup, dtype: float64"
      ]
     },
     "execution_count": 202,
     "metadata": {},
     "output_type": "execute_result"
    }
   ],
   "source": [
    "df['speedup']"
   ]
  },
  {
   "cell_type": "code",
   "execution_count": 191,
   "metadata": {
    "hidden": true
   },
   "outputs": [
    {
     "data": {
      "image/png": "[encoded data removed]",
      "text/plain": [
       "<Figure size 288x288 with 1 Axes>"
      ]
     },
     "metadata": {},
     "output_type": "display_data"
    }
   ],
   "source": [
    "fig = plt.figure()\n",
    "plt.plot(df['cores'], df['speedup'], '-o')\n",
    "plt.plot([0, 16], [0, 16], '--k')\n",
    "plt.xticks(df['cores'].unique())\n",
    "plt.xlim([0, 16])\n",
    "plt.ylim([0, 16])\n",
    "plt.xlabel('Number of cores')\n",
    "plt.ylabel('Speed-up')\n",
    "ax = plt.gca()\n",
    "plt.text(0.1, 0.85, 'B', size=20, transform=ax.transAxes)\n",
    "fig.tight_layout()\n",
    "fig.savefig('diamond.cores.pdf', bbox_to_inches='tight')"
   ]
  },
  {
   "cell_type": "markdown",
   "metadata": {
    "heading_collapsed": true,
    "hidden": true
   },
   "source": [
    "#### Calculation"
   ]
  },
  {
   "cell_type": "code",
   "execution_count": 147,
   "metadata": {
    "hidden": true
   },
   "outputs": [],
   "source": [
    "%%script false\n",
    "def ranger(x, y):\n",
    "    return 14.71 - 1.76 * x + 0.0247 * x ** 2 + 0.344 * y + 0.000399 * y ** 2"
   ]
  },
  {
   "cell_type": "code",
   "execution_count": 148,
   "metadata": {
    "hidden": true
   },
   "outputs": [],
   "source": [
    "def ranger(x, y):  # genes, species\n",
    "    return np.exp(-11.8 + 1.19 * np.log(x) + 2.42 * np.log(y))"
   ]
  },
  {
   "cell_type": "code",
   "execution_count": 159,
   "metadata": {
    "hidden": true
   },
   "outputs": [
    {
     "data": {
      "text/plain": [
       "#cluster\n",
       "AAAC01000001.1_4976     0.085217\n",
       "AAFV01000278.1_2       15.311071\n",
       "AAKL01000024.1_28       0.430972\n",
       "AARM02000317.1_1        3.186808\n",
       "AARY02000029.1_9       85.653348\n",
       "dtype: float64"
      ]
     },
     "execution_count": 159,
     "metadata": {},
     "output_type": "execute_result"
    }
   ],
   "source": [
    "times = df[['all_in', 'genomes_in']].apply(lambda x: ranger(*x), axis=1) / 3600\n",
    "times.head()"
   ]
  },
  {
   "cell_type": "code",
   "execution_count": 160,
   "metadata": {
    "hidden": true
   },
   "outputs": [
    {
     "data": {
      "text/plain": [
       "(45367,)"
      ]
     },
     "execution_count": 160,
     "metadata": {},
     "output_type": "execute_result"
    }
   ],
   "source": [
    "times[times < 1680].shape"
   ]
  },
  {
   "cell_type": "code",
   "execution_count": 163,
   "metadata": {
    "hidden": true
   },
   "outputs": [
    {
     "data": {
      "text/plain": [
       "0.992887157489276"
      ]
     },
     "execution_count": 163,
     "metadata": {},
     "output_type": "execute_result"
    }
   ],
   "source": [
    "45367 / 45692"
   ]
  },
  {
   "cell_type": "code",
   "execution_count": 161,
   "metadata": {
    "hidden": true
   },
   "outputs": [
    {
     "data": {
      "text/plain": [
       "625323.35381152388"
      ]
     },
     "execution_count": 161,
     "metadata": {},
     "output_type": "execute_result"
    }
   ],
   "source": [
    "times[times < 1680].sum()"
   ]
  },
  {
   "cell_type": "code",
   "execution_count": 158,
   "metadata": {
    "hidden": true
   },
   "outputs": [
    {
     "data": {
      "text/plain": [
       "31162846881.063297"
      ]
     },
     "execution_count": 158,
     "metadata": {},
     "output_type": "execute_result"
    }
   ],
   "source": [
    "times.sum()"
   ]
  },
  {
   "cell_type": "code",
   "execution_count": 140,
   "metadata": {
    "hidden": true
   },
   "outputs": [
    {
     "data": {
      "text/plain": [
       "454667.06846046576"
      ]
     },
     "execution_count": 140,
     "metadata": {},
     "output_type": "execute_result"
    }
   ],
   "source": [
    "df[['all_in', 'genomes_in']].apply(lambda x: ranger(*x), axis=1).max() / 3600"
   ]
  },
  {
   "cell_type": "code",
   "execution_count": 149,
   "metadata": {
    "hidden": true
   },
   "outputs": [
    {
     "data": {
      "text/plain": [
       "8656346.3558509164"
      ]
     },
     "execution_count": 149,
     "metadata": {},
     "output_type": "execute_result"
    }
   ],
   "source": [
    "df[['all_in', 'genomes_in']].apply(lambda x: ranger(*x), axis=1).sum() / 3600"
   ]
  },
  {
   "cell_type": "code",
   "execution_count": null,
   "metadata": {
    "hidden": true
   },
   "outputs": [],
   "source": [
    "# 10.23 million queries\n",
    "# 20000 each, 6623 secs"
   ]
  },
  {
   "cell_type": "code",
   "execution_count": 198,
   "metadata": {
    "hidden": true
   },
   "outputs": [
    {
     "data": {
      "text/plain": [
       "15056.286666666667"
      ]
     },
     "execution_count": 198,
     "metadata": {},
     "output_type": "execute_result"
    }
   ],
   "source": [
    "10.23 * 1000000 / 20000 * 6623 * 16 / 3600"
   ]
  },
  {
   "cell_type": "markdown",
   "metadata": {},
   "source": [
    "### Metagenome profiling"
   ]
  },
  {
   "cell_type": "markdown",
   "metadata": {},
   "source": [
    "#### CAMI"
   ]
  },
  {
   "cell_type": "code",
   "execution_count": 43,
   "metadata": {},
   "outputs": [
    {
     "data": {
      "text/plain": [
       "80"
      ]
     },
     "execution_count": 43,
     "metadata": {},
     "output_type": "execute_result"
    }
   ],
   "source": [
    "df = pd.read_table('data/cami.tsv')\n",
    "df.shape[0]"
   ]
  },
  {
   "cell_type": "code",
   "execution_count": 44,
   "metadata": {},
   "outputs": [],
   "source": [
    "# simplify sample IDs\n",
    "df['Sample'] = df['Sample'].apply(\n",
    "    lambda x: 'S1' if x.startswith('S')\n",
    "    else ('H%s' % x[-1] if x.startswith('H')\n",
    "          else 'M%s%s' % (x[1], ('a' if 'S001' in x else 'b'))))"
   ]
  },
  {
   "cell_type": "code",
   "execution_count": 45,
   "metadata": {},
   "outputs": [],
   "source": [
    "# convert memory to GB\n",
    "df['Memory'] = df['Memory'] / 1000000"
   ]
  },
  {
   "cell_type": "code",
   "execution_count": 46,
   "metadata": {},
   "outputs": [],
   "source": [
    "# convert wall clock time to seconds\n",
    "df['Runtime'] = df['Ellapsed'].apply(hms2s)"
   ]
  },
  {
   "cell_type": "code",
   "execution_count": 47,
   "metadata": {},
   "outputs": [
    {
     "data": {
      "text/html": [
       "<div>\n",
       "<style scoped>\n",
       "    .dataframe tbody tr th:only-of-type {\n",
       "        vertical-align: middle;\n",
       "    }\n",
       "\n",
       "    .dataframe tbody tr th {\n",
       "        vertical-align: top;\n",
       "    }\n",
       "\n",
       "    .dataframe thead th {\n",
       "        text-align: right;\n",
       "    }\n",
       "</style>\n",
       "<table border=\"1\" class=\"dataframe\">\n",
       "  <thead>\n",
       "    <tr style=\"text-align: right;\">\n",
       "      <th></th>\n",
       "      <th>Dataset</th>\n",
       "      <th>Database</th>\n",
       "      <th>Program</th>\n",
       "      <th>Tree</th>\n",
       "      <th>Sample</th>\n",
       "      <th>Sequences</th>\n",
       "      <th>Basepairs</th>\n",
       "      <th>Ellapsed</th>\n",
       "      <th>User</th>\n",
       "      <th>System</th>\n",
       "      <th>Memory</th>\n",
       "      <th>Runtime</th>\n",
       "    </tr>\n",
       "  </thead>\n",
       "  <tbody>\n",
       "    <tr>\n",
       "      <th>0</th>\n",
       "      <td>low</td>\n",
       "      <td>11K</td>\n",
       "      <td>Centrifuge</td>\n",
       "      <td>False</td>\n",
       "      <td>S1</td>\n",
       "      <td>147848026</td>\n",
       "      <td>14784802600</td>\n",
       "      <td>18:25.7</td>\n",
       "      <td>24601.47</td>\n",
       "      <td>5553.28</td>\n",
       "      <td>19.843432</td>\n",
       "      <td>1105.7</td>\n",
       "    </tr>\n",
       "    <tr>\n",
       "      <th>1</th>\n",
       "      <td>low</td>\n",
       "      <td>11K</td>\n",
       "      <td>Kraken</td>\n",
       "      <td>False</td>\n",
       "      <td>S1</td>\n",
       "      <td>147848026</td>\n",
       "      <td>14784802600</td>\n",
       "      <td>17:12.1</td>\n",
       "      <td>9504.35</td>\n",
       "      <td>9414.51</td>\n",
       "      <td>272.591560</td>\n",
       "      <td>1032.1</td>\n",
       "    </tr>\n",
       "    <tr>\n",
       "      <th>2</th>\n",
       "      <td>low</td>\n",
       "      <td>11K</td>\n",
       "      <td>Kraken</td>\n",
       "      <td>True</td>\n",
       "      <td>S1</td>\n",
       "      <td>147848026</td>\n",
       "      <td>14784802600</td>\n",
       "      <td>38:54.2</td>\n",
       "      <td>9709.67</td>\n",
       "      <td>1745.93</td>\n",
       "      <td>272.582416</td>\n",
       "      <td>2334.2</td>\n",
       "    </tr>\n",
       "    <tr>\n",
       "      <th>3</th>\n",
       "      <td>low</td>\n",
       "      <td>11K</td>\n",
       "      <td>Burst</td>\n",
       "      <td>False</td>\n",
       "      <td>S1</td>\n",
       "      <td>147848026</td>\n",
       "      <td>14784802600</td>\n",
       "      <td>58:35.6</td>\n",
       "      <td>64537.58</td>\n",
       "      <td>687.48</td>\n",
       "      <td>238.167632</td>\n",
       "      <td>3515.6</td>\n",
       "    </tr>\n",
       "    <tr>\n",
       "      <th>4</th>\n",
       "      <td>low</td>\n",
       "      <td>11K</td>\n",
       "      <td>UTree</td>\n",
       "      <td>False</td>\n",
       "      <td>S1</td>\n",
       "      <td>147848026</td>\n",
       "      <td>14784802600</td>\n",
       "      <td>07:47.0</td>\n",
       "      <td>12142.28</td>\n",
       "      <td>81.43</td>\n",
       "      <td>10.647940</td>\n",
       "      <td>467.0</td>\n",
       "    </tr>\n",
       "  </tbody>\n",
       "</table>\n",
       "</div>"
      ],
      "text/plain": [
       "  Dataset Database     Program   Tree Sample  Sequences    Basepairs Ellapsed  \\\n",
       "0     low      11K  Centrifuge  False     S1  147848026  14784802600  18:25.7   \n",
       "1     low      11K      Kraken  False     S1  147848026  14784802600  17:12.1   \n",
       "2     low      11K      Kraken   True     S1  147848026  14784802600  38:54.2   \n",
       "3     low      11K       Burst  False     S1  147848026  14784802600  58:35.6   \n",
       "4     low      11K       UTree  False     S1  147848026  14784802600  07:47.0   \n",
       "\n",
       "       User   System      Memory  Runtime  \n",
       "0  24601.47  5553.28   19.843432   1105.7  \n",
       "1   9504.35  9414.51  272.591560   1032.1  \n",
       "2   9709.67  1745.93  272.582416   2334.2  \n",
       "3  64537.58   687.48  238.167632   3515.6  \n",
       "4  12142.28    81.43   10.647940    467.0  "
      ]
     },
     "execution_count": 47,
     "metadata": {},
     "output_type": "execute_result"
    }
   ],
   "source": [
    "df.head()"
   ]
  },
  {
   "cell_type": "markdown",
   "metadata": {},
   "source": [
    "Sample sizes"
   ]
  },
  {
   "cell_type": "code",
   "execution_count": 56,
   "metadata": {},
   "outputs": [
    {
     "data": {
      "image/png": "[encoded data removed]",
      "text/plain": [
       "<Figure size 288x288 with 1 Axes>"
      ]
     },
     "metadata": {},
     "output_type": "display_data"
    }
   ],
   "source": [
    "ax = sns.barplot(x='Sample', y='Sequences', color=sns.color_palette()[0],\n",
    "                 data=df.drop_duplicates(subset='Sample', keep='first'));"
   ]
  },
  {
   "cell_type": "markdown",
   "metadata": {},
   "source": [
    "Custom legend"
   ]
  },
  {
   "cell_type": "code",
   "execution_count": 171,
   "metadata": {},
   "outputs": [
    {
     "data": {
      "text/plain": [
       "{'S1': 'low',\n",
       " 'M1a': 'medium',\n",
       " 'M2a': 'medium',\n",
       " 'M1b': 'medium',\n",
       " 'M2b': 'medium',\n",
       " 'H1': 'high',\n",
       " 'H2': 'high',\n",
       " 'H3': 'high',\n",
       " 'H4': 'high',\n",
       " 'H5': 'high'}"
      ]
     },
     "execution_count": 171,
     "metadata": {},
     "output_type": "execute_result"
    }
   ],
   "source": [
    "sample2dataset = dict(df[['Sample', 'Dataset']].values.tolist())\n",
    "sample2dataset"
   ]
  },
  {
   "cell_type": "code",
   "execution_count": 172,
   "metadata": {},
   "outputs": [],
   "source": [
    "palette = sns.color_palette('Set1')"
   ]
  },
  {
   "cell_type": "code",
   "execution_count": 173,
   "metadata": {},
   "outputs": [],
   "source": [
    "labels = ['low', 'medium', 'high']\n",
    "cmap = {k: palette[labels.index(v)] for k, v in sample2dataset.items()}\n",
    "handles = [Line2D([0], [0], color=palette[i]) for i in range(3)]"
   ]
  },
  {
   "cell_type": "markdown",
   "metadata": {},
   "source": [
    "Overall performance"
   ]
  },
  {
   "cell_type": "code",
   "execution_count": 174,
   "metadata": {},
   "outputs": [
    {
     "data": {
      "image/png": "[encoded data removed]",
      "text/plain": [
       "<Figure size 288x288 with 1 Axes>"
      ]
     },
     "metadata": {},
     "output_type": "display_data"
    }
   ],
   "source": [
    "ax = sns.lineplot(x='Program', y='Runtime', hue='Sample', palette=cmap, legend=False,\n",
    "                  data=df.query('Database == \"11K\" and Tree == False'))\n",
    "ax.set_yscale('log')\n",
    "ax.set_ylabel('Wall clock time (sec)')\n",
    "ax.legend(handles, labels, title='Complexity')\n",
    "ax.set_ylabel('Wall clock time (sec)')\n",
    "ax.text(0.1, 0.1, 'A', size=20, transform=ax.transAxes)\n",
    "savepdf(ax.get_figure(), 'sample.time.pdf')"
   ]
  },
  {
   "cell_type": "code",
   "execution_count": 175,
   "metadata": {},
   "outputs": [
    {
     "data": {
      "image/png": "[encoded data removed]",
      "text/plain": [
       "<Figure size 288x288 with 1 Axes>"
      ]
     },
     "metadata": {},
     "output_type": "display_data"
    }
   ],
   "source": [
    "ax = sns.lineplot(x='Program', y='Memory', hue='Sample', palette=cmap, legend=False,\n",
    "                  data=df.query('Database == \"11K\" and Tree == False'))\n",
    "ax.set_ylabel('Maximum memory (GB)')\n",
    "ax.text(0.1, 0.85, 'B', size=20, transform=ax.transAxes)\n",
    "savepdf(ax.get_figure(), 'sample.ram.pdf')"
   ]
  },
  {
   "cell_type": "markdown",
   "metadata": {},
   "source": [
    "Tree vs. no tree"
   ]
  },
  {
   "cell_type": "code",
   "execution_count": 180,
   "metadata": {},
   "outputs": [
    {
     "data": {
      "image/png": "[encoded data removed]",
      "text/plain": [
       "<Figure size 288x288 with 1 Axes>"
      ]
     },
     "metadata": {},
     "output_type": "display_data"
    }
   ],
   "source": [
    "# Kraken\n",
    "ax = sns.lineplot(x='Sample', y='Runtime', hue='Tree', data=df.query('Program == \"Kraken\" and Database == \"11K\"'))\n",
    "handles, labels = ax.get_legend_handles_labels()\n",
    "ax.legend(handles[1:], labels[1:], title='Phylogeny', loc='upper left', bbox_to_anchor=(0.12, 0.95))\n",
    "ax.set_ylabel('Wall clock time (sec)')\n",
    "ax.text(0.1, 0.1, 'C', size=20, transform=ax.transAxes)\n",
    "ax.text(0.2, 0.1, '(Kraken)', size=12, transform=ax.transAxes)\n",
    "savepdf(ax.get_figure(), 'phylo.kraken.pdf')"
   ]
  },
  {
   "cell_type": "code",
   "execution_count": 181,
   "metadata": {},
   "outputs": [
    {
     "data": {
      "image/png": "[encoded data removed]",
      "text/plain": [
       "<Figure size 288x288 with 1 Axes>"
      ]
     },
     "metadata": {},
     "output_type": "display_data"
    }
   ],
   "source": [
    "# UTree\n",
    "ax = sns.lineplot(x='Sample', y='Runtime', hue='Tree', data=df.query('Program == \"UTree\"'), legend=False)\n",
    "ax.set_ylabel('Wall clock time (sec)')\n",
    "ax.text(0.85, 0.85, 'D', size=20, transform=ax.transAxes)\n",
    "ax.text(0.75, 0.75, '(UTree)', size=12, transform=ax.transAxes)\n",
    "savepdf(ax.get_figure(), 'phylo.utree.pdf')"
   ]
  },
  {
   "cell_type": "markdown",
   "metadata": {},
   "source": [
    "ToL vs stdb"
   ]
  },
  {
   "cell_type": "code",
   "execution_count": 49,
   "metadata": {},
   "outputs": [
    {
     "data": {
      "image/png": "[encoded data removed]",
      "text/plain": [
       "<Figure size 288x288 with 1 Axes>"
      ]
     },
     "metadata": {},
     "output_type": "display_data"
    }
   ],
   "source": [
    "ax = sns.lineplot(x='Sample', y='Runtime', hue='Database', data=df.query('Program == \"Kraken\" and Tree == False'))\n",
    "handles, labels = ax.get_legend_handles_labels()\n",
    "ax.legend(handles[1:], ['core', 'standard'], title='Database', loc='center left', bbox_to_anchor=(0.05, 0.65))\n",
    "ax.set_ylabel('Wall clock time (sec)')\n",
    "ax.text(0.1, 0.85, 'A', size=20, transform=ax.transAxes)\n",
    "ax.text(0.2, 0.85, '(Kraken)', size=12, transform=ax.transAxes)\n",
    "savepdf(ax.get_figure(), 'db.kraken.time.pdf')"
   ]
  },
  {
   "cell_type": "code",
   "execution_count": 110,
   "metadata": {},
   "outputs": [
    {
     "data": {
      "image/png": "[encoded data removed]",
      "text/plain": [
       "<Figure size 288x288 with 1 Axes>"
      ]
     },
     "metadata": {},
     "output_type": "display_data"
    }
   ],
   "source": [
    "ax = sns.lineplot(x='Sample', y='Runtime', hue='Database', data=df.query('Program == \"Centrifuge\" and Tree == False'), legend=False)\n",
    "ax.set_ylabel('Wall clock time (sec)')\n",
    "ax.text(0.1, 0.85, 'B', size=20, transform=ax.transAxes)\n",
    "ax.text(0.2, 0.85, '(Centrifuge)', size=12, transform=ax.transAxes)\n",
    "savepdf(ax.get_figure(), 'db.centrifuge.time.pdf')"
   ]
  },
  {
   "cell_type": "code",
   "execution_count": 111,
   "metadata": {},
   "outputs": [
    {
     "data": {
      "image/png": "[encoded data removed]",
      "text/plain": [
       "<Figure size 288x288 with 1 Axes>"
      ]
     },
     "metadata": {},
     "output_type": "display_data"
    }
   ],
   "source": [
    "ax = sns.lineplot(x='Sample', y='Memory', hue='Database', data=df.query('Program == \"Kraken\" and Tree == False'), legend=False)\n",
    "ax.set_ylabel('Maximum memory (GB)')\n",
    "ax.text(0.1, 0.75, 'C', size=20, transform=ax.transAxes)\n",
    "ax.text(0.1, 0.65, '(Kraken)', size=12, transform=ax.transAxes)\n",
    "savepdf(ax.get_figure(), 'db.kraken.ram.pdf')"
   ]
  },
  {
   "cell_type": "code",
   "execution_count": 112,
   "metadata": {},
   "outputs": [
    {
     "data": {
      "image/png": "[encoded data removed]",
      "text/plain": [
       "<Figure size 288x288 with 1 Axes>"
      ]
     },
     "metadata": {},
     "output_type": "display_data"
    }
   ],
   "source": [
    "ax = sns.lineplot(x='Sample', y='Memory', hue='Database', data=df.query('Program == \"Centrifuge\" and Tree == False'), legend=False)\n",
    "ax.set_ylabel('Maximum memory (GB)')\n",
    "ax.text(0.1, 0.75, 'D', size=20, transform=ax.transAxes)\n",
    "ax.text(0.1, 0.65, '(Centrifuge)', size=12, transform=ax.transAxes)\n",
    "savepdf(ax.get_figure(), 'db.centrifuge.ram.pdf')"
   ]
  },
  {
   "cell_type": "markdown",
   "metadata": {},
   "source": [
    "#### Scalability by cores"
   ]
  },
  {
   "cell_type": "code",
   "execution_count": 52,
   "metadata": {},
   "outputs": [],
   "source": [
    "columns = ['cores', 'ellapsed', 'system', 'user', 'average', 'maximum']"
   ]
  },
  {
   "cell_type": "code",
   "execution_count": 50,
   "metadata": {},
   "outputs": [],
   "source": [
    "def plot_speedup(program, letter):\n",
    "    df = pd.read_table('data/%s.cores.txt' % program, names=columns)\n",
    "    df['runtime'] = df['ellapsed'].apply(hms2s)\n",
    "    df['memory'] = df['maximum'] / 1000000\n",
    "    df = df[['cores', 'runtime', 'memory']]\n",
    "    base = float(df.query('cores == 1')['runtime'])\n",
    "    df['speedup'] = base / df['runtime']\n",
    "    plt.plot(df['cores'], df['speedup'], '-o')\n",
    "    plt.xticks(df['cores'].unique())\n",
    "    plt.plot([0, 32], [0, 32], '--k')\n",
    "    plt.xlim([0, 32])\n",
    "    plt.ylim([0, 32])\n",
    "    plt.xlabel('Number of cores')\n",
    "    plt.ylabel('Speed-up')\n",
    "    ax = plt.gca()\n",
    "    plt.text(0.1, 0.85, letter, size=20, transform=ax.transAxes)\n",
    "    plt.text(0.2, 0.85, '(%s)' % program.capitalize(), size=12, transform=ax.transAxes)\n",
    "    savepdf(ax.get_figure(), '%s.cores.pdf' % program)"
   ]
  },
  {
   "cell_type": "code",
   "execution_count": 53,
   "metadata": {},
   "outputs": [
    {
     "data": {
      "image/png": "[encoded data removed]",
      "text/plain": [
       "<Figure size 288x288 with 1 Axes>"
      ]
     },
     "metadata": {},
     "output_type": "display_data"
    }
   ],
   "source": [
    "plot_speedup('burst', 'A')"
   ]
  },
  {
   "cell_type": "code",
   "execution_count": 54,
   "metadata": {},
   "outputs": [
    {
     "data": {
      "image/png": "[encoded data removed]",
      "text/plain": [
       "<Figure size 288x288 with 1 Axes>"
      ]
     },
     "metadata": {},
     "output_type": "display_data"
    }
   ],
   "source": [
    "plot_speedup('centrifuge', 'B')"
   ]
  },
  {
   "cell_type": "code",
   "execution_count": 55,
   "metadata": {},
   "outputs": [
    {
     "data": {
      "image/png": "[encoded data removed]",
      "text/plain": [
       "<Figure size 288x288 with 1 Axes>"
      ]
     },
     "metadata": {},
     "output_type": "display_data"
    }
   ],
   "source": [
    "plot_speedup('kraken', 'C')"
   ]
  },
  {
   "cell_type": "code",
   "execution_count": 56,
   "metadata": {},
   "outputs": [
    {
     "data": {
      "image/png": "[encoded data removed]",
      "text/plain": [
       "<Figure size 288x288 with 1 Axes>"
      ]
     },
     "metadata": {},
     "output_type": "display_data"
    }
   ],
   "source": [
    "plot_speedup('utree', 'D')"
   ]
  },
  {
   "cell_type": "code",
   "execution_count": 58,
   "metadata": {},
   "outputs": [],
   "source": [
    "columns = ['cores', 'ellapsed', 'system', 'user', 'average', 'maximum']"
   ]
  },
  {
   "cell_type": "code",
   "execution_count": 72,
   "metadata": {},
   "outputs": [],
   "source": [
    "program = 'utree'\n",
    "cores = 12"
   ]
  },
  {
   "cell_type": "code",
   "execution_count": 73,
   "metadata": {},
   "outputs": [],
   "source": [
    "df = pd.read_table('data/%s.cores.txt' % program, names=columns)\n",
    "df['runtime'] = df['ellapsed'].apply(hms2s)\n",
    "df['memory'] = df['maximum'] / 1000000\n",
    "df = df[['cores', 'runtime', 'memory']]\n",
    "base = float(df.query('cores == 1')['runtime'])\n",
    "df['speedup'] = base / df['runtime']"
   ]
  },
  {
   "cell_type": "code",
   "execution_count": 74,
   "metadata": {},
   "outputs": [
    {
     "data": {
      "text/plain": [
       "1.863856769861992"
      ]
     },
     "execution_count": 74,
     "metadata": {},
     "output_type": "execute_result"
    }
   ],
   "source": [
    "float(df.query('cores == %d' % cores)['runtime']) / float(df.query('cores == 32')['runtime'])"
   ]
  },
  {
   "cell_type": "markdown",
   "metadata": {},
   "source": [
    "#### Scalability by size"
   ]
  },
  {
   "cell_type": "code",
   "execution_count": 272,
   "metadata": {},
   "outputs": [],
   "source": [
    "def plot_scale_linear(program, letter):\n",
    "    df = pd.read_table('data/%s.size.txt' % program, names=columns)\n",
    "    df['runtime'] = df['ellapsed'].apply(hms2s)\n",
    "    df['memory'] = df['maximum'] / 1000000\n",
    "    df['size'] = (df['size'] / 1000).astype(int)\n",
    "    df = df[['size', 'runtime', 'memory']]\n",
    "    reg = sp.stats.linregress(df[['size', 'runtime']].values)\n",
    "    fig = plt.figure()\n",
    "    plt.plot(df['size'], df['runtime'], 'o', markersize=4)\n",
    "    x = np.array(range(*[int(x) for x in plt.xlim()]))\n",
    "    y = reg.intercept + reg.slope * x\n",
    "    plt.plot(x, y, '--')\n",
    "    ax = plt.gca()\n",
    "    plt.text(0.1, 0.65, '$\\it{y} = %.3g %+.3g \\it{x}$\\n$\\it{R}^2 = %.3g$'\n",
    "             % (reg.intercept, reg.slope, reg.rvalue ** 2),\n",
    "             transform=ax.transAxes)\n",
    "    plt.xlabel('Sample size (kilo seqs)')\n",
    "    plt.ylabel('Wall clock time (sec)')\n",
    "    plt.text(0.1, 0.85, letter, size=20, transform=ax.transAxes)\n",
    "    plt.text(0.2, 0.85, '(%s)' % program.capitalize(), size=12, transform=ax.transAxes)\n",
    "    fig.tight_layout()\n",
    "    fig.savefig('%s.size.linear.pdf' % program, bbox_to_inches='tight')"
   ]
  },
  {
   "cell_type": "code",
   "execution_count": 310,
   "metadata": {},
   "outputs": [
    {
     "data": {
      "image/png": "[encoded data removed]",
      "text/plain": [
       "<Figure size 288x288 with 1 Axes>"
      ]
     },
     "metadata": {},
     "output_type": "display_data"
    }
   ],
   "source": [
    "plot_scale_linear('burst', 'A')"
   ]
  },
  {
   "cell_type": "code",
   "execution_count": 311,
   "metadata": {},
   "outputs": [
    {
     "data": {
      "image/png": "[encoded data removed]",
      "text/plain": [
       "<Figure size 288x288 with 1 Axes>"
      ]
     },
     "metadata": {},
     "output_type": "display_data"
    }
   ],
   "source": [
    "plot_scale_linear('centrifuge', 'B')"
   ]
  },
  {
   "cell_type": "code",
   "execution_count": 312,
   "metadata": {},
   "outputs": [
    {
     "data": {
      "image/png": "[encoded data removed]",
      "text/plain": [
       "<Figure size 288x288 with 1 Axes>"
      ]
     },
     "metadata": {},
     "output_type": "display_data"
    }
   ],
   "source": [
    "plot_scale_linear('kraken', 'C')"
   ]
  },
  {
   "cell_type": "code",
   "execution_count": 313,
   "metadata": {},
   "outputs": [
    {
     "data": {
      "image/png": "[encoded data removed]",
      "text/plain": [
       "<Figure size 288x288 with 1 Axes>"
      ]
     },
     "metadata": {},
     "output_type": "display_data"
    }
   ],
   "source": [
    "plot_scale_linear('utree', 'D')"
   ]
  },
  {
   "cell_type": "markdown",
   "metadata": {},
   "source": [
    "##### Test zone"
   ]
  },
  {
   "cell_type": "code",
   "execution_count": 203,
   "metadata": {},
   "outputs": [],
   "source": [
    "df = pd.read_table('data/burst.size.txt', names=columns)"
   ]
  },
  {
   "cell_type": "code",
   "execution_count": 205,
   "metadata": {},
   "outputs": [
    {
     "data": {
      "text/html": [
       "<div>\n",
       "<style scoped>\n",
       "    .dataframe tbody tr th:only-of-type {\n",
       "        vertical-align: middle;\n",
       "    }\n",
       "\n",
       "    .dataframe tbody tr th {\n",
       "        vertical-align: top;\n",
       "    }\n",
       "\n",
       "    .dataframe thead th {\n",
       "        text-align: right;\n",
       "    }\n",
       "</style>\n",
       "<table border=\"1\" class=\"dataframe\">\n",
       "  <thead>\n",
       "    <tr style=\"text-align: right;\">\n",
       "      <th></th>\n",
       "      <th>size</th>\n",
       "      <th>runtime</th>\n",
       "      <th>memory</th>\n",
       "    </tr>\n",
       "  </thead>\n",
       "  <tbody>\n",
       "    <tr>\n",
       "      <th>0</th>\n",
       "      <td>10</td>\n",
       "      <td>359.79</td>\n",
       "      <td>213.710416</td>\n",
       "    </tr>\n",
       "    <tr>\n",
       "      <th>1</th>\n",
       "      <td>20</td>\n",
       "      <td>325.40</td>\n",
       "      <td>213.710396</td>\n",
       "    </tr>\n",
       "    <tr>\n",
       "      <th>2</th>\n",
       "      <td>50</td>\n",
       "      <td>314.26</td>\n",
       "      <td>213.745044</td>\n",
       "    </tr>\n",
       "    <tr>\n",
       "      <th>3</th>\n",
       "      <td>100</td>\n",
       "      <td>338.51</td>\n",
       "      <td>213.756760</td>\n",
       "    </tr>\n",
       "    <tr>\n",
       "      <th>4</th>\n",
       "      <td>200</td>\n",
       "      <td>473.70</td>\n",
       "      <td>213.772688</td>\n",
       "    </tr>\n",
       "    <tr>\n",
       "      <th>5</th>\n",
       "      <td>500</td>\n",
       "      <td>544.46</td>\n",
       "      <td>213.870668</td>\n",
       "    </tr>\n",
       "    <tr>\n",
       "      <th>6</th>\n",
       "      <td>1000</td>\n",
       "      <td>644.70</td>\n",
       "      <td>213.993832</td>\n",
       "    </tr>\n",
       "    <tr>\n",
       "      <th>7</th>\n",
       "      <td>2000</td>\n",
       "      <td>891.91</td>\n",
       "      <td>214.185008</td>\n",
       "    </tr>\n",
       "    <tr>\n",
       "      <th>8</th>\n",
       "      <td>5000</td>\n",
       "      <td>1437.11</td>\n",
       "      <td>214.748696</td>\n",
       "    </tr>\n",
       "    <tr>\n",
       "      <th>9</th>\n",
       "      <td>10000</td>\n",
       "      <td>2238.14</td>\n",
       "      <td>215.768808</td>\n",
       "    </tr>\n",
       "  </tbody>\n",
       "</table>\n",
       "</div>"
      ],
      "text/plain": [
       "    size  runtime      memory\n",
       "0     10   359.79  213.710416\n",
       "1     20   325.40  213.710396\n",
       "2     50   314.26  213.745044\n",
       "3    100   338.51  213.756760\n",
       "4    200   473.70  213.772688\n",
       "5    500   544.46  213.870668\n",
       "6   1000   644.70  213.993832\n",
       "7   2000   891.91  214.185008\n",
       "8   5000  1437.11  214.748696\n",
       "9  10000  2238.14  215.768808"
      ]
     },
     "execution_count": 205,
     "metadata": {},
     "output_type": "execute_result"
    }
   ],
   "source": [
    "df['runtime'] = df['ellapsed'].apply(hms2s)\n",
    "df['memory'] = df['maximum'] / 1000000\n",
    "df['size'] = (df['size'] / 1000).astype(int)\n",
    "df = df[['size', 'runtime', 'memory']]\n",
    "df"
   ]
  },
  {
   "cell_type": "markdown",
   "metadata": {},
   "source": [
    "Linear regression"
   ]
  },
  {
   "cell_type": "code",
   "execution_count": 253,
   "metadata": {},
   "outputs": [
    {
     "data": {
      "text/plain": [
       "LinregressResult(slope=0.19157227019162548, intercept=395.1095538782111, rvalue=0.99233840460948508, pvalue=1.4936760786166139e-08, stderr=0.0084327458737512538)"
      ]
     },
     "execution_count": 253,
     "metadata": {},
     "output_type": "execute_result"
    }
   ],
   "source": [
    "reg = sp.stats.linregress(df[['size', 'runtime']].values)\n",
    "reg"
   ]
  },
  {
   "cell_type": "code",
   "execution_count": 258,
   "metadata": {},
   "outputs": [
    {
     "data": {
      "text/plain": [
       "Text(0.1,0.85,'A')"
      ]
     },
     "execution_count": 258,
     "metadata": {},
     "output_type": "execute_result"
    },
    {
     "data": {
      "image/png": "[encoded data removed]",
      "text/plain": [
       "<Figure size 288x288 with 1 Axes>"
      ]
     },
     "metadata": {},
     "output_type": "display_data"
    }
   ],
   "source": [
    "fig = plt.figure()\n",
    "ax = plt.gca()\n",
    "plt.plot(df['size'], df['runtime'], 'o')\n",
    "x = np.array(range(*[int(x) for x in plt.xlim()]))\n",
    "y = reg.intercept + reg.slope * x\n",
    "plt.plot(x, y, '--')\n",
    "plt.text(0.1, 0.65, '$\\it{y} = %.3g + %.3g \\it{x}$\\n$\\it{R}^2 = %.3g$'\n",
    "         % (reg.intercept, reg.slope, reg.rvalue ** 2),\n",
    "         transform=ax.transAxes)\n",
    "plt.xlabel('Number of sequences')\n",
    "plt.ylabel('Wall clock time (sec)')\n",
    "plt.text(0.1, 0.85, 'A', size=20, transform=ax.transAxes)"
   ]
  },
  {
   "cell_type": "markdown",
   "metadata": {},
   "source": [
    "Polynomial regression"
   ]
  },
  {
   "cell_type": "code",
   "execution_count": 260,
   "metadata": {},
   "outputs": [
    {
     "data": {
      "text/plain": [
       "array([ -7.58776371e-06,   2.62764264e-01,   3.59569907e+02])"
      ]
     },
     "execution_count": 260,
     "metadata": {},
     "output_type": "execute_result"
    }
   ],
   "source": [
    "fit = np.polyfit(df['size'], df['runtime'], 2)\n",
    "fit"
   ]
  },
  {
   "cell_type": "code",
   "execution_count": 267,
   "metadata": {},
   "outputs": [
    {
     "data": {
      "image/png": "[encoded data removed]",
      "text/plain": [
       "<Figure size 288x288 with 1 Axes>"
      ]
     },
     "metadata": {},
     "output_type": "display_data"
    }
   ],
   "source": [
    "fig = plt.figure()\n",
    "ax = plt.gca()\n",
    "plt.plot(df['size'], df['runtime'], 'o')\n",
    "plt.xticks(df['size'])\n",
    "x = np.array(range(*[int(x) for x in plt.xlim()]))\n",
    "y = np.poly1d(fit)(x)\n",
    "plt.plot(x, y, '--')\n",
    "plt.text(0.1, 0.7, '$\\it{y} = %.3g %+.3g \\it{x}$\\n$%+.3g\\it{x}^2$'\n",
    "         % (fit[2], fit[1], fit[0]), transform=ax.transAxes)\n",
    "plt.xlabel('Sample size (kilo sequences)')\n",
    "plt.ylabel('Wall clock time (sec)')\n",
    "plt.text(0.1, 0.85, 'A', size=20, transform=ax.transAxes)"
   ]
  },
  {
   "cell_type": "markdown",
   "metadata": {},
   "source": [
    "Linear regression with burnin"
   ]
  },
  {
   "cell_type": "code",
   "execution_count": 256,
   "metadata": {},
   "outputs": [
    {
     "data": {
      "text/plain": [
       "LinregressResult(slope=0.17977841916444853, intercept=478.02726027080223, rvalue=0.99778636381598418, pvalue=7.3448541191922408e-06, stderr=0.0059909768581606713)"
      ]
     },
     "execution_count": 256,
     "metadata": {},
     "output_type": "execute_result"
    }
   ],
   "source": [
    "reg = sp.stats.linregress(df.query('size >= 200')[['size', 'runtime']].values)\n",
    "reg"
   ]
  },
  {
   "cell_type": "code",
   "execution_count": 259,
   "metadata": {},
   "outputs": [
    {
     "data": {
      "text/plain": [
       "Text(0.1,0.85,'A')"
      ]
     },
     "execution_count": 259,
     "metadata": {},
     "output_type": "execute_result"
    },
    {
     "data": {
      "image/png": "[encoded data removed]",
      "text/plain": [
       "<Figure size 288x288 with 1 Axes>"
      ]
     },
     "metadata": {},
     "output_type": "display_data"
    }
   ],
   "source": [
    "fig = plt.figure()\n",
    "ax = plt.gca()\n",
    "plt.plot(df['size'], df['runtime'], 'o', markersize=4)\n",
    "x = np.array(range(*[int(x) for x in plt.xlim()]))\n",
    "y = reg.intercept + reg.slope * x\n",
    "plt.plot(x, y, '--')\n",
    "plt.text(0.1, 0.65, '$\\it{y} = %.3g + %.3g \\it{x}$\\n$\\it{R}^2 = %.3g$'\n",
    "         % (reg.intercept, reg.slope, reg.rvalue ** 2),\n",
    "         transform=ax.transAxes)\n",
    "plt.xlabel('Number of sequences')\n",
    "plt.ylabel('Wall clock time (sec)')\n",
    "plt.text(0.1, 0.85, 'A', size=20, transform=ax.transAxes)"
   ]
  },
  {
   "cell_type": "code",
   "execution_count": 215,
   "metadata": {},
   "outputs": [
    {
     "data": {
      "text/plain": [
       "0.99233840460948508"
      ]
     },
     "execution_count": 215,
     "metadata": {},
     "output_type": "execute_result"
    }
   ],
   "source": [
    "sp.stats.pearsonr(df['size'], df['runtime'])[0]"
   ]
  },
  {
   "cell_type": "code",
   "execution_count": 208,
   "metadata": {},
   "outputs": [
    {
     "data": {
      "text/plain": [
       "LinregressResult(slope=0.19157227019162548, intercept=395.1095538782111, rvalue=0.99233840460948508, pvalue=1.4936760786166139e-08, stderr=0.0084327458737512538)"
      ]
     },
     "execution_count": 208,
     "metadata": {},
     "output_type": "execute_result"
    }
   ],
   "source": [
    "reg = sp.stats.linregress(df[['size', 'runtime']].values)\n",
    "reg"
   ]
  },
  {
   "cell_type": "code",
   "execution_count": null,
   "metadata": {},
   "outputs": [],
   "source": [
    "fig = plt.figure()\n",
    "ax = plt.gca()\n",
    "plt.plot(dfx['Taxa'], dfx['Wall'], 'o', markersize=4)\n",
    "x = np.array(range(*[int(x) for x in plt.xlim()]))\n",
    "y = reg.intercept + reg.slope * x ** 2\n",
    "plt.plot(x, y, '--')\n",
    "plt.text(0.1, 0.65, '$\\it{y} = %.3g + %.3g \\it{x}^2$\\n$\\it{R}^2 = %.3g$'\n",
    "         % (reg.intercept, reg.slope, reg.rvalue ** 2),\n",
    "         transform=ax.transAxes)\n",
    "plt.xlabel('Number of sequences')\n",
    "plt.ylabel('Wall clock time (sec)')\n",
    "plt.text(0.1, 0.85, 'A', size=20, transform=ax.transAxes)\n",
    "fig.tight_layout()\n",
    "fig.savefig('mafft.taxa.pdf', bbox_to_inches='tight')"
   ]
  },
  {
   "cell_type": "markdown",
   "metadata": {},
   "source": [
    "#### Calculation"
   ]
  },
  {
   "cell_type": "code",
   "execution_count": 75,
   "metadata": {},
   "outputs": [],
   "source": [
    "# once\n",
    "def meta(x):\n",
    "    return ((395 + 0.192 * x) * 1.484 * 16 + (8.7 + 0.0112 * x) * 0.762 * 12 + (2.92 + 0.0125 * x) * 0.889 * 16 + (4.51 + 0.00294 * x) * 1.864 * 12) / 3600"
   ]
  },
  {
   "cell_type": "code",
   "execution_count": 82,
   "metadata": {},
   "outputs": [],
   "source": [
    "# both\n",
    "def meta(x):\n",
    "    return ((395 + 0.192 * x) * 1.484 * 16 + (8.7 + 0.0112 * x) * 0.762 * 12 + (2.92 + 0.0125 * x) * 0.889 * 16 * 2 + (4.51 + 0.00294 * x) * 1.864 * 12 * 2) / 3600"
   ]
  },
  {
   "cell_type": "code",
   "execution_count": 87,
   "metadata": {},
   "outputs": [
    {
     "data": {
      "text/plain": [
       "222947.232836"
      ]
     },
     "execution_count": 87,
     "metadata": {},
     "output_type": "execute_result"
    }
   ],
   "source": [
    "meta(100000) * 1530"
   ]
  },
  {
   "cell_type": "code",
   "execution_count": null,
   "metadata": {},
   "outputs": [],
   "source": []
  }
 ],
 "metadata": {
  "kernelspec": {
   "display_name": "Python 3",
   "language": "python",
   "name": "python3"
  },
  "language_info": {
   "codemirror_mode": {
    "name": "ipython",
    "version": 3
   },
   "file_extension": ".py",
   "mimetype": "text/x-python",
   "name": "python",
   "nbconvert_exporter": "python",
   "pygments_lexer": "ipython3",
   "version": "3.6.6"
  }
 },
 "nbformat": 4,
 "nbformat_minor": 2
}
