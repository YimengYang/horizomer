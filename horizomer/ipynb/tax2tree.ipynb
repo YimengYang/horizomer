{
 "cells": [
  {
   "cell_type": "markdown",
   "metadata": {},
   "source": [
    "# Curating taxonomy using tax2tree"
   ]
  },
  {
   "cell_type": "markdown",
   "metadata": {},
   "source": [
    "[**tax2tree**](https://github.com/wasade/tax2tree) ([McDonald et al., 2012](https://www.nature.com/articles/ismej2011139)) automatically curates taxonomic annotations of tree tips and internal nodes based on tree topology. This notebook explains how tax2tree is executed and parses its output files to generate more information."
   ]
  },
  {
   "cell_type": "markdown",
   "metadata": {},
   "source": [
    "## Usage of tax2tree"
   ]
  },
  {
   "cell_type": "markdown",
   "metadata": {},
   "source": [
    "### Installation"
   ]
  },
  {
   "cell_type": "code",
   "execution_count": 1,
   "metadata": {},
   "outputs": [],
   "source": [
    "%%script false\n",
    "!conda create -n tax2tree numpy Click future==0.13.1 scikit-bio==0.2.3 python=2\n",
    "!source activate tax2tree\n",
    "!pip install git+https://github.com/wasade/tax2tree.git\n",
    "!source activate tax2tree"
   ]
  },
  {
   "cell_type": "markdown",
   "metadata": {},
   "source": [
    "### Input files"
   ]
  },
  {
   "cell_type": "markdown",
   "metadata": {},
   "source": [
    "A tree in Newick format:"
   ]
  },
  {
   "cell_type": "code",
   "execution_count": 49,
   "metadata": {},
   "outputs": [
    {
     "name": "stdout",
     "output_type": "stream",
     "text": [
      "((((G001871475:0.6649017437,G001871535:0.7495271859)N8:0.3585565618,((G000830275:0.4402637632,G000402355:0.5620921743)N15:0.4016110066,(G000830295:0.6765514677,G001871415:0.8393580422)N16:0.1723565823)N9:0.1265650303)N4:0.1030291448,((((G001940755:0.8101170743,(G001940725:0.7173617886,G001940645:0.7113680113)N45:0.2167779333)N27:0.1310809933,(G001940655:0.9292717238,(G001563325:0.3213034238,(G001940705:0.1529373108,G001563335:0.1813806477)N70:0.1429604754)N46:0.4839664797)N28:0.1054502537)N17:0.\r\n"
     ]
    }
   ],
   "source": [
    "!cat tree.nwk | cut -c1-500"
   ]
  },
  {
   "cell_type": "markdown",
   "metadata": {},
   "source": [
    "A genome ID to lineage str (taxa at the seven ranks) map:"
   ]
  },
  {
   "cell_type": "code",
   "execution_count": 50,
   "metadata": {},
   "outputs": [
    {
     "name": "stdout",
     "output_type": "stream",
     "text": [
      "G000005825\tk__Bacteria; p__Firmicutes; c__Bacilli; o__Bacillales; f__Bacillaceae; g__Bacillus; s__Bacillus pseudofirmus\r\n",
      "G000006175\tk__Archaea; p__Euryarchaeota; c__Methanococci; o__Methanococcales; f__Methanococcaceae; g__Methanococcus; s__Methanococcus voltae\r\n",
      "G000006605\tk__Bacteria; p__Actinobacteria; c__Actinobacteria; o__Corynebacteriales; f__Corynebacteriaceae; g__Corynebacterium; s__Corynebacterium jeikeium\r\n",
      "G000006725\tk__Bacteria; p__Proteobacteria; c__Gammaproteobacteria; o__Xanthomonadales; f__Xanthomonadaceae; g__Xylella; s__Xylella fastidiosa\r\n",
      "G000006745\tk__Bacteria; p__Proteobacteria; c__Gammaproteobacteria; o__Vibrionales; f__Vibrionaceae; g__Vibrio; s__Vibrio cholerae\r\n"
     ]
    }
   ],
   "source": [
    "!head -n5 lineages.txt"
   ]
  },
  {
   "cell_type": "markdown",
   "metadata": {},
   "source": [
    "### Run tax2tree"
   ]
  },
  {
   "cell_type": "markdown",
   "metadata": {},
   "source": [
    "Decorate the tree with taxonomy."
   ]
  },
  {
   "cell_type": "code",
   "execution_count": 4,
   "metadata": {},
   "outputs": [],
   "source": [
    "%%script false\n",
    "!t2t decorate -t tree.nwk -m lineages.txt -o decorated.nwk > tax2tree.stdout\n",
    "!mv decorated.nwk-consensus-strings consensus_strings.txt"
   ]
  },
  {
   "cell_type": "markdown",
   "metadata": {},
   "source": [
    "Assess the consistency between taxdump and topology."
   ]
  },
  {
   "cell_type": "code",
   "execution_count": 5,
   "metadata": {},
   "outputs": [],
   "source": [
    "%%script false\n",
    "!t2t consistency -t tree.nwk -m lineages.txt -o consistency.tsv >> tax2tree.stdout"
   ]
  },
  {
   "cell_type": "markdown",
   "metadata": {},
   "source": [
    "### Output files"
   ]
  },
  {
   "cell_type": "markdown",
   "metadata": {},
   "source": [
    "Tree with selected nodes decorated with lineage strings:"
   ]
  },
  {
   "cell_type": "code",
   "execution_count": 51,
   "metadata": {},
   "outputs": [
    {
     "name": "stdout",
     "output_type": "stream",
     "text": [
      "((((G001871475:0.6649017437,G001871535:0.7495271859)'p__Candidatus Micrarchaeota':0.3585565618,((G000830275:0.4402637632,G000402355:0.5620921743):0.4016110066,(G000830295:0.6765514677,G001871415:0.8393580422):0.1723565823):0.1265650303):0.1030291448,((((G001940755:0.8101170743,(G001940725:0.7173617886,G001940645:0.7113680113):0.2167779333):0.1310809933,(G001940655:0.9292717238,(G001563325:0.3213034238,(G001940705:0.1529373108,G001563335:0.1813806477):0.1429604754)'p__Candidatus Thorarchaeota':0.\r\n"
     ]
    }
   ],
   "source": [
    "!cat decorated.nwk | cut -c1-500"
   ]
  },
  {
   "cell_type": "markdown",
   "metadata": {},
   "source": [
    "Consensus strings (taxon to lineage map):"
   ]
  },
  {
   "cell_type": "code",
   "execution_count": 52,
   "metadata": {},
   "outputs": [
    {
     "name": "stdout",
     "output_type": "stream",
     "text": [
      "G001871475\tk__Archaea; p__Candidatus Micrarchaeota; c__; o__; f__; g__; s__\r\n",
      "G001871535\tk__Archaea; p__Candidatus Micrarchaeota; c__; o__; f__; g__; s__\r\n",
      "G000830275\tk__Archaea; p__; c__; o__; f__; g__; s__\r\n",
      "G000402355\tk__Archaea; p__; c__; o__; f__; g__; s__\r\n",
      "G000830295\tk__Archaea; p__; c__; o__; f__; g__; s__\r\n"
     ]
    }
   ],
   "source": [
    "!head -n5 consensus_strings.txt"
   ]
  },
  {
   "cell_type": "markdown",
   "metadata": {},
   "source": [
    "Consistency analysis result:"
   ]
  },
  {
   "cell_type": "code",
   "execution_count": 53,
   "metadata": {},
   "outputs": [
    {
     "name": "stdout",
     "output_type": "stream",
     "text": [
      "Taxon\tCount\tConsistency\r\n",
      "k__Archaea\t652\t1.000\r\n",
      "k__Bacteria\t9574\t1.000\r\n",
      "p__Candidatus Adlerbacteria\t5\t1.000\r\n",
      "p__Thermotogae\t35\t1.000\r\n"
     ]
    }
   ],
   "source": [
    "!head -n5 consistency.tsv"
   ]
  },
  {
   "cell_type": "markdown",
   "metadata": {},
   "source": [
    "## Preparation"
   ]
  },
  {
   "cell_type": "markdown",
   "metadata": {},
   "source": [
    "### Dependencies"
   ]
  },
  {
   "cell_type": "code",
   "execution_count": 9,
   "metadata": {},
   "outputs": [],
   "source": [
    "import numpy as np\n",
    "import pandas as pd\n",
    "import seaborn as sns\n",
    "import matplotlib as mpl\n",
    "import matplotlib.pyplot as plt\n",
    "from skbio import TreeNode"
   ]
  },
  {
   "cell_type": "code",
   "execution_count": 10,
   "metadata": {},
   "outputs": [],
   "source": [
    "%matplotlib inline"
   ]
  },
  {
   "cell_type": "markdown",
   "metadata": {},
   "source": [
    "### Input files"
   ]
  },
  {
   "cell_type": "markdown",
   "metadata": {},
   "source": [
    "Original tree (with unique internal node IDs)."
   ]
  },
  {
   "cell_type": "code",
   "execution_count": 11,
   "metadata": {},
   "outputs": [],
   "source": [
    "tree_ori_fp = 'tree.nwk'"
   ]
  },
  {
   "cell_type": "markdown",
   "metadata": {},
   "source": [
    "Decorated tree (internal node IDs removed and some nodes appended lineage strings)."
   ]
  },
  {
   "cell_type": "code",
   "execution_count": 12,
   "metadata": {},
   "outputs": [],
   "source": [
    "tree_dec_fp = 'decorated.nwk'"
   ]
  },
  {
   "cell_type": "markdown",
   "metadata": {},
   "source": [
    "Original genome to lineage map."
   ]
  },
  {
   "cell_type": "code",
   "execution_count": 13,
   "metadata": {},
   "outputs": [],
   "source": [
    "lineage_ori_fp = 'lineages.txt'"
   ]
  },
  {
   "cell_type": "markdown",
   "metadata": {},
   "source": [
    "Consensus strings (genom to lineage string map)."
   ]
  },
  {
   "cell_type": "code",
   "execution_count": 14,
   "metadata": {},
   "outputs": [],
   "source": [
    "cons_str_fp = 'consensus_strings.txt'"
   ]
  },
  {
   "cell_type": "markdown",
   "metadata": {},
   "source": [
    "Consistency analysis result."
   ]
  },
  {
   "cell_type": "code",
   "execution_count": 15,
   "metadata": {},
   "outputs": [],
   "source": [
    "consist_fp = 'consistency.tsv'"
   ]
  },
  {
   "cell_type": "markdown",
   "metadata": {},
   "source": [
    "### Parameters"
   ]
  },
  {
   "cell_type": "markdown",
   "metadata": {},
   "source": [
    "Ranks and codes."
   ]
  },
  {
   "cell_type": "code",
   "execution_count": 16,
   "metadata": {},
   "outputs": [],
   "source": [
    "ranks = ['kingdom', 'phylum', 'class', 'order', 'family', 'genus', 'species']\n",
    "code2rank = {x[0]: x for x in ranks}"
   ]
  },
  {
   "cell_type": "markdown",
   "metadata": {},
   "source": [
    "### Utilities"
   ]
  },
  {
   "cell_type": "code",
   "execution_count": 17,
   "metadata": {},
   "outputs": [],
   "source": [
    "def save_sns(ax, fp):\n",
    "    plt = ax.get_figure()\n",
    "    plt.tight_layout()\n",
    "    plt.savefig(fp, bbox_to_inches='tight')"
   ]
  },
  {
   "cell_type": "markdown",
   "metadata": {},
   "source": [
    "Read genome to lineage map into dataframe."
   ]
  },
  {
   "cell_type": "code",
   "execution_count": 18,
   "metadata": {},
   "outputs": [],
   "source": [
    "def lineages_to_df(lineage_fp):\n",
    "    g2lin = {}\n",
    "    with open(lineage_fp, 'r') as f:\n",
    "        for line in f:\n",
    "            g, lineage = line.rstrip('\\r\\n').split('\\t')\n",
    "            g2lin[g] = dict(zip(ranks, [x.split('__')[1] for x in lineage.split('; ')]))\n",
    "    df = pd.DataFrame.from_dict(g2lin, orient='index')\n",
    "    return df.loc[sorted(g2lin, key=lambda x: int(x[1:]))]"
   ]
  },
  {
   "cell_type": "markdown",
   "metadata": {},
   "source": [
    "Export by-rank dataframe as lineage strings."
   ]
  },
  {
   "cell_type": "code",
   "execution_count": 19,
   "metadata": {},
   "outputs": [],
   "source": [
    "def df_to_lineages(df, f):\n",
    "    for row in df.itertuples():\n",
    "        lin = []\n",
    "        for i, rank in enumerate(ranks):\n",
    "            lin.append('%s__%s' % (rank[0], row[i + 1]))\n",
    "        f.write('%s\\t%s\\n' % (row.Index, '; '.join(lin)))"
   ]
  },
  {
   "cell_type": "markdown",
   "metadata": {},
   "source": [
    "## Analysis"
   ]
  },
  {
   "cell_type": "markdown",
   "metadata": {},
   "source": [
    "### Curated taxonomy"
   ]
  },
  {
   "cell_type": "markdown",
   "metadata": {},
   "source": [
    "Read consensus strings."
   ]
  },
  {
   "cell_type": "code",
   "execution_count": 20,
   "metadata": {},
   "outputs": [
    {
     "data": {
      "text/html": [
       "<div>\n",
       "<style scoped>\n",
       "    .dataframe tbody tr th:only-of-type {\n",
       "        vertical-align: middle;\n",
       "    }\n",
       "\n",
       "    .dataframe tbody tr th {\n",
       "        vertical-align: top;\n",
       "    }\n",
       "\n",
       "    .dataframe thead th {\n",
       "        text-align: right;\n",
       "    }\n",
       "</style>\n",
       "<table border=\"1\" class=\"dataframe\">\n",
       "  <thead>\n",
       "    <tr style=\"text-align: right;\">\n",
       "      <th></th>\n",
       "      <th>kingdom</th>\n",
       "      <th>phylum</th>\n",
       "      <th>class</th>\n",
       "      <th>order</th>\n",
       "      <th>family</th>\n",
       "      <th>genus</th>\n",
       "      <th>species</th>\n",
       "    </tr>\n",
       "  </thead>\n",
       "  <tbody>\n",
       "    <tr>\n",
       "      <th>G000005825</th>\n",
       "      <td>Bacteria</td>\n",
       "      <td>Firmicutes_1</td>\n",
       "      <td>Bacilli</td>\n",
       "      <td>Bacillales_2</td>\n",
       "      <td>Bacillaceae_1</td>\n",
       "      <td>Bacillus_2</td>\n",
       "      <td></td>\n",
       "    </tr>\n",
       "    <tr>\n",
       "      <th>G000006175</th>\n",
       "      <td>Archaea</td>\n",
       "      <td>Euryarchaeota_1</td>\n",
       "      <td>Methanococci</td>\n",
       "      <td>Methanococcales</td>\n",
       "      <td>Methanococcaceae</td>\n",
       "      <td>Methanococcus</td>\n",
       "      <td></td>\n",
       "    </tr>\n",
       "    <tr>\n",
       "      <th>G000006605</th>\n",
       "      <td>Bacteria</td>\n",
       "      <td>Actinobacteria</td>\n",
       "      <td>Actinobacteria</td>\n",
       "      <td>Corynebacteriales</td>\n",
       "      <td>Corynebacteriaceae</td>\n",
       "      <td>Corynebacterium</td>\n",
       "      <td>Corynebacterium falsenii</td>\n",
       "    </tr>\n",
       "    <tr>\n",
       "      <th>G000006725</th>\n",
       "      <td>Bacteria</td>\n",
       "      <td>Proteobacteria_1</td>\n",
       "      <td>Gammaproteobacteria</td>\n",
       "      <td>Xanthomonadales</td>\n",
       "      <td>Xanthomonadaceae</td>\n",
       "      <td>Xylella</td>\n",
       "      <td></td>\n",
       "    </tr>\n",
       "    <tr>\n",
       "      <th>G000006745</th>\n",
       "      <td>Bacteria</td>\n",
       "      <td>Proteobacteria_1</td>\n",
       "      <td>Gammaproteobacteria</td>\n",
       "      <td>Vibrionales</td>\n",
       "      <td>Vibrionaceae</td>\n",
       "      <td>Vibrio</td>\n",
       "      <td></td>\n",
       "    </tr>\n",
       "  </tbody>\n",
       "</table>\n",
       "</div>"
      ],
      "text/plain": [
       "             kingdom            phylum                class  \\\n",
       "G000005825  Bacteria      Firmicutes_1              Bacilli   \n",
       "G000006175   Archaea   Euryarchaeota_1         Methanococci   \n",
       "G000006605  Bacteria    Actinobacteria       Actinobacteria   \n",
       "G000006725  Bacteria  Proteobacteria_1  Gammaproteobacteria   \n",
       "G000006745  Bacteria  Proteobacteria_1  Gammaproteobacteria   \n",
       "\n",
       "                        order              family            genus  \\\n",
       "G000005825       Bacillales_2       Bacillaceae_1       Bacillus_2   \n",
       "G000006175    Methanococcales    Methanococcaceae    Methanococcus   \n",
       "G000006605  Corynebacteriales  Corynebacteriaceae  Corynebacterium   \n",
       "G000006725    Xanthomonadales    Xanthomonadaceae          Xylella   \n",
       "G000006745        Vibrionales        Vibrionaceae           Vibrio   \n",
       "\n",
       "                             species  \n",
       "G000005825                            \n",
       "G000006175                            \n",
       "G000006605  Corynebacterium falsenii  \n",
       "G000006725                            \n",
       "G000006745                            "
      ]
     },
     "execution_count": 20,
     "metadata": {},
     "output_type": "execute_result"
    }
   ],
   "source": [
    "dfc = lineages_to_df(cons_str_fp)\n",
    "dfc.head()"
   ]
  },
  {
   "cell_type": "markdown",
   "metadata": {},
   "source": [
    "Note: In tax2tree's assumption, all lineages should be continuous (i.e., a continuous series of ranks should all contain taxa). However in reality some lineages contain caps. For example:\n",
    "\n",
    "`G001458535 k__Bacteria; p__Candidatus Kryptonia; c__; o__; f__; g__Candidatus Kryptonium; s__Candidatus Kryptonium thompsoni`\n",
    "\n",
    "In those cases tax2tree may produced gapped consensus strings."
   ]
  },
  {
   "cell_type": "markdown",
   "metadata": {},
   "source": [
    "Convert to table."
   ]
  },
  {
   "cell_type": "code",
   "execution_count": 21,
   "metadata": {},
   "outputs": [],
   "source": [
    "dfc.to_csv('consensus_ranks.tsv', sep='\\t')"
   ]
  },
  {
   "cell_type": "markdown",
   "metadata": {},
   "source": [
    "### Analyze polytomies"
   ]
  },
  {
   "cell_type": "markdown",
   "metadata": {},
   "source": [
    "Taxon names ending with `__#` are the ones identified as polytomies and split into multiple taxa by tax2tree."
   ]
  },
  {
   "cell_type": "code",
   "execution_count": 22,
   "metadata": {},
   "outputs": [
    {
     "name": "stdout",
     "output_type": "stream",
     "text": [
      "species: Peptococcaceae bacterium SCADC1_2 is not a split.\n"
     ]
    }
   ],
   "source": [
    "splits = {}\n",
    "for rank in ranks:\n",
    "    split_names = {}\n",
    "    for name in set(x for x in dfc[rank] if x):\n",
    "        x = name.split('_')\n",
    "        # convert \"taxonA_1\" into \"taxonA\"\n",
    "        if len(x) > 1 and x[-1].isdigit():\n",
    "            ori_name = '_'.join(x[:-1])\n",
    "            # get all appended indices for each taxon\n",
    "            if ori_name in split_names:\n",
    "                split_names[ori_name].append(int(x[-1]))\n",
    "            else:\n",
    "                split_names[ori_name] = [int(x[-1])]\n",
    "\n",
    "    splits[rank] = {}\n",
    "    for name in sorted(split_names):\n",
    "        indices = split_names[name]\n",
    "        # check if the indices are incremental integers\n",
    "        if sorted(indices) != list(range(1, max(indices) + 1)):\n",
    "            print('%s: %s is not a split.' % (rank, name))\n",
    "            continue\n",
    "        splits[rank][name] = len(indices)"
   ]
  },
  {
   "cell_type": "markdown",
   "metadata": {},
   "source": [
    "Get original names that appear in the curated table."
   ]
  },
  {
   "cell_type": "code",
   "execution_count": 23,
   "metadata": {},
   "outputs": [
    {
     "name": "stdout",
     "output_type": "stream",
     "text": [
      "kingdom: 2, phylum: 115, class: 73, order: 160, family: 321, genus: 785, species: 419\n"
     ]
    }
   ],
   "source": [
    "ori_names = {}\n",
    "for rank in ranks:\n",
    "    ori_names[rank] = set()\n",
    "    for name in set(x for x in dfc[rank] if x):\n",
    "        x = name.split('_')\n",
    "        if len(x) > 1 and x[-1].isdigit():\n",
    "            name_ = '_'.join(x[:-1])\n",
    "            if name_ in splits[rank]:\n",
    "                ori_names[rank].add(name_)\n",
    "            else:\n",
    "                ori_names[rank].add(name)\n",
    "        else:\n",
    "            ori_names[rank].add(name)\n",
    "print(', '.join('%s: %d' % (x, len(ori_names[x])) for x in ranks))"
   ]
  },
  {
   "cell_type": "markdown",
   "metadata": {},
   "source": [
    "Export results."
   ]
  },
  {
   "cell_type": "code",
   "execution_count": 24,
   "metadata": {},
   "outputs": [
    {
     "name": "stdout",
     "output_type": "stream",
     "text": [
      "phylum: 5 taxa split, max = 13 (Firmicutes)\n",
      "class: 7 taxa split, max = 9 (Clostridia)\n",
      "order: 26 taxa split, max = 14 (Bacillales)\n",
      "family: 47 taxa split, max = 6 (Bacillaceae)\n",
      "genus: 17 taxa split, max = 6 (Bacillus)\n"
     ]
    }
   ],
   "source": [
    "with open('split_taxa.tsv', 'w') as f:\n",
    "    f.write('rank\\ttaxon\\tsplits\\n')\n",
    "    for rank in ranks:\n",
    "        d = splits[rank]\n",
    "        if len(d) > 0:\n",
    "            max_name = max(d.keys(), key=(lambda k: d[k]))\n",
    "            print('%s: %d taxa split, max = %s (%s)'\n",
    "                  % (rank, len(d), d[max_name], max_name))\n",
    "            for name in sorted(d):\n",
    "                f.write('%s\\t%s\\t%d\\n' % (rank, name, d[name]))"
   ]
  },
  {
   "cell_type": "markdown",
   "metadata": {},
   "source": [
    "### Analyze consistency"
   ]
  },
  {
   "cell_type": "code",
   "execution_count": 25,
   "metadata": {},
   "outputs": [
    {
     "data": {
      "text/html": [
       "<div>\n",
       "<style scoped>\n",
       "    .dataframe tbody tr th:only-of-type {\n",
       "        vertical-align: middle;\n",
       "    }\n",
       "\n",
       "    .dataframe tbody tr th {\n",
       "        vertical-align: top;\n",
       "    }\n",
       "\n",
       "    .dataframe thead th {\n",
       "        text-align: right;\n",
       "    }\n",
       "</style>\n",
       "<table border=\"1\" class=\"dataframe\">\n",
       "  <thead>\n",
       "    <tr style=\"text-align: right;\">\n",
       "      <th></th>\n",
       "      <th>Taxon</th>\n",
       "      <th>Count</th>\n",
       "      <th>Consistency</th>\n",
       "    </tr>\n",
       "  </thead>\n",
       "  <tbody>\n",
       "    <tr>\n",
       "      <th>0</th>\n",
       "      <td>k__Archaea</td>\n",
       "      <td>652</td>\n",
       "      <td>1.0</td>\n",
       "    </tr>\n",
       "    <tr>\n",
       "      <th>1</th>\n",
       "      <td>k__Bacteria</td>\n",
       "      <td>9574</td>\n",
       "      <td>1.0</td>\n",
       "    </tr>\n",
       "    <tr>\n",
       "      <th>2</th>\n",
       "      <td>p__Candidatus Adlerbacteria</td>\n",
       "      <td>5</td>\n",
       "      <td>1.0</td>\n",
       "    </tr>\n",
       "    <tr>\n",
       "      <th>3</th>\n",
       "      <td>p__Thermotogae</td>\n",
       "      <td>35</td>\n",
       "      <td>1.0</td>\n",
       "    </tr>\n",
       "    <tr>\n",
       "      <th>4</th>\n",
       "      <td>p__Candidatus Doudnabacteria</td>\n",
       "      <td>19</td>\n",
       "      <td>1.0</td>\n",
       "    </tr>\n",
       "  </tbody>\n",
       "</table>\n",
       "</div>"
      ],
      "text/plain": [
       "                          Taxon  Count  Consistency\n",
       "0                    k__Archaea    652          1.0\n",
       "1                   k__Bacteria   9574          1.0\n",
       "2   p__Candidatus Adlerbacteria      5          1.0\n",
       "3                p__Thermotogae     35          1.0\n",
       "4  p__Candidatus Doudnabacteria     19          1.0"
      ]
     },
     "execution_count": 25,
     "metadata": {},
     "output_type": "execute_result"
    }
   ],
   "source": [
    "dfp = pd.read_table(consist_fp)\n",
    "dfp.head()"
   ]
  },
  {
   "cell_type": "code",
   "execution_count": 26,
   "metadata": {},
   "outputs": [
    {
     "data": {
      "text/html": [
       "<div>\n",
       "<style scoped>\n",
       "    .dataframe tbody tr th:only-of-type {\n",
       "        vertical-align: middle;\n",
       "    }\n",
       "\n",
       "    .dataframe tbody tr th {\n",
       "        vertical-align: top;\n",
       "    }\n",
       "\n",
       "    .dataframe thead th {\n",
       "        text-align: right;\n",
       "    }\n",
       "</style>\n",
       "<table border=\"1\" class=\"dataframe\">\n",
       "  <thead>\n",
       "    <tr style=\"text-align: right;\">\n",
       "      <th></th>\n",
       "      <th>Count</th>\n",
       "      <th>Consistency</th>\n",
       "      <th>Name</th>\n",
       "      <th>Rank</th>\n",
       "    </tr>\n",
       "    <tr>\n",
       "      <th>Taxon</th>\n",
       "      <th></th>\n",
       "      <th></th>\n",
       "      <th></th>\n",
       "      <th></th>\n",
       "    </tr>\n",
       "  </thead>\n",
       "  <tbody>\n",
       "    <tr>\n",
       "      <th>k__Archaea</th>\n",
       "      <td>652</td>\n",
       "      <td>1.0</td>\n",
       "      <td>Archaea</td>\n",
       "      <td>kingdom</td>\n",
       "    </tr>\n",
       "    <tr>\n",
       "      <th>k__Bacteria</th>\n",
       "      <td>9574</td>\n",
       "      <td>1.0</td>\n",
       "      <td>Bacteria</td>\n",
       "      <td>kingdom</td>\n",
       "    </tr>\n",
       "    <tr>\n",
       "      <th>p__Candidatus Adlerbacteria</th>\n",
       "      <td>5</td>\n",
       "      <td>1.0</td>\n",
       "      <td>Candidatus Adlerbacteria</td>\n",
       "      <td>phylum</td>\n",
       "    </tr>\n",
       "    <tr>\n",
       "      <th>p__Thermotogae</th>\n",
       "      <td>35</td>\n",
       "      <td>1.0</td>\n",
       "      <td>Thermotogae</td>\n",
       "      <td>phylum</td>\n",
       "    </tr>\n",
       "    <tr>\n",
       "      <th>p__Candidatus Doudnabacteria</th>\n",
       "      <td>19</td>\n",
       "      <td>1.0</td>\n",
       "      <td>Candidatus Doudnabacteria</td>\n",
       "      <td>phylum</td>\n",
       "    </tr>\n",
       "  </tbody>\n",
       "</table>\n",
       "</div>"
      ],
      "text/plain": [
       "                              Count  Consistency                       Name  \\\n",
       "Taxon                                                                         \n",
       "k__Archaea                      652          1.0                    Archaea   \n",
       "k__Bacteria                    9574          1.0                   Bacteria   \n",
       "p__Candidatus Adlerbacteria       5          1.0   Candidatus Adlerbacteria   \n",
       "p__Thermotogae                   35          1.0                Thermotogae   \n",
       "p__Candidatus Doudnabacteria     19          1.0  Candidatus Doudnabacteria   \n",
       "\n",
       "                                 Rank  \n",
       "Taxon                                  \n",
       "k__Archaea                    kingdom  \n",
       "k__Bacteria                   kingdom  \n",
       "p__Candidatus Adlerbacteria    phylum  \n",
       "p__Thermotogae                 phylum  \n",
       "p__Candidatus Doudnabacteria   phylum  "
      ]
     },
     "execution_count": 26,
     "metadata": {},
     "output_type": "execute_result"
    }
   ],
   "source": [
    "dfp['Name'] = dfp['Taxon'].str.split('__').str.get(1)\n",
    "dfp['Rank'] = dfp['Taxon'].str.split('__').str.get(0).map(code2rank)\n",
    "dfp.set_index('Taxon', inplace=True)\n",
    "dfp.head()"
   ]
  },
  {
   "cell_type": "code",
   "execution_count": 27,
   "metadata": {},
   "outputs": [
    {
     "data": {
      "image/png": "[encoded data removed]",
      "text/plain": [
       "<matplotlib.figure.Figure at 0x1a123d9780>"
      ]
     },
     "metadata": {},
     "output_type": "display_data"
    }
   ],
   "source": [
    "ax = sns.barplot(x='Rank', y='Consistency', data=dfp)\n",
    "ax.set_ylim(0.8,)\n",
    "save_sns(ax, 'consistency.pdf')"
   ]
  },
  {
   "cell_type": "markdown",
   "metadata": {},
   "source": [
    "### Fill spaces with unique taxa"
   ]
  },
  {
   "cell_type": "markdown",
   "metadata": {},
   "source": [
    "tax2tree-curated taxa are the ones that occur more than once in the table. However many genomes are the only representatives of some taxa, especially the species level. Therefore, the empty cells will be filled with unique taxa when applicable.\n",
    "\n",
    "Note the those added taxa are NOT tax2tree-curated taxa. They are but unique identifiers of certain genomes."
   ]
  },
  {
   "cell_type": "markdown",
   "metadata": {},
   "source": [
    "Read original lineages."
   ]
  },
  {
   "cell_type": "code",
   "execution_count": 28,
   "metadata": {},
   "outputs": [
    {
     "data": {
      "text/html": [
       "<div>\n",
       "<style scoped>\n",
       "    .dataframe tbody tr th:only-of-type {\n",
       "        vertical-align: middle;\n",
       "    }\n",
       "\n",
       "    .dataframe tbody tr th {\n",
       "        vertical-align: top;\n",
       "    }\n",
       "\n",
       "    .dataframe thead th {\n",
       "        text-align: right;\n",
       "    }\n",
       "</style>\n",
       "<table border=\"1\" class=\"dataframe\">\n",
       "  <thead>\n",
       "    <tr style=\"text-align: right;\">\n",
       "      <th></th>\n",
       "      <th>kingdom</th>\n",
       "      <th>phylum</th>\n",
       "      <th>class</th>\n",
       "      <th>order</th>\n",
       "      <th>family</th>\n",
       "      <th>genus</th>\n",
       "      <th>species</th>\n",
       "    </tr>\n",
       "  </thead>\n",
       "  <tbody>\n",
       "    <tr>\n",
       "      <th>G000005825</th>\n",
       "      <td>Bacteria</td>\n",
       "      <td>Firmicutes</td>\n",
       "      <td>Bacilli</td>\n",
       "      <td>Bacillales</td>\n",
       "      <td>Bacillaceae</td>\n",
       "      <td>Bacillus</td>\n",
       "      <td>Bacillus pseudofirmus</td>\n",
       "    </tr>\n",
       "    <tr>\n",
       "      <th>G000006175</th>\n",
       "      <td>Archaea</td>\n",
       "      <td>Euryarchaeota</td>\n",
       "      <td>Methanococci</td>\n",
       "      <td>Methanococcales</td>\n",
       "      <td>Methanococcaceae</td>\n",
       "      <td>Methanococcus</td>\n",
       "      <td>Methanococcus voltae</td>\n",
       "    </tr>\n",
       "    <tr>\n",
       "      <th>G000006605</th>\n",
       "      <td>Bacteria</td>\n",
       "      <td>Actinobacteria</td>\n",
       "      <td>Actinobacteria</td>\n",
       "      <td>Corynebacteriales</td>\n",
       "      <td>Corynebacteriaceae</td>\n",
       "      <td>Corynebacterium</td>\n",
       "      <td>Corynebacterium jeikeium</td>\n",
       "    </tr>\n",
       "    <tr>\n",
       "      <th>G000006725</th>\n",
       "      <td>Bacteria</td>\n",
       "      <td>Proteobacteria</td>\n",
       "      <td>Gammaproteobacteria</td>\n",
       "      <td>Xanthomonadales</td>\n",
       "      <td>Xanthomonadaceae</td>\n",
       "      <td>Xylella</td>\n",
       "      <td>Xylella fastidiosa</td>\n",
       "    </tr>\n",
       "    <tr>\n",
       "      <th>G000006745</th>\n",
       "      <td>Bacteria</td>\n",
       "      <td>Proteobacteria</td>\n",
       "      <td>Gammaproteobacteria</td>\n",
       "      <td>Vibrionales</td>\n",
       "      <td>Vibrionaceae</td>\n",
       "      <td>Vibrio</td>\n",
       "      <td>Vibrio cholerae</td>\n",
       "    </tr>\n",
       "  </tbody>\n",
       "</table>\n",
       "</div>"
      ],
      "text/plain": [
       "             kingdom          phylum                class              order  \\\n",
       "G000005825  Bacteria      Firmicutes              Bacilli         Bacillales   \n",
       "G000006175   Archaea   Euryarchaeota         Methanococci    Methanococcales   \n",
       "G000006605  Bacteria  Actinobacteria       Actinobacteria  Corynebacteriales   \n",
       "G000006725  Bacteria  Proteobacteria  Gammaproteobacteria    Xanthomonadales   \n",
       "G000006745  Bacteria  Proteobacteria  Gammaproteobacteria        Vibrionales   \n",
       "\n",
       "                        family            genus                   species  \n",
       "G000005825         Bacillaceae         Bacillus     Bacillus pseudofirmus  \n",
       "G000006175    Methanococcaceae    Methanococcus      Methanococcus voltae  \n",
       "G000006605  Corynebacteriaceae  Corynebacterium  Corynebacterium jeikeium  \n",
       "G000006725    Xanthomonadaceae          Xylella        Xylella fastidiosa  \n",
       "G000006745        Vibrionaceae           Vibrio           Vibrio cholerae  "
      ]
     },
     "execution_count": 28,
     "metadata": {},
     "output_type": "execute_result"
    }
   ],
   "source": [
    "dfo = lineages_to_df(lineage_ori_fp)\n",
    "dfo.head()"
   ]
  },
  {
   "cell_type": "markdown",
   "metadata": {},
   "source": [
    "Identify taxa from the original lineages that can be filled to trailing spaces following consensus strings."
   ]
  },
  {
   "cell_type": "code",
   "execution_count": 29,
   "metadata": {
    "scrolled": true
   },
   "outputs": [
    {
     "name": "stdout",
     "output_type": "stream",
     "text": [
      "kingdom: 0, phylum: 40, class: 8, order: 23, family: 79, genus: 1200, species: 8474\n"
     ]
    }
   ],
   "source": [
    "taxa_to_add = {x: {} for x in ranks}\n",
    "for g in dfc.index:\n",
    "    for rank in ranks:\n",
    "        if dfc[rank][g] == '':\n",
    "            taxon = dfo[rank][g]\n",
    "            if taxon != '' and not taxon in ori_names[rank]:\n",
    "                taxa_to_add[rank][g] = taxon\n",
    "print(', '.join('%s: %d' % (x, len(taxa_to_add[x])) for x in ranks))"
   ]
  },
  {
   "cell_type": "markdown",
   "metadata": {},
   "source": [
    "Exclude taxa that occur multiple times at each rank."
   ]
  },
  {
   "cell_type": "code",
   "execution_count": 30,
   "metadata": {},
   "outputs": [
    {
     "name": "stdout",
     "output_type": "stream",
     "text": [
      "kingdom: 0, phylum: 20, class: 8, order: 23, family: 66, genus: 1062, species: 8426\n"
     ]
    }
   ],
   "source": [
    "for rank in ranks:\n",
    "    used, dups = set(), set()\n",
    "    for g, taxon in taxa_to_add[rank].items():\n",
    "        if taxon in used:\n",
    "            dups.add(taxon)\n",
    "        used.add(taxon)\n",
    "    new_dict = {}\n",
    "    for g, taxon in taxa_to_add[rank].items():\n",
    "        if taxon not in dups:\n",
    "            new_dict[g] = taxon\n",
    "    taxa_to_add[rank] = new_dict\n",
    "print(', '.join('%s: %d' % (x, len(taxa_to_add[x])) for x in ranks))"
   ]
  },
  {
   "cell_type": "markdown",
   "metadata": {},
   "source": [
    "Add those taxa to the lineage table."
   ]
  },
  {
   "cell_type": "code",
   "execution_count": 31,
   "metadata": {},
   "outputs": [
    {
     "data": {
      "text/html": [
       "<div>\n",
       "<style scoped>\n",
       "    .dataframe tbody tr th:only-of-type {\n",
       "        vertical-align: middle;\n",
       "    }\n",
       "\n",
       "    .dataframe tbody tr th {\n",
       "        vertical-align: top;\n",
       "    }\n",
       "\n",
       "    .dataframe thead th {\n",
       "        text-align: right;\n",
       "    }\n",
       "</style>\n",
       "<table border=\"1\" class=\"dataframe\">\n",
       "  <thead>\n",
       "    <tr style=\"text-align: right;\">\n",
       "      <th></th>\n",
       "      <th>kingdom</th>\n",
       "      <th>phylum</th>\n",
       "      <th>class</th>\n",
       "      <th>order</th>\n",
       "      <th>family</th>\n",
       "      <th>genus</th>\n",
       "      <th>species</th>\n",
       "    </tr>\n",
       "  </thead>\n",
       "  <tbody>\n",
       "    <tr>\n",
       "      <th>G000005825</th>\n",
       "      <td>Bacteria</td>\n",
       "      <td>Firmicutes_1</td>\n",
       "      <td>Bacilli</td>\n",
       "      <td>Bacillales_2</td>\n",
       "      <td>Bacillaceae_1</td>\n",
       "      <td>Bacillus_2</td>\n",
       "      <td>Bacillus pseudofirmus</td>\n",
       "    </tr>\n",
       "    <tr>\n",
       "      <th>G000006175</th>\n",
       "      <td>Archaea</td>\n",
       "      <td>Euryarchaeota_1</td>\n",
       "      <td>Methanococci</td>\n",
       "      <td>Methanococcales</td>\n",
       "      <td>Methanococcaceae</td>\n",
       "      <td>Methanococcus</td>\n",
       "      <td>Methanococcus voltae</td>\n",
       "    </tr>\n",
       "    <tr>\n",
       "      <th>G000006605</th>\n",
       "      <td>Bacteria</td>\n",
       "      <td>Actinobacteria</td>\n",
       "      <td>Actinobacteria</td>\n",
       "      <td>Corynebacteriales</td>\n",
       "      <td>Corynebacteriaceae</td>\n",
       "      <td>Corynebacterium</td>\n",
       "      <td>Corynebacterium falsenii</td>\n",
       "    </tr>\n",
       "    <tr>\n",
       "      <th>G000006725</th>\n",
       "      <td>Bacteria</td>\n",
       "      <td>Proteobacteria_1</td>\n",
       "      <td>Gammaproteobacteria</td>\n",
       "      <td>Xanthomonadales</td>\n",
       "      <td>Xanthomonadaceae</td>\n",
       "      <td>Xylella</td>\n",
       "      <td>Xylella fastidiosa</td>\n",
       "    </tr>\n",
       "    <tr>\n",
       "      <th>G000006745</th>\n",
       "      <td>Bacteria</td>\n",
       "      <td>Proteobacteria_1</td>\n",
       "      <td>Gammaproteobacteria</td>\n",
       "      <td>Vibrionales</td>\n",
       "      <td>Vibrionaceae</td>\n",
       "      <td>Vibrio</td>\n",
       "      <td>Vibrio cholerae</td>\n",
       "    </tr>\n",
       "  </tbody>\n",
       "</table>\n",
       "</div>"
      ],
      "text/plain": [
       "             kingdom            phylum                class  \\\n",
       "G000005825  Bacteria      Firmicutes_1              Bacilli   \n",
       "G000006175   Archaea   Euryarchaeota_1         Methanococci   \n",
       "G000006605  Bacteria    Actinobacteria       Actinobacteria   \n",
       "G000006725  Bacteria  Proteobacteria_1  Gammaproteobacteria   \n",
       "G000006745  Bacteria  Proteobacteria_1  Gammaproteobacteria   \n",
       "\n",
       "                        order              family            genus  \\\n",
       "G000005825       Bacillales_2       Bacillaceae_1       Bacillus_2   \n",
       "G000006175    Methanococcales    Methanococcaceae    Methanococcus   \n",
       "G000006605  Corynebacteriales  Corynebacteriaceae  Corynebacterium   \n",
       "G000006725    Xanthomonadales    Xanthomonadaceae          Xylella   \n",
       "G000006745        Vibrionales        Vibrionaceae           Vibrio   \n",
       "\n",
       "                             species  \n",
       "G000005825     Bacillus pseudofirmus  \n",
       "G000006175      Methanococcus voltae  \n",
       "G000006605  Corynebacterium falsenii  \n",
       "G000006725        Xylella fastidiosa  \n",
       "G000006745           Vibrio cholerae  "
      ]
     },
     "execution_count": 31,
     "metadata": {},
     "output_type": "execute_result"
    }
   ],
   "source": [
    "dfl = dfc.copy(deep=True)\n",
    "for i, rank in enumerate(ranks):\n",
    "    for g, taxon in taxa_to_add[rank].items():\n",
    "        dfl[rank][g] = taxon\n",
    "dfl.head()"
   ]
  },
  {
   "cell_type": "code",
   "execution_count": 32,
   "metadata": {},
   "outputs": [],
   "source": [
    "dfl.to_csv('filled_ranks.tsv', sep='\\t')"
   ]
  },
  {
   "cell_type": "code",
   "execution_count": 33,
   "metadata": {},
   "outputs": [],
   "source": [
    "with open('filled_lineages.txt', 'w') as f:\n",
    "    df_to_lineages(dfl, f)"
   ]
  },
  {
   "cell_type": "markdown",
   "metadata": {},
   "source": [
    "### Analyze node decoration"
   ]
  },
  {
   "cell_type": "markdown",
   "metadata": {},
   "source": [
    "Match decorations and node IDs."
   ]
  },
  {
   "cell_type": "code",
   "execution_count": 34,
   "metadata": {},
   "outputs": [
    {
     "data": {
      "text/plain": [
       "10575"
      ]
     },
     "execution_count": 34,
     "metadata": {},
     "output_type": "execute_result"
    }
   ],
   "source": [
    "tree_ori = TreeNode.read(tree_ori_fp)\n",
    "tree_ori.count(tips=True)"
   ]
  },
  {
   "cell_type": "code",
   "execution_count": 35,
   "metadata": {},
   "outputs": [
    {
     "data": {
      "text/plain": [
       "10575"
      ]
     },
     "execution_count": 35,
     "metadata": {},
     "output_type": "execute_result"
    }
   ],
   "source": [
    "tree_dec = TreeNode.read(tree_dec_fp)\n",
    "tree_dec.count(tips=True)"
   ]
  },
  {
   "cell_type": "markdown",
   "metadata": {},
   "source": [
    "Confirm that the decorated tree has the same topology and order of taxa as the original tree."
   ]
  },
  {
   "cell_type": "code",
   "execution_count": 36,
   "metadata": {},
   "outputs": [
    {
     "data": {
      "text/plain": [
       "0.0"
      ]
     },
     "execution_count": 36,
     "metadata": {},
     "output_type": "execute_result"
    }
   ],
   "source": [
    "tree_ori.compare_rfd(tree_dec)"
   ]
  },
  {
   "cell_type": "markdown",
   "metadata": {},
   "source": [
    "Read internal node IDs from the original tree."
   ]
  },
  {
   "cell_type": "code",
   "execution_count": 37,
   "metadata": {},
   "outputs": [],
   "source": [
    "nids = []\n",
    "for node in tree_ori.levelorder():\n",
    "    if not node.is_tip():\n",
    "        nids.append(node.name)"
   ]
  },
  {
   "cell_type": "markdown",
   "metadata": {},
   "source": [
    "Read node decorations."
   ]
  },
  {
   "cell_type": "code",
   "execution_count": 38,
   "metadata": {},
   "outputs": [
    {
     "data": {
      "text/plain": [
       "[None, 'k__Archaea', 'k__Bacteria', None, None]"
      ]
     },
     "execution_count": 38,
     "metadata": {},
     "output_type": "execute_result"
    }
   ],
   "source": [
    "decos = []\n",
    "for node in tree_dec.levelorder():\n",
    "    if not node.is_tip():\n",
    "        decos.append(node.name)\n",
    "decos[:5]"
   ]
  },
  {
   "cell_type": "markdown",
   "metadata": {},
   "source": [
    "Generate a rank name table."
   ]
  },
  {
   "cell_type": "code",
   "execution_count": 39,
   "metadata": {},
   "outputs": [],
   "source": [
    "nid2label = {}\n",
    "nid2ranks = {}\n",
    "for i in range(len(nids)):\n",
    "    nid = nids[i]\n",
    "    deco = decos[i]\n",
    "    nid2ranks[nid] = {x: '' for x in ranks}\n",
    "    if deco is not None and '__' in deco:\n",
    "        deco = deco.split(':')[-1]  # remove node support in case there is one\n",
    "        nid2label[nid] = deco\n",
    "        for taxon in deco.split('; '):\n",
    "            code, name = taxon.split('__')\n",
    "            nid2ranks[nid][code2rank[code]] = name"
   ]
  },
  {
   "cell_type": "code",
   "execution_count": 40,
   "metadata": {},
   "outputs": [],
   "source": [
    "with open('decorations.txt', 'w') as f:\n",
    "    for nid in sorted(nid2label, key=lambda x: int(x.lstrip('N'))):\n",
    "        f.write('%s\\t%s\\n' % (nid, nid2label[nid]))"
   ]
  },
  {
   "cell_type": "code",
   "execution_count": 41,
   "metadata": {},
   "outputs": [
    {
     "data": {
      "text/html": [
       "<div>\n",
       "<style scoped>\n",
       "    .dataframe tbody tr th:only-of-type {\n",
       "        vertical-align: middle;\n",
       "    }\n",
       "\n",
       "    .dataframe tbody tr th {\n",
       "        vertical-align: top;\n",
       "    }\n",
       "\n",
       "    .dataframe thead th {\n",
       "        text-align: right;\n",
       "    }\n",
       "</style>\n",
       "<table border=\"1\" class=\"dataframe\">\n",
       "  <thead>\n",
       "    <tr style=\"text-align: right;\">\n",
       "      <th></th>\n",
       "      <th>kingdom</th>\n",
       "      <th>phylum</th>\n",
       "      <th>class</th>\n",
       "      <th>order</th>\n",
       "      <th>family</th>\n",
       "      <th>genus</th>\n",
       "      <th>species</th>\n",
       "    </tr>\n",
       "  </thead>\n",
       "  <tbody>\n",
       "    <tr>\n",
       "      <th>N1</th>\n",
       "      <td></td>\n",
       "      <td></td>\n",
       "      <td></td>\n",
       "      <td></td>\n",
       "      <td></td>\n",
       "      <td></td>\n",
       "      <td></td>\n",
       "    </tr>\n",
       "    <tr>\n",
       "      <th>N2</th>\n",
       "      <td>Archaea</td>\n",
       "      <td></td>\n",
       "      <td></td>\n",
       "      <td></td>\n",
       "      <td></td>\n",
       "      <td></td>\n",
       "      <td></td>\n",
       "    </tr>\n",
       "    <tr>\n",
       "      <th>N3</th>\n",
       "      <td>Bacteria</td>\n",
       "      <td></td>\n",
       "      <td></td>\n",
       "      <td></td>\n",
       "      <td></td>\n",
       "      <td></td>\n",
       "      <td></td>\n",
       "    </tr>\n",
       "    <tr>\n",
       "      <th>N4</th>\n",
       "      <td></td>\n",
       "      <td></td>\n",
       "      <td></td>\n",
       "      <td></td>\n",
       "      <td></td>\n",
       "      <td></td>\n",
       "      <td></td>\n",
       "    </tr>\n",
       "    <tr>\n",
       "      <th>N5</th>\n",
       "      <td></td>\n",
       "      <td></td>\n",
       "      <td></td>\n",
       "      <td></td>\n",
       "      <td></td>\n",
       "      <td></td>\n",
       "      <td></td>\n",
       "    </tr>\n",
       "  </tbody>\n",
       "</table>\n",
       "</div>"
      ],
      "text/plain": [
       "     kingdom phylum class order family genus species\n",
       "N1                                                  \n",
       "N2   Archaea                                        \n",
       "N3  Bacteria                                        \n",
       "N4                                                  \n",
       "N5                                                  "
      ]
     },
     "execution_count": 41,
     "metadata": {},
     "output_type": "execute_result"
    }
   ],
   "source": [
    "dfd = pd.DataFrame.from_dict(nid2ranks, orient='index')\n",
    "dfd = dfd.loc[sorted(nid2ranks, key=lambda x: int(x[1:]))]\n",
    "dfd.head()"
   ]
  },
  {
   "cell_type": "code",
   "execution_count": 42,
   "metadata": {},
   "outputs": [],
   "source": [
    "dfd.to_csv('decorations_by_rank.tsv', sep='\\t')"
   ]
  },
  {
   "cell_type": "markdown",
   "metadata": {},
   "source": [
    "### Generate lineage for every node"
   ]
  },
  {
   "cell_type": "markdown",
   "metadata": {},
   "source": [
    "At a given node, at each rank, check if one taxon can describe all descendants."
   ]
  },
  {
   "cell_type": "code",
   "execution_count": 43,
   "metadata": {},
   "outputs": [],
   "source": [
    "g2ranks = dfl.to_dict('index')"
   ]
  },
  {
   "cell_type": "code",
   "execution_count": 44,
   "metadata": {},
   "outputs": [],
   "source": [
    "nid2ranks, nid2lineage = {}, {}\n",
    "for nid in nids:\n",
    "    nid2ranks[nid] = {x: '' for x in ranks}\n",
    "    nid2lineage[nid] = []\n",
    "    gs = tree_ori.find(nid).subset()\n",
    "    for rank in ranks:\n",
    "        nid2lineage[nid].append('%s__' % rank[0])\n",
    "        names = set(g2ranks[x][rank] for x in gs)\n",
    "        if len(names) == 1:\n",
    "            name = max(names)\n",
    "            nid2ranks[nid][rank] = name\n",
    "            nid2lineage[nid][-1] += name"
   ]
  },
  {
   "cell_type": "code",
   "execution_count": 45,
   "metadata": {},
   "outputs": [],
   "source": [
    "with open('node_lineages.txt', 'w') as f:\n",
    "    for nid in sorted(nid2lineage, key=lambda x: int(x[1:])):\n",
    "        f.write('%s\\t%s\\n' % (nid, '; '.join(nid2lineage[nid])))"
   ]
  },
  {
   "cell_type": "code",
   "execution_count": 46,
   "metadata": {},
   "outputs": [
    {
     "data": {
      "text/html": [
       "<div>\n",
       "<style scoped>\n",
       "    .dataframe tbody tr th:only-of-type {\n",
       "        vertical-align: middle;\n",
       "    }\n",
       "\n",
       "    .dataframe tbody tr th {\n",
       "        vertical-align: top;\n",
       "    }\n",
       "\n",
       "    .dataframe thead th {\n",
       "        text-align: right;\n",
       "    }\n",
       "</style>\n",
       "<table border=\"1\" class=\"dataframe\">\n",
       "  <thead>\n",
       "    <tr style=\"text-align: right;\">\n",
       "      <th></th>\n",
       "      <th>kingdom</th>\n",
       "      <th>phylum</th>\n",
       "      <th>class</th>\n",
       "      <th>order</th>\n",
       "      <th>family</th>\n",
       "      <th>genus</th>\n",
       "      <th>species</th>\n",
       "    </tr>\n",
       "  </thead>\n",
       "  <tbody>\n",
       "    <tr>\n",
       "      <th>N1</th>\n",
       "      <td></td>\n",
       "      <td></td>\n",
       "      <td></td>\n",
       "      <td></td>\n",
       "      <td></td>\n",
       "      <td></td>\n",
       "      <td></td>\n",
       "    </tr>\n",
       "    <tr>\n",
       "      <th>N2</th>\n",
       "      <td>Archaea</td>\n",
       "      <td></td>\n",
       "      <td></td>\n",
       "      <td></td>\n",
       "      <td></td>\n",
       "      <td></td>\n",
       "      <td></td>\n",
       "    </tr>\n",
       "    <tr>\n",
       "      <th>N3</th>\n",
       "      <td>Bacteria</td>\n",
       "      <td></td>\n",
       "      <td></td>\n",
       "      <td></td>\n",
       "      <td></td>\n",
       "      <td></td>\n",
       "      <td></td>\n",
       "    </tr>\n",
       "    <tr>\n",
       "      <th>N4</th>\n",
       "      <td>Archaea</td>\n",
       "      <td></td>\n",
       "      <td></td>\n",
       "      <td></td>\n",
       "      <td></td>\n",
       "      <td></td>\n",
       "      <td></td>\n",
       "    </tr>\n",
       "    <tr>\n",
       "      <th>N5</th>\n",
       "      <td>Archaea</td>\n",
       "      <td></td>\n",
       "      <td></td>\n",
       "      <td></td>\n",
       "      <td></td>\n",
       "      <td></td>\n",
       "      <td></td>\n",
       "    </tr>\n",
       "  </tbody>\n",
       "</table>\n",
       "</div>"
      ],
      "text/plain": [
       "     kingdom phylum class order family genus species\n",
       "N1                                                  \n",
       "N2   Archaea                                        \n",
       "N3  Bacteria                                        \n",
       "N4   Archaea                                        \n",
       "N5   Archaea                                        "
      ]
     },
     "execution_count": 46,
     "metadata": {},
     "output_type": "execute_result"
    }
   ],
   "source": [
    "dfn = pd.DataFrame.from_dict(nid2ranks, orient='index')\n",
    "dfn = dfn.loc[sorted(nid2ranks, key=lambda x: int(x[1:]))]\n",
    "dfn.head()"
   ]
  },
  {
   "cell_type": "code",
   "execution_count": 47,
   "metadata": {},
   "outputs": [],
   "source": [
    "dfn.to_csv('node_ranks.tsv', sep='\\t')"
   ]
  }
 ],
 "metadata": {
  "hide_input": false,
  "kernelspec": {
   "display_name": "Python 3",
   "language": "python",
   "name": "python3"
  },
  "language_info": {
   "codemirror_mode": {
    "name": "ipython",
    "version": 3
   },
   "file_extension": ".py",
   "mimetype": "text/x-python",
   "name": "python",
   "nbconvert_exporter": "python",
   "pygments_lexer": "ipython3",
   "version": "3.6.4"
  }
 },
 "nbformat": 4,
 "nbformat_minor": 2
}
