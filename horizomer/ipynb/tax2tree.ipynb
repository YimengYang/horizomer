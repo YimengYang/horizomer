{
 "cells": [
  {
   "cell_type": "markdown",
   "metadata": {},
   "source": [
    "# tax2tree"
   ]
  },
  {
   "cell_type": "markdown",
   "metadata": {},
   "source": [
    "## Background"
   ]
  },
  {
   "cell_type": "markdown",
   "metadata": {},
   "source": [
    "[**tax2tree**](https://github.com/wasade/tax2tree) ([McDonald et al., 2012](https://www.nature.com/articles/ismej2011139)) automatically curates taxonomic annotations of tree tips and internal nodes based on tree topology."
   ]
  },
  {
   "cell_type": "markdown",
   "metadata": {},
   "source": [
    "## Preparation"
   ]
  },
  {
   "cell_type": "markdown",
   "metadata": {},
   "source": [
    "### Dependencies"
   ]
  },
  {
   "cell_type": "code",
   "execution_count": 78,
   "metadata": {},
   "outputs": [],
   "source": [
    "import numpy as np\n",
    "import pandas as pd\n",
    "import seaborn as sns\n",
    "import matplotlib as mpl\n",
    "from skbio import TreeNode"
   ]
  },
  {
   "cell_type": "markdown",
   "metadata": {},
   "source": [
    "### Installation"
   ]
  },
  {
   "cell_type": "code",
   "execution_count": null,
   "metadata": {},
   "outputs": [],
   "source": [
    "%%bash\n",
    "conda create -n tax2tree numpy Click future==0.13.1 scikit-bio==0.2.3 python=2\n",
    "source activate tax2tree\n",
    "pip install git+https://github.com/wasade/tax2tree.git"
   ]
  },
  {
   "cell_type": "markdown",
   "metadata": {},
   "source": [
    "### Input files"
   ]
  },
  {
   "cell_type": "markdown",
   "metadata": {},
   "source": [
    " - A tree in Newick format.\n",
    " - A mapping file defining taxon names at the seven ranks:"
   ]
  },
  {
   "cell_type": "code",
   "execution_count": 99,
   "metadata": {},
   "outputs": [
    {
     "name": "stdout",
     "output_type": "stream",
     "text": [
      "G000003135\tk__Bacteria; p__Actinobacteria; c__Actinobacteria; o__Bifidobacteriales; f__Bifidobacteriaceae; g__Bifidobacterium; s__Bifidobacterium longum\r\n",
      "G000003215\tk__Bacteria; p__Firmicutes; c__Clostridia; o__Clostridiales; f__Peptostreptococcaceae; g__Clostridioides; s__Clostridioides difficile\r\n",
      "G000003645\tk__Bacteria; p__Firmicutes; c__Bacilli; o__Bacillales; f__Bacillaceae; g__Bacillus; s__Bacillus cereus\r\n",
      "G000003925\tk__Bacteria; p__Firmicutes; c__Bacilli; o__Bacillales; f__Bacillaceae; g__Bacillus; s__Bacillus mycoides\r\n",
      "G000003955\tk__Bacteria; p__Firmicutes; c__Bacilli; o__Bacillales; f__Bacillaceae; g__Bacillus; s__Bacillus cereus\r\n"
     ]
    }
   ],
   "source": [
    "!head -n5 ../ncbi/ranks.gg.tsv"
   ]
  },
  {
   "cell_type": "markdown",
   "metadata": {},
   "source": [
    "## Analyses"
   ]
  },
  {
   "cell_type": "markdown",
   "metadata": {},
   "source": [
    "### Run tax2tree"
   ]
  },
  {
   "cell_type": "markdown",
   "metadata": {},
   "source": [
    "Decorate the ASTRAL tree with taxdump."
   ]
  },
  {
   "cell_type": "code",
   "execution_count": 51,
   "metadata": {},
   "outputs": [],
   "source": [
    "%%script false\n",
    "!t2t decorate -t astral.MR.rooted.tre -m ranks.gg.tsv -o astral.MR.rooted.taxdump.consistency.txt"
   ]
  },
  {
   "cell_type": "markdown",
   "metadata": {},
   "source": [
    "Assess the consistency between taxdump and topology."
   ]
  },
  {
   "cell_type": "code",
   "execution_count": 52,
   "metadata": {},
   "outputs": [],
   "source": [
    "%%script false\n",
    "!t2t consistency -t astral.MR.rooted.tre -m ranks.gg.tsv -o astral.MR.rooted.taxdump.consistency.txt"
   ]
  },
  {
   "cell_type": "markdown",
   "metadata": {},
   "source": [
    "### Analyze consistency"
   ]
  },
  {
   "cell_type": "code",
   "execution_count": 92,
   "metadata": {},
   "outputs": [
    {
     "data": {
      "text/html": [
       "<div>\n",
       "<style scoped>\n",
       "    .dataframe tbody tr th:only-of-type {\n",
       "        vertical-align: middle;\n",
       "    }\n",
       "\n",
       "    .dataframe tbody tr th {\n",
       "        vertical-align: top;\n",
       "    }\n",
       "\n",
       "    .dataframe thead th {\n",
       "        text-align: right;\n",
       "    }\n",
       "</style>\n",
       "<table border=\"1\" class=\"dataframe\">\n",
       "  <thead>\n",
       "    <tr style=\"text-align: right;\">\n",
       "      <th></th>\n",
       "      <th>Taxon</th>\n",
       "      <th>Count</th>\n",
       "      <th>Consistency</th>\n",
       "    </tr>\n",
       "  </thead>\n",
       "  <tbody>\n",
       "    <tr>\n",
       "      <th>0</th>\n",
       "      <td>k__Archaea</td>\n",
       "      <td>652</td>\n",
       "      <td>1.0</td>\n",
       "    </tr>\n",
       "    <tr>\n",
       "      <th>1</th>\n",
       "      <td>k__Bacteria</td>\n",
       "      <td>9575</td>\n",
       "      <td>1.0</td>\n",
       "    </tr>\n",
       "    <tr>\n",
       "      <th>2</th>\n",
       "      <td>p__Candidatus Adlerbacteria</td>\n",
       "      <td>5</td>\n",
       "      <td>1.0</td>\n",
       "    </tr>\n",
       "    <tr>\n",
       "      <th>3</th>\n",
       "      <td>p__Thermotogae</td>\n",
       "      <td>35</td>\n",
       "      <td>1.0</td>\n",
       "    </tr>\n",
       "    <tr>\n",
       "      <th>4</th>\n",
       "      <td>p__Candidatus Doudnabacteria</td>\n",
       "      <td>19</td>\n",
       "      <td>1.0</td>\n",
       "    </tr>\n",
       "  </tbody>\n",
       "</table>\n",
       "</div>"
      ],
      "text/plain": [
       "                          Taxon  Count  Consistency\n",
       "0                    k__Archaea    652          1.0\n",
       "1                   k__Bacteria   9575          1.0\n",
       "2   p__Candidatus Adlerbacteria      5          1.0\n",
       "3                p__Thermotogae     35          1.0\n",
       "4  p__Candidatus Doudnabacteria     19          1.0"
      ]
     },
     "execution_count": 92,
     "metadata": {},
     "output_type": "execute_result"
    }
   ],
   "source": [
    "df = pd.read_table('astral.MR.rooted.taxdump.consistency.txt')\n",
    "df.head()"
   ]
  },
  {
   "cell_type": "code",
   "execution_count": 93,
   "metadata": {},
   "outputs": [
    {
     "data": {
      "text/html": [
       "<div>\n",
       "<style scoped>\n",
       "    .dataframe tbody tr th:only-of-type {\n",
       "        vertical-align: middle;\n",
       "    }\n",
       "\n",
       "    .dataframe tbody tr th {\n",
       "        vertical-align: top;\n",
       "    }\n",
       "\n",
       "    .dataframe thead th {\n",
       "        text-align: right;\n",
       "    }\n",
       "</style>\n",
       "<table border=\"1\" class=\"dataframe\">\n",
       "  <thead>\n",
       "    <tr style=\"text-align: right;\">\n",
       "      <th></th>\n",
       "      <th>Count</th>\n",
       "      <th>Consistency</th>\n",
       "      <th>Name</th>\n",
       "      <th>Rank</th>\n",
       "    </tr>\n",
       "    <tr>\n",
       "      <th>Taxon</th>\n",
       "      <th></th>\n",
       "      <th></th>\n",
       "      <th></th>\n",
       "      <th></th>\n",
       "    </tr>\n",
       "  </thead>\n",
       "  <tbody>\n",
       "    <tr>\n",
       "      <th>k__Archaea</th>\n",
       "      <td>652</td>\n",
       "      <td>1.0</td>\n",
       "      <td>Archaea</td>\n",
       "      <td>kingdom</td>\n",
       "    </tr>\n",
       "    <tr>\n",
       "      <th>k__Bacteria</th>\n",
       "      <td>9575</td>\n",
       "      <td>1.0</td>\n",
       "      <td>Bacteria</td>\n",
       "      <td>kingdom</td>\n",
       "    </tr>\n",
       "    <tr>\n",
       "      <th>p__Candidatus Adlerbacteria</th>\n",
       "      <td>5</td>\n",
       "      <td>1.0</td>\n",
       "      <td>Candidatus Adlerbacteria</td>\n",
       "      <td>phylum</td>\n",
       "    </tr>\n",
       "    <tr>\n",
       "      <th>p__Thermotogae</th>\n",
       "      <td>35</td>\n",
       "      <td>1.0</td>\n",
       "      <td>Thermotogae</td>\n",
       "      <td>phylum</td>\n",
       "    </tr>\n",
       "    <tr>\n",
       "      <th>p__Candidatus Doudnabacteria</th>\n",
       "      <td>19</td>\n",
       "      <td>1.0</td>\n",
       "      <td>Candidatus Doudnabacteria</td>\n",
       "      <td>phylum</td>\n",
       "    </tr>\n",
       "  </tbody>\n",
       "</table>\n",
       "</div>"
      ],
      "text/plain": [
       "                              Count  Consistency                       Name  \\\n",
       "Taxon                                                                         \n",
       "k__Archaea                      652          1.0                    Archaea   \n",
       "k__Bacteria                    9575          1.0                   Bacteria   \n",
       "p__Candidatus Adlerbacteria       5          1.0   Candidatus Adlerbacteria   \n",
       "p__Thermotogae                   35          1.0                Thermotogae   \n",
       "p__Candidatus Doudnabacteria     19          1.0  Candidatus Doudnabacteria   \n",
       "\n",
       "                                 Rank  \n",
       "Taxon                                  \n",
       "k__Archaea                    kingdom  \n",
       "k__Bacteria                   kingdom  \n",
       "p__Candidatus Adlerbacteria    phylum  \n",
       "p__Thermotogae                 phylum  \n",
       "p__Candidatus Doudnabacteria   phylum  "
      ]
     },
     "execution_count": 93,
     "metadata": {},
     "output_type": "execute_result"
    }
   ],
   "source": [
    "df['Name'] = df['Taxon'].str.split('__').str.get(1)\n",
    "df['Rank'] = df['Taxon'].str.split('__').str.get(0).map(code2rank)\n",
    "df.set_index('Taxon', inplace=True)\n",
    "df.head()"
   ]
  },
  {
   "cell_type": "code",
   "execution_count": 94,
   "metadata": {},
   "outputs": [
    {
     "data": {
      "text/html": [
       "<div>\n",
       "<style scoped>\n",
       "    .dataframe tbody tr th:only-of-type {\n",
       "        vertical-align: middle;\n",
       "    }\n",
       "\n",
       "    .dataframe tbody tr th {\n",
       "        vertical-align: top;\n",
       "    }\n",
       "\n",
       "    .dataframe thead th {\n",
       "        text-align: right;\n",
       "    }\n",
       "</style>\n",
       "<table border=\"1\" class=\"dataframe\">\n",
       "  <thead>\n",
       "    <tr style=\"text-align: right;\">\n",
       "      <th></th>\n",
       "      <th>Count</th>\n",
       "      <th>Consistency</th>\n",
       "      <th>Name</th>\n",
       "      <th>Rank</th>\n",
       "    </tr>\n",
       "    <tr>\n",
       "      <th>Taxon</th>\n",
       "      <th></th>\n",
       "      <th></th>\n",
       "      <th></th>\n",
       "      <th></th>\n",
       "    </tr>\n",
       "  </thead>\n",
       "  <tbody>\n",
       "    <tr>\n",
       "      <th>k__Archaea</th>\n",
       "      <td>652</td>\n",
       "      <td>1.0</td>\n",
       "      <td>Archaea</td>\n",
       "      <td>kingdom</td>\n",
       "    </tr>\n",
       "    <tr>\n",
       "      <th>k__Bacteria</th>\n",
       "      <td>9575</td>\n",
       "      <td>1.0</td>\n",
       "      <td>Bacteria</td>\n",
       "      <td>kingdom</td>\n",
       "    </tr>\n",
       "    <tr>\n",
       "      <th>p__Candidatus Adlerbacteria</th>\n",
       "      <td>5</td>\n",
       "      <td>1.0</td>\n",
       "      <td>Candidatus Adlerbacteria</td>\n",
       "      <td>phylum</td>\n",
       "    </tr>\n",
       "    <tr>\n",
       "      <th>p__Thermotogae</th>\n",
       "      <td>35</td>\n",
       "      <td>1.0</td>\n",
       "      <td>Thermotogae</td>\n",
       "      <td>phylum</td>\n",
       "    </tr>\n",
       "    <tr>\n",
       "      <th>p__Candidatus Doudnabacteria</th>\n",
       "      <td>19</td>\n",
       "      <td>1.0</td>\n",
       "      <td>Candidatus Doudnabacteria</td>\n",
       "      <td>phylum</td>\n",
       "    </tr>\n",
       "  </tbody>\n",
       "</table>\n",
       "</div>"
      ],
      "text/plain": [
       "                              Count  Consistency                       Name  \\\n",
       "Taxon                                                                         \n",
       "k__Archaea                      652          1.0                    Archaea   \n",
       "k__Bacteria                    9575          1.0                   Bacteria   \n",
       "p__Candidatus Adlerbacteria       5          1.0   Candidatus Adlerbacteria   \n",
       "p__Thermotogae                   35          1.0                Thermotogae   \n",
       "p__Candidatus Doudnabacteria     19          1.0  Candidatus Doudnabacteria   \n",
       "\n",
       "                                 Rank  \n",
       "Taxon                                  \n",
       "k__Archaea                    kingdom  \n",
       "k__Bacteria                   kingdom  \n",
       "p__Candidatus Adlerbacteria    phylum  \n",
       "p__Thermotogae                 phylum  \n",
       "p__Candidatus Doudnabacteria   phylum  "
      ]
     },
     "execution_count": 94,
     "metadata": {},
     "output_type": "execute_result"
    }
   ],
   "source": [
    "df.head()"
   ]
  },
  {
   "cell_type": "code",
   "execution_count": 95,
   "metadata": {},
   "outputs": [
    {
     "data": {
      "image/png": "[encoded data removed]",
      "text/plain": [
       "<matplotlib.figure.Figure at 0x1a194b56a0>"
      ]
     },
     "metadata": {},
     "output_type": "display_data"
    }
   ],
   "source": [
    "df.boxplot(column='Consistency', by='Rank');"
   ]
  },
  {
   "cell_type": "code",
   "execution_count": 96,
   "metadata": {},
   "outputs": [
    {
     "data": {
      "image/png": "[encoded data removed]",
      "text/plain": [
       "<matplotlib.figure.Figure at 0x1a1a0a5400>"
      ]
     },
     "metadata": {},
     "output_type": "display_data"
    }
   ],
   "source": [
    "ax = sns.barplot(x='Rank', y='Consistency', data=df)\n",
    "ax.set_ylim(0.8,)\n",
    "ax.set_title('NCBI');"
   ]
  },
  {
   "cell_type": "code",
   "execution_count": 97,
   "metadata": {},
   "outputs": [],
   "source": [
    "plt = ax.get_figure()\n",
    "plt.tight_layout()\n",
    "plt.savefig('NCBI.pdf', bbox_to_inches='tight')"
   ]
  },
  {
   "cell_type": "markdown",
   "metadata": {},
   "source": [
    "### Analyze node decoration"
   ]
  },
  {
   "cell_type": "markdown",
   "metadata": {},
   "source": [
    "Match decorations and node IDs."
   ]
  },
  {
   "cell_type": "code",
   "execution_count": 5,
   "metadata": {},
   "outputs": [
    {
     "data": {
      "text/plain": [
       "10575"
      ]
     },
     "execution_count": 5,
     "metadata": {},
     "output_type": "execute_result"
    }
   ],
   "source": [
    "tree_nid = TreeNode.read('../../ToLs/astral.MR.rooted.nid.tre')\n",
    "tree_nid.count(tips=True)"
   ]
  },
  {
   "cell_type": "code",
   "execution_count": 6,
   "metadata": {},
   "outputs": [
    {
     "data": {
      "text/plain": [
       "10575"
      ]
     },
     "execution_count": 6,
     "metadata": {},
     "output_type": "execute_result"
    }
   ],
   "source": [
    "tree_t2t = TreeNode.read('astral.MR.rooted.taxdump.t2t.nwk')\n",
    "tree_t2t.count(tips=True)"
   ]
  },
  {
   "cell_type": "markdown",
   "metadata": {},
   "source": [
    "Confirm that the decorated tree has the same topology and order of taxa as the original tree."
   ]
  },
  {
   "cell_type": "code",
   "execution_count": 7,
   "metadata": {},
   "outputs": [
    {
     "data": {
      "text/plain": [
       "0.0"
      ]
     },
     "execution_count": 7,
     "metadata": {},
     "output_type": "execute_result"
    }
   ],
   "source": [
    "tree_nid.compare_rfd(tree_t2t)"
   ]
  },
  {
   "cell_type": "code",
   "execution_count": 10,
   "metadata": {},
   "outputs": [],
   "source": [
    "nids = []\n",
    "for node in tree_nid.levelorder():\n",
    "    if not node.is_tip():\n",
    "        nids.append(node.name)"
   ]
  },
  {
   "cell_type": "code",
   "execution_count": 11,
   "metadata": {},
   "outputs": [],
   "source": [
    "decos = []\n",
    "for node in tree_t2t.levelorder():\n",
    "    if not node.is_tip():\n",
    "        decos.append(node.name)"
   ]
  },
  {
   "cell_type": "code",
   "execution_count": 16,
   "metadata": {},
   "outputs": [
    {
     "data": {
      "text/plain": [
       "[None, '1.0:k__Archaea', '0.75:k__Bacteria', '1.0', '0.7']"
      ]
     },
     "execution_count": 16,
     "metadata": {},
     "output_type": "execute_result"
    }
   ],
   "source": [
    "decos[:5]"
   ]
  },
  {
   "cell_type": "markdown",
   "metadata": {},
   "source": [
    "Generate a rank name table."
   ]
  },
  {
   "cell_type": "code",
   "execution_count": 27,
   "metadata": {},
   "outputs": [],
   "source": [
    "codes = ['k', 'p', 'c', 'o', 'f', 'g', 's']\n",
    "ranks = ['kingdom', 'phylum', 'class', 'order', 'family', 'genus', 'species']"
   ]
  },
  {
   "cell_type": "code",
   "execution_count": 28,
   "metadata": {},
   "outputs": [],
   "source": [
    "code2rank = {codes[i]: ranks[i] for i in range(len(codes))}"
   ]
  },
  {
   "cell_type": "code",
   "execution_count": 29,
   "metadata": {},
   "outputs": [],
   "source": [
    "node2ranks = {}"
   ]
  },
  {
   "cell_type": "code",
   "execution_count": 41,
   "metadata": {},
   "outputs": [],
   "source": [
    "for i in range(len(nids)):\n",
    "    nid = nids[i]\n",
    "    deco = decos[i]\n",
    "    node2ranks[nid] = {x: '' for x in ranks}\n",
    "    if deco is not None and '__' in deco:\n",
    "        for taxon in deco.split(':')[-1].split('; '):\n",
    "            code, name = taxon.split('__')\n",
    "            node2ranks[nid][code2rank[code]] = name"
   ]
  },
  {
   "cell_type": "code",
   "execution_count": 50,
   "metadata": {},
   "outputs": [
    {
     "data": {
      "text/html": [
       "<div>\n",
       "<style scoped>\n",
       "    .dataframe tbody tr th:only-of-type {\n",
       "        vertical-align: middle;\n",
       "    }\n",
       "\n",
       "    .dataframe tbody tr th {\n",
       "        vertical-align: top;\n",
       "    }\n",
       "\n",
       "    .dataframe thead th {\n",
       "        text-align: right;\n",
       "    }\n",
       "</style>\n",
       "<table border=\"1\" class=\"dataframe\">\n",
       "  <thead>\n",
       "    <tr style=\"text-align: right;\">\n",
       "      <th></th>\n",
       "      <th>kingdom</th>\n",
       "      <th>phylum</th>\n",
       "      <th>class</th>\n",
       "      <th>order</th>\n",
       "      <th>family</th>\n",
       "      <th>genus</th>\n",
       "      <th>species</th>\n",
       "    </tr>\n",
       "  </thead>\n",
       "  <tbody>\n",
       "    <tr>\n",
       "      <th>N1</th>\n",
       "      <td></td>\n",
       "      <td></td>\n",
       "      <td></td>\n",
       "      <td></td>\n",
       "      <td></td>\n",
       "      <td></td>\n",
       "      <td></td>\n",
       "    </tr>\n",
       "    <tr>\n",
       "      <th>N2</th>\n",
       "      <td>Archaea</td>\n",
       "      <td></td>\n",
       "      <td></td>\n",
       "      <td></td>\n",
       "      <td></td>\n",
       "      <td></td>\n",
       "      <td></td>\n",
       "    </tr>\n",
       "    <tr>\n",
       "      <th>N3</th>\n",
       "      <td>Bacteria</td>\n",
       "      <td></td>\n",
       "      <td></td>\n",
       "      <td></td>\n",
       "      <td></td>\n",
       "      <td></td>\n",
       "      <td></td>\n",
       "    </tr>\n",
       "    <tr>\n",
       "      <th>N4</th>\n",
       "      <td></td>\n",
       "      <td></td>\n",
       "      <td></td>\n",
       "      <td></td>\n",
       "      <td></td>\n",
       "      <td></td>\n",
       "      <td></td>\n",
       "    </tr>\n",
       "    <tr>\n",
       "      <th>N5</th>\n",
       "      <td></td>\n",
       "      <td></td>\n",
       "      <td></td>\n",
       "      <td></td>\n",
       "      <td></td>\n",
       "      <td></td>\n",
       "      <td></td>\n",
       "    </tr>\n",
       "  </tbody>\n",
       "</table>\n",
       "</div>"
      ],
      "text/plain": [
       "     kingdom phylum class order family genus species\n",
       "N1                                                  \n",
       "N2   Archaea                                        \n",
       "N3  Bacteria                                        \n",
       "N4                                                  \n",
       "N5                                                  "
      ]
     },
     "execution_count": 50,
     "metadata": {},
     "output_type": "execute_result"
    }
   ],
   "source": [
    "df = pd.DataFrame.from_dict(node2ranks, orient='index')\n",
    "df = df.loc[sorted(node2ranks, key=lambda x: int(x[1:]))]\n",
    "df.head()"
   ]
  },
  {
   "cell_type": "code",
   "execution_count": 54,
   "metadata": {},
   "outputs": [],
   "source": [
    "df.to_csv('nodes.ranks.tsv', sep='\\t')"
   ]
  }
 ],
 "metadata": {
  "hide_input": false,
  "kernelspec": {
   "display_name": "Python 3",
   "language": "python",
   "name": "python3"
  },
  "language_info": {
   "codemirror_mode": {
    "name": "ipython",
    "version": 3
   },
   "file_extension": ".py",
   "mimetype": "text/x-python",
   "name": "python",
   "nbconvert_exporter": "python",
   "pygments_lexer": "ipython3",
   "version": "3.6.4"
  }
 },
 "nbformat": 4,
 "nbformat_minor": 2
}
