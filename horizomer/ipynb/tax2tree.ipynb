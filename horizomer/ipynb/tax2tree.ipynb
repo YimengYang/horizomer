{
 "cells": [
  {
   "cell_type": "markdown",
   "metadata": {},
   "source": [
    "# tax2tree"
   ]
  },
  {
   "cell_type": "markdown",
   "metadata": {},
   "source": [
    "## Background"
   ]
  },
  {
   "cell_type": "markdown",
   "metadata": {},
   "source": [
    "[**tax2tree**](https://github.com/wasade/tax2tree) ([McDonald et al., 2012](https://www.nature.com/articles/ismej2011139)) automatically curates taxonomic annotations of tree tips and internal nodes based on tree topology."
   ]
  },
  {
   "cell_type": "markdown",
   "metadata": {},
   "source": [
    "## Preparation"
   ]
  },
  {
   "cell_type": "markdown",
   "metadata": {},
   "source": [
    "### Dependencies"
   ]
  },
  {
   "cell_type": "code",
   "execution_count": 1,
   "metadata": {},
   "outputs": [],
   "source": [
    "import numpy as np\n",
    "import pandas as pd\n",
    "import seaborn as sns\n",
    "import matplotlib as mpl\n",
    "import matplotlib.pyplot as plt\n",
    "from skbio import TreeNode"
   ]
  },
  {
   "cell_type": "code",
   "execution_count": 28,
   "metadata": {},
   "outputs": [],
   "source": [
    "%matplotlib inline"
   ]
  },
  {
   "cell_type": "code",
   "execution_count": 32,
   "metadata": {},
   "outputs": [],
   "source": [
    "def save_sns(ax, fp):\n",
    "    plt = ax.get_figure()\n",
    "    plt.tight_layout()\n",
    "    plt.savefig(fp, bbox_to_inches='tight')\n",
    "    # plt.clf()"
   ]
  },
  {
   "cell_type": "markdown",
   "metadata": {},
   "source": [
    "### Installation"
   ]
  },
  {
   "cell_type": "code",
   "execution_count": null,
   "metadata": {},
   "outputs": [],
   "source": [
    "%%bash\n",
    "conda create -n tax2tree numpy Click future==0.13.1 scikit-bio==0.2.3 python=2\n",
    "source activate tax2tree\n",
    "pip install git+https://github.com/wasade/tax2tree.git"
   ]
  },
  {
   "cell_type": "markdown",
   "metadata": {},
   "source": [
    "### Input files"
   ]
  },
  {
   "cell_type": "markdown",
   "metadata": {},
   "source": [
    "A tree in Newick format"
   ]
  },
  {
   "cell_type": "code",
   "execution_count": 6,
   "metadata": {},
   "outputs": [],
   "source": [
    "treId = 'astral'"
   ]
  },
  {
   "cell_type": "code",
   "execution_count": 7,
   "metadata": {},
   "outputs": [
    {
     "name": "stdout",
     "output_type": "stream",
     "text": [
      "((((G000830275,G000402355)1:1.9274170931001995,(G000830295,G001871415)1:0.3472278107564257)1:0.544066618296668,(((G001875345,G001875425)1:1.6873632488722148,(G000246735,(G001628435,(G001629205,((G001628475,G001629165)1:2.0604328613938243,((G001628455,G001628485)1:1.9206830986140224,((G001629245,(G001629185,G001629235)1:0.3075175031094494)1:0.6660247726893402,(G001629155,(G001629255,G001629295)0.44:0.021989455540173668)1:1.8447314878009522)0.91:0.11918316952919494)1:2.2728040694003244)1:0.6174001\r\n"
     ]
    }
   ],
   "source": [
    "!cat {treId}.nwk | cut -c1-500"
   ]
  },
  {
   "cell_type": "markdown",
   "metadata": {},
   "source": [
    "A mapping file defining taxon names at the seven ranks per genome"
   ]
  },
  {
   "cell_type": "code",
   "execution_count": 9,
   "metadata": {},
   "outputs": [],
   "source": [
    "taxId = 'ncbi'"
   ]
  },
  {
   "cell_type": "code",
   "execution_count": 10,
   "metadata": {},
   "outputs": [
    {
     "name": "stdout",
     "output_type": "stream",
     "text": [
      "G000003135\tk__Bacteria; p__Actinobacteria; c__Actinobacteria; o__Bifidobacteriales; f__Bifidobacteriaceae; g__Bifidobacterium; s__Bifidobacterium longum\r\n",
      "G000003215\tk__Bacteria; p__Firmicutes; c__Clostridia; o__Clostridiales; f__Peptostreptococcaceae; g__Clostridioides; s__Clostridioides difficile\r\n",
      "G000003645\tk__Bacteria; p__Firmicutes; c__Bacilli; o__Bacillales; f__Bacillaceae; g__Bacillus; s__Bacillus cereus\r\n",
      "G000003925\tk__Bacteria; p__Firmicutes; c__Bacilli; o__Bacillales; f__Bacillaceae; g__Bacillus; s__Bacillus mycoides\r\n",
      "G000003955\tk__Bacteria; p__Firmicutes; c__Bacilli; o__Bacillales; f__Bacillaceae; g__Bacillus; s__Bacillus cereus\r\n"
     ]
    }
   ],
   "source": [
    "!head -n5 {taxId}.tsv"
   ]
  },
  {
   "cell_type": "markdown",
   "metadata": {},
   "source": [
    "## Analyses"
   ]
  },
  {
   "cell_type": "markdown",
   "metadata": {},
   "source": [
    "### Run tax2tree"
   ]
  },
  {
   "cell_type": "markdown",
   "metadata": {},
   "source": [
    "Decorate the ASTRAL tree with taxdump."
   ]
  },
  {
   "cell_type": "code",
   "execution_count": 18,
   "metadata": {},
   "outputs": [],
   "source": [
    "%%script false\n",
    "!t2t decorate -t {treId}.nwk -m {taxId}.tsv -o {treId}.{taxId} > {treId}.{taxId}.stdout"
   ]
  },
  {
   "cell_type": "code",
   "execution_count": null,
   "metadata": {},
   "outputs": [],
   "source": [
    "!mv {treId}.{taxId}-consensus-strings {treId}.{taxId}.curated_taxonomy.txt\n",
    "!mv {treId}.{taxId} {treId}.{taxId}.t2t.nwk"
   ]
  },
  {
   "cell_type": "markdown",
   "metadata": {},
   "source": [
    "Assess the consistency between taxdump and topology."
   ]
  },
  {
   "cell_type": "code",
   "execution_count": 52,
   "metadata": {},
   "outputs": [],
   "source": [
    "%%script false\n",
    "!t2t consistency -t {treId}.nwk -m {taxId}.tsv -o {treId}.{taxId}.consistency.txt"
   ]
  },
  {
   "cell_type": "markdown",
   "metadata": {},
   "source": [
    "### Analyze curation"
   ]
  },
  {
   "cell_type": "code",
   "execution_count": 23,
   "metadata": {},
   "outputs": [],
   "source": [
    "codes = ['k', 'p', 'c', 'o', 'f', 'g', 's']\n",
    "ranks = ['kingdom', 'phylum', 'class', 'order', 'family', 'genus', 'species']"
   ]
  },
  {
   "cell_type": "code",
   "execution_count": 24,
   "metadata": {},
   "outputs": [],
   "source": [
    "code2rank = {codes[i]: ranks[i] for i in range(len(codes))}"
   ]
  },
  {
   "cell_type": "code",
   "execution_count": 62,
   "metadata": {},
   "outputs": [],
   "source": [
    "gid2ranks = {}\n",
    "with open('%s.%s.curated_taxonomy.txt' % (treId, taxId), 'r') as f:\n",
    "    for line in f:\n",
    "        gid, lineage = line.rstrip('\\r\\n').split('\\t')\n",
    "        gid2ranks[gid] = dict(zip(ranks, [x.split('__')[1] for x in lineage.split('; ')]))"
   ]
  },
  {
   "cell_type": "code",
   "execution_count": 63,
   "metadata": {},
   "outputs": [
    {
     "data": {
      "text/html": [
       "<div>\n",
       "<style scoped>\n",
       "    .dataframe tbody tr th:only-of-type {\n",
       "        vertical-align: middle;\n",
       "    }\n",
       "\n",
       "    .dataframe tbody tr th {\n",
       "        vertical-align: top;\n",
       "    }\n",
       "\n",
       "    .dataframe thead th {\n",
       "        text-align: right;\n",
       "    }\n",
       "</style>\n",
       "<table border=\"1\" class=\"dataframe\">\n",
       "  <thead>\n",
       "    <tr style=\"text-align: right;\">\n",
       "      <th></th>\n",
       "      <th>kingdom</th>\n",
       "      <th>phylum</th>\n",
       "      <th>class</th>\n",
       "      <th>order</th>\n",
       "      <th>family</th>\n",
       "      <th>genus</th>\n",
       "      <th>species</th>\n",
       "    </tr>\n",
       "  </thead>\n",
       "  <tbody>\n",
       "    <tr>\n",
       "      <th>G000005825</th>\n",
       "      <td>Bacteria</td>\n",
       "      <td>Firmicutes</td>\n",
       "      <td>Bacilli</td>\n",
       "      <td>Bacillales</td>\n",
       "      <td>Bacillaceae_2</td>\n",
       "      <td>Bacillus_1</td>\n",
       "      <td></td>\n",
       "    </tr>\n",
       "    <tr>\n",
       "      <th>G000006175</th>\n",
       "      <td>Archaea</td>\n",
       "      <td>Euryarchaeota</td>\n",
       "      <td>Methanococci</td>\n",
       "      <td>Methanococcales</td>\n",
       "      <td>Methanococcaceae</td>\n",
       "      <td>Methanococcus</td>\n",
       "      <td></td>\n",
       "    </tr>\n",
       "    <tr>\n",
       "      <th>G000006605</th>\n",
       "      <td>Bacteria</td>\n",
       "      <td>Actinobacteria</td>\n",
       "      <td>Actinobacteria</td>\n",
       "      <td>Corynebacteriales</td>\n",
       "      <td>Corynebacteriaceae</td>\n",
       "      <td>Corynebacterium</td>\n",
       "      <td>Corynebacterium falsenii</td>\n",
       "    </tr>\n",
       "    <tr>\n",
       "      <th>G000006725</th>\n",
       "      <td>Bacteria</td>\n",
       "      <td>Proteobacteria</td>\n",
       "      <td>Gammaproteobacteria</td>\n",
       "      <td>Xanthomonadales</td>\n",
       "      <td>Xanthomonadaceae</td>\n",
       "      <td>Xylella</td>\n",
       "      <td></td>\n",
       "    </tr>\n",
       "    <tr>\n",
       "      <th>G000006745</th>\n",
       "      <td>Bacteria</td>\n",
       "      <td>Proteobacteria</td>\n",
       "      <td>Gammaproteobacteria</td>\n",
       "      <td>Vibrionales</td>\n",
       "      <td>Vibrionaceae</td>\n",
       "      <td></td>\n",
       "      <td></td>\n",
       "    </tr>\n",
       "  </tbody>\n",
       "</table>\n",
       "</div>"
      ],
      "text/plain": [
       "             kingdom          phylum                class              order  \\\n",
       "G000005825  Bacteria      Firmicutes              Bacilli         Bacillales   \n",
       "G000006175   Archaea   Euryarchaeota         Methanococci    Methanococcales   \n",
       "G000006605  Bacteria  Actinobacteria       Actinobacteria  Corynebacteriales   \n",
       "G000006725  Bacteria  Proteobacteria  Gammaproteobacteria    Xanthomonadales   \n",
       "G000006745  Bacteria  Proteobacteria  Gammaproteobacteria        Vibrionales   \n",
       "\n",
       "                        family            genus                   species  \n",
       "G000005825       Bacillaceae_2       Bacillus_1                            \n",
       "G000006175    Methanococcaceae    Methanococcus                            \n",
       "G000006605  Corynebacteriaceae  Corynebacterium  Corynebacterium falsenii  \n",
       "G000006725    Xanthomonadaceae          Xylella                            \n",
       "G000006745        Vibrionaceae                                             "
      ]
     },
     "execution_count": 63,
     "metadata": {},
     "output_type": "execute_result"
    }
   ],
   "source": [
    "df = pd.DataFrame.from_dict(gid2ranks, orient='index')\n",
    "df = df.loc[sorted(gid2ranks, key=lambda x: int(x[1:]))]\n",
    "df.head()"
   ]
  },
  {
   "cell_type": "code",
   "execution_count": 64,
   "metadata": {},
   "outputs": [],
   "source": [
    "df.to_csv('%s.%s.curated_taxonomy.by_rank.tsv' % (treId, taxId), sep='\\t')"
   ]
  },
  {
   "cell_type": "markdown",
   "metadata": {},
   "source": [
    "Summarize added taxon names (those ending with `__#`)."
   ]
  },
  {
   "cell_type": "code",
   "execution_count": 88,
   "metadata": {},
   "outputs": [
    {
     "name": "stdout",
     "output_type": "stream",
     "text": [
      "species: Peptococcaceae bacterium SCADC1_2 is not a split.\n"
     ]
    }
   ],
   "source": [
    "rank2splits = {}\n",
    "for rank in ranks:\n",
    "    rank2splits[rank] = {}\n",
    "    names = set(df[rank].tolist())\n",
    "    split_names = {}\n",
    "    for name in names:\n",
    "        x = name.split('_')\n",
    "        if len(x) > 1 and x[-1].isdigit():\n",
    "            ori_name = '_'.join(x[:-1])\n",
    "            if ori_name in split_names:\n",
    "                split_names[ori_name].append(int(x[-1]))\n",
    "            else:\n",
    "                split_names[ori_name] = [int(x[-1])]\n",
    "\n",
    "    for name in sorted(split_names):\n",
    "        indices = split_names[name]\n",
    "        # check if the indices are incremental integers\n",
    "        if sorted(indices) != list(range(1, max(indices) + 1)):\n",
    "            print('%s: %s is not a split.' % (rank, name))\n",
    "            continue\n",
    "        rank2splits[rank][name] = len(indices)"
   ]
  },
  {
   "cell_type": "code",
   "execution_count": 102,
   "metadata": {},
   "outputs": [
    {
     "name": "stdout",
     "output_type": "stream",
     "text": [
      "phylum: 6 taxa split, max = 8 (Firmicutes)\n",
      "class: 7 taxa split, max = 10 (Clostridia)\n",
      "order: 26 taxa split, max = 7 (Clostridiales)\n",
      "family: 51 taxa split, max = 6 (Sphingomonadaceae)\n",
      "genus: 20 taxa split, max = 5 (Bacillus)\n"
     ]
    }
   ],
   "source": [
    "with open('%s.%s.split_taxa.txt' % (treId, taxId), 'w') as f:\n",
    "    for rank in ranks:\n",
    "        d = rank2splits[rank]\n",
    "        if len(d) > 0:\n",
    "            max_name = max(d.keys(), key=(lambda k: d[k]))\n",
    "            print('%s: %d taxa split, max = %s (%s)'\n",
    "                  % (rank, len(d), d[max_name], max_name))\n",
    "            for name in sorted(d):\n",
    "                f.write('%s\\t%s\\t%d\\n' % (rank, name, d[name]))"
   ]
  },
  {
   "cell_type": "markdown",
   "metadata": {},
   "source": [
    "### Analyze consistency"
   ]
  },
  {
   "cell_type": "code",
   "execution_count": 25,
   "metadata": {},
   "outputs": [
    {
     "data": {
      "text/html": [
       "<div>\n",
       "<style scoped>\n",
       "    .dataframe tbody tr th:only-of-type {\n",
       "        vertical-align: middle;\n",
       "    }\n",
       "\n",
       "    .dataframe tbody tr th {\n",
       "        vertical-align: top;\n",
       "    }\n",
       "\n",
       "    .dataframe thead th {\n",
       "        text-align: right;\n",
       "    }\n",
       "</style>\n",
       "<table border=\"1\" class=\"dataframe\">\n",
       "  <thead>\n",
       "    <tr style=\"text-align: right;\">\n",
       "      <th></th>\n",
       "      <th>Taxon</th>\n",
       "      <th>Count</th>\n",
       "      <th>Consistency</th>\n",
       "    </tr>\n",
       "  </thead>\n",
       "  <tbody>\n",
       "    <tr>\n",
       "      <th>0</th>\n",
       "      <td>k__Archaea</td>\n",
       "      <td>652</td>\n",
       "      <td>1.0</td>\n",
       "    </tr>\n",
       "    <tr>\n",
       "      <th>1</th>\n",
       "      <td>k__Bacteria</td>\n",
       "      <td>9575</td>\n",
       "      <td>1.0</td>\n",
       "    </tr>\n",
       "    <tr>\n",
       "      <th>2</th>\n",
       "      <td>p__Candidatus Adlerbacteria</td>\n",
       "      <td>5</td>\n",
       "      <td>1.0</td>\n",
       "    </tr>\n",
       "    <tr>\n",
       "      <th>3</th>\n",
       "      <td>p__Thermotogae</td>\n",
       "      <td>35</td>\n",
       "      <td>1.0</td>\n",
       "    </tr>\n",
       "    <tr>\n",
       "      <th>4</th>\n",
       "      <td>p__Candidatus Doudnabacteria</td>\n",
       "      <td>19</td>\n",
       "      <td>1.0</td>\n",
       "    </tr>\n",
       "  </tbody>\n",
       "</table>\n",
       "</div>"
      ],
      "text/plain": [
       "                          Taxon  Count  Consistency\n",
       "0                    k__Archaea    652          1.0\n",
       "1                   k__Bacteria   9575          1.0\n",
       "2   p__Candidatus Adlerbacteria      5          1.0\n",
       "3                p__Thermotogae     35          1.0\n",
       "4  p__Candidatus Doudnabacteria     19          1.0"
      ]
     },
     "execution_count": 25,
     "metadata": {},
     "output_type": "execute_result"
    }
   ],
   "source": [
    "df = pd.read_table('%s.%s.consistency.txt' % (treId, taxId))\n",
    "df.head()"
   ]
  },
  {
   "cell_type": "code",
   "execution_count": 26,
   "metadata": {},
   "outputs": [
    {
     "data": {
      "text/html": [
       "<div>\n",
       "<style scoped>\n",
       "    .dataframe tbody tr th:only-of-type {\n",
       "        vertical-align: middle;\n",
       "    }\n",
       "\n",
       "    .dataframe tbody tr th {\n",
       "        vertical-align: top;\n",
       "    }\n",
       "\n",
       "    .dataframe thead th {\n",
       "        text-align: right;\n",
       "    }\n",
       "</style>\n",
       "<table border=\"1\" class=\"dataframe\">\n",
       "  <thead>\n",
       "    <tr style=\"text-align: right;\">\n",
       "      <th></th>\n",
       "      <th>Count</th>\n",
       "      <th>Consistency</th>\n",
       "      <th>Name</th>\n",
       "      <th>Rank</th>\n",
       "    </tr>\n",
       "    <tr>\n",
       "      <th>Taxon</th>\n",
       "      <th></th>\n",
       "      <th></th>\n",
       "      <th></th>\n",
       "      <th></th>\n",
       "    </tr>\n",
       "  </thead>\n",
       "  <tbody>\n",
       "    <tr>\n",
       "      <th>k__Archaea</th>\n",
       "      <td>652</td>\n",
       "      <td>1.0</td>\n",
       "      <td>Archaea</td>\n",
       "      <td>kingdom</td>\n",
       "    </tr>\n",
       "    <tr>\n",
       "      <th>k__Bacteria</th>\n",
       "      <td>9575</td>\n",
       "      <td>1.0</td>\n",
       "      <td>Bacteria</td>\n",
       "      <td>kingdom</td>\n",
       "    </tr>\n",
       "    <tr>\n",
       "      <th>p__Candidatus Adlerbacteria</th>\n",
       "      <td>5</td>\n",
       "      <td>1.0</td>\n",
       "      <td>Candidatus Adlerbacteria</td>\n",
       "      <td>phylum</td>\n",
       "    </tr>\n",
       "    <tr>\n",
       "      <th>p__Thermotogae</th>\n",
       "      <td>35</td>\n",
       "      <td>1.0</td>\n",
       "      <td>Thermotogae</td>\n",
       "      <td>phylum</td>\n",
       "    </tr>\n",
       "    <tr>\n",
       "      <th>p__Candidatus Doudnabacteria</th>\n",
       "      <td>19</td>\n",
       "      <td>1.0</td>\n",
       "      <td>Candidatus Doudnabacteria</td>\n",
       "      <td>phylum</td>\n",
       "    </tr>\n",
       "  </tbody>\n",
       "</table>\n",
       "</div>"
      ],
      "text/plain": [
       "                              Count  Consistency                       Name  \\\n",
       "Taxon                                                                         \n",
       "k__Archaea                      652          1.0                    Archaea   \n",
       "k__Bacteria                    9575          1.0                   Bacteria   \n",
       "p__Candidatus Adlerbacteria       5          1.0   Candidatus Adlerbacteria   \n",
       "p__Thermotogae                   35          1.0                Thermotogae   \n",
       "p__Candidatus Doudnabacteria     19          1.0  Candidatus Doudnabacteria   \n",
       "\n",
       "                                 Rank  \n",
       "Taxon                                  \n",
       "k__Archaea                    kingdom  \n",
       "k__Bacteria                   kingdom  \n",
       "p__Candidatus Adlerbacteria    phylum  \n",
       "p__Thermotogae                 phylum  \n",
       "p__Candidatus Doudnabacteria   phylum  "
      ]
     },
     "execution_count": 26,
     "metadata": {},
     "output_type": "execute_result"
    }
   ],
   "source": [
    "df['Name'] = df['Taxon'].str.split('__').str.get(1)\n",
    "df['Rank'] = df['Taxon'].str.split('__').str.get(0).map(code2rank)\n",
    "df.set_index('Taxon', inplace=True)\n",
    "df.head()"
   ]
  },
  {
   "cell_type": "code",
   "execution_count": 42,
   "metadata": {},
   "outputs": [
    {
     "data": {
      "image/png": "[encoded data removed]",
      "text/plain": [
       "<matplotlib.figure.Figure at 0x1a16595160>"
      ]
     },
     "metadata": {},
     "output_type": "display_data"
    }
   ],
   "source": [
    "ax = sns.barplot(x='Rank', y='Consistency', data=df)\n",
    "ax.set_ylim(0.8,)\n",
    "title = '%s.%s' % (treId, taxId)\n",
    "ax.set_title(title)\n",
    "save_sns(ax, '%s.consistency.pdf' % title)"
   ]
  },
  {
   "cell_type": "markdown",
   "metadata": {},
   "source": [
    "### Analyze node decoration"
   ]
  },
  {
   "cell_type": "markdown",
   "metadata": {},
   "source": [
    "Match decorations and node IDs."
   ]
  },
  {
   "cell_type": "code",
   "execution_count": 43,
   "metadata": {},
   "outputs": [
    {
     "data": {
      "text/plain": [
       "10575"
      ]
     },
     "execution_count": 43,
     "metadata": {},
     "output_type": "execute_result"
    }
   ],
   "source": [
    "tree_ori = TreeNode.read('%s.nwk' % treId)\n",
    "tree_ori.count(tips=True)"
   ]
  },
  {
   "cell_type": "code",
   "execution_count": 44,
   "metadata": {},
   "outputs": [
    {
     "data": {
      "text/plain": [
       "10575"
      ]
     },
     "execution_count": 44,
     "metadata": {},
     "output_type": "execute_result"
    }
   ],
   "source": [
    "tree_t2t = TreeNode.read('%s.%s.t2t.nwk' % (treId, taxId))\n",
    "tree_t2t.count(tips=True)"
   ]
  },
  {
   "cell_type": "markdown",
   "metadata": {},
   "source": [
    "Confirm that the decorated tree has the same topology and order of taxa as the original tree."
   ]
  },
  {
   "cell_type": "code",
   "execution_count": 45,
   "metadata": {},
   "outputs": [
    {
     "data": {
      "text/plain": [
       "0.0"
      ]
     },
     "execution_count": 45,
     "metadata": {},
     "output_type": "execute_result"
    }
   ],
   "source": [
    "tree_ori.compare_rfd(tree_t2t)"
   ]
  },
  {
   "cell_type": "code",
   "execution_count": 47,
   "metadata": {},
   "outputs": [],
   "source": [
    "nids = []\n",
    "for node in tree_ori.levelorder():\n",
    "    if not node.is_tip():\n",
    "        nids.append(node.name)"
   ]
  },
  {
   "cell_type": "code",
   "execution_count": 48,
   "metadata": {},
   "outputs": [],
   "source": [
    "decos = []\n",
    "for node in tree_t2t.levelorder():\n",
    "    if not node.is_tip():\n",
    "        decos.append(node.name)"
   ]
  },
  {
   "cell_type": "code",
   "execution_count": 49,
   "metadata": {},
   "outputs": [
    {
     "data": {
      "text/plain": [
       "[None, 'k__Archaea', 'k__Bacteria', None, None]"
      ]
     },
     "execution_count": 49,
     "metadata": {},
     "output_type": "execute_result"
    }
   ],
   "source": [
    "decos[:5]"
   ]
  },
  {
   "cell_type": "markdown",
   "metadata": {},
   "source": [
    "Generate a rank name table."
   ]
  },
  {
   "cell_type": "code",
   "execution_count": 54,
   "metadata": {},
   "outputs": [],
   "source": [
    "nid2label = {}\n",
    "nid2ranks = {}\n",
    "for i in range(len(nids)):\n",
    "    nid = nids[i]\n",
    "    deco = decos[i]\n",
    "    nid2ranks[nid] = {x: '' for x in ranks}\n",
    "    if deco is not None and '__' in deco:\n",
    "        deco = deco.split(':')[-1]  # remove node support in case there is one\n",
    "        nid2label[nid] = deco\n",
    "        for taxon in deco.split('; '):\n",
    "            code, name = taxon.split('__')\n",
    "            nid2ranks[nid][code2rank[code]] = name"
   ]
  },
  {
   "cell_type": "code",
   "execution_count": 55,
   "metadata": {},
   "outputs": [],
   "source": [
    "with open('%s.%s.node_labels.txt' % (treId, taxId), 'w') as f:\n",
    "    for nid in sorted(nid2label, key=lambda x: int(x.lstrip('N'))):\n",
    "        f.write('%s\\t%s\\n' % (nid, nid2label[nid]))"
   ]
  },
  {
   "cell_type": "code",
   "execution_count": 56,
   "metadata": {},
   "outputs": [
    {
     "data": {
      "text/html": [
       "<div>\n",
       "<style scoped>\n",
       "    .dataframe tbody tr th:only-of-type {\n",
       "        vertical-align: middle;\n",
       "    }\n",
       "\n",
       "    .dataframe tbody tr th {\n",
       "        vertical-align: top;\n",
       "    }\n",
       "\n",
       "    .dataframe thead th {\n",
       "        text-align: right;\n",
       "    }\n",
       "</style>\n",
       "<table border=\"1\" class=\"dataframe\">\n",
       "  <thead>\n",
       "    <tr style=\"text-align: right;\">\n",
       "      <th></th>\n",
       "      <th>kingdom</th>\n",
       "      <th>phylum</th>\n",
       "      <th>class</th>\n",
       "      <th>order</th>\n",
       "      <th>family</th>\n",
       "      <th>genus</th>\n",
       "      <th>species</th>\n",
       "    </tr>\n",
       "  </thead>\n",
       "  <tbody>\n",
       "    <tr>\n",
       "      <th>N1</th>\n",
       "      <td></td>\n",
       "      <td></td>\n",
       "      <td></td>\n",
       "      <td></td>\n",
       "      <td></td>\n",
       "      <td></td>\n",
       "      <td></td>\n",
       "    </tr>\n",
       "    <tr>\n",
       "      <th>N2</th>\n",
       "      <td>Archaea</td>\n",
       "      <td></td>\n",
       "      <td></td>\n",
       "      <td></td>\n",
       "      <td></td>\n",
       "      <td></td>\n",
       "      <td></td>\n",
       "    </tr>\n",
       "    <tr>\n",
       "      <th>N3</th>\n",
       "      <td>Bacteria</td>\n",
       "      <td></td>\n",
       "      <td></td>\n",
       "      <td></td>\n",
       "      <td></td>\n",
       "      <td></td>\n",
       "      <td></td>\n",
       "    </tr>\n",
       "    <tr>\n",
       "      <th>N4</th>\n",
       "      <td></td>\n",
       "      <td></td>\n",
       "      <td></td>\n",
       "      <td></td>\n",
       "      <td></td>\n",
       "      <td></td>\n",
       "      <td></td>\n",
       "    </tr>\n",
       "    <tr>\n",
       "      <th>N5</th>\n",
       "      <td></td>\n",
       "      <td></td>\n",
       "      <td></td>\n",
       "      <td></td>\n",
       "      <td></td>\n",
       "      <td></td>\n",
       "      <td></td>\n",
       "    </tr>\n",
       "  </tbody>\n",
       "</table>\n",
       "</div>"
      ],
      "text/plain": [
       "     kingdom phylum class order family genus species\n",
       "N1                                                  \n",
       "N2   Archaea                                        \n",
       "N3  Bacteria                                        \n",
       "N4                                                  \n",
       "N5                                                  "
      ]
     },
     "execution_count": 56,
     "metadata": {},
     "output_type": "execute_result"
    }
   ],
   "source": [
    "df = pd.DataFrame.from_dict(nid2ranks, orient='index')\n",
    "df = df.loc[sorted(nid2ranks, key=lambda x: int(x[1:]))]\n",
    "df.head()"
   ]
  },
  {
   "cell_type": "code",
   "execution_count": 57,
   "metadata": {},
   "outputs": [],
   "source": [
    "df.to_csv('%s.%s.node_labels.by_rank.tsv' % (treId, taxId), sep='\\t')"
   ]
  },
  {
   "cell_type": "markdown",
   "metadata": {},
   "source": [
    "### Generate consensus lineage for every node"
   ]
  },
  {
   "cell_type": "markdown",
   "metadata": {},
   "source": [
    "At a given node, at each rank, check if one taxon can describe all descendants."
   ]
  },
  {
   "cell_type": "code",
   "execution_count": 69,
   "metadata": {},
   "outputs": [],
   "source": [
    "nid2ranks = {}\n",
    "nid2lineage = {}\n",
    "for nid in nids:\n",
    "    nid2ranks[nid] = {x: '' for x in ranks}\n",
    "    nid2lineage[nid] = []\n",
    "    gids = [x.name for x in tree_ori.find(nid).tips()]\n",
    "    for code, rank in zip(codes, ranks):\n",
    "        nid2lineage[nid].append('%s__' % code)\n",
    "        names = set(gid2ranks[x][rank] for x in gids)\n",
    "        if len(names) == 1:\n",
    "            name = max(names)\n",
    "            nid2ranks[nid][rank] = name\n",
    "            nid2lineage[nid][-1] += name"
   ]
  },
  {
   "cell_type": "code",
   "execution_count": 70,
   "metadata": {},
   "outputs": [],
   "source": [
    "with open('%s.%s.node_to_lineage.txt' % (treId, taxId), 'w') as f:\n",
    "    for nid in sorted(nid2lineage, key=lambda x: int(x[1:])):\n",
    "        f.write('%s\\t%s\\n' % (nid, '; '.join(nid2lineage[nid])))"
   ]
  },
  {
   "cell_type": "code",
   "execution_count": 71,
   "metadata": {},
   "outputs": [
    {
     "data": {
      "text/html": [
       "<div>\n",
       "<style scoped>\n",
       "    .dataframe tbody tr th:only-of-type {\n",
       "        vertical-align: middle;\n",
       "    }\n",
       "\n",
       "    .dataframe tbody tr th {\n",
       "        vertical-align: top;\n",
       "    }\n",
       "\n",
       "    .dataframe thead th {\n",
       "        text-align: right;\n",
       "    }\n",
       "</style>\n",
       "<table border=\"1\" class=\"dataframe\">\n",
       "  <thead>\n",
       "    <tr style=\"text-align: right;\">\n",
       "      <th></th>\n",
       "      <th>kingdom</th>\n",
       "      <th>phylum</th>\n",
       "      <th>class</th>\n",
       "      <th>order</th>\n",
       "      <th>family</th>\n",
       "      <th>genus</th>\n",
       "      <th>species</th>\n",
       "    </tr>\n",
       "  </thead>\n",
       "  <tbody>\n",
       "    <tr>\n",
       "      <th>N1</th>\n",
       "      <td></td>\n",
       "      <td></td>\n",
       "      <td></td>\n",
       "      <td></td>\n",
       "      <td></td>\n",
       "      <td></td>\n",
       "      <td></td>\n",
       "    </tr>\n",
       "    <tr>\n",
       "      <th>N2</th>\n",
       "      <td>Archaea</td>\n",
       "      <td></td>\n",
       "      <td></td>\n",
       "      <td></td>\n",
       "      <td></td>\n",
       "      <td></td>\n",
       "      <td></td>\n",
       "    </tr>\n",
       "    <tr>\n",
       "      <th>N3</th>\n",
       "      <td>Bacteria</td>\n",
       "      <td></td>\n",
       "      <td></td>\n",
       "      <td></td>\n",
       "      <td></td>\n",
       "      <td></td>\n",
       "      <td></td>\n",
       "    </tr>\n",
       "    <tr>\n",
       "      <th>N4</th>\n",
       "      <td>Archaea</td>\n",
       "      <td></td>\n",
       "      <td></td>\n",
       "      <td></td>\n",
       "      <td></td>\n",
       "      <td></td>\n",
       "      <td></td>\n",
       "    </tr>\n",
       "    <tr>\n",
       "      <th>N5</th>\n",
       "      <td>Archaea</td>\n",
       "      <td></td>\n",
       "      <td></td>\n",
       "      <td></td>\n",
       "      <td></td>\n",
       "      <td></td>\n",
       "      <td></td>\n",
       "    </tr>\n",
       "  </tbody>\n",
       "</table>\n",
       "</div>"
      ],
      "text/plain": [
       "     kingdom phylum class order family genus species\n",
       "N1                                                  \n",
       "N2   Archaea                                        \n",
       "N3  Bacteria                                        \n",
       "N4   Archaea                                        \n",
       "N5   Archaea                                        "
      ]
     },
     "execution_count": 71,
     "metadata": {},
     "output_type": "execute_result"
    }
   ],
   "source": [
    "df = pd.DataFrame.from_dict(nid2ranks, orient='index')\n",
    "df = df.loc[sorted(nid2ranks, key=lambda x: int(x[1:]))]\n",
    "df.head()"
   ]
  },
  {
   "cell_type": "code",
   "execution_count": 72,
   "metadata": {},
   "outputs": [],
   "source": [
    "df.to_csv('%s.%s.node_to_lineage.by_rank.tsv' % (treId, taxId), sep='\\t')"
   ]
  }
 ],
 "metadata": {
  "hide_input": false,
  "kernelspec": {
   "display_name": "Python 3",
   "language": "python",
   "name": "python3"
  },
  "language_info": {
   "codemirror_mode": {
    "name": "ipython",
    "version": 3
   },
   "file_extension": ".py",
   "mimetype": "text/x-python",
   "name": "python",
   "nbconvert_exporter": "python",
   "pygments_lexer": "ipython3",
   "version": "3.6.4"
  }
 },
 "nbformat": 4,
 "nbformat_minor": 2
}
