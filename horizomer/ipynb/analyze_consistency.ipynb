{
 "cells": [
  {
   "cell_type": "code",
   "execution_count": 1,
   "metadata": {},
   "outputs": [],
   "source": [
    "import numpy as np\n",
    "import scipy as sp\n",
    "import pandas as pd\n",
    "import seaborn as sns\n",
    "import matplotlib as mpl\n",
    "import matplotlib.pyplot as plt"
   ]
  },
  {
   "cell_type": "code",
   "execution_count": 2,
   "metadata": {},
   "outputs": [],
   "source": [
    "%matplotlib inline"
   ]
  },
  {
   "cell_type": "code",
   "execution_count": 3,
   "metadata": {},
   "outputs": [],
   "source": [
    "mpl.rcParams['figure.figsize'] = (8, 4)"
   ]
  },
  {
   "cell_type": "code",
   "execution_count": 4,
   "metadata": {},
   "outputs": [
    {
     "data": {
      "text/html": [
       "<div>\n",
       "<style scoped>\n",
       "    .dataframe tbody tr th:only-of-type {\n",
       "        vertical-align: middle;\n",
       "    }\n",
       "\n",
       "    .dataframe tbody tr th {\n",
       "        vertical-align: top;\n",
       "    }\n",
       "\n",
       "    .dataframe thead th {\n",
       "        text-align: right;\n",
       "    }\n",
       "</style>\n",
       "<table border=\"1\" class=\"dataframe\">\n",
       "  <thead>\n",
       "    <tr style=\"text-align: right;\">\n",
       "      <th></th>\n",
       "      <th>rank</th>\n",
       "      <th>taxon</th>\n",
       "      <th>count</th>\n",
       "      <th>astral</th>\n",
       "      <th>astral.e5p50</th>\n",
       "      <th>concat.cons</th>\n",
       "      <th>concat.cons.b50</th>\n",
       "      <th>concat.rand</th>\n",
       "      <th>concat.rand.b50</th>\n",
       "    </tr>\n",
       "  </thead>\n",
       "  <tbody>\n",
       "    <tr>\n",
       "      <th>0</th>\n",
       "      <td>kingdom</td>\n",
       "      <td>Archaea</td>\n",
       "      <td>652</td>\n",
       "      <td>1.000</td>\n",
       "      <td>1.000</td>\n",
       "      <td>1.000</td>\n",
       "      <td>1.000</td>\n",
       "      <td>1.000</td>\n",
       "      <td>1.000</td>\n",
       "    </tr>\n",
       "    <tr>\n",
       "      <th>1</th>\n",
       "      <td>kingdom</td>\n",
       "      <td>Bacteria</td>\n",
       "      <td>9574</td>\n",
       "      <td>1.000</td>\n",
       "      <td>1.000</td>\n",
       "      <td>1.000</td>\n",
       "      <td>1.000</td>\n",
       "      <td>1.000</td>\n",
       "      <td>1.000</td>\n",
       "    </tr>\n",
       "    <tr>\n",
       "      <th>2</th>\n",
       "      <td>phylum</td>\n",
       "      <td>Acidobacteria</td>\n",
       "      <td>56</td>\n",
       "      <td>0.965</td>\n",
       "      <td>0.965</td>\n",
       "      <td>0.930</td>\n",
       "      <td>0.860</td>\n",
       "      <td>0.965</td>\n",
       "      <td>0.965</td>\n",
       "    </tr>\n",
       "    <tr>\n",
       "      <th>3</th>\n",
       "      <td>phylum</td>\n",
       "      <td>Actinobacteria</td>\n",
       "      <td>1097</td>\n",
       "      <td>0.994</td>\n",
       "      <td>0.994</td>\n",
       "      <td>0.932</td>\n",
       "      <td>0.932</td>\n",
       "      <td>0.992</td>\n",
       "      <td>0.992</td>\n",
       "    </tr>\n",
       "    <tr>\n",
       "      <th>4</th>\n",
       "      <td>phylum</td>\n",
       "      <td>Aquificae</td>\n",
       "      <td>17</td>\n",
       "      <td>0.941</td>\n",
       "      <td>0.941</td>\n",
       "      <td>1.000</td>\n",
       "      <td>1.000</td>\n",
       "      <td>0.941</td>\n",
       "      <td>0.941</td>\n",
       "    </tr>\n",
       "  </tbody>\n",
       "</table>\n",
       "</div>"
      ],
      "text/plain": [
       "      rank           taxon  count  astral  astral.e5p50  concat.cons  \\\n",
       "0  kingdom         Archaea    652   1.000         1.000        1.000   \n",
       "1  kingdom        Bacteria   9574   1.000         1.000        1.000   \n",
       "2   phylum   Acidobacteria     56   0.965         0.965        0.930   \n",
       "3   phylum  Actinobacteria   1097   0.994         0.994        0.932   \n",
       "4   phylum       Aquificae     17   0.941         0.941        1.000   \n",
       "\n",
       "   concat.cons.b50  concat.rand  concat.rand.b50  \n",
       "0            1.000        1.000            1.000  \n",
       "1            1.000        1.000            1.000  \n",
       "2            0.860        0.965            0.965  \n",
       "3            0.932        0.992            0.992  \n",
       "4            1.000        0.941            0.941  "
      ]
     },
     "execution_count": 4,
     "metadata": {},
     "output_type": "execute_result"
    }
   ],
   "source": [
    "df = pd.read_table('consistency.tsv')\n",
    "df.head()"
   ]
  },
  {
   "cell_type": "code",
   "execution_count": 5,
   "metadata": {},
   "outputs": [
    {
     "data": {
      "text/plain": [
       "11646"
      ]
     },
     "execution_count": 5,
     "metadata": {},
     "output_type": "execute_result"
    }
   ],
   "source": [
    "df.shape[0]"
   ]
  },
  {
   "cell_type": "markdown",
   "metadata": {},
   "source": [
    "#### Simple sum of taxa"
   ]
  },
  {
   "cell_type": "code",
   "execution_count": 6,
   "metadata": {},
   "outputs": [
    {
     "data": {
      "text/plain": [
       "astral             11433.888\n",
       "astral.e5p50       11433.481\n",
       "concat.cons        11424.458\n",
       "concat.cons.b50    11418.325\n",
       "concat.rand        11430.104\n",
       "concat.rand.b50    11426.616\n",
       "dtype: float64"
      ]
     },
     "execution_count": 6,
     "metadata": {},
     "output_type": "execute_result"
    }
   ],
   "source": [
    "df.iloc[:, 3:].sum()"
   ]
  },
  {
   "cell_type": "markdown",
   "metadata": {},
   "source": [
    "#### Sum taxa above threshold"
   ]
  },
  {
   "cell_type": "code",
   "execution_count": 7,
   "metadata": {},
   "outputs": [],
   "source": [
    "def sum_above(df, th):\n",
    "    dfx = df.query('count >= %d' % th)\n",
    "    print('%d taxa >= %d' % (dfx.shape[0], th))\n",
    "    print(dfx.iloc[:, 3:].sum())"
   ]
  },
  {
   "cell_type": "code",
   "execution_count": 8,
   "metadata": {},
   "outputs": [
    {
     "name": "stdout",
     "output_type": "stream",
     "text": [
      "1978 taxa >= 2\n",
      "astral             1765.888\n",
      "astral.e5p50       1765.481\n",
      "concat.cons        1756.458\n",
      "concat.cons.b50    1750.325\n",
      "concat.rand        1762.104\n",
      "concat.rand.b50    1758.616\n",
      "dtype: float64\n"
     ]
    }
   ],
   "source": [
    "sum_above(df, 2)"
   ]
  },
  {
   "cell_type": "code",
   "execution_count": 9,
   "metadata": {},
   "outputs": [
    {
     "name": "stdout",
     "output_type": "stream",
     "text": [
      "916 taxa >= 5\n",
      "astral             812.351\n",
      "astral.e5p50       812.140\n",
      "concat.cons        808.524\n",
      "concat.cons.b50    803.737\n",
      "concat.rand        812.231\n",
      "concat.rand.b50    809.910\n",
      "dtype: float64\n"
     ]
    }
   ],
   "source": [
    "sum_above(df, 5)"
   ]
  },
  {
   "cell_type": "code",
   "execution_count": 10,
   "metadata": {},
   "outputs": [
    {
     "name": "stdout",
     "output_type": "stream",
     "text": [
      "564 taxa >= 10\n",
      "astral             503.856\n",
      "astral.e5p50       503.645\n",
      "concat.cons        501.249\n",
      "concat.cons.b50    497.397\n",
      "concat.rand        503.712\n",
      "concat.rand.b50    501.671\n",
      "dtype: float64\n"
     ]
    }
   ],
   "source": [
    "sum_above(df, 10)"
   ]
  },
  {
   "cell_type": "code",
   "execution_count": 11,
   "metadata": {},
   "outputs": [
    {
     "name": "stdout",
     "output_type": "stream",
     "text": [
      "346 taxa >= 20\n",
      "astral             310.825\n",
      "astral.e5p50       310.696\n",
      "concat.cons        307.961\n",
      "concat.cons.b50    305.462\n",
      "concat.rand        309.520\n",
      "concat.rand.b50    307.671\n",
      "dtype: float64\n"
     ]
    }
   ],
   "source": [
    "sum_above(df, 20)"
   ]
  },
  {
   "cell_type": "code",
   "execution_count": 12,
   "metadata": {},
   "outputs": [
    {
     "name": "stdout",
     "output_type": "stream",
     "text": [
      "143 taxa >= 50\n",
      "astral             129.066\n",
      "astral.e5p50       128.937\n",
      "concat.cons        127.249\n",
      "concat.cons.b50    125.403\n",
      "concat.rand        128.212\n",
      "concat.rand.b50    127.488\n",
      "dtype: float64\n"
     ]
    }
   ],
   "source": [
    "sum_above(df, 50)"
   ]
  },
  {
   "cell_type": "code",
   "execution_count": 13,
   "metadata": {},
   "outputs": [
    {
     "name": "stdout",
     "output_type": "stream",
     "text": [
      "60 taxa >= 100\n",
      "astral             53.561\n",
      "astral.e5p50       53.561\n",
      "concat.cons        51.702\n",
      "concat.cons.b50    50.378\n",
      "concat.rand        52.405\n",
      "concat.rand.b50    52.255\n",
      "dtype: float64\n"
     ]
    }
   ],
   "source": [
    "sum_above(df, 100)"
   ]
  },
  {
   "cell_type": "markdown",
   "metadata": {},
   "source": [
    "#### Weight by taxon size"
   ]
  },
  {
   "cell_type": "code",
   "execution_count": 14,
   "metadata": {},
   "outputs": [
    {
     "data": {
      "text/html": [
       "<div>\n",
       "<style scoped>\n",
       "    .dataframe tbody tr th:only-of-type {\n",
       "        vertical-align: middle;\n",
       "    }\n",
       "\n",
       "    .dataframe tbody tr th {\n",
       "        vertical-align: top;\n",
       "    }\n",
       "\n",
       "    .dataframe thead th {\n",
       "        text-align: right;\n",
       "    }\n",
       "</style>\n",
       "<table border=\"1\" class=\"dataframe\">\n",
       "  <thead>\n",
       "    <tr style=\"text-align: right;\">\n",
       "      <th></th>\n",
       "      <th>rank</th>\n",
       "      <th>taxon</th>\n",
       "      <th>astral</th>\n",
       "      <th>astral.e5p50</th>\n",
       "      <th>concat.cons</th>\n",
       "      <th>concat.cons.b50</th>\n",
       "      <th>concat.rand</th>\n",
       "      <th>concat.rand.b50</th>\n",
       "    </tr>\n",
       "  </thead>\n",
       "  <tbody>\n",
       "    <tr>\n",
       "      <th>0</th>\n",
       "      <td>kingdom</td>\n",
       "      <td>Archaea</td>\n",
       "      <td>652.000</td>\n",
       "      <td>652.000</td>\n",
       "      <td>652.000</td>\n",
       "      <td>652.000</td>\n",
       "      <td>652.000</td>\n",
       "      <td>652.000</td>\n",
       "    </tr>\n",
       "    <tr>\n",
       "      <th>1</th>\n",
       "      <td>kingdom</td>\n",
       "      <td>Bacteria</td>\n",
       "      <td>9574.000</td>\n",
       "      <td>9574.000</td>\n",
       "      <td>9574.000</td>\n",
       "      <td>9574.000</td>\n",
       "      <td>9574.000</td>\n",
       "      <td>9574.000</td>\n",
       "    </tr>\n",
       "    <tr>\n",
       "      <th>2</th>\n",
       "      <td>phylum</td>\n",
       "      <td>Acidobacteria</td>\n",
       "      <td>54.040</td>\n",
       "      <td>54.040</td>\n",
       "      <td>52.080</td>\n",
       "      <td>48.160</td>\n",
       "      <td>54.040</td>\n",
       "      <td>54.040</td>\n",
       "    </tr>\n",
       "    <tr>\n",
       "      <th>3</th>\n",
       "      <td>phylum</td>\n",
       "      <td>Actinobacteria</td>\n",
       "      <td>1090.418</td>\n",
       "      <td>1090.418</td>\n",
       "      <td>1022.404</td>\n",
       "      <td>1022.404</td>\n",
       "      <td>1088.224</td>\n",
       "      <td>1088.224</td>\n",
       "    </tr>\n",
       "    <tr>\n",
       "      <th>4</th>\n",
       "      <td>phylum</td>\n",
       "      <td>Aquificae</td>\n",
       "      <td>15.997</td>\n",
       "      <td>15.997</td>\n",
       "      <td>17.000</td>\n",
       "      <td>17.000</td>\n",
       "      <td>15.997</td>\n",
       "      <td>15.997</td>\n",
       "    </tr>\n",
       "  </tbody>\n",
       "</table>\n",
       "</div>"
      ],
      "text/plain": [
       "      rank           taxon    astral  astral.e5p50  concat.cons  \\\n",
       "0  kingdom         Archaea   652.000       652.000      652.000   \n",
       "1  kingdom        Bacteria  9574.000      9574.000     9574.000   \n",
       "2   phylum   Acidobacteria    54.040        54.040       52.080   \n",
       "3   phylum  Actinobacteria  1090.418      1090.418     1022.404   \n",
       "4   phylum       Aquificae    15.997        15.997       17.000   \n",
       "\n",
       "   concat.cons.b50  concat.rand  concat.rand.b50  \n",
       "0          652.000      652.000          652.000  \n",
       "1         9574.000     9574.000         9574.000  \n",
       "2           48.160       54.040           54.040  \n",
       "3         1022.404     1088.224         1088.224  \n",
       "4           17.000       15.997           15.997  "
      ]
     },
     "execution_count": 14,
     "metadata": {},
     "output_type": "execute_result"
    }
   ],
   "source": [
    "dfs = df.query('count > 1')[['rank', 'taxon']].copy()\n",
    "for tree in df.columns[3:]:\n",
    "    dfs[tree] = df[tree] * df['count']\n",
    "dfs.head()"
   ]
  },
  {
   "cell_type": "code",
   "execution_count": 15,
   "metadata": {},
   "outputs": [
    {
     "data": {
      "text/plain": [
       "astral             48222.950\n",
       "astral.e5p50       48211.340\n",
       "concat.cons        47484.882\n",
       "concat.cons.b50    46368.135\n",
       "concat.rand        47957.577\n",
       "concat.rand.b50    47611.472\n",
       "dtype: float64"
      ]
     },
     "execution_count": 15,
     "metadata": {},
     "output_type": "execute_result"
    }
   ],
   "source": [
    "dfs.iloc[:, 2:].sum()"
   ]
  },
  {
   "cell_type": "markdown",
   "metadata": {},
   "source": [
    "#### Sum by rank"
   ]
  },
  {
   "cell_type": "code",
   "execution_count": 16,
   "metadata": {},
   "outputs": [],
   "source": [
    "ranks = ['kingdom', 'phylum', 'class', 'order', 'family', 'genus', 'species']"
   ]
  },
  {
   "cell_type": "code",
   "execution_count": 17,
   "metadata": {},
   "outputs": [
    {
     "name": "stdout",
     "output_type": "stream",
     "text": [
      "kingdom\n",
      "astral             10226.0\n",
      "astral.e5p50       10226.0\n",
      "concat.cons        10226.0\n",
      "concat.cons.b50    10226.0\n",
      "concat.rand        10226.0\n",
      "concat.rand.b50    10226.0\n",
      "dtype: float64\n",
      "\n",
      "phylum\n",
      "astral             9725.628\n",
      "astral.e5p50       9721.833\n",
      "concat.cons        9338.810\n",
      "concat.cons.b50    9204.737\n",
      "concat.rand        9712.026\n",
      "concat.rand.b50    9478.068\n",
      "dtype: float64\n",
      "\n",
      "class\n",
      "astral             7596.561\n",
      "astral.e5p50       7596.561\n",
      "concat.cons        7579.762\n",
      "concat.cons.b50    6916.856\n",
      "concat.rand        7599.710\n",
      "concat.rand.b50    7569.638\n",
      "dtype: float64\n",
      "\n",
      "order\n",
      "astral             6800.032\n",
      "astral.e5p50       6800.032\n",
      "concat.cons        6746.241\n",
      "concat.cons.b50    6471.039\n",
      "concat.rand        6749.127\n",
      "concat.rand.b50    6725.221\n",
      "dtype: float64\n",
      "\n",
      "family\n",
      "astral             6536.663\n",
      "astral.e5p50       6529.588\n",
      "concat.cons        6348.266\n",
      "concat.cons.b50    6333.889\n",
      "concat.rand        6387.422\n",
      "concat.rand.b50    6345.095\n",
      "dtype: float64\n",
      "\n",
      "genus\n",
      "astral             5588.677\n",
      "astral.e5p50       5588.561\n",
      "concat.cons        5505.447\n",
      "concat.cons.b50    5476.758\n",
      "concat.rand        5540.453\n",
      "concat.rand.b50    5525.109\n",
      "dtype: float64\n",
      "\n",
      "species\n",
      "astral             1749.389\n",
      "astral.e5p50       1748.765\n",
      "concat.cons        1740.356\n",
      "concat.cons.b50    1738.856\n",
      "concat.rand        1742.839\n",
      "concat.rand.b50    1742.341\n",
      "dtype: float64\n",
      "\n"
     ]
    }
   ],
   "source": [
    "for rank in ranks:\n",
    "    print(rank)\n",
    "    print(dfs.query('rank == \"%s\"' % rank).iloc[:, 2:].sum())\n",
    "    print()"
   ]
  },
  {
   "cell_type": "markdown",
   "metadata": {},
   "source": [
    "#### Summarize"
   ]
  },
  {
   "cell_type": "code",
   "execution_count": 18,
   "metadata": {},
   "outputs": [
    {
     "data": {
      "text/html": [
       "<div>\n",
       "<style scoped>\n",
       "    .dataframe tbody tr th:only-of-type {\n",
       "        vertical-align: middle;\n",
       "    }\n",
       "\n",
       "    .dataframe tbody tr th {\n",
       "        vertical-align: top;\n",
       "    }\n",
       "\n",
       "    .dataframe thead th {\n",
       "        text-align: right;\n",
       "    }\n",
       "</style>\n",
       "<table border=\"1\" class=\"dataframe\">\n",
       "  <thead>\n",
       "    <tr style=\"text-align: right;\">\n",
       "      <th></th>\n",
       "      <th>phylum</th>\n",
       "      <th>class</th>\n",
       "      <th>order</th>\n",
       "      <th>family</th>\n",
       "      <th>genus</th>\n",
       "      <th>species</th>\n",
       "    </tr>\n",
       "  </thead>\n",
       "  <tbody>\n",
       "    <tr>\n",
       "      <th>astral</th>\n",
       "      <td>9725.628</td>\n",
       "      <td>7596.561</td>\n",
       "      <td>6800.032</td>\n",
       "      <td>6536.663</td>\n",
       "      <td>5588.677</td>\n",
       "      <td>1749.389</td>\n",
       "    </tr>\n",
       "    <tr>\n",
       "      <th>astral.e5p50</th>\n",
       "      <td>9721.833</td>\n",
       "      <td>7596.561</td>\n",
       "      <td>6800.032</td>\n",
       "      <td>6529.588</td>\n",
       "      <td>5588.561</td>\n",
       "      <td>1748.765</td>\n",
       "    </tr>\n",
       "    <tr>\n",
       "      <th>concat.cons</th>\n",
       "      <td>9338.810</td>\n",
       "      <td>7579.762</td>\n",
       "      <td>6746.241</td>\n",
       "      <td>6348.266</td>\n",
       "      <td>5505.447</td>\n",
       "      <td>1740.356</td>\n",
       "    </tr>\n",
       "    <tr>\n",
       "      <th>concat.cons.b50</th>\n",
       "      <td>9204.737</td>\n",
       "      <td>6916.856</td>\n",
       "      <td>6471.039</td>\n",
       "      <td>6333.889</td>\n",
       "      <td>5476.758</td>\n",
       "      <td>1738.856</td>\n",
       "    </tr>\n",
       "    <tr>\n",
       "      <th>concat.rand</th>\n",
       "      <td>9712.026</td>\n",
       "      <td>7599.710</td>\n",
       "      <td>6749.127</td>\n",
       "      <td>6387.422</td>\n",
       "      <td>5540.453</td>\n",
       "      <td>1742.839</td>\n",
       "    </tr>\n",
       "    <tr>\n",
       "      <th>concat.rand.b50</th>\n",
       "      <td>9478.068</td>\n",
       "      <td>7569.638</td>\n",
       "      <td>6725.221</td>\n",
       "      <td>6345.095</td>\n",
       "      <td>5525.109</td>\n",
       "      <td>1742.341</td>\n",
       "    </tr>\n",
       "  </tbody>\n",
       "</table>\n",
       "</div>"
      ],
      "text/plain": [
       "                   phylum     class     order    family     genus   species\n",
       "astral           9725.628  7596.561  6800.032  6536.663  5588.677  1749.389\n",
       "astral.e5p50     9721.833  7596.561  6800.032  6529.588  5588.561  1748.765\n",
       "concat.cons      9338.810  7579.762  6746.241  6348.266  5505.447  1740.356\n",
       "concat.cons.b50  9204.737  6916.856  6471.039  6333.889  5476.758  1738.856\n",
       "concat.rand      9712.026  7599.710  6749.127  6387.422  5540.453  1742.839\n",
       "concat.rand.b50  9478.068  7569.638  6725.221  6345.095  5525.109  1742.341"
      ]
     },
     "execution_count": 18,
     "metadata": {},
     "output_type": "execute_result"
    }
   ],
   "source": [
    "dfr = pd.DataFrame()\n",
    "for rank in ranks[1:]:\n",
    "    df_ = dfs.query('rank == \"%s\"' % rank).iloc[:, 2:].sum()\n",
    "    df_.name = rank\n",
    "    dfr = pd.concat([dfr, df_], axis=1, sort=True)\n",
    "dfr"
   ]
  },
  {
   "cell_type": "code",
   "execution_count": 19,
   "metadata": {},
   "outputs": [
    {
     "data": {
      "text/html": [
       "<div>\n",
       "<style scoped>\n",
       "    .dataframe tbody tr th:only-of-type {\n",
       "        vertical-align: middle;\n",
       "    }\n",
       "\n",
       "    .dataframe tbody tr th {\n",
       "        vertical-align: top;\n",
       "    }\n",
       "\n",
       "    .dataframe thead th {\n",
       "        text-align: right;\n",
       "    }\n",
       "</style>\n",
       "<table border=\"1\" class=\"dataframe\">\n",
       "  <thead>\n",
       "    <tr style=\"text-align: right;\">\n",
       "      <th></th>\n",
       "      <th>phylum</th>\n",
       "      <th>class</th>\n",
       "      <th>order</th>\n",
       "      <th>family</th>\n",
       "      <th>genus</th>\n",
       "      <th>species</th>\n",
       "    </tr>\n",
       "  </thead>\n",
       "  <tbody>\n",
       "    <tr>\n",
       "      <th>astral</th>\n",
       "      <td>9725</td>\n",
       "      <td>7596</td>\n",
       "      <td>6800</td>\n",
       "      <td>6536</td>\n",
       "      <td>5588</td>\n",
       "      <td>1749</td>\n",
       "    </tr>\n",
       "    <tr>\n",
       "      <th>astral.e5p50</th>\n",
       "      <td>9721</td>\n",
       "      <td>7596</td>\n",
       "      <td>6800</td>\n",
       "      <td>6529</td>\n",
       "      <td>5588</td>\n",
       "      <td>1748</td>\n",
       "    </tr>\n",
       "    <tr>\n",
       "      <th>concat.cons</th>\n",
       "      <td>9338</td>\n",
       "      <td>7579</td>\n",
       "      <td>6746</td>\n",
       "      <td>6348</td>\n",
       "      <td>5505</td>\n",
       "      <td>1740</td>\n",
       "    </tr>\n",
       "    <tr>\n",
       "      <th>concat.cons.b50</th>\n",
       "      <td>9204</td>\n",
       "      <td>6916</td>\n",
       "      <td>6471</td>\n",
       "      <td>6333</td>\n",
       "      <td>5476</td>\n",
       "      <td>1738</td>\n",
       "    </tr>\n",
       "    <tr>\n",
       "      <th>concat.rand</th>\n",
       "      <td>9712</td>\n",
       "      <td>7599</td>\n",
       "      <td>6749</td>\n",
       "      <td>6387</td>\n",
       "      <td>5540</td>\n",
       "      <td>1742</td>\n",
       "    </tr>\n",
       "    <tr>\n",
       "      <th>concat.rand.b50</th>\n",
       "      <td>9478</td>\n",
       "      <td>7569</td>\n",
       "      <td>6725</td>\n",
       "      <td>6345</td>\n",
       "      <td>5525</td>\n",
       "      <td>1742</td>\n",
       "    </tr>\n",
       "  </tbody>\n",
       "</table>\n",
       "</div>"
      ],
      "text/plain": [
       "                 phylum  class  order  family  genus  species\n",
       "astral             9725   7596   6800    6536   5588     1749\n",
       "astral.e5p50       9721   7596   6800    6529   5588     1748\n",
       "concat.cons        9338   7579   6746    6348   5505     1740\n",
       "concat.cons.b50    9204   6916   6471    6333   5476     1738\n",
       "concat.rand        9712   7599   6749    6387   5540     1742\n",
       "concat.rand.b50    9478   7569   6725    6345   5525     1742"
      ]
     },
     "execution_count": 19,
     "metadata": {},
     "output_type": "execute_result"
    }
   ],
   "source": [
    "dfr.astype(int)"
   ]
  },
  {
   "cell_type": "markdown",
   "metadata": {},
   "source": [
    "#### Plot"
   ]
  },
  {
   "cell_type": "code",
   "execution_count": 20,
   "metadata": {},
   "outputs": [],
   "source": [
    "th = 10"
   ]
  },
  {
   "cell_type": "code",
   "execution_count": 21,
   "metadata": {},
   "outputs": [
    {
     "data": {
      "text/html": [
       "<div>\n",
       "<style scoped>\n",
       "    .dataframe tbody tr th:only-of-type {\n",
       "        vertical-align: middle;\n",
       "    }\n",
       "\n",
       "    .dataframe tbody tr th {\n",
       "        vertical-align: top;\n",
       "    }\n",
       "\n",
       "    .dataframe thead th {\n",
       "        text-align: right;\n",
       "    }\n",
       "</style>\n",
       "<table border=\"1\" class=\"dataframe\">\n",
       "  <thead>\n",
       "    <tr style=\"text-align: right;\">\n",
       "      <th></th>\n",
       "      <th>rank</th>\n",
       "      <th>taxon</th>\n",
       "      <th>method</th>\n",
       "      <th>consistency</th>\n",
       "    </tr>\n",
       "  </thead>\n",
       "  <tbody>\n",
       "    <tr>\n",
       "      <th>0</th>\n",
       "      <td>kingdom</td>\n",
       "      <td>Archaea</td>\n",
       "      <td>astral</td>\n",
       "      <td>1.000</td>\n",
       "    </tr>\n",
       "    <tr>\n",
       "      <th>1</th>\n",
       "      <td>kingdom</td>\n",
       "      <td>Bacteria</td>\n",
       "      <td>astral</td>\n",
       "      <td>1.000</td>\n",
       "    </tr>\n",
       "    <tr>\n",
       "      <th>2</th>\n",
       "      <td>phylum</td>\n",
       "      <td>Acidobacteria</td>\n",
       "      <td>astral</td>\n",
       "      <td>0.965</td>\n",
       "    </tr>\n",
       "    <tr>\n",
       "      <th>3</th>\n",
       "      <td>phylum</td>\n",
       "      <td>Actinobacteria</td>\n",
       "      <td>astral</td>\n",
       "      <td>0.994</td>\n",
       "    </tr>\n",
       "    <tr>\n",
       "      <th>4</th>\n",
       "      <td>phylum</td>\n",
       "      <td>Aquificae</td>\n",
       "      <td>astral</td>\n",
       "      <td>0.941</td>\n",
       "    </tr>\n",
       "  </tbody>\n",
       "</table>\n",
       "</div>"
      ],
      "text/plain": [
       "      rank           taxon  method  consistency\n",
       "0  kingdom         Archaea  astral        1.000\n",
       "1  kingdom        Bacteria  astral        1.000\n",
       "2   phylum   Acidobacteria  astral        0.965\n",
       "3   phylum  Actinobacteria  astral        0.994\n",
       "4   phylum       Aquificae  astral        0.941"
      ]
     },
     "execution_count": 21,
     "metadata": {},
     "output_type": "execute_result"
    }
   ],
   "source": [
    "dfc = df.query('count >= %d' % th).drop(['count'], axis=1).melt(\n",
    "    ['rank', 'taxon'], var_name='method', value_name='consistency')\n",
    "dfc.head()"
   ]
  },
  {
   "cell_type": "code",
   "execution_count": 22,
   "metadata": {},
   "outputs": [
    {
     "data": {
      "text/plain": [
       "(1686, 4)"
      ]
     },
     "execution_count": 22,
     "metadata": {},
     "output_type": "execute_result"
    }
   ],
   "source": [
    "dfc = dfc.query('rank != \"kingdom\"')\n",
    "dfc = dfc[dfc['method'].isin(['astral', 'concat.cons', 'concat.rand'])]\n",
    "dfc.shape"
   ]
  },
  {
   "cell_type": "code",
   "execution_count": 23,
   "metadata": {},
   "outputs": [
    {
     "data": {
      "text/plain": [
       "family     531\n",
       "genus      408\n",
       "order      303\n",
       "phylum     201\n",
       "class      141\n",
       "species    102\n",
       "Name: rank, dtype: int64"
      ]
     },
     "execution_count": 23,
     "metadata": {},
     "output_type": "execute_result"
    }
   ],
   "source": [
    "dfc['rank'].value_counts()"
   ]
  },
  {
   "cell_type": "code",
   "execution_count": 24,
   "metadata": {},
   "outputs": [
    {
     "data": {
      "image/png": "[encoded data removed]",
      "text/plain": [
       "<Figure size 576x288 with 1 Axes>"
      ]
     },
     "metadata": {},
     "output_type": "display_data"
    }
   ],
   "source": [
    "ax = sns.barplot(x='method', y='consistency', hue='rank', data=dfc)\n",
    "ax.set_yscale('log')\n",
    "plt.legend(bbox_to_anchor=(1.05, 1), loc=2, borderaxespad=0);"
   ]
  },
  {
   "cell_type": "code",
   "execution_count": 25,
   "metadata": {},
   "outputs": [],
   "source": [
    "fig = ax.get_figure()\n",
    "fig.tight_layout()\n",
    "fig.savefig('output.pdf', bbox_to_inches='tight')"
   ]
  },
  {
   "cell_type": "code",
   "execution_count": null,
   "metadata": {},
   "outputs": [],
   "source": []
  }
 ],
 "metadata": {
  "anaconda-cloud": {},
  "hide_input": false,
  "kernelspec": {
   "display_name": "Python 3",
   "language": "python",
   "name": "python3"
  },
  "language_info": {
   "codemirror_mode": {
    "name": "ipython",
    "version": 3
   },
   "file_extension": ".py",
   "mimetype": "text/x-python",
   "name": "python",
   "nbconvert_exporter": "python",
   "pygments_lexer": "ipython3",
   "version": "3.6.6"
  }
 },
 "nbformat": 4,
 "nbformat_minor": 2
}
