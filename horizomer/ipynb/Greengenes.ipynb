{
 "cells": [
  {
   "cell_type": "markdown",
   "metadata": {},
   "source": [
    "# Greengenes"
   ]
  },
  {
   "cell_type": "markdown",
   "metadata": {},
   "source": [
    "## Background"
   ]
  },
  {
   "cell_type": "markdown",
   "metadata": {},
   "source": [
    "Goal: generate a phylogenetic tree based on the 99% Greengenes tree."
   ]
  },
  {
   "cell_type": "markdown",
   "metadata": {},
   "source": [
    "## Preparation"
   ]
  },
  {
   "cell_type": "markdown",
   "metadata": {},
   "source": [
    "### Dependencies"
   ]
  },
  {
   "cell_type": "code",
   "execution_count": 1,
   "metadata": {},
   "outputs": [],
   "source": [
    "import gzip, bz2\n",
    "from skbio import TreeNode"
   ]
  },
  {
   "cell_type": "markdown",
   "metadata": {},
   "source": [
    "### Raw data"
   ]
  },
  {
   "cell_type": "markdown",
   "metadata": {},
   "source": [
    "Suggested by Daniel.\n"
   ]
  },
  {
   "cell_type": "markdown",
   "metadata": {},
   "source": [
    "OTU ID to taxnomic lineage map: [`gg_13_5_taxonomy.txt`](ftp://ftp.microbio.me/greengenes_release/gg_13_5/gg_13_5_taxonomy.txt.gz)"
   ]
  },
  {
   "cell_type": "code",
   "execution_count": 32,
   "metadata": {},
   "outputs": [
    {
     "name": "stdout",
     "output_type": "stream",
     "text": [
      "228054\tk__Bacteria; p__Cyanobacteria; c__Synechococcophycideae; o__Synechococcales; f__Synechococcaceae; g__Synechococcus; s__\r\n",
      "844608\tk__Bacteria; p__Cyanobacteria; c__Synechococcophycideae; o__Synechococcales; f__Synechococcaceae; g__Synechococcus; s__\r\n",
      "178780\tk__Bacteria; p__Cyanobacteria; c__Synechococcophycideae; o__Synechococcales; f__Synechococcaceae; g__Synechococcus; s__\r\n",
      "198479\tk__Bacteria; p__Cyanobacteria; c__Synechococcophycideae; o__Synechococcales; f__Synechococcaceae; g__Synechococcus; s__\r\n",
      "187280\tk__Bacteria; p__Cyanobacteria; c__Synechococcophycideae; o__Synechococcales; f__Synechococcaceae; g__Synechococcus; s__\r\n"
     ]
    }
   ],
   "source": [
    "!bzcat < raw/gg_13_5_taxonomy.txt.bz2 | less | head -n5"
   ]
  },
  {
   "cell_type": "markdown",
   "metadata": {},
   "source": [
    "OTU ID to GenBank accession map: [`gg_13_5_accessions.txt.gz`](ftp://ftp.microbio.me/greengenes_release/gg_13_5/gg_13_5_accessions.txt.gz)"
   ]
  },
  {
   "cell_type": "code",
   "execution_count": 35,
   "metadata": {},
   "outputs": [
    {
     "name": "stdout",
     "output_type": "stream",
     "text": [
      "#gg_id\taccession_type\taccession\r\n",
      "4\tGenbank\tAB019749.1\r\n",
      "7\tGenbank\tAB019734.1\r\n",
      "13\tGenbank\tAF068817.2\r\n",
      "14\tGenbank\tAF068820.2\r\n"
     ]
    }
   ],
   "source": [
    "!bzcat < raw/gg_13_5_accessions.txt.bz2 | less | head -n5"
   ]
  },
  {
   "cell_type": "markdown",
   "metadata": {},
   "source": [
    "99% OTU clustering scheme: [`99_otu_map.txt`](ftp://ftp.microbio.me/greengenes_release/gg_13_8_otus/otus/99_otu_map.txt)"
   ]
  },
  {
   "cell_type": "code",
   "execution_count": 36,
   "metadata": {},
   "outputs": [
    {
     "name": "stdout",
     "output_type": "stream",
     "text": [
      "42435\t228054\t844608\t178780\t198479\t187280\t179180\t175058\t176884\r\n",
      "83889\t228057\t234102\t234685\t1121497\t767731\t230047\t330751\t317400\t347564\t352714\t234168\t231859\t232604\t233538\t573838\t136068\t585338\t4474077\t1121583\t4342576\t4382430\t4486293\r\n",
      "192805\t73627\t785154\t581446\t177511\t245190\r\n",
      "154341\t378462\t398771\t445143\t394166\t406264\t391797\t374752\t497126\r\n",
      "30887\t89370\t582313\t300272\t264371\r\n"
     ]
    }
   ],
   "source": [
    "!bzcat raw/99_otu_map.txt.bz2 | less | head -n5"
   ]
  },
  {
   "cell_type": "markdown",
   "metadata": {},
   "source": [
    "99% OTU tree: [`gg_13_5_otus_99_annotated.tree`](ftp://ftp.microbio.me/greengenes_release/gg_13_5/gg_13_5_otus_99_annotated.tree.gz)"
   ]
  },
  {
   "cell_type": "code",
   "execution_count": 37,
   "metadata": {},
   "outputs": [
    {
     "name": "stdout",
     "output_type": "stream",
     "text": [
      "[\r\n",
      "Wed Apr 24 15:04:56 2013: Loaded from /Users/philhugenholtz/Documents/greengenes/2013_2/gg_13_4_rc1/gg_13_4_rc1_23april2013.tree\r\n",
      "Sun May 12 20:10:38 2013: tree_gg_13_4_rc1_23april2013 saved to /Users/philhugenholtz/Documents/greengenes/2013_4/gg_13_4_rc1_23april2013.tree\r\n",
      "]\r\n",
      "(((((((((((((((((((((((((((((((((((((((((((((((((((((((((((((((((((((((((((((((((((((((((((((((((((((((((((((((((1018666:0.01057,\r\n",
      "421164:0.00514\r\n",
      "):0.00102,\r\n"
     ]
    }
   ],
   "source": [
    "!cat raw/gg_13_5_otus_99_annotated.tree | less | head -n7"
   ]
  },
  {
   "cell_type": "markdown",
   "metadata": {},
   "source": [
    "## Analyses"
   ]
  },
  {
   "cell_type": "markdown",
   "metadata": {},
   "source": [
    "### Read Greengenes database"
   ]
  },
  {
   "cell_type": "markdown",
   "metadata": {},
   "source": [
    "Generate OTU ID to CBI accession (without version) map."
   ]
  },
  {
   "cell_type": "code",
   "execution_count": 8,
   "metadata": {},
   "outputs": [
    {
     "name": "stdout",
     "output_type": "stream",
     "text": [
      "Number of Greengenes OTU IDs: 1262440.\n"
     ]
    }
   ],
   "source": [
    "otu2accn = {}\n",
    "with bz2.open('raw/gg_13_5_accessions.txt.bz2', 'rt') as f:\n",
    "    # columns: gg_id, accession_type, accession\n",
    "    for line in f:\n",
    "        x = line.rstrip('\\r\\n').split('\\t')\n",
    "        if x[1] == 'Genbank':\n",
    "            otu2accn[x[0]] = x[2].split('.')[0]\n",
    "print('Number of Greengenes OTU IDs: %d.' % len(otu2accn))"
   ]
  },
  {
   "cell_type": "markdown",
   "metadata": {},
   "source": [
    "Extract unique accessions."
   ]
  },
  {
   "cell_type": "code",
   "execution_count": 9,
   "metadata": {},
   "outputs": [
    {
     "name": "stdout",
     "output_type": "stream",
     "text": [
      "Number of unique accessions: 1262130.\n"
     ]
    }
   ],
   "source": [
    "accns = set()\n",
    "for accn in otu2accn.values():\n",
    "    accns.add(accn)\n",
    "print('Number of unique accessions: %d.' % len(accns))"
   ]
  },
  {
   "cell_type": "markdown",
   "metadata": {},
   "source": [
    "Read master OTU ID to co-clustered OTU IDs map."
   ]
  },
  {
   "cell_type": "code",
   "execution_count": 10,
   "metadata": {
    "scrolled": true
   },
   "outputs": [
    {
     "name": "stdout",
     "output_type": "stream",
     "text": [
      "Number of 99% OTUs: 203452.\n"
     ]
    }
   ],
   "source": [
    "otu_map = {}\n",
    "with bz2.open('raw/99_otu_map.txt.bz2', 'rt') as f:\n",
    "    for line in f:\n",
    "        x = line.rstrip('\\r\\n').split('\\t')\n",
    "        otu_map[x[0]] = set(x[1:])\n",
    "print('Number of 99%% OTUs: %d.' % len(otu_map))"
   ]
  },
  {
   "cell_type": "markdown",
   "metadata": {},
   "source": [
    "Read Greengenes reference tree."
   ]
  },
  {
   "cell_type": "code",
   "execution_count": 7,
   "metadata": {},
   "outputs": [
    {
     "name": "stdout",
     "output_type": "stream",
     "text": [
      "Number of taxa in 99% Greengenes tree: 203452\n"
     ]
    }
   ],
   "source": [
    "ggtree = TreeNode.read('raw/gg_13_5_otus_99_annotated.tree')\n",
    "print('Number of taxa in 99%% Greengenes tree: %d' % ggtree.count(tips=True))"
   ]
  },
  {
   "cell_type": "code",
   "execution_count": 11,
   "metadata": {},
   "outputs": [
    {
     "data": {
      "text/plain": [
       "'(((((((((((((((((((((((((((((((((((((((((((((((((((((((((((((((((((((((((((((((((((((((((((((((((((((((((((((((((1018666:0.01057,421164:0.00514):0.00102,989926:0.0026):0.00014,892241:0.00348):0.00015,((1046178:0.00523,854915:0.00348):0.00046,1039981:0.0061):0.00043):0.00014,((((1087110:0.00962,958846:0.01053):0.00255,1020662:0.0087):0.00014,938027:0.00434):0.00014,(880205:0.01053,901170:0.007):0.0'"
      ]
     },
     "execution_count": 11,
     "metadata": {},
     "output_type": "execute_result"
    }
   ],
   "source": [
    "str(ggtree)[:400]"
   ]
  },
  {
   "cell_type": "markdown",
   "metadata": {},
   "source": [
    "### Match OTU IDs with WoL genomes"
   ]
  },
  {
   "cell_type": "markdown",
   "metadata": {},
   "source": [
    "Read nucleotide accession to TaxID map.\n",
    " - Based on the proper versions (timestamp: Mar. 7, 2017) of [`nucl_gb.accession2taxid.gz`](ftp://ftp.ncbi.nlm.nih.gov/pub/taxonomy/accession2taxid/dead_nucl.accession2taxid.gz) provided by NCBI."
   ]
  },
  {
   "cell_type": "code",
   "execution_count": 52,
   "metadata": {},
   "outputs": [],
   "source": [
    "%%script false\n",
    "accn2tid = {}\n",
    "with gzip.open('nucl_gb.accession2taxid.gz', 'rt') as f:\n",
    "    # columns: accession, accession.version, taxid, gi\n",
    "    for line in f:\n",
    "        x = line.rstrip('\\r\\n').split('\\t')\n",
    "        if x[0] in accns:\n",
    "            accn2tid[x[0]] = x[2]\n",
    "print('Number of accessions with TaxID: %d.' % len(accn2tid))"
   ]
  },
  {
   "cell_type": "markdown",
   "metadata": {},
   "source": [
    "`accn2tid.txt` is a shrinked local version"
   ]
  },
  {
   "cell_type": "code",
   "execution_count": 12,
   "metadata": {
    "scrolled": false
   },
   "outputs": [
    {
     "name": "stdout",
     "output_type": "stream",
     "text": [
      "Number of accessions with TaxID: 1155110.\n"
     ]
    }
   ],
   "source": [
    "with open('accn2tid.txt', 'r') as f:\n",
    "    accn2tid = dict(x.split('\\t') for x in f.read().splitlines())\n",
    "print('Number of accessions with TaxID: %d.' % len(accn2tid))"
   ]
  },
  {
   "cell_type": "markdown",
   "metadata": {},
   "source": [
    "Reading genome ID to TaxID map."
   ]
  },
  {
   "cell_type": "code",
   "execution_count": 35,
   "metadata": {
    "scrolled": false
   },
   "outputs": [],
   "source": [
    "g2tid = {}\n",
    "with bz2.open('../../genomes/summary.txt.bz2', 'rt') as f:\n",
    "    next(f)\n",
    "    for line in f:\n",
    "        x = line.rstrip('\\r\\n').split('\\t')\n",
    "        g2tid[x[0]] = x[21]"
   ]
  },
  {
   "cell_type": "markdown",
   "metadata": {},
   "source": [
    "Optional: include taxa in the current ToL only."
   ]
  },
  {
   "cell_type": "code",
   "execution_count": 36,
   "metadata": {},
   "outputs": [],
   "source": [
    "with open('../../ToLs/taxa.txt', 'r') as f:\n",
    "    gs = set(f.read().splitlines())\n",
    "g2tid = {g: g2tid[g] for g in gs}"
   ]
  },
  {
   "cell_type": "code",
   "execution_count": 37,
   "metadata": {},
   "outputs": [
    {
     "name": "stdout",
     "output_type": "stream",
     "text": [
      "Number of unique TaxIDs assigned to the 10575 genomes: 9887.\n"
     ]
    }
   ],
   "source": [
    "tid2gs = {}\n",
    "for g, tid in g2tid.items():\n",
    "    if tid not in tid2gs:\n",
    "        tid2gs[tid] = set([g])\n",
    "    else:\n",
    "        tid2gs[tid].add(g)\n",
    "print('Number of unique TaxIDs assigned to the %d genomes: %d.' % (len(g2tid), len(tid2gs)))"
   ]
  },
  {
   "cell_type": "markdown",
   "metadata": {},
   "source": [
    "### Shrink Greengenes tree to common taxa"
   ]
  },
  {
   "cell_type": "markdown",
   "metadata": {},
   "source": [
    "Shrink the tree to only taxa assigned to TaxIDs represented by WoL genomes."
   ]
  },
  {
   "cell_type": "code",
   "execution_count": 51,
   "metadata": {},
   "outputs": [
    {
     "name": "stdout",
     "output_type": "stream",
     "text": [
      "Number of tips assigned to TaxIDs represented by the genomes: 6871\n"
     ]
    }
   ],
   "source": [
    "tree = ggtree.copy()\n",
    "otu2tid = {}\n",
    "otus_to_keep = []\n",
    "for tip in tree.tips():\n",
    "    otu = tip.name\n",
    "    accn = otu2accn[otu]\n",
    "    if accn in accn2tid:\n",
    "        tid = accn2tid[accn]\n",
    "        if tid in tid2gs:\n",
    "            otu2tid[otu] = tid\n",
    "            otus_to_keep.append(otu)\n",
    "tree = tree.shear(otus_to_keep)\n",
    "print('Number of tips assigned to TaxIDs represented by the genomes: %d' % tree.count(tips=True))"
   ]
  },
  {
   "cell_type": "code",
   "execution_count": 52,
   "metadata": {},
   "outputs": [
    {
     "name": "stdout",
     "output_type": "stream",
     "text": [
      "Number of unique TaxIDs represented by tips: 2234\n"
     ]
    }
   ],
   "source": [
    "tid2otus = {}\n",
    "for otu, tid in otu2tid.items():\n",
    "    if tid not in tid2otus:\n",
    "        tid2otus[tid] = set([otu])\n",
    "    else:\n",
    "        tid2otus[tid].add(otu)\n",
    "print('Number of unique TaxIDs represented by tips: %d' % len(tid2otus))"
   ]
  },
  {
   "cell_type": "markdown",
   "metadata": {},
   "source": [
    "Assess the cladistic properties of those TaxIDs."
   ]
  },
  {
   "cell_type": "code",
   "execution_count": 53,
   "metadata": {},
   "outputs": [
    {
     "name": "stdout",
     "output_type": "stream",
     "text": [
      "There are 1827 single tips, 229 monophyletic groups and 178 paraphyletic groups among those TaxIDs.\n"
     ]
    }
   ],
   "source": [
    "cladistics = {'single': [], 'monophyly': [], 'paraphyly': []}\n",
    "for tid, otus in sorted(tid2otus.items()):\n",
    "    tips = [tree.find(x) for x in otus]\n",
    "    if len(tips) == 1:\n",
    "        cladistics['single'].append(tid)\n",
    "    elif tree.lca(tips).subset() == otus:\n",
    "        cladistics['monophyly'].append(tid)\n",
    "    else:\n",
    "        cladistics['paraphyly'].append(tid)\n",
    "print('There are %d single tips, %d monophyletic groups and %d paraphyletic groups among those TaxIDs.'\n",
    "      % (len(cladistics['single']), len(cladistics['monophyly']), len(cladistics['paraphyly'])))"
   ]
  },
  {
   "cell_type": "code",
   "execution_count": 54,
   "metadata": {},
   "outputs": [],
   "source": [
    "with open('cladistics.tsv', 'w') as f:\n",
    "    for cat in cladistics:\n",
    "        for tid in sorted(cladistics[cat], key=int):\n",
    "            f.write('%s\\t%s\\n' % (tid, cat))"
   ]
  },
  {
   "cell_type": "markdown",
   "metadata": {},
   "source": [
    "Translate OTU IDs to TaxIDs at the tips."
   ]
  },
  {
   "cell_type": "code",
   "execution_count": 55,
   "metadata": {},
   "outputs": [
    {
     "name": "stdout",
     "output_type": "stream",
     "text": [
      "After mapping OTUs to TaxIDs, there are 2056 tips in the tree.\n"
     ]
    }
   ],
   "source": [
    "# for single tips, translate OTU into TaxID\n",
    "for tid in singles:\n",
    "    tree.find(max(tid2otus[tid])).name = 'TaxID%s' % tid\n",
    "\n",
    "# for monophyletic groups, collapse the entire clade into one taxon\n",
    "nodes_to_remove = set()\n",
    "for tid in monophylies:\n",
    "    lca = tree.lca([tree.find(x) for x in tid2otus[tid]])\n",
    "    lca.parent.append(TreeNode('TaxID%s' % tid, lca.descending_branch_length()))\n",
    "    nodes_to_remove.add(lca)\n",
    "tree.remove_deleted(lambda x: x in nodes_to_remove)\n",
    "\n",
    "# delete all other tips\n",
    "mapped_tips = [x.name for x in tree.tips() if x.name.startswith('TaxID')]\n",
    "tree = tree.shear(mapped_tips)\n",
    "for tip in tree.tips():\n",
    "    tip.name = tip.name[5:]\n",
    "\n",
    "print('After mapping OTUs to TaxIDs, there are %d tips in the tree.'\n",
    "      % tree.count(tips=True))"
   ]
  },
  {
   "cell_type": "code",
   "execution_count": 56,
   "metadata": {},
   "outputs": [
    {
     "data": {
      "text/plain": [
       "'gg.tol.tid.nwk'"
      ]
     },
     "execution_count": 56,
     "metadata": {},
     "output_type": "execute_result"
    }
   ],
   "source": [
    "tree.write('gg.tol.tid.nwk')"
   ]
  },
  {
   "cell_type": "markdown",
   "metadata": {},
   "source": [
    "Translate TaxIDs to genome IDs at the tips."
   ]
  },
  {
   "cell_type": "code",
   "execution_count": 57,
   "metadata": {},
   "outputs": [
    {
     "name": "stdout",
     "output_type": "stream",
     "text": [
      "After mapping TaxIDs to genome IDs, there are 2286 tips in the tree.\n"
     ]
    }
   ],
   "source": [
    "tips_to_remove = set()\n",
    "for tip in [x for x in tree.tips()]:\n",
    "    tip.parent.extend([TreeNode(x) for x in tid2gs[tip.name]])\n",
    "    tips_to_remove.add(tip)\n",
    "tree.remove_deleted(lambda x: x in tips_to_remove)\n",
    "print('After mapping TaxIDs to genome IDs, there are %d tips in the tree.'\n",
    "      % tree.count(tips=True))"
   ]
  },
  {
   "cell_type": "code",
   "execution_count": 58,
   "metadata": {},
   "outputs": [
    {
     "data": {
      "text/plain": [
       "'gg.tol.gid.nwk'"
      ]
     },
     "execution_count": 58,
     "metadata": {},
     "output_type": "execute_result"
    }
   ],
   "source": [
    "tree.write('gg.tol.gid.nwk')"
   ]
  }
 ],
 "metadata": {
  "hide_input": false,
  "kernelspec": {
   "display_name": "Python 3",
   "language": "python",
   "name": "python3"
  },
  "language_info": {
   "codemirror_mode": {
    "name": "ipython",
    "version": 3
   },
   "file_extension": ".py",
   "mimetype": "text/x-python",
   "name": "python",
   "nbconvert_exporter": "python",
   "pygments_lexer": "ipython3",
   "version": "3.6.4"
  }
 },
 "nbformat": 4,
 "nbformat_minor": 2
}
