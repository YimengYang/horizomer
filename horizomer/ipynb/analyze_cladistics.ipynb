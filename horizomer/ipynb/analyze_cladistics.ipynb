{
 "cells": [
  {
   "cell_type": "markdown",
   "metadata": {},
   "source": [
    "# Analyze cladistic properties of taxonomic terms given tree"
   ]
  },
  {
   "cell_type": "markdown",
   "metadata": {},
   "source": [
    "The code aims to assign each of \"single\", \"monophyletic\" and \"non-mononphyletic\" (paraphyletic or polyphyletic) labels to each taxonomic term given a reference tree."
   ]
  },
  {
   "cell_type": "markdown",
   "metadata": {},
   "source": [
    "Dependencies"
   ]
  },
  {
   "cell_type": "code",
   "execution_count": 1,
   "metadata": {},
   "outputs": [],
   "source": [
    "import pandas as pd\n",
    "from skbio import TreeNode"
   ]
  },
  {
   "cell_type": "markdown",
   "metadata": {},
   "source": [
    "Custom function"
   ]
  },
  {
   "cell_type": "code",
   "execution_count": 2,
   "metadata": {},
   "outputs": [],
   "source": [
    "def cladistic(tree, taxa, classified=None):\n",
    "    \"\"\"Determines the cladistic property of the given taxon set.\n",
    "\n",
    "    Parameters\n",
    "    ----------\n",
    "    tree : skbio.TreeNode\n",
    "        reference tree\n",
    "    taxa : iterable of str\n",
    "        taxa (tip names)\n",
    "    classified : iterable of str\n",
    "        (optional) classified taxa at the rank\n",
    "\n",
    "    Returns\n",
    "    -------\n",
    "    str\n",
    "        'uni' if input taxon is a single tip in given tree\n",
    "        'mono' if input taxa are monophyletic in given tree\n",
    "        'poly' if input taxa are polyphyletic in given tree\n",
    "\n",
    "\n",
    "    Notes\n",
    "    -----\n",
    "    In the following tree example:\n",
    "                                  /-a\n",
    "                        /--------|\n",
    "                       |          \\-b\n",
    "              /--------|\n",
    "             |         |          /-c\n",
    "             |         |         |\n",
    "             |          \\--------|--d\n",
    "    ---------|                   |\n",
    "             |                    \\-e\n",
    "             |\n",
    "             |                    /-f\n",
    "             |          /--------|\n",
    "              \\--------|          \\-g\n",
    "                       |\n",
    "                        \\-h\n",
    "    ['a'] returns 'uni'\n",
    "    ['c', 'd', 'e'] returns 'mono'\n",
    "    ['a', 'c', 'f'] returns 'poly'\n",
    "    ['f', 'h'] returns 'poly'\n",
    "\n",
    "    Paraphyly, which is programmably indistinguishable from polyphyly, returns\n",
    "    \"poly\" here.\n",
    "\n",
    "    If \"classified\" is provided, unclassified taxa at the rank will be ignored\n",
    "    when calculating cladistic properties. For example:\n",
    "    \n",
    "                        /-a\n",
    "              /--------|\n",
    "             |          \\--\n",
    "    ---------|\n",
    "             |          /-a\n",
    "              \\--------|\n",
    "                        \\-a\n",
    "    \n",
    "    \n",
    "    ['a'] returns 'mono' instead of 'poly'.\n",
    "\n",
    "    Raises\n",
    "    ------\n",
    "    ValueError\n",
    "        if one or more taxon names are not present in the tree\n",
    "    \"\"\"\n",
    "    tips = []\n",
    "    taxa = set(taxa)\n",
    "    for tip in tree.tips():\n",
    "        if tip.name in taxa:\n",
    "            tips.append(tip)\n",
    "    n = len(taxa)\n",
    "    if len(tips) < n:\n",
    "        raise ValueError('Taxa not found in the tree.')\n",
    "    if n == 1:\n",
    "        return 'uni'\n",
    "    else:\n",
    "        subset = tree.lca(tips).subset()\n",
    "        if len(subset) == n:\n",
    "            return 'mono'\n",
    "        elif classified is not None:\n",
    "            if (subset - taxa).intersection(classified):\n",
    "                return 'poly'\n",
    "            else:\n",
    "                return 'mono'\n",
    "        else:\n",
    "            return 'poly'"
   ]
  },
  {
   "cell_type": "markdown",
   "metadata": {},
   "source": [
    "Read input tree"
   ]
  },
  {
   "cell_type": "code",
   "execution_count": 3,
   "metadata": {},
   "outputs": [],
   "source": [
    "tree_fp = '../trees/astral.nwk'"
   ]
  },
  {
   "cell_type": "code",
   "execution_count": 4,
   "metadata": {},
   "outputs": [
    {
     "data": {
      "text/plain": [
       "10575"
      ]
     },
     "execution_count": 4,
     "metadata": {},
     "output_type": "execute_result"
    }
   ],
   "source": [
    "tree = TreeNode.read(tree_fp)\n",
    "tree.count(tips=True)"
   ]
  },
  {
   "cell_type": "markdown",
   "metadata": {},
   "source": [
    "Read taxonomy table"
   ]
  },
  {
   "cell_type": "code",
   "execution_count": 5,
   "metadata": {},
   "outputs": [
    {
     "data": {
      "text/html": [
       "<div>\n",
       "<style scoped>\n",
       "    .dataframe tbody tr th:only-of-type {\n",
       "        vertical-align: middle;\n",
       "    }\n",
       "\n",
       "    .dataframe tbody tr th {\n",
       "        vertical-align: top;\n",
       "    }\n",
       "\n",
       "    .dataframe thead th {\n",
       "        text-align: right;\n",
       "    }\n",
       "</style>\n",
       "<table border=\"1\" class=\"dataframe\">\n",
       "  <thead>\n",
       "    <tr style=\"text-align: right;\">\n",
       "      <th></th>\n",
       "      <th>kingdom</th>\n",
       "      <th>phylum</th>\n",
       "      <th>class</th>\n",
       "      <th>order</th>\n",
       "      <th>family</th>\n",
       "      <th>genus</th>\n",
       "      <th>species</th>\n",
       "    </tr>\n",
       "    <tr>\n",
       "      <th>genome</th>\n",
       "      <th></th>\n",
       "      <th></th>\n",
       "      <th></th>\n",
       "      <th></th>\n",
       "      <th></th>\n",
       "      <th></th>\n",
       "      <th></th>\n",
       "    </tr>\n",
       "  </thead>\n",
       "  <tbody>\n",
       "    <tr>\n",
       "      <th>G000005825</th>\n",
       "      <td>Bacteria</td>\n",
       "      <td>Firmicutes</td>\n",
       "      <td>Bacilli</td>\n",
       "      <td>Bacillales</td>\n",
       "      <td>Bacillaceae</td>\n",
       "      <td>Bacillus</td>\n",
       "      <td>Bacillus pseudofirmus</td>\n",
       "    </tr>\n",
       "    <tr>\n",
       "      <th>G000006175</th>\n",
       "      <td>Archaea</td>\n",
       "      <td>Euryarchaeota</td>\n",
       "      <td>Methanococci</td>\n",
       "      <td>Methanococcales</td>\n",
       "      <td>Methanococcaceae</td>\n",
       "      <td>Methanococcus</td>\n",
       "      <td>Methanococcus voltae</td>\n",
       "    </tr>\n",
       "    <tr>\n",
       "      <th>G000006605</th>\n",
       "      <td>Bacteria</td>\n",
       "      <td>Actinobacteria</td>\n",
       "      <td>Actinobacteria</td>\n",
       "      <td>Corynebacteriales</td>\n",
       "      <td>Corynebacteriaceae</td>\n",
       "      <td>Corynebacterium</td>\n",
       "      <td>Corynebacterium jeikeium</td>\n",
       "    </tr>\n",
       "    <tr>\n",
       "      <th>G000006725</th>\n",
       "      <td>Bacteria</td>\n",
       "      <td>Proteobacteria</td>\n",
       "      <td>Gammaproteobacteria</td>\n",
       "      <td>Xanthomonadales</td>\n",
       "      <td>Xanthomonadaceae</td>\n",
       "      <td>Xylella</td>\n",
       "      <td>Xylella fastidiosa</td>\n",
       "    </tr>\n",
       "    <tr>\n",
       "      <th>G000006745</th>\n",
       "      <td>Bacteria</td>\n",
       "      <td>Proteobacteria</td>\n",
       "      <td>Gammaproteobacteria</td>\n",
       "      <td>Vibrionales</td>\n",
       "      <td>Vibrionaceae</td>\n",
       "      <td>Vibrio</td>\n",
       "      <td>Vibrio cholerae</td>\n",
       "    </tr>\n",
       "  </tbody>\n",
       "</table>\n",
       "</div>"
      ],
      "text/plain": [
       "             kingdom          phylum                class              order  \\\n",
       "genome                                                                         \n",
       "G000005825  Bacteria      Firmicutes              Bacilli         Bacillales   \n",
       "G000006175   Archaea   Euryarchaeota         Methanococci    Methanococcales   \n",
       "G000006605  Bacteria  Actinobacteria       Actinobacteria  Corynebacteriales   \n",
       "G000006725  Bacteria  Proteobacteria  Gammaproteobacteria    Xanthomonadales   \n",
       "G000006745  Bacteria  Proteobacteria  Gammaproteobacteria        Vibrionales   \n",
       "\n",
       "                        family            genus                   species  \n",
       "genome                                                                     \n",
       "G000005825         Bacillaceae         Bacillus     Bacillus pseudofirmus  \n",
       "G000006175    Methanococcaceae    Methanococcus      Methanococcus voltae  \n",
       "G000006605  Corynebacteriaceae  Corynebacterium  Corynebacterium jeikeium  \n",
       "G000006725    Xanthomonadaceae          Xylella        Xylella fastidiosa  \n",
       "G000006745        Vibrionaceae           Vibrio           Vibrio cholerae  "
      ]
     },
     "execution_count": 5,
     "metadata": {},
     "output_type": "execute_result"
    }
   ],
   "source": [
    "dft = pd.read_table('rank_names.tsv', index_col=0)\n",
    "dft.head()"
   ]
  },
  {
   "cell_type": "markdown",
   "metadata": {},
   "source": [
    "Whether to consider unclassified taxa at the rank"
   ]
  },
  {
   "cell_type": "code",
   "execution_count": 6,
   "metadata": {},
   "outputs": [],
   "source": [
    "strict = True"
   ]
  },
  {
   "cell_type": "code",
   "execution_count": 7,
   "metadata": {},
   "outputs": [
    {
     "name": "stdout",
     "output_type": "stream",
     "text": [
      "CPU times: user 3min 9s, sys: 372 ms, total: 3min 10s\n",
      "Wall time: 3min 10s\n"
     ]
    }
   ],
   "source": [
    "%%time\n",
    "dfc = pd.DataFrame()\n",
    "columns=['rank', 'taxon', 'num', 'cladistic']\n",
    "for rank in dft.columns:\n",
    "    g2taxon = dft[rank].dropna().to_dict()\n",
    "    taxon2gs = {}\n",
    "    for g, taxon in g2taxon.items():\n",
    "        taxon2gs.setdefault(taxon, []).append(g)\n",
    "    data = []\n",
    "    for taxon, gs in taxon2gs.items():\n",
    "        clad = cladistic(tree, gs, None if strict else g2taxon.keys())\n",
    "        data.append([rank, taxon, len(gs), clad])\n",
    "    dfc = pd.concat([dfc, pd.DataFrame(\n",
    "        data, columns=columns).sort_values(by=['taxon'])])\n",
    "dfc.head()"
   ]
  },
  {
   "cell_type": "code",
   "execution_count": 8,
   "metadata": {},
   "outputs": [],
   "source": [
    "dfc.to_csv('cladistics.%s.tsv' % ('strict' if strict else 'relax'),\n",
    "           sep='\\t', index=False)"
   ]
  }
 ],
 "metadata": {
  "hide_input": false,
  "kernelspec": {
   "display_name": "Python 3",
   "language": "python",
   "name": "python3"
  },
  "language_info": {
   "codemirror_mode": {
    "name": "ipython",
    "version": 3
   },
   "file_extension": ".py",
   "mimetype": "text/x-python",
   "name": "python",
   "nbconvert_exporter": "python",
   "pygments_lexer": "ipython3",
   "version": "3.6.6"
  }
 },
 "nbformat": 4,
 "nbformat_minor": 2
}
