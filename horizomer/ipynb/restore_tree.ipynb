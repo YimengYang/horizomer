{
 "cells": [
  {
   "cell_type": "markdown",
   "metadata": {},
   "source": [
    "# Restore rooting, ordering and node labels of a tree"
   ]
  },
  {
   "cell_type": "markdown",
   "metadata": {},
   "source": [
    "## Background"
   ]
  },
  {
   "cell_type": "markdown",
   "metadata": {},
   "source": [
    "- There are such applications, for example, RAxML can estimate branch lengths for a given topology based on an alignment, but the resulting tree will lose the original rooting and node labels, as well as the ordering of nodes. The goal of this script is to restore those pieces of information.\n",
    "- Inputs are the original tree (rooted and with node labels) and the reconstructed tree (unrooted and without node labels).\n",
    "- Output is the resulting tree with rooting, ordering and node labels restored."
   ]
  },
  {
   "cell_type": "markdown",
   "metadata": {},
   "source": [
    "## Dependencies"
   ]
  },
  {
   "cell_type": "code",
   "execution_count": 1,
   "metadata": {},
   "outputs": [],
   "source": [
    "from skbio import TreeNode"
   ]
  },
  {
   "cell_type": "markdown",
   "metadata": {},
   "source": [
    "## Functions"
   ]
  },
  {
   "cell_type": "markdown",
   "metadata": {},
   "source": [
    "### Prerequisite I: copying TreeNode directionally and recursively"
   ]
  },
  {
   "cell_type": "markdown",
   "metadata": {},
   "source": [
    " - Goal: at a given node, toward a given direction (to its parent / children), copy the entire tree structure.\n",
    " - scikit-bio's [`unrooted_copy`](https://github.com/biocore/scikit-bio/blob/master/skbio/tree/_tree.py#L584) function does similar things. However, it does not parse the tree root in the desired way."
   ]
  },
  {
   "cell_type": "markdown",
   "metadata": {},
   "source": [
    "Solution I: tested and working, logically more natural, but less efficient."
   ]
  },
  {
   "cell_type": "code",
   "execution_count": 2,
   "metadata": {},
   "outputs": [],
   "source": [
    "%%script false\n",
    "def walk_copy(node, src):\n",
    "    \"\"\"Directionally and recursively copy a tree node and its neighbors.\n",
    "\n",
    "    Parameters\n",
    "    ----------\n",
    "    node : skbio.TreeNode\n",
    "        node and its neighbors to be copied\n",
    "    src : skbio.TreeNode\n",
    "        node in the original tree that will become parent of self node\n",
    "        in the new tree\n",
    "\n",
    "    Returns\n",
    "    -------\n",
    "    skbio.TreeNode\n",
    "        copied node and its neighbors\n",
    "\n",
    "    Notes\n",
    "    -----\n",
    "    Unlike scikit-bio's `unrooted_copy` function, this function has special\n",
    "    treatment at root: After manipulation, the original root is gone, and all\n",
    "    basal siblings of the self node become immediate children of it.\n",
    "\n",
    "    The function determines whether a tree is rooted or unrooted in such way:\n",
    "    rooted: root has two children; unrooted: root has 1 or 2+ children.\n",
    "\n",
    "    Pseudocode:\n",
    "    if node is root:\n",
    "        if tree is rooted:\n",
    "            raise error\n",
    "        else:\n",
    "            if src in node.children:\n",
    "                append node.other_child\n",
    "            else:\n",
    "                raise error\n",
    "    elif node is basal (i.e., child of root):\n",
    "        if tree is rooted:\n",
    "            if src in node.siblings:\n",
    "                append node.children\n",
    "            elif src in node.children:\n",
    "                append node.sibling and node.other_children\n",
    "            else:\n",
    "                raise error\n",
    "        else:\n",
    "            if src is node.parent (i.e., root):\n",
    "                append node.children\n",
    "            elif src in node.children:\n",
    "                append node.parent and node.other_children\n",
    "            else:\n",
    "                raise error\n",
    "    else:\n",
    "        if src is node.parent:\n",
    "            append node.children\n",
    "        elif src in node.children:\n",
    "            append node.parent and node.other_children\n",
    "        else:\n",
    "            raise error\n",
    "    \"\"\"\n",
    "    # create a new node\n",
    "    res = TreeNode(node.name)\n",
    "    \n",
    "    parent = node.parent\n",
    "    children = node.children\n",
    "    other_children = [x for x in children if x is not src]\n",
    "    siblings = [x for x in node.siblings()]\n",
    "    other_siblings = [x for x in siblings if x is not src]\n",
    "\n",
    "    # node is root\n",
    "    if node.is_root():\n",
    "        \n",
    "        # rooted tree\n",
    "        if len(node.children) == 2:\n",
    "            raise ValueError('Cannot walk from root of an rooted tree.')\n",
    "\n",
    "        # unrooted tree\n",
    "        else:\n",
    "            if src in node.children:\n",
    "                res.length = src.length\n",
    "                res.extend([walk_copy(x, node) for x in node.children\n",
    "                            if x is not src])\n",
    "            else:\n",
    "                raise ValueError('Source and node are not neighbors.')\n",
    "\n",
    "    # node is basal\n",
    "    elif node.parent.is_root():\n",
    "        \n",
    "        # rooted tree\n",
    "        if len(node.parent.children) == 2:\n",
    "            if src in siblings:\n",
    "                res.length = node.length + src.length\n",
    "                res.extend([walk_copy(x, node) for x in node.children])\n",
    "            elif src in node.children:\n",
    "                res.length = src.length\n",
    "                res.extend([walk_copy(x, node) for x in node.children\n",
    "                            if x is not src])\n",
    "                res.append(walk_copy(siblings[0], node))\n",
    "            else:\n",
    "                raise ValueError('Source and node are not neighbors.')\n",
    "\n",
    "        # unrooted tree\n",
    "        else:\n",
    "            if src is node.parent:\n",
    "                res.length = node.length\n",
    "                res.extend([walk_copy(x, node) for x in node.children])\n",
    "            elif src in node.children:\n",
    "                res.length = src.length\n",
    "                res.extend([walk_copy(x, node) for x in node.children\n",
    "                            if x is not src])\n",
    "                res.append(walk_copy(node.parent, node))\n",
    "            else:\n",
    "                raise ValueError('Source and node are not neighbors.')\n",
    "\n",
    "    # node is derived\n",
    "    else:\n",
    "        if src is node.parent:\n",
    "            res.length = node.length\n",
    "            res.extend([walk_copy(x, node) for x in node.children])\n",
    "        elif src in node.children:\n",
    "            res.length = src.length\n",
    "            res.extend([walk_copy(x, node) for x in node.children\n",
    "                        if x is not src])\n",
    "            res.append(walk_copy(node.parent, node))\n",
    "        else:\n",
    "            raise ValueError('Source and node are not neighbors.')\n",
    "\n",
    "    return res"
   ]
  },
  {
   "cell_type": "markdown",
   "metadata": {},
   "source": [
    "Solution II: simpler, more elegant, less straightforward, tested and working."
   ]
  },
  {
   "cell_type": "code",
   "execution_count": 3,
   "metadata": {},
   "outputs": [],
   "source": [
    "def walk_copy(node, src):\n",
    "    \"\"\"Directionally and recursively copy a tree node and its neighbors.\n",
    "\n",
    "    Parameters\n",
    "    ----------\n",
    "    node : skbio.TreeNode\n",
    "        node and its neighbors to be copied\n",
    "    src : skbio.TreeNode\n",
    "        an upstream node determining the direction of walking (src -> node)\n",
    "\n",
    "    Returns\n",
    "    -------\n",
    "    skbio.TreeNode\n",
    "        copied node and its neighbors\n",
    "\n",
    "    Notes\n",
    "    -----\n",
    "    After manipulation, `src` will become the parent of `node`, and all other\n",
    "    neighbors of `node` will become children of it.\n",
    "\n",
    "    Unlike scikit-bio's `unrooted_copy` function, this function has special\n",
    "    treatment at root: For an unrooted tree, its \"root\" will be retained as a\n",
    "    regular node; for a rooted tree, its root will be deleted, and all basal\n",
    "    nodes will become immediate children of the basal node where the source is\n",
    "    located.\n",
    "\n",
    "    The function determines whether a tree is rooted or unrooted in such way:\n",
    "    rooted: root has two children; unrooted: root has one or more than two\n",
    "    children.\n",
    "\n",
    "    Logic (pseudocode):\n",
    "    if node is root:\n",
    "        if tree is rooted:\n",
    "            raise error\n",
    "        else:\n",
    "            if src in node.children:\n",
    "                append node.other_child\n",
    "            else:\n",
    "                raise error\n",
    "    elif node is basal (i.e., child of root):\n",
    "        if tree is rooted:\n",
    "            if src in node.siblings:\n",
    "                append node.children\n",
    "            elif src in node.children:\n",
    "                append node.sibling and node.other_children\n",
    "            else:\n",
    "                raise error\n",
    "        else:\n",
    "            if src is node.parent (i.e., root):\n",
    "                append node.children\n",
    "            elif src in node.children:\n",
    "                append node.parent and node.other_children\n",
    "            else:\n",
    "                raise error\n",
    "    else: (i.e., node is derived)\n",
    "        if src is node.parent:\n",
    "            append node.children\n",
    "        elif src in node.children:\n",
    "            append node.parent and node.other_children\n",
    "        else:\n",
    "            raise error\n",
    "    \"\"\"\n",
    "    parent = node.parent\n",
    "    children = node.children\n",
    "\n",
    "    # position of node\n",
    "    pos = ('root' if node.is_root() else 'basal' if parent.is_root()\n",
    "           else 'derived')\n",
    "\n",
    "    # whether tree is rooted\n",
    "    rooted = ((True if len(children) == 2 else False) if pos == 'root'\n",
    "              else (True if len(parent.children) == 2 else False)\n",
    "              if pos == 'basal'\n",
    "              else None)  # don't determine root status if node is derived\n",
    "    if rooted:\n",
    "        if pos == 'root':\n",
    "            raise ValueError('Cannot walk from root of an rooted tree.')\n",
    "        elif pos == 'basal':\n",
    "            sibling = [x for x in node.siblings()][0]\n",
    "\n",
    "    # direction of walking\n",
    "    move = (('bottom' if src is sibling else 'top' if src in children\n",
    "            else 'n/a') if rooted and pos == 'basal'\n",
    "            else ('down' if src is parent else 'up' if src in children\n",
    "            else 'n/a'))\n",
    "    if move == 'n/a':\n",
    "        raise ValueError('Source and node are not neighbors.')\n",
    "\n",
    "    # create a new node\n",
    "    res = TreeNode(node.name)\n",
    "\n",
    "    # determine length of the new node\n",
    "    res.length = (node.length if move == 'down'\n",
    "                  else src.length + node.length if move == 'bottom'\n",
    "                  else src.length)  # up or top\n",
    "\n",
    "    # append children except for src (if applies)\n",
    "    res.extend([walk_copy(c, node) for c in children if c is not src])\n",
    "\n",
    "    # append parent if walking up (except at root)\n",
    "    if move == 'up' and pos != 'root':\n",
    "        res.append(walk_copy(parent, node))\n",
    "\n",
    "    # append sibling if walking from one basal node to another\n",
    "    if move == 'top':\n",
    "        res.append(walk_copy(sibling, node))\n",
    "\n",
    "    return res"
   ]
  },
  {
   "cell_type": "markdown",
   "metadata": {},
   "source": [
    "### Prerequisite II: re-root in the middle of a branch"
   ]
  },
  {
   "cell_type": "markdown",
   "metadata": {},
   "source": [
    "#### Background"
   ]
  },
  {
   "cell_type": "markdown",
   "metadata": {},
   "source": [
    "scikit-bio has the [`root_at`](https://github.com/biocore/scikit-bio/blob/master/skbio/tree/_tree.py#L783) function (which calls the `unrooted_copy` function). However, it actually generates an unrooted tree, and it does not handle the original root in the desired way."
   ]
  },
  {
   "cell_type": "markdown",
   "metadata": {},
   "source": [
    "On a rooted tree, the root is gone (desired behavior) but there is a redundant node (`j`)."
   ]
  },
  {
   "cell_type": "code",
   "execution_count": 4,
   "metadata": {},
   "outputs": [
    {
     "name": "stdout",
     "output_type": "stream",
     "text": [
      "                              /-a\n",
      "                    /c-------|\n",
      "                   |          \\-b\n",
      "          /g-------|\n",
      "         |         |          /-d\n",
      "         |          \\f-------|\n",
      "-k-------|                    \\-e\n",
      "         |\n",
      "         |          /-h\n",
      "          \\j-------|\n",
      "                    \\-i\n"
     ]
    }
   ],
   "source": [
    "tree = TreeNode.read(['(((a:1.0,b:0.8)c:2.4,(d:0.8,e:0.6)f:1.2)g:0.4,(h:0.5,i:0.7)j:1.8)k;'])\n",
    "print(tree.ascii_art())"
   ]
  },
  {
   "cell_type": "code",
   "execution_count": 5,
   "metadata": {},
   "outputs": [
    {
     "name": "stdout",
     "output_type": "stream",
     "text": [
      "                    /-a\n",
      "          /c-------|\n",
      "         |          \\-b\n",
      "         |\n",
      "         |          /-d\n",
      "-root----|-f-------|\n",
      "         |          \\-e\n",
      "         |\n",
      "         |                    /-h\n",
      "          \\g------- /j-------|\n",
      "                              \\-i\n"
     ]
    }
   ],
   "source": [
    "print(tree.root_at('g').ascii_art())"
   ]
  },
  {
   "cell_type": "markdown",
   "metadata": {},
   "source": [
    "On an unrooted tree, the root (`j`) is gone (NOT desired behavior)."
   ]
  },
  {
   "cell_type": "code",
   "execution_count": 6,
   "metadata": {},
   "outputs": [
    {
     "name": "stdout",
     "output_type": "stream",
     "text": [
      "                              /-a\n",
      "                    /g-------|\n",
      "          /h-------|          \\-b\n",
      "         |         |\n",
      "         |          \\-c\n",
      "         |\n",
      "-j-------|          /-d\n",
      "         |-i-------|\n",
      "         |          \\-e\n",
      "         |\n",
      "          \\-f\n"
     ]
    }
   ],
   "source": [
    "tree = TreeNode.read(['(((a:0.6,b:0.5)g:0.3,c:0.8)h:0.4,(d:0.4,e:0.5)i:0.5,f:0.9)j;'])\n",
    "print(tree.ascii_art())"
   ]
  },
  {
   "cell_type": "code",
   "execution_count": 7,
   "metadata": {},
   "outputs": [
    {
     "name": "stdout",
     "output_type": "stream",
     "text": [
      "          /-a\n",
      "         |\n",
      "         |--b\n",
      "-root----|\n",
      "         |          /-c\n",
      "         |         |\n",
      "          \\g-------|                    /-d\n",
      "                   |          /i-------|\n",
      "                    \\h-------|          \\-e\n",
      "                             |\n",
      "                              \\-f\n"
     ]
    }
   ],
   "source": [
    "print(tree.root_at('g').ascii_art())"
   ]
  },
  {
   "cell_type": "markdown",
   "metadata": {},
   "source": [
    "In either situation, the resulting tree is unrooted."
   ]
  },
  {
   "cell_type": "markdown",
   "metadata": {},
   "source": [
    "#### The function"
   ]
  },
  {
   "cell_type": "code",
   "execution_count": 8,
   "metadata": {},
   "outputs": [],
   "source": [
    "def root_above(node, name=None):\n",
    "    \"\"\"Re-root a tree between a give node and its parent.\n",
    "\n",
    "    Parameters\n",
    "    ----------\n",
    "    node : skbio.TreeNode\n",
    "        node above which the new root will be placed\n",
    "    name : str, optional\n",
    "        name of the new root\n",
    "\n",
    "    Returns\n",
    "    -------\n",
    "    skbio.TreeNode\n",
    "        resulting rooted tree\n",
    "\n",
    "    Notes\n",
    "    -----\n",
    "    Unlike scikit-bio's `root_at` function which actually generates an\n",
    "    unrooted tree, this function generates a rooted tree (the root of\n",
    "    which has exactly two children).\n",
    "    \"\"\"\n",
    "    # walk down from self node\n",
    "    left = walk_copy(node, node.parent)\n",
    "\n",
    "    # walk up from parent node\n",
    "    right = walk_copy(node.parent, node)\n",
    "\n",
    "    # set basal branch lengths to be half of the original, i.e., midpoint\n",
    "    left.length = right.length = node.length / 2\n",
    "\n",
    "    # create new root\n",
    "    return TreeNode(name, children=[left, right])\n"
   ]
  },
  {
   "cell_type": "markdown",
   "metadata": {},
   "source": [
    "### Tests of the copying / rooting functions"
   ]
  },
  {
   "cell_type": "markdown",
   "metadata": {
    "heading_collapsed": true
   },
   "source": [
    "#### Test on a rooted tree (two basal nodes)"
   ]
  },
  {
   "cell_type": "code",
   "execution_count": 9,
   "metadata": {
    "hidden": true
   },
   "outputs": [
    {
     "name": "stdout",
     "output_type": "stream",
     "text": [
      "                              /-a\n",
      "                    /c-------|\n",
      "                   |          \\-b\n",
      "          /g-------|\n",
      "         |         |          /-d\n",
      "         |          \\f-------|\n",
      "-k-------|                    \\-e\n",
      "         |\n",
      "         |          /-h\n",
      "          \\j-------|\n",
      "                    \\-i\n"
     ]
    }
   ],
   "source": [
    "tree = TreeNode.read(['(((a:1.0,b:0.8)c:2.4,(d:0.8,e:0.6)f:1.2)g:0.4,(h:0.5,i:0.7)j:1.8)k;'])\n",
    "print(tree.ascii_art())"
   ]
  },
  {
   "cell_type": "markdown",
   "metadata": {
    "hidden": true
   },
   "source": [
    "Root between `c` and `g`"
   ]
  },
  {
   "cell_type": "code",
   "execution_count": 10,
   "metadata": {
    "hidden": true
   },
   "outputs": [
    {
     "name": "stdout",
     "output_type": "stream",
     "text": [
      "((a:1.0,b:0.8)c:1.2,((d:0.8,e:0.6)f:1.2,(h:0.5,i:0.7)j:2.2)g:1.2);\n",
      "\n",
      "                    /-a\n",
      "          /c-------|\n",
      "         |          \\-b\n",
      "         |\n",
      "---------|                    /-d\n",
      "         |          /f-------|\n",
      "         |         |          \\-e\n",
      "          \\g-------|\n",
      "                   |          /-h\n",
      "                    \\j-------|\n",
      "                              \\-i\n"
     ]
    }
   ],
   "source": [
    "tree_cg = root_above(tree.find('c'))\n",
    "print(str(tree_cg))\n",
    "print(tree_cg.ascii_art())"
   ]
  },
  {
   "cell_type": "markdown",
   "metadata": {
    "hidden": true
   },
   "source": [
    "Verify that the new root is at the midpoint of the original branch"
   ]
  },
  {
   "cell_type": "code",
   "execution_count": 11,
   "metadata": {
    "hidden": true
   },
   "outputs": [
    {
     "name": "stdout",
     "output_type": "stream",
     "text": [
      "input:\n",
      "  g to c: 2.4\n",
      "output:\n",
      "  root to c: 1.2\n",
      "  root to g: 1.2\n"
     ]
    }
   ],
   "source": [
    "print('input:')\n",
    "print('  g to c: %s' % tree.find('c').length)\n",
    "print('output:')\n",
    "print('  root to c: %s' % tree_cg.find('c').length)\n",
    "print('  root to g: %s' % tree_cg.find('g').length)"
   ]
  },
  {
   "cell_type": "markdown",
   "metadata": {
    "hidden": true
   },
   "source": [
    "Verify that the original root is eliminated and the basal branches are merged"
   ]
  },
  {
   "cell_type": "code",
   "execution_count": 12,
   "metadata": {
    "hidden": true
   },
   "outputs": [
    {
     "name": "stdout",
     "output_type": "stream",
     "text": [
      "input:\n",
      "  k to g: 0.4\n",
      "  k to j: 1.8\n",
      "output:\n",
      "  g to j: 2.2\n"
     ]
    }
   ],
   "source": [
    "print('input:')\n",
    "print('  k to g: %s' % tree.find('g').length)\n",
    "print('  k to j: %s' % tree.find('j').length)\n",
    "print('output:')\n",
    "print('  g to j: %s' % tree_cg.find('j').length)"
   ]
  },
  {
   "cell_type": "markdown",
   "metadata": {
    "hidden": true
   },
   "source": [
    "Root between `i` and `j`"
   ]
  },
  {
   "cell_type": "code",
   "execution_count": 13,
   "metadata": {
    "hidden": true
   },
   "outputs": [
    {
     "name": "stdout",
     "output_type": "stream",
     "text": [
      "(i:0.35,(h:0.5,((a:1.0,b:0.8)c:2.4,(d:0.8,e:0.6)f:1.2)g:2.2)j:0.35);\n",
      "\n",
      "          /-i\n",
      "         |\n",
      "---------|          /-h\n",
      "         |         |\n",
      "          \\j-------|                    /-a\n",
      "                   |          /c-------|\n",
      "                   |         |          \\-b\n",
      "                    \\g-------|\n",
      "                             |          /-d\n",
      "                              \\f-------|\n",
      "                                        \\-e\n"
     ]
    }
   ],
   "source": [
    "tree_ij = root_above(tree.find('i'))\n",
    "print(str(tree_ij))\n",
    "print(tree_ij.ascii_art())"
   ]
  },
  {
   "cell_type": "markdown",
   "metadata": {
    "heading_collapsed": true
   },
   "source": [
    "#### Test on a typical unrooted tree (three basal nodes)"
   ]
  },
  {
   "cell_type": "code",
   "execution_count": 14,
   "metadata": {
    "hidden": true
   },
   "outputs": [
    {
     "name": "stdout",
     "output_type": "stream",
     "text": [
      "                              /-a\n",
      "                    /g-------|\n",
      "          /h-------|          \\-b\n",
      "         |         |\n",
      "         |          \\-c\n",
      "         |\n",
      "-j-------|          /-d\n",
      "         |-i-------|\n",
      "         |          \\-e\n",
      "         |\n",
      "          \\-f\n"
     ]
    }
   ],
   "source": [
    "tree = TreeNode.read(['(((a:0.6,b:0.5)g:0.3,c:0.8)h:0.4,(d:0.4,e:0.5)i:0.5,f:0.9)j;'])\n",
    "print(tree.ascii_art())"
   ]
  },
  {
   "cell_type": "code",
   "execution_count": 15,
   "metadata": {
    "hidden": true
   },
   "outputs": [
    {
     "data": {
      "text/plain": [
       "'(a:0.3,(b:0.5,(c:0.8,((d:0.4,e:0.5)i:0.5,f:0.9)j:0.4)h:0.3)g:0.3);\\n'"
      ]
     },
     "execution_count": 15,
     "metadata": {},
     "output_type": "execute_result"
    }
   ],
   "source": [
    "tree_ag = root_above(tree.find('a'))\n",
    "str(tree_ag)"
   ]
  },
  {
   "cell_type": "code",
   "execution_count": 16,
   "metadata": {
    "hidden": true
   },
   "outputs": [
    {
     "name": "stdout",
     "output_type": "stream",
     "text": [
      "          /-a\n",
      "         |\n",
      "---------|          /-b\n",
      "         |         |\n",
      "          \\g-------|          /-c\n",
      "                   |         |\n",
      "                    \\h-------|                    /-d\n",
      "                             |          /i-------|\n",
      "                              \\j-------|          \\-e\n",
      "                                       |\n",
      "                                        \\-f\n"
     ]
    }
   ],
   "source": [
    "print(tree_ag.ascii_art())"
   ]
  },
  {
   "cell_type": "code",
   "execution_count": 17,
   "metadata": {
    "hidden": true
   },
   "outputs": [
    {
     "data": {
      "text/plain": [
       "'((a:0.6,b:0.5)g:0.15,(c:0.8,((d:0.4,e:0.5)i:0.5,f:0.9)j:0.4)h:0.15);\\n'"
      ]
     },
     "execution_count": 17,
     "metadata": {},
     "output_type": "execute_result"
    }
   ],
   "source": [
    "tree_gh = root_above(tree.find('g'))\n",
    "str(tree_gh)"
   ]
  },
  {
   "cell_type": "code",
   "execution_count": 18,
   "metadata": {
    "hidden": true
   },
   "outputs": [
    {
     "name": "stdout",
     "output_type": "stream",
     "text": [
      "                    /-a\n",
      "          /g-------|\n",
      "         |          \\-b\n",
      "---------|\n",
      "         |          /-c\n",
      "         |         |\n",
      "          \\h-------|                    /-d\n",
      "                   |          /i-------|\n",
      "                    \\j-------|          \\-e\n",
      "                             |\n",
      "                              \\-f\n"
     ]
    }
   ],
   "source": [
    "print(tree_gh.ascii_art())"
   ]
  },
  {
   "cell_type": "markdown",
   "metadata": {
    "heading_collapsed": true
   },
   "source": [
    "#### Test on a special unrooted tree (one basal node)"
   ]
  },
  {
   "cell_type": "code",
   "execution_count": 19,
   "metadata": {
    "hidden": true
   },
   "outputs": [
    {
     "name": "stdout",
     "output_type": "stream",
     "text": [
      "                              /-a\n",
      "                    /e-------|\n",
      "                   |          \\-b\n",
      "-h------- /g-------|\n",
      "                   |          /-c\n",
      "                    \\f-------|\n",
      "                              \\-d\n"
     ]
    }
   ],
   "source": [
    "tree = TreeNode.read(['(((a:0.4,b:0.3)e:0.1,(c:0.4,d:0.1)f:0.2)g:0.6)h:0.2;'])\n",
    "print(tree.ascii_art())"
   ]
  },
  {
   "cell_type": "code",
   "execution_count": 20,
   "metadata": {
    "hidden": true
   },
   "outputs": [
    {
     "name": "stdout",
     "output_type": "stream",
     "text": [
      "(a:0.2,(b:0.3,((c:0.4,d:0.1)f:0.2,h:0.6)g:0.1)e:0.2);\n",
      "\n",
      "          /-a\n",
      "         |\n",
      "---------|          /-b\n",
      "         |         |\n",
      "          \\e-------|                    /-c\n",
      "                   |          /f-------|\n",
      "                    \\g-------|          \\-d\n",
      "                             |\n",
      "                              \\-h\n"
     ]
    }
   ],
   "source": [
    "tree_ae = root_above(tree.find('a'))\n",
    "print(str(tree_ae))\n",
    "print(tree_ae.ascii_art())"
   ]
  },
  {
   "cell_type": "markdown",
   "metadata": {},
   "source": [
    "### Restore rooting"
   ]
  },
  {
   "cell_type": "code",
   "execution_count": 21,
   "metadata": {},
   "outputs": [],
   "source": [
    "def restore_rooting(src, trg):\n",
    "    \"\"\"Restore rooting scenario in an unrooted tree based on a rooted tree.\n",
    "\n",
    "    Parameters\n",
    "    ----------\n",
    "    src : skbio.TreeNode\n",
    "        source tree from which rooting to be read\n",
    "    trg : skbio.TreeNode\n",
    "        target tree to which rooting to be set\n",
    "\n",
    "    Returns\n",
    "    -------\n",
    "    skbio.TreeNode\n",
    "        resulting tree with internal node labels\n",
    "    \"\"\"\n",
    "    if len(src.children) != 2:\n",
    "        raise ValueError('Source tree must be rooted.')\n",
    "    if len(trg.children) == 2:\n",
    "        raise ValueError('Target tree must be unrooted.')\n",
    "    if set(x.name for x in src.tips()) != set(x.name for x in trg.tips()):\n",
    "        raise ValueError('Taxa in source and target trees do not match.')\n",
    "\n",
    "    # create new tree\n",
    "    res = trg.copy()\n",
    "\n",
    "    # find one of the two the basal clades in the source tree, which has less\n",
    "    # descendants, hereby referred to as \"outgroup\" (the other being \"ingroup\")\n",
    "    counts = {x: x.count(tips=True) for x in src.children}\n",
    "    outgroup = set(x.name for x in min(counts, key=counts.get).tips())\n",
    "\n",
    "    # locate the lowest common ancestor (LCA) of outgroup in the target tree\n",
    "    lca = res.lca(outgroup)\n",
    "\n",
    "    # if LCA is root rather than derived (i.e., outgroup is split across basal\n",
    "    # clades), swap the tree and locate LCA again\n",
    "    if lca is res:\n",
    "        for tip in res.tips():\n",
    "            if tip.name not in outgroup:\n",
    "                # `root_at` is a scikit-bio function that generates an unrooted\n",
    "                # tree in which the node, its parent and its sibling(s) become\n",
    "                # basal nodes\n",
    "                res = res.root_at(tip.parent)\n",
    "                break\n",
    "        lca = res.lca(outgroup)\n",
    "\n",
    "    # re-root the target tree between LCA of outgroup and LCA of ingroup\n",
    "    return root_above(lca)"
   ]
  },
  {
   "cell_type": "markdown",
   "metadata": {},
   "source": [
    "### Restore node labels"
   ]
  },
  {
   "cell_type": "code",
   "execution_count": 22,
   "metadata": {},
   "outputs": [],
   "source": [
    "def restore_node_labels(src, trg):\n",
    "    \"\"\"Restore internal node labels in one tree based on another tree.\n",
    "\n",
    "    Parameters\n",
    "    ----------\n",
    "    src : skbio.TreeNode\n",
    "        source tree from which internal node labels to be read\n",
    "    trg : skbio.TreeNode\n",
    "        target tree to which internal node labels to be written\n",
    "\n",
    "    Returns\n",
    "    -------\n",
    "    skbio.TreeNode\n",
    "        resulting tree with internal node labels added\n",
    "\n",
    "    Notes\n",
    "    -----\n",
    "    Labels are assigned based on exact match of all descending taxa.\n",
    "    Taxa in the source and target trees do not have to be identical.\n",
    "    \"\"\"\n",
    "    # read descendants under each node label in source tree\n",
    "    label2taxa = {}\n",
    "    for node in src.non_tips(include_self=True):\n",
    "        label = node.name\n",
    "        if label is not None and label != '':\n",
    "            if label in label2taxa:\n",
    "                raise ValueError('Duplicated node label %s found.' % label)\n",
    "            label2taxa[label] = set(x.name for x in node.tips())\n",
    "\n",
    "    # identify and mark matching nodes per node label in target tree\n",
    "    res = trg.copy()\n",
    "    for node in res.non_tips(include_self=True):\n",
    "        taxa = set(x.name for x in node.tips())\n",
    "        for label in label2taxa:\n",
    "            if label2taxa[label] == taxa:\n",
    "                node.name = label\n",
    "                break\n",
    "\n",
    "    return res"
   ]
  },
  {
   "cell_type": "markdown",
   "metadata": {},
   "source": [
    "### Restore node ordering"
   ]
  },
  {
   "cell_type": "code",
   "execution_count": 23,
   "metadata": {},
   "outputs": [],
   "source": [
    "def restore_node_order(src, trg):\n",
    "    \"\"\"Restore ordering of nodes in one tree based on another tree.\n",
    "\n",
    "    Parameters\n",
    "    ----------\n",
    "    src : skbio.TreeNode\n",
    "        source tree from which node ordering to be read\n",
    "    trg : skbio.TreeNode\n",
    "        target tree to which nodes to be re-ordered accordingly\n",
    "    label : bool\n",
    "        corresponding nodes are identified by unique node label, which is\n",
    "        more efficient than identifying by common set of descendants\n",
    "\n",
    "    Returns\n",
    "    -------\n",
    "    skbio.TreeNode\n",
    "        resulting tree with nodes re-ordered\n",
    "\n",
    "    Notes\n",
    "    -----\n",
    "    All tips and internal nodes must have unique identifiers.\n",
    "    \"\"\"\n",
    "    res = trg.copy()\n",
    "    for nsrc in src.traverse():\n",
    "        if not nsrc.is_tip():\n",
    "            if nsrc.name is None or nsrc.name == '':\n",
    "                raise ValueError('There are empty node label(s) in the source'\n",
    "                                 'tree.')\n",
    "            ntrg = res.find(nsrc.name)\n",
    "            name2child = {}\n",
    "            for child in ntrg.children:\n",
    "                name2child[child.name] = child\n",
    "            ntrg.children = []\n",
    "            for child in nsrc.children:\n",
    "                ntrg.append(name2child[child.name])\n",
    "    return res"
   ]
  },
  {
   "cell_type": "markdown",
   "metadata": {},
   "source": [
    "## Application on a 107-taxa tree"
   ]
  },
  {
   "cell_type": "markdown",
   "metadata": {},
   "source": [
    "### Background"
   ]
  },
  {
   "cell_type": "markdown",
   "metadata": {},
   "source": [
    "The 107 NCBI-defined reference genomes is a mini subset of the 10K \"Web of Life\". We already have a reference topology to describe the evolutionary relationships among them: `tree.nwk`. Now we want to infer meaningful branch lengths, using a genome-scale aligment, `align.fa`. [RAxML](https://sco.h-its.org/exelixis/web/software/raxml/index.html) can achieve this:\n",
    "```\n",
    "raxmlHPC -m PROTGAMMALG -f e -p 12345 -s align.fa -t tree.nwk -n test\n",
    "```\n",
    "The output, namely `raxml.nwk`, has the re-estimated branch lengths but is unrooted and unlabeled."
   ]
  },
  {
   "cell_type": "markdown",
   "metadata": {},
   "source": [
    "### Input files"
   ]
  },
  {
   "cell_type": "markdown",
   "metadata": {},
   "source": [
    "Original tree with root and node labels."
   ]
  },
  {
   "cell_type": "code",
   "execution_count": 24,
   "metadata": {},
   "outputs": [
    {
     "data": {
      "text/plain": [
       "107"
      ]
     },
     "execution_count": 24,
     "metadata": {},
     "output_type": "execute_result"
    }
   ],
   "source": [
    "tori = TreeNode.read('tree.nwk')\n",
    "tori.count(tips=True)"
   ]
  },
  {
   "cell_type": "markdown",
   "metadata": {},
   "source": [
    "Verify that it is rooted."
   ]
  },
  {
   "cell_type": "code",
   "execution_count": 25,
   "metadata": {},
   "outputs": [
    {
     "data": {
      "text/plain": [
       "2"
      ]
     },
     "execution_count": 25,
     "metadata": {},
     "output_type": "execute_result"
    }
   ],
   "source": [
    "len(tori.children)"
   ]
  },
  {
   "cell_type": "markdown",
   "metadata": {},
   "source": [
    "Verify that internal node labels are present and unique."
   ]
  },
  {
   "cell_type": "code",
   "execution_count": 26,
   "metadata": {},
   "outputs": [],
   "source": [
    "labels = set()\n",
    "for node in tori.non_tips():\n",
    "    label = node.name\n",
    "    if label is None or label == '':\n",
    "        raise ValueError('Some internal nodes do not have labels.')\n",
    "    if label in labels:\n",
    "        raise ValueError('Duplicated label found: %s.' % label)\n",
    "    labels.add(label)"
   ]
  },
  {
   "cell_type": "markdown",
   "metadata": {},
   "source": [
    "RAxML output tree, which is unrooted and unlabeled."
   ]
  },
  {
   "cell_type": "code",
   "execution_count": 27,
   "metadata": {},
   "outputs": [
    {
     "data": {
      "text/plain": [
       "107"
      ]
     },
     "execution_count": 27,
     "metadata": {},
     "output_type": "execute_result"
    }
   ],
   "source": [
    "tres = TreeNode.read('raxml.nwk')\n",
    "tres.count(tips=True)"
   ]
  },
  {
   "cell_type": "markdown",
   "metadata": {},
   "source": [
    "Verify that it is unrooted."
   ]
  },
  {
   "cell_type": "code",
   "execution_count": 28,
   "metadata": {},
   "outputs": [
    {
     "data": {
      "text/plain": [
       "3"
      ]
     },
     "execution_count": 28,
     "metadata": {},
     "output_type": "execute_result"
    }
   ],
   "source": [
    "len(tres.children)"
   ]
  },
  {
   "cell_type": "markdown",
   "metadata": {},
   "source": [
    "Verify that the two tree has the same set of taxa."
   ]
  },
  {
   "cell_type": "code",
   "execution_count": 29,
   "metadata": {},
   "outputs": [
    {
     "data": {
      "text/plain": [
       "True"
      ]
     },
     "execution_count": 29,
     "metadata": {},
     "output_type": "execute_result"
    }
   ],
   "source": [
    "set(x.name for x in tori.tips()) == set(x.name for x in tres.tips())"
   ]
  },
  {
   "cell_type": "markdown",
   "metadata": {},
   "source": [
    "### Restore rooting"
   ]
  },
  {
   "cell_type": "code",
   "execution_count": 30,
   "metadata": {},
   "outputs": [
    {
     "data": {
      "text/plain": [
       "107"
      ]
     },
     "execution_count": 30,
     "metadata": {},
     "output_type": "execute_result"
    }
   ],
   "source": [
    "tout = restore_rooting(tori, tres)\n",
    "tout.count(tips=True)"
   ]
  },
  {
   "cell_type": "code",
   "execution_count": 31,
   "metadata": {},
   "outputs": [
    {
     "data": {
      "text/plain": [
       "'output.rooted.nwk'"
      ]
     },
     "execution_count": 31,
     "metadata": {},
     "output_type": "execute_result"
    }
   ],
   "source": [
    "tout.write('output.rooted.nwk')"
   ]
  },
  {
   "cell_type": "markdown",
   "metadata": {},
   "source": [
    "### Restore node labels"
   ]
  },
  {
   "cell_type": "code",
   "execution_count": 32,
   "metadata": {},
   "outputs": [],
   "source": [
    "tout2 = restore_node_labels(tori, tout)"
   ]
  },
  {
   "cell_type": "code",
   "execution_count": 33,
   "metadata": {
    "scrolled": false
   },
   "outputs": [
    {
     "data": {
      "text/plain": [
       "'output.rooted.labeled.nwk'"
      ]
     },
     "execution_count": 33,
     "metadata": {},
     "output_type": "execute_result"
    }
   ],
   "source": [
    "tout2.write('output.rooted.labeled.nwk')"
   ]
  },
  {
   "cell_type": "markdown",
   "metadata": {},
   "source": [
    "### Restore node odering"
   ]
  },
  {
   "cell_type": "code",
   "execution_count": 34,
   "metadata": {},
   "outputs": [],
   "source": [
    "tout3 = restore_node_order(tori, tout2)"
   ]
  },
  {
   "cell_type": "code",
   "execution_count": 35,
   "metadata": {},
   "outputs": [
    {
     "data": {
      "text/plain": [
       "'output.rooted.labeled.ordered.nwk'"
      ]
     },
     "execution_count": 35,
     "metadata": {},
     "output_type": "execute_result"
    }
   ],
   "source": [
    "tout3.write('output.rooted.labeled.ordered.nwk')"
   ]
  }
 ],
 "metadata": {
  "hide_input": false,
  "kernelspec": {
   "display_name": "Python 3",
   "language": "python",
   "name": "python3"
  },
  "language_info": {
   "codemirror_mode": {
    "name": "ipython",
    "version": 3
   },
   "file_extension": ".py",
   "mimetype": "text/x-python",
   "name": "python",
   "nbconvert_exporter": "python",
   "pygments_lexer": "ipython3",
   "version": "3.6.4"
  }
 },
 "nbformat": 4,
 "nbformat_minor": 2
}
